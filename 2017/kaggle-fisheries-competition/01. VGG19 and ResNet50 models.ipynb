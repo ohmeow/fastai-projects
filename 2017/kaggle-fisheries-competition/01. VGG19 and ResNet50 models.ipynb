{
 "cells": [
  {
   "cell_type": "markdown",
   "metadata": {},
   "source": [
    "# Machine Learning"
   ]
  },
  {
   "cell_type": "markdown",
   "metadata": {},
   "source": [
    "## Imports and Configuration"
   ]
  },
  {
   "cell_type": "code",
   "execution_count": 1,
   "metadata": {},
   "outputs": [
    {
     "name": "stderr",
     "output_type": "stream",
     "text": [
      "Using TensorFlow backend.\n"
     ]
    }
   ],
   "source": [
    "import sys, os\n",
    "sys.path.append(os.path.abspath('../util'))\n",
    "\n",
    "# core imports\n",
    "from keras_tf_util import *\n",
    "from keras.applications.vgg19 import VGG19 #, preprocess_input, decode_predictions\n",
    "from keras.applications.resnet50 import ResNet50 #, preprocess_input, decode_predictions"
   ]
  },
  {
   "cell_type": "code",
   "execution_count": 2,
   "metadata": {
    "collapsed": true
   },
   "outputs": [],
   "source": [
    "# configure various jupyter defaults\n",
    "%matplotlib notebook\n",
    "plt.rcParams['figure.figsize'] = (9,6)\n",
    "\n",
    "pd.set_option('display.max_rows', 500)\n",
    "pd.set_option('display.max_columns', 500)\n",
    "pd.set_option('display.width', 1000)\n",
    "\n",
    "# configure autoreload to automatically reload modules when files are changed\n",
    "%load_ext autoreload\n",
    "%autoreload 2"
   ]
  },
  {
   "cell_type": "markdown",
   "metadata": {},
   "source": [
    "## Setup"
   ]
  },
  {
   "cell_type": "code",
   "execution_count": 3,
   "metadata": {
    "collapsed": true
   },
   "outputs": [],
   "source": [
    "current_dir = os.getcwd() + '/'\n",
    "DATA_HOME_DIR = current_dir + 'data/'\n",
    "use_sample = False\n",
    "\n",
    "path = DATA_HOME_DIR if not use_sample else DATA_HOME_DIR + 'sample/'\n",
    "\n",
    "train_path = path + 'train/'\n",
    "val_path = path + 'valid/'\n",
    "test_path = DATA_HOME_DIR + 'test_stg1/'\n",
    "\n",
    "models_path = (current_dir if not use_sample else path) + 'models/'   # save weights here\n",
    "results_path = (current_dir if not use_sample else path) + 'results/' # save predictions here\n",
    "preprocesed_data_path = path + 'preprocesed_data/'  # save preprocessed data used for training here\n",
    "\n",
    "if not os.path.exists(models_path): os.makedirs(models_path)\n",
    "if not os.path.exists(results_path): os.makedirs(results_path)\n",
    "if not os.path.exists(preprocesed_data_path): os.makedirs(preprocesed_data_path)"
   ]
  },
  {
   "cell_type": "code",
   "execution_count": 4,
   "metadata": {
    "collapsed": true
   },
   "outputs": [],
   "source": [
    "bs = 12 #12 works on my ubuntu notebook (64 would be better)"
   ]
  },
  {
   "cell_type": "markdown",
   "metadata": {},
   "source": [
    "## Preprocess data"
   ]
  },
  {
   "cell_type": "code",
   "execution_count": 5,
   "metadata": {},
   "outputs": [
    {
     "name": "stdout",
     "output_type": "stream",
     "text": [
      "Found 3277 images belonging to 8 classes.\n",
      "Found 500 images belonging to 8 classes.\n",
      "Found 3277 images belonging to 8 classes.\n"
     ]
    }
   ],
   "source": [
    "# get classes, one-hot encoded labels, and filenames\n",
    "train_classes, train_labels, train_filenames = get_batch_info(train_path)\n",
    "val_classes, val_labels, val_filenames = get_batch_info(val_path)\n",
    "test_filenames = get_batch_info(train_path)[2]\n",
    "\n",
    "# sometimes helpful to have filenames without the parent folder\n",
    "raw_train_filenames = [ s.split('/')[-1] for s in train_filenames ]\n",
    "raw_val_filenames = [ s.split('/')[-1] for s in val_filenames ]\n",
    "raw_test_filenames = [ s.split('/')[-1] for s in test_filenames ]"
   ]
  },
  {
   "cell_type": "code",
   "execution_count": 6,
   "metadata": {},
   "outputs": [
    {
     "name": "stdout",
     "output_type": "stream",
     "text": [
      "train_data.bc loaded ...\n",
      "val_data.bc loaded ...\n",
      "test_data.bc loaded ...\n"
     ]
    }
   ],
   "source": [
    "# preprocess and load image data; will reload data if already pre-processed\n",
    "def load_data(file_path, data_path, target_size=(224,224)):\n",
    "    if not os.path.exists(file_path):\n",
    "        d = get_data(data_path, target_size=target_size)\n",
    "        save_array(file_path, d)\n",
    "    else:\n",
    "        d = load_array(file_path)\n",
    "        print('{0} loaded ...'.format(os.path.basename(file_path)))\n",
    "        \n",
    "    return d\n",
    "        \n",
    "train_data = load_data(preprocesed_data_path + 'train_data.bc', train_path)\n",
    "val_data = load_data(preprocesed_data_path + 'val_data.bc', val_path)\n",
    "test_data = load_data(preprocesed_data_path + 'test_data.bc', test_path)"
   ]
  },
  {
   "cell_type": "markdown",
   "metadata": {},
   "source": [
    "## VGG19 "
   ]
  },
  {
   "cell_type": "markdown",
   "metadata": {},
   "source": [
    "### 1. Fine-tune the last layer"
   ]
  },
  {
   "cell_type": "code",
   "execution_count": 7,
   "metadata": {
    "collapsed": true
   },
   "outputs": [],
   "source": [
    "limit_mem()\n",
    "\n",
    "model = finetune(VGG19(), 8)\n",
    "model.compile(optimizer=Adam(1e-3), loss='categorical_crossentropy', metrics=['accuracy'])"
   ]
  },
  {
   "cell_type": "code",
   "execution_count": 8,
   "metadata": {
    "collapsed": true
   },
   "outputs": [],
   "source": [
    "# model.summary()"
   ]
  },
  {
   "cell_type": "code",
   "execution_count": 9,
   "metadata": {
    "collapsed": true
   },
   "outputs": [],
   "source": [
    "# model.load_weights(models_path + '1-ft_last_layer.h5')"
   ]
  },
  {
   "cell_type": "code",
   "execution_count": 10,
   "metadata": {},
   "outputs": [
    {
     "name": "stdout",
     "output_type": "stream",
     "text": [
      "Train on 3277 samples, validate on 500 samples\n",
      "Epoch 1/3\n",
      "3277/3277 [==============================] - 151s - loss: 1.0272 - acc: 0.6912 - val_loss: 0.4492 - val_acc: 0.8720\n",
      "Epoch 2/3\n",
      "3277/3277 [==============================] - 148s - loss: 0.4016 - acc: 0.8709 - val_loss: 0.3943 - val_acc: 0.8800\n",
      "Epoch 3/3\n",
      "3277/3277 [==============================] - 148s - loss: 0.2276 - acc: 0.9222 - val_loss: 0.4010 - val_acc: 0.8740\n"
     ]
    },
    {
     "data": {
      "text/plain": [
       "<keras.callbacks.History at 0x7fab3869db70>"
      ]
     },
     "execution_count": 10,
     "metadata": {},
     "output_type": "execute_result"
    }
   ],
   "source": [
    "model.fit(train_data, train_labels, batch_size=bs, epochs=3, validation_data=(val_data, val_labels))"
   ]
  },
  {
   "cell_type": "code",
   "execution_count": 11,
   "metadata": {},
   "outputs": [
    {
     "name": "stdout",
     "output_type": "stream",
     "text": [
      "500/500 [==============================] - 19s    \n"
     ]
    },
    {
     "data": {
      "text/plain": [
       "[0.40102759416401385, 0.87400001859664922]"
      ]
     },
     "execution_count": 11,
     "metadata": {},
     "output_type": "execute_result"
    }
   ],
   "source": [
    "model.evaluate(val_data, val_labels, batch_size=bs)"
   ]
  },
  {
   "cell_type": "code",
   "execution_count": 12,
   "metadata": {
    "collapsed": true
   },
   "outputs": [],
   "source": [
    "model.save_weights(models_path + 'vgg19_ft_last_layer.h5')"
   ]
  },
  {
   "cell_type": "markdown",
   "metadata": {
    "collapsed": true
   },
   "source": [
    "### Pre-compute convolutional features"
   ]
  },
  {
   "cell_type": "code",
   "execution_count": 13,
   "metadata": {
    "collapsed": true
   },
   "outputs": [],
   "source": [
    "limit_mem()\n",
    "\n",
    "# you have to specify input_shape IF you want to use with pre-computed datasets!!!\n",
    "conv_model = VGG19(include_top=False, input_shape=(224,224,3))"
   ]
  },
  {
   "cell_type": "code",
   "execution_count": 14,
   "metadata": {
    "collapsed": true
   },
   "outputs": [],
   "source": [
    "# conv_model.summary()"
   ]
  },
  {
   "cell_type": "code",
   "execution_count": 15,
   "metadata": {
    "collapsed": true
   },
   "outputs": [],
   "source": [
    "# preprocess predictions; will reload data if already pre-processed\n",
    "def load_pp_data(file_path, model, data, batch_size=64):\n",
    "    if not os.path.exists(file_path):\n",
    "        d = model.predict(data, batch_size=batch_size)\n",
    "        save_array(file_path, d)\n",
    "        print('{0} saved ...'.format(os.path.basename(file_path)))\n",
    "    else:\n",
    "        d = load_array(file_path)\n",
    "        print('{0} loaded ...'.format(os.path.basename(file_path)))\n",
    "        \n",
    "    return d"
   ]
  },
  {
   "cell_type": "code",
   "execution_count": 16,
   "metadata": {},
   "outputs": [
    {
     "name": "stdout",
     "output_type": "stream",
     "text": [
      "conv_train_feat_vgg19.bc loaded ...\n",
      "conv_val_feat_vgg19.bc loaded ...\n",
      "conv_test_feat_vgg19.bc loaded ...\n"
     ]
    }
   ],
   "source": [
    "conv_train_feat_vgg19 = load_pp_data(preprocesed_data_path + 'conv_train_feat_vgg19.bc', conv_model, train_data, bs)\n",
    "conv_val_feat_vgg19 = load_pp_data(preprocesed_data_path + 'conv_val_feat_vgg19.bc', conv_model, val_data, bs)\n",
    "conv_test_feat_vgg19 = load_pp_data(preprocesed_data_path + 'conv_test_feat_vgg19.bc', conv_model, test_data, bs)"
   ]
  },
  {
   "cell_type": "code",
   "execution_count": 17,
   "metadata": {},
   "outputs": [
    {
     "data": {
      "text/plain": [
       "(3277, 7, 7, 512)"
      ]
     },
     "execution_count": 17,
     "metadata": {},
     "output_type": "execute_result"
    }
   ],
   "source": [
    "conv_train_feat_vgg19.shape"
   ]
  },
  {
   "cell_type": "code",
   "execution_count": 18,
   "metadata": {},
   "outputs": [
    {
     "data": {
      "text/plain": [
       "[None, 7, 7, 512]"
      ]
     },
     "execution_count": 18,
     "metadata": {},
     "output_type": "execute_result"
    }
   ],
   "source": [
    "conv_model.output.shape.as_list()"
   ]
  },
  {
   "cell_type": "markdown",
   "metadata": {},
   "source": [
    "### 2. Pre-computed conv. features + FC layers"
   ]
  },
  {
   "cell_type": "code",
   "execution_count": 19,
   "metadata": {
    "collapsed": true
   },
   "outputs": [],
   "source": [
    "def build_vgg19_fc_seq(p):\n",
    "    # using sequential API\n",
    "    return [\n",
    "        BatchNormalization(axis=1, input_shape=conv_model.output.shape.as_list()[1:]),\n",
    "        Dropout(p / 4),\n",
    "        Flatten(),\n",
    "        Dense(512, activation='relu'),\n",
    "        BatchNormalization(),\n",
    "        Dropout(p),\n",
    "        Dense(512, activation='relu'),\n",
    "        BatchNormalization(),\n",
    "        Dropout(p / 2),\n",
    "        Dense(8, activation='softmax')\n",
    "    ]"
   ]
  },
  {
   "cell_type": "code",
   "execution_count": 20,
   "metadata": {
    "collapsed": true
   },
   "outputs": [],
   "source": [
    "def build_vgg19_fc_func(p):\n",
    "    # using functional API\n",
    "    inputs = Input(shape=conv_model.output.shape.as_list()[1:])\n",
    "    \n",
    "    x = BatchNormalization(axis=1)(inputs)\n",
    "    x = Dropout(p / 4)(x)\n",
    "    x = Flatten()(x)\n",
    "    x = Dense(512, activation='relu')(x)\n",
    "    \n",
    "    x = BatchNormalization()(x)\n",
    "    x = Dropout(p)(x)\n",
    "    x = Dense(512, activation='relu')(x)\n",
    "    \n",
    "    x = BatchNormalization()(x)\n",
    "    x = Dropout(p / 2)(x)\n",
    "    preds = Dense(8, activation='softmax')(x)\n",
    "    \n",
    "    return Model(inputs=inputs, outputs=preds)"
   ]
  },
  {
   "cell_type": "code",
   "execution_count": 21,
   "metadata": {
    "collapsed": true
   },
   "outputs": [],
   "source": [
    "p = 0.6"
   ]
  },
  {
   "cell_type": "code",
   "execution_count": 22,
   "metadata": {
    "collapsed": true
   },
   "outputs": [],
   "source": [
    "limit_mem()\n",
    "\n",
    "# model = Sequential(build_vgg19_fc_seq(p))\n",
    "model = build_vgg19_fc_func(p)\n",
    "model.compile(Adam(lr=0.001), loss='categorical_crossentropy', metrics=['accuracy'])"
   ]
  },
  {
   "cell_type": "code",
   "execution_count": 23,
   "metadata": {},
   "outputs": [
    {
     "name": "stdout",
     "output_type": "stream",
     "text": [
      "Train on 3277 samples, validate on 500 samples\n",
      "Epoch 1/4\n",
      "3277/3277 [==============================] - 15s - loss: 1.2942 - acc: 0.6186 - val_loss: 0.3461 - val_acc: 0.8860\n",
      "Epoch 2/4\n",
      "3277/3277 [==============================] - 15s - loss: 0.5467 - acc: 0.8322 - val_loss: 0.1884 - val_acc: 0.9420\n",
      "Epoch 3/4\n",
      "3277/3277 [==============================] - 15s - loss: 0.3649 - acc: 0.8932 - val_loss: 0.2059 - val_acc: 0.9540\n",
      "Epoch 4/4\n",
      "3277/3277 [==============================] - 15s - loss: 0.2686 - acc: 0.9143 - val_loss: 0.1571 - val_acc: 0.9620\n"
     ]
    },
    {
     "data": {
      "text/plain": [
       "<keras.callbacks.History at 0x7faa4b1f6128>"
      ]
     },
     "execution_count": 23,
     "metadata": {},
     "output_type": "execute_result"
    }
   ],
   "source": [
    "model.fit(conv_train_feat_vgg19, train_labels, batch_size=bs, epochs=4, \n",
    "          validation_data=(conv_val_feat_vgg19, val_labels))"
   ]
  },
  {
   "cell_type": "code",
   "execution_count": 24,
   "metadata": {},
   "outputs": [
    {
     "name": "stdout",
     "output_type": "stream",
     "text": [
      "Train on 3277 samples, validate on 500 samples\n",
      "Epoch 1/7\n",
      "3277/3277 [==============================] - 15s - loss: 0.1996 - acc: 0.9368 - val_loss: 0.1251 - val_acc: 0.9700\n",
      "Epoch 2/7\n",
      "3277/3277 [==============================] - 15s - loss: 0.1831 - acc: 0.9423 - val_loss: 0.8405 - val_acc: 0.8880\n",
      "Epoch 3/7\n",
      "3277/3277 [==============================] - 15s - loss: 0.1503 - acc: 0.9558 - val_loss: 0.1365 - val_acc: 0.9660\n",
      "Epoch 4/7\n",
      "3277/3277 [==============================] - 15s - loss: 0.1133 - acc: 0.9661 - val_loss: 0.1310 - val_acc: 0.9720\n",
      "Epoch 5/7\n",
      "3277/3277 [==============================] - 15s - loss: 0.1077 - acc: 0.9664 - val_loss: 0.1382 - val_acc: 0.9680\n",
      "Epoch 6/7\n",
      "3277/3277 [==============================] - 15s - loss: 0.1199 - acc: 0.9628 - val_loss: 0.1475 - val_acc: 0.9680\n",
      "Epoch 7/7\n",
      "3277/3277 [==============================] - 15s - loss: 0.1322 - acc: 0.9600 - val_loss: 0.1079 - val_acc: 0.9780\n"
     ]
    },
    {
     "data": {
      "text/plain": [
       "<keras.callbacks.History at 0x7faa4b1634a8>"
      ]
     },
     "execution_count": 24,
     "metadata": {},
     "output_type": "execute_result"
    }
   ],
   "source": [
    "model.optimizer.lr = 1e-4\n",
    "\n",
    "model.fit(conv_train_feat_vgg19, train_labels, batch_size=bs, epochs=7, \n",
    "          validation_data=(conv_val_feat_vgg19, val_labels))"
   ]
  },
  {
   "cell_type": "code",
   "execution_count": 25,
   "metadata": {
    "collapsed": true
   },
   "outputs": [],
   "source": [
    "model.save_weights(models_path + 'vgg19_conv_precomputed.h5')"
   ]
  },
  {
   "cell_type": "markdown",
   "metadata": {},
   "source": [
    "## ResNet50"
   ]
  },
  {
   "cell_type": "code",
   "execution_count": 26,
   "metadata": {
    "collapsed": true
   },
   "outputs": [],
   "source": [
    "limit_mem()\n",
    "\n",
    "# rn = ResNet50(include_top=False, input_shape=(224,224,3))\n",
    "# del rn.layers[-1:]\n",
    "# rn.layers[-1].outbound_nodes = []\n",
    "# rn.outputs = [rn.layers[-1].output]\n",
    "# rn.compile(Adam(), loss='categorical_crossentropy', metrics=['accuracy'])\n",
    "\n",
    "base_model = ResNet50(weights='imagenet', include_top=False, input_shape=(224,224,3))\n",
    "rn = Model(inputs=base_model.input, outputs=base_model.layers[-2].output)"
   ]
  },
  {
   "cell_type": "code",
   "execution_count": 27,
   "metadata": {},
   "outputs": [
    {
     "data": {
      "text/plain": [
       "((None, 7, 7, 2048), (None, 7, 7, 2048))"
      ]
     },
     "execution_count": 27,
     "metadata": {},
     "output_type": "execute_result"
    }
   ],
   "source": [
    "rn.output_shape, rn.layers[-1].output_shape"
   ]
  },
  {
   "cell_type": "code",
   "execution_count": 28,
   "metadata": {},
   "outputs": [
    {
     "name": "stdout",
     "output_type": "stream",
     "text": [
      "conv_train_feat_rn50.bc loaded ...\n",
      "conv_val_feat_rn50.bc loaded ...\n",
      "conv_test_feat_rn50.bc loaded ...\n"
     ]
    }
   ],
   "source": [
    "conv_train_feat_rn50 = load_pp_data(preprocesed_data_path + 'conv_train_feat_rn50.bc', rn, train_data, bs)\n",
    "conv_val_feat_rn50 = load_pp_data(preprocesed_data_path + 'conv_val_feat_rn50.bc', rn, val_data, bs)\n",
    "conv_test_feat_rn50 = load_pp_data(preprocesed_data_path + 'conv_test_feat_rn50.bc', rn, test_data, bs)"
   ]
  },
  {
   "cell_type": "code",
   "execution_count": 29,
   "metadata": {
    "collapsed": true
   },
   "outputs": [],
   "source": [
    "def build_rn50_top_func(p):\n",
    "    inputs = Input(shape=rn.output.shape.as_list()[1:])\n",
    "    x = GlobalAveragePooling2D()(inputs)\n",
    "    x = Dropout(p)(x)\n",
    "    preds = Dense(8, activation='softmax')(x)\n",
    "    \n",
    "    return Model(inputs, preds)"
   ]
  },
  {
   "cell_type": "code",
   "execution_count": 30,
   "metadata": {
    "collapsed": true
   },
   "outputs": [],
   "source": [
    "rn_model = build_rn50_top_func(0.2)\n",
    "rn_model.compile(Adam(lr=0.001), loss='categorical_crossentropy', metrics=['accuracy'])"
   ]
  },
  {
   "cell_type": "code",
   "execution_count": 31,
   "metadata": {},
   "outputs": [
    {
     "name": "stdout",
     "output_type": "stream",
     "text": [
      "Train on 3277 samples, validate on 500 samples\n",
      "Epoch 1/6\n",
      "3277/3277 [==============================] - 1s - loss: 1.2062 - acc: 0.5719 - val_loss: 0.8004 - val_acc: 0.7080\n",
      "Epoch 2/6\n",
      "3277/3277 [==============================] - 1s - loss: 0.6899 - acc: 0.7571 - val_loss: 0.5678 - val_acc: 0.8220\n",
      "Epoch 3/6\n",
      "3277/3277 [==============================] - 1s - loss: 0.5090 - acc: 0.8255 - val_loss: 0.4658 - val_acc: 0.8620\n",
      "Epoch 4/6\n",
      "3277/3277 [==============================] - 1s - loss: 0.4451 - acc: 0.8502 - val_loss: 0.4562 - val_acc: 0.8520\n",
      "Epoch 5/6\n",
      "3277/3277 [==============================] - 1s - loss: 0.3573 - acc: 0.8828 - val_loss: 0.3849 - val_acc: 0.8820\n",
      "Epoch 6/6\n",
      "3277/3277 [==============================] - 1s - loss: 0.3442 - acc: 0.8853 - val_loss: 0.3807 - val_acc: 0.9080\n"
     ]
    },
    {
     "data": {
      "text/plain": [
       "<keras.callbacks.History at 0x7faa28770860>"
      ]
     },
     "execution_count": 31,
     "metadata": {},
     "output_type": "execute_result"
    }
   ],
   "source": [
    "rn_model.fit(conv_train_feat_rn50, train_labels, batch_size=bs, epochs=6, \n",
    "          validation_data=(conv_val_feat_rn50, val_labels))"
   ]
  },
  {
   "cell_type": "code",
   "execution_count": 32,
   "metadata": {},
   "outputs": [
    {
     "name": "stdout",
     "output_type": "stream",
     "text": [
      "Train on 3277 samples, validate on 500 samples\n",
      "Epoch 1/8\n",
      "3277/3277 [==============================] - 1s - loss: 0.2919 - acc: 0.9011 - val_loss: 0.3968 - val_acc: 0.8940\n",
      "Epoch 2/8\n",
      "3277/3277 [==============================] - 1s - loss: 0.2737 - acc: 0.9103 - val_loss: 0.3080 - val_acc: 0.9120\n",
      "Epoch 3/8\n",
      "3277/3277 [==============================] - 1s - loss: 0.2592 - acc: 0.9146 - val_loss: 0.3245 - val_acc: 0.9140\n",
      "Epoch 4/8\n",
      "3277/3277 [==============================] - 1s - loss: 0.2333 - acc: 0.9240 - val_loss: 0.3265 - val_acc: 0.8960\n",
      "Epoch 5/8\n",
      "3277/3277 [==============================] - 1s - loss: 0.2377 - acc: 0.9170 - val_loss: 0.3188 - val_acc: 0.9200\n",
      "Epoch 6/8\n",
      "3277/3277 [==============================] - 1s - loss: 0.2117 - acc: 0.9310 - val_loss: 0.2778 - val_acc: 0.9420\n",
      "Epoch 7/8\n",
      "3277/3277 [==============================] - 1s - loss: 0.1960 - acc: 0.9368 - val_loss: 0.3247 - val_acc: 0.9180\n",
      "Epoch 8/8\n",
      "3277/3277 [==============================] - 1s - loss: 0.1835 - acc: 0.9423 - val_loss: 0.2639 - val_acc: 0.9280\n"
     ]
    },
    {
     "data": {
      "text/plain": [
       "<keras.callbacks.History at 0x7faa287703c8>"
      ]
     },
     "execution_count": 32,
     "metadata": {},
     "output_type": "execute_result"
    }
   ],
   "source": [
    "rn_model.optimizer.lr = 1e-5\n",
    "\n",
    "rn_model.fit(conv_train_feat_rn50, train_labels, batch_size=bs, epochs=8, \n",
    "          validation_data=(conv_val_feat_rn50, val_labels))"
   ]
  },
  {
   "cell_type": "code",
   "execution_count": 35,
   "metadata": {},
   "outputs": [],
   "source": [
    "rn_model.save_weights(models_path + 'rn50_conv_224x224.h5')"
   ]
  },
  {
   "cell_type": "markdown",
   "metadata": {},
   "source": [
    "#### Resnet with different image resolutions"
   ]
  },
  {
   "cell_type": "code",
   "execution_count": 36,
   "metadata": {
    "collapsed": true
   },
   "outputs": [],
   "source": [
    "limit_mem()\n",
    "\n",
    "base_model = ResNet50(weights='imagenet', include_top=False, input_shape=(400,400,3))\n",
    "conv_rn50_400 = Model(inputs=base_model.input, outputs=base_model.layers[-2].output)"
   ]
  },
  {
   "cell_type": "code",
   "execution_count": 37,
   "metadata": {},
   "outputs": [
    {
     "data": {
      "text/plain": [
       "((None, 13, 13, 2048), (None, 13, 13, 2048))"
      ]
     },
     "execution_count": 37,
     "metadata": {},
     "output_type": "execute_result"
    }
   ],
   "source": [
    "conv_rn50_400.output_shape, conv_rn50_400.layers[-1].output_shape"
   ]
  },
  {
   "cell_type": "code",
   "execution_count": 38,
   "metadata": {},
   "outputs": [
    {
     "name": "stdout",
     "output_type": "stream",
     "text": [
      "Found 3277 images belonging to 8 classes.\n",
      "Found 500 images belonging to 8 classes.\n"
     ]
    }
   ],
   "source": [
    "rn400_trn_batches = get_batches(train_path, target_size=(400,400), batch_size=bs, shuffle=False)\n",
    "rn400_val_batches = get_batches(val_path, target_size=(400,400), batch_size=bs, shuffle=False)"
   ]
  },
  {
   "cell_type": "code",
   "execution_count": 39,
   "metadata": {
    "collapsed": true
   },
   "outputs": [],
   "source": [
    "conv_train_feat_rn50_400 = conv_rn50_400.predict_generator(rn400_trn_batches, rn400_trn_batches.n/bs)\n",
    "conv_val_feat_rn50_400 = conv_rn50_400.predict_generator(rn400_val_batches, rn400_val_batches.n/bs)"
   ]
  },
  {
   "cell_type": "code",
   "execution_count": 40,
   "metadata": {},
   "outputs": [
    {
     "data": {
      "text/plain": [
       "(3277, 13, 13, 2048)"
      ]
     },
     "execution_count": 40,
     "metadata": {},
     "output_type": "execute_result"
    }
   ],
   "source": [
    "conv_train_feat_rn50_400.shape"
   ]
  },
  {
   "cell_type": "code",
   "execution_count": 41,
   "metadata": {},
   "outputs": [
    {
     "name": "stdout",
     "output_type": "stream",
     "text": [
      "____________________________________________________________________________________________________\n",
      "Layer (type)                     Output Shape          Param #     Connected to                     \n",
      "====================================================================================================\n",
      "input_6 (InputLayer)             (None, 400, 400, 3)   0                                            \n",
      "____________________________________________________________________________________________________\n",
      "zero_padding2d_2 (ZeroPadding2D) (None, 406, 406, 3)   0           input_6[0][0]                    \n",
      "____________________________________________________________________________________________________\n",
      "conv1 (Conv2D)                   (None, 200, 200, 64)  9472        zero_padding2d_2[0][0]           \n",
      "____________________________________________________________________________________________________\n",
      "bn_conv1 (BatchNormalization)    (None, 200, 200, 64)  256         conv1[0][0]                      \n",
      "____________________________________________________________________________________________________\n",
      "activation_50 (Activation)       (None, 200, 200, 64)  0           bn_conv1[0][0]                   \n",
      "____________________________________________________________________________________________________\n",
      "max_pooling2d_2 (MaxPooling2D)   (None, 99, 99, 64)    0           activation_50[0][0]              \n",
      "____________________________________________________________________________________________________\n",
      "res2a_branch2a (Conv2D)          (None, 99, 99, 64)    4160        max_pooling2d_2[0][0]            \n",
      "____________________________________________________________________________________________________\n",
      "bn2a_branch2a (BatchNormalizatio (None, 99, 99, 64)    256         res2a_branch2a[0][0]             \n",
      "____________________________________________________________________________________________________\n",
      "activation_51 (Activation)       (None, 99, 99, 64)    0           bn2a_branch2a[0][0]              \n",
      "____________________________________________________________________________________________________\n",
      "res2a_branch2b (Conv2D)          (None, 99, 99, 64)    36928       activation_51[0][0]              \n",
      "____________________________________________________________________________________________________\n",
      "bn2a_branch2b (BatchNormalizatio (None, 99, 99, 64)    256         res2a_branch2b[0][0]             \n",
      "____________________________________________________________________________________________________\n",
      "activation_52 (Activation)       (None, 99, 99, 64)    0           bn2a_branch2b[0][0]              \n",
      "____________________________________________________________________________________________________\n",
      "res2a_branch2c (Conv2D)          (None, 99, 99, 256)   16640       activation_52[0][0]              \n",
      "____________________________________________________________________________________________________\n",
      "res2a_branch1 (Conv2D)           (None, 99, 99, 256)   16640       max_pooling2d_2[0][0]            \n",
      "____________________________________________________________________________________________________\n",
      "bn2a_branch2c (BatchNormalizatio (None, 99, 99, 256)   1024        res2a_branch2c[0][0]             \n",
      "____________________________________________________________________________________________________\n",
      "bn2a_branch1 (BatchNormalization (None, 99, 99, 256)   1024        res2a_branch1[0][0]              \n",
      "____________________________________________________________________________________________________\n",
      "add_17 (Add)                     (None, 99, 99, 256)   0           bn2a_branch2c[0][0]              \n",
      "                                                                   bn2a_branch1[0][0]               \n",
      "____________________________________________________________________________________________________\n",
      "activation_53 (Activation)       (None, 99, 99, 256)   0           add_17[0][0]                     \n",
      "____________________________________________________________________________________________________\n",
      "res2b_branch2a (Conv2D)          (None, 99, 99, 64)    16448       activation_53[0][0]              \n",
      "____________________________________________________________________________________________________\n",
      "bn2b_branch2a (BatchNormalizatio (None, 99, 99, 64)    256         res2b_branch2a[0][0]             \n",
      "____________________________________________________________________________________________________\n",
      "activation_54 (Activation)       (None, 99, 99, 64)    0           bn2b_branch2a[0][0]              \n",
      "____________________________________________________________________________________________________\n",
      "res2b_branch2b (Conv2D)          (None, 99, 99, 64)    36928       activation_54[0][0]              \n",
      "____________________________________________________________________________________________________\n",
      "bn2b_branch2b (BatchNormalizatio (None, 99, 99, 64)    256         res2b_branch2b[0][0]             \n",
      "____________________________________________________________________________________________________\n",
      "activation_55 (Activation)       (None, 99, 99, 64)    0           bn2b_branch2b[0][0]              \n",
      "____________________________________________________________________________________________________\n",
      "res2b_branch2c (Conv2D)          (None, 99, 99, 256)   16640       activation_55[0][0]              \n",
      "____________________________________________________________________________________________________\n",
      "bn2b_branch2c (BatchNormalizatio (None, 99, 99, 256)   1024        res2b_branch2c[0][0]             \n",
      "____________________________________________________________________________________________________\n",
      "add_18 (Add)                     (None, 99, 99, 256)   0           bn2b_branch2c[0][0]              \n",
      "                                                                   activation_53[0][0]              \n",
      "____________________________________________________________________________________________________\n",
      "activation_56 (Activation)       (None, 99, 99, 256)   0           add_18[0][0]                     \n",
      "____________________________________________________________________________________________________\n",
      "res2c_branch2a (Conv2D)          (None, 99, 99, 64)    16448       activation_56[0][0]              \n",
      "____________________________________________________________________________________________________\n",
      "bn2c_branch2a (BatchNormalizatio (None, 99, 99, 64)    256         res2c_branch2a[0][0]             \n",
      "____________________________________________________________________________________________________\n",
      "activation_57 (Activation)       (None, 99, 99, 64)    0           bn2c_branch2a[0][0]              \n",
      "____________________________________________________________________________________________________\n",
      "res2c_branch2b (Conv2D)          (None, 99, 99, 64)    36928       activation_57[0][0]              \n",
      "____________________________________________________________________________________________________\n",
      "bn2c_branch2b (BatchNormalizatio (None, 99, 99, 64)    256         res2c_branch2b[0][0]             \n",
      "____________________________________________________________________________________________________\n",
      "activation_58 (Activation)       (None, 99, 99, 64)    0           bn2c_branch2b[0][0]              \n",
      "____________________________________________________________________________________________________\n",
      "res2c_branch2c (Conv2D)          (None, 99, 99, 256)   16640       activation_58[0][0]              \n",
      "____________________________________________________________________________________________________\n",
      "bn2c_branch2c (BatchNormalizatio (None, 99, 99, 256)   1024        res2c_branch2c[0][0]             \n",
      "____________________________________________________________________________________________________\n",
      "add_19 (Add)                     (None, 99, 99, 256)   0           bn2c_branch2c[0][0]              \n",
      "                                                                   activation_56[0][0]              \n",
      "____________________________________________________________________________________________________\n",
      "activation_59 (Activation)       (None, 99, 99, 256)   0           add_19[0][0]                     \n",
      "____________________________________________________________________________________________________\n",
      "res3a_branch2a (Conv2D)          (None, 50, 50, 128)   32896       activation_59[0][0]              \n",
      "____________________________________________________________________________________________________\n",
      "bn3a_branch2a (BatchNormalizatio (None, 50, 50, 128)   512         res3a_branch2a[0][0]             \n",
      "____________________________________________________________________________________________________\n",
      "activation_60 (Activation)       (None, 50, 50, 128)   0           bn3a_branch2a[0][0]              \n",
      "____________________________________________________________________________________________________\n",
      "res3a_branch2b (Conv2D)          (None, 50, 50, 128)   147584      activation_60[0][0]              \n",
      "____________________________________________________________________________________________________\n",
      "bn3a_branch2b (BatchNormalizatio (None, 50, 50, 128)   512         res3a_branch2b[0][0]             \n",
      "____________________________________________________________________________________________________\n",
      "activation_61 (Activation)       (None, 50, 50, 128)   0           bn3a_branch2b[0][0]              \n",
      "____________________________________________________________________________________________________\n",
      "res3a_branch2c (Conv2D)          (None, 50, 50, 512)   66048       activation_61[0][0]              \n",
      "____________________________________________________________________________________________________\n",
      "res3a_branch1 (Conv2D)           (None, 50, 50, 512)   131584      activation_59[0][0]              \n",
      "____________________________________________________________________________________________________\n",
      "bn3a_branch2c (BatchNormalizatio (None, 50, 50, 512)   2048        res3a_branch2c[0][0]             \n",
      "____________________________________________________________________________________________________\n",
      "bn3a_branch1 (BatchNormalization (None, 50, 50, 512)   2048        res3a_branch1[0][0]              \n",
      "____________________________________________________________________________________________________\n",
      "add_20 (Add)                     (None, 50, 50, 512)   0           bn3a_branch2c[0][0]              \n",
      "                                                                   bn3a_branch1[0][0]               \n",
      "____________________________________________________________________________________________________\n",
      "activation_62 (Activation)       (None, 50, 50, 512)   0           add_20[0][0]                     \n",
      "____________________________________________________________________________________________________\n",
      "res3b_branch2a (Conv2D)          (None, 50, 50, 128)   65664       activation_62[0][0]              \n",
      "____________________________________________________________________________________________________\n",
      "bn3b_branch2a (BatchNormalizatio (None, 50, 50, 128)   512         res3b_branch2a[0][0]             \n",
      "____________________________________________________________________________________________________\n",
      "activation_63 (Activation)       (None, 50, 50, 128)   0           bn3b_branch2a[0][0]              \n",
      "____________________________________________________________________________________________________\n",
      "res3b_branch2b (Conv2D)          (None, 50, 50, 128)   147584      activation_63[0][0]              \n",
      "____________________________________________________________________________________________________\n",
      "bn3b_branch2b (BatchNormalizatio (None, 50, 50, 128)   512         res3b_branch2b[0][0]             \n",
      "____________________________________________________________________________________________________\n",
      "activation_64 (Activation)       (None, 50, 50, 128)   0           bn3b_branch2b[0][0]              \n",
      "____________________________________________________________________________________________________\n",
      "res3b_branch2c (Conv2D)          (None, 50, 50, 512)   66048       activation_64[0][0]              \n",
      "____________________________________________________________________________________________________\n",
      "bn3b_branch2c (BatchNormalizatio (None, 50, 50, 512)   2048        res3b_branch2c[0][0]             \n",
      "____________________________________________________________________________________________________\n",
      "add_21 (Add)                     (None, 50, 50, 512)   0           bn3b_branch2c[0][0]              \n",
      "                                                                   activation_62[0][0]              \n",
      "____________________________________________________________________________________________________\n",
      "activation_65 (Activation)       (None, 50, 50, 512)   0           add_21[0][0]                     \n",
      "____________________________________________________________________________________________________\n",
      "res3c_branch2a (Conv2D)          (None, 50, 50, 128)   65664       activation_65[0][0]              \n",
      "____________________________________________________________________________________________________\n",
      "bn3c_branch2a (BatchNormalizatio (None, 50, 50, 128)   512         res3c_branch2a[0][0]             \n",
      "____________________________________________________________________________________________________\n",
      "activation_66 (Activation)       (None, 50, 50, 128)   0           bn3c_branch2a[0][0]              \n",
      "____________________________________________________________________________________________________\n",
      "res3c_branch2b (Conv2D)          (None, 50, 50, 128)   147584      activation_66[0][0]              \n",
      "____________________________________________________________________________________________________\n",
      "bn3c_branch2b (BatchNormalizatio (None, 50, 50, 128)   512         res3c_branch2b[0][0]             \n",
      "____________________________________________________________________________________________________\n",
      "activation_67 (Activation)       (None, 50, 50, 128)   0           bn3c_branch2b[0][0]              \n",
      "____________________________________________________________________________________________________\n",
      "res3c_branch2c (Conv2D)          (None, 50, 50, 512)   66048       activation_67[0][0]              \n",
      "____________________________________________________________________________________________________\n",
      "bn3c_branch2c (BatchNormalizatio (None, 50, 50, 512)   2048        res3c_branch2c[0][0]             \n",
      "____________________________________________________________________________________________________\n",
      "add_22 (Add)                     (None, 50, 50, 512)   0           bn3c_branch2c[0][0]              \n",
      "                                                                   activation_65[0][0]              \n",
      "____________________________________________________________________________________________________\n",
      "activation_68 (Activation)       (None, 50, 50, 512)   0           add_22[0][0]                     \n",
      "____________________________________________________________________________________________________\n",
      "res3d_branch2a (Conv2D)          (None, 50, 50, 128)   65664       activation_68[0][0]              \n",
      "____________________________________________________________________________________________________\n",
      "bn3d_branch2a (BatchNormalizatio (None, 50, 50, 128)   512         res3d_branch2a[0][0]             \n",
      "____________________________________________________________________________________________________\n",
      "activation_69 (Activation)       (None, 50, 50, 128)   0           bn3d_branch2a[0][0]              \n",
      "____________________________________________________________________________________________________\n",
      "res3d_branch2b (Conv2D)          (None, 50, 50, 128)   147584      activation_69[0][0]              \n",
      "____________________________________________________________________________________________________\n",
      "bn3d_branch2b (BatchNormalizatio (None, 50, 50, 128)   512         res3d_branch2b[0][0]             \n",
      "____________________________________________________________________________________________________\n",
      "activation_70 (Activation)       (None, 50, 50, 128)   0           bn3d_branch2b[0][0]              \n",
      "____________________________________________________________________________________________________\n",
      "res3d_branch2c (Conv2D)          (None, 50, 50, 512)   66048       activation_70[0][0]              \n",
      "____________________________________________________________________________________________________\n",
      "bn3d_branch2c (BatchNormalizatio (None, 50, 50, 512)   2048        res3d_branch2c[0][0]             \n",
      "____________________________________________________________________________________________________\n",
      "add_23 (Add)                     (None, 50, 50, 512)   0           bn3d_branch2c[0][0]              \n",
      "                                                                   activation_68[0][0]              \n",
      "____________________________________________________________________________________________________\n",
      "activation_71 (Activation)       (None, 50, 50, 512)   0           add_23[0][0]                     \n",
      "____________________________________________________________________________________________________\n",
      "res4a_branch2a (Conv2D)          (None, 25, 25, 256)   131328      activation_71[0][0]              \n",
      "____________________________________________________________________________________________________\n",
      "bn4a_branch2a (BatchNormalizatio (None, 25, 25, 256)   1024        res4a_branch2a[0][0]             \n",
      "____________________________________________________________________________________________________\n",
      "activation_72 (Activation)       (None, 25, 25, 256)   0           bn4a_branch2a[0][0]              \n",
      "____________________________________________________________________________________________________\n",
      "res4a_branch2b (Conv2D)          (None, 25, 25, 256)   590080      activation_72[0][0]              \n",
      "____________________________________________________________________________________________________\n",
      "bn4a_branch2b (BatchNormalizatio (None, 25, 25, 256)   1024        res4a_branch2b[0][0]             \n",
      "____________________________________________________________________________________________________\n",
      "activation_73 (Activation)       (None, 25, 25, 256)   0           bn4a_branch2b[0][0]              \n",
      "____________________________________________________________________________________________________\n",
      "res4a_branch2c (Conv2D)          (None, 25, 25, 1024)  263168      activation_73[0][0]              \n",
      "____________________________________________________________________________________________________\n",
      "res4a_branch1 (Conv2D)           (None, 25, 25, 1024)  525312      activation_71[0][0]              \n",
      "____________________________________________________________________________________________________\n",
      "bn4a_branch2c (BatchNormalizatio (None, 25, 25, 1024)  4096        res4a_branch2c[0][0]             \n",
      "____________________________________________________________________________________________________\n",
      "bn4a_branch1 (BatchNormalization (None, 25, 25, 1024)  4096        res4a_branch1[0][0]              \n",
      "____________________________________________________________________________________________________\n",
      "add_24 (Add)                     (None, 25, 25, 1024)  0           bn4a_branch2c[0][0]              \n",
      "                                                                   bn4a_branch1[0][0]               \n",
      "____________________________________________________________________________________________________\n",
      "activation_74 (Activation)       (None, 25, 25, 1024)  0           add_24[0][0]                     \n",
      "____________________________________________________________________________________________________\n",
      "res4b_branch2a (Conv2D)          (None, 25, 25, 256)   262400      activation_74[0][0]              \n",
      "____________________________________________________________________________________________________\n",
      "bn4b_branch2a (BatchNormalizatio (None, 25, 25, 256)   1024        res4b_branch2a[0][0]             \n",
      "____________________________________________________________________________________________________\n",
      "activation_75 (Activation)       (None, 25, 25, 256)   0           bn4b_branch2a[0][0]              \n",
      "____________________________________________________________________________________________________\n",
      "res4b_branch2b (Conv2D)          (None, 25, 25, 256)   590080      activation_75[0][0]              \n",
      "____________________________________________________________________________________________________\n",
      "bn4b_branch2b (BatchNormalizatio (None, 25, 25, 256)   1024        res4b_branch2b[0][0]             \n",
      "____________________________________________________________________________________________________\n",
      "activation_76 (Activation)       (None, 25, 25, 256)   0           bn4b_branch2b[0][0]              \n",
      "____________________________________________________________________________________________________\n",
      "res4b_branch2c (Conv2D)          (None, 25, 25, 1024)  263168      activation_76[0][0]              \n",
      "____________________________________________________________________________________________________\n",
      "bn4b_branch2c (BatchNormalizatio (None, 25, 25, 1024)  4096        res4b_branch2c[0][0]             \n",
      "____________________________________________________________________________________________________\n",
      "add_25 (Add)                     (None, 25, 25, 1024)  0           bn4b_branch2c[0][0]              \n",
      "                                                                   activation_74[0][0]              \n",
      "____________________________________________________________________________________________________\n",
      "activation_77 (Activation)       (None, 25, 25, 1024)  0           add_25[0][0]                     \n",
      "____________________________________________________________________________________________________\n",
      "res4c_branch2a (Conv2D)          (None, 25, 25, 256)   262400      activation_77[0][0]              \n",
      "____________________________________________________________________________________________________\n",
      "bn4c_branch2a (BatchNormalizatio (None, 25, 25, 256)   1024        res4c_branch2a[0][0]             \n",
      "____________________________________________________________________________________________________\n",
      "activation_78 (Activation)       (None, 25, 25, 256)   0           bn4c_branch2a[0][0]              \n",
      "____________________________________________________________________________________________________\n",
      "res4c_branch2b (Conv2D)          (None, 25, 25, 256)   590080      activation_78[0][0]              \n",
      "____________________________________________________________________________________________________\n",
      "bn4c_branch2b (BatchNormalizatio (None, 25, 25, 256)   1024        res4c_branch2b[0][0]             \n",
      "____________________________________________________________________________________________________\n",
      "activation_79 (Activation)       (None, 25, 25, 256)   0           bn4c_branch2b[0][0]              \n",
      "____________________________________________________________________________________________________\n",
      "res4c_branch2c (Conv2D)          (None, 25, 25, 1024)  263168      activation_79[0][0]              \n",
      "____________________________________________________________________________________________________\n",
      "bn4c_branch2c (BatchNormalizatio (None, 25, 25, 1024)  4096        res4c_branch2c[0][0]             \n",
      "____________________________________________________________________________________________________\n",
      "add_26 (Add)                     (None, 25, 25, 1024)  0           bn4c_branch2c[0][0]              \n",
      "                                                                   activation_77[0][0]              \n",
      "____________________________________________________________________________________________________\n",
      "activation_80 (Activation)       (None, 25, 25, 1024)  0           add_26[0][0]                     \n",
      "____________________________________________________________________________________________________\n",
      "res4d_branch2a (Conv2D)          (None, 25, 25, 256)   262400      activation_80[0][0]              \n",
      "____________________________________________________________________________________________________\n",
      "bn4d_branch2a (BatchNormalizatio (None, 25, 25, 256)   1024        res4d_branch2a[0][0]             \n",
      "____________________________________________________________________________________________________\n",
      "activation_81 (Activation)       (None, 25, 25, 256)   0           bn4d_branch2a[0][0]              \n",
      "____________________________________________________________________________________________________\n",
      "res4d_branch2b (Conv2D)          (None, 25, 25, 256)   590080      activation_81[0][0]              \n",
      "____________________________________________________________________________________________________\n",
      "bn4d_branch2b (BatchNormalizatio (None, 25, 25, 256)   1024        res4d_branch2b[0][0]             \n",
      "____________________________________________________________________________________________________\n",
      "activation_82 (Activation)       (None, 25, 25, 256)   0           bn4d_branch2b[0][0]              \n",
      "____________________________________________________________________________________________________\n",
      "res4d_branch2c (Conv2D)          (None, 25, 25, 1024)  263168      activation_82[0][0]              \n",
      "____________________________________________________________________________________________________\n",
      "bn4d_branch2c (BatchNormalizatio (None, 25, 25, 1024)  4096        res4d_branch2c[0][0]             \n",
      "____________________________________________________________________________________________________\n",
      "add_27 (Add)                     (None, 25, 25, 1024)  0           bn4d_branch2c[0][0]              \n",
      "                                                                   activation_80[0][0]              \n",
      "____________________________________________________________________________________________________\n",
      "activation_83 (Activation)       (None, 25, 25, 1024)  0           add_27[0][0]                     \n",
      "____________________________________________________________________________________________________\n",
      "res4e_branch2a (Conv2D)          (None, 25, 25, 256)   262400      activation_83[0][0]              \n",
      "____________________________________________________________________________________________________\n",
      "bn4e_branch2a (BatchNormalizatio (None, 25, 25, 256)   1024        res4e_branch2a[0][0]             \n",
      "____________________________________________________________________________________________________\n",
      "activation_84 (Activation)       (None, 25, 25, 256)   0           bn4e_branch2a[0][0]              \n",
      "____________________________________________________________________________________________________\n",
      "res4e_branch2b (Conv2D)          (None, 25, 25, 256)   590080      activation_84[0][0]              \n",
      "____________________________________________________________________________________________________\n",
      "bn4e_branch2b (BatchNormalizatio (None, 25, 25, 256)   1024        res4e_branch2b[0][0]             \n",
      "____________________________________________________________________________________________________\n",
      "activation_85 (Activation)       (None, 25, 25, 256)   0           bn4e_branch2b[0][0]              \n",
      "____________________________________________________________________________________________________\n",
      "res4e_branch2c (Conv2D)          (None, 25, 25, 1024)  263168      activation_85[0][0]              \n",
      "____________________________________________________________________________________________________\n",
      "bn4e_branch2c (BatchNormalizatio (None, 25, 25, 1024)  4096        res4e_branch2c[0][0]             \n",
      "____________________________________________________________________________________________________\n",
      "add_28 (Add)                     (None, 25, 25, 1024)  0           bn4e_branch2c[0][0]              \n",
      "                                                                   activation_83[0][0]              \n",
      "____________________________________________________________________________________________________\n",
      "activation_86 (Activation)       (None, 25, 25, 1024)  0           add_28[0][0]                     \n",
      "____________________________________________________________________________________________________\n",
      "res4f_branch2a (Conv2D)          (None, 25, 25, 256)   262400      activation_86[0][0]              \n",
      "____________________________________________________________________________________________________\n",
      "bn4f_branch2a (BatchNormalizatio (None, 25, 25, 256)   1024        res4f_branch2a[0][0]             \n",
      "____________________________________________________________________________________________________\n",
      "activation_87 (Activation)       (None, 25, 25, 256)   0           bn4f_branch2a[0][0]              \n",
      "____________________________________________________________________________________________________\n",
      "res4f_branch2b (Conv2D)          (None, 25, 25, 256)   590080      activation_87[0][0]              \n",
      "____________________________________________________________________________________________________\n",
      "bn4f_branch2b (BatchNormalizatio (None, 25, 25, 256)   1024        res4f_branch2b[0][0]             \n",
      "____________________________________________________________________________________________________\n",
      "activation_88 (Activation)       (None, 25, 25, 256)   0           bn4f_branch2b[0][0]              \n",
      "____________________________________________________________________________________________________\n",
      "res4f_branch2c (Conv2D)          (None, 25, 25, 1024)  263168      activation_88[0][0]              \n",
      "____________________________________________________________________________________________________\n",
      "bn4f_branch2c (BatchNormalizatio (None, 25, 25, 1024)  4096        res4f_branch2c[0][0]             \n",
      "____________________________________________________________________________________________________\n",
      "add_29 (Add)                     (None, 25, 25, 1024)  0           bn4f_branch2c[0][0]              \n",
      "                                                                   activation_86[0][0]              \n",
      "____________________________________________________________________________________________________\n",
      "activation_89 (Activation)       (None, 25, 25, 1024)  0           add_29[0][0]                     \n",
      "____________________________________________________________________________________________________\n",
      "res5a_branch2a (Conv2D)          (None, 13, 13, 512)   524800      activation_89[0][0]              \n",
      "____________________________________________________________________________________________________\n",
      "bn5a_branch2a (BatchNormalizatio (None, 13, 13, 512)   2048        res5a_branch2a[0][0]             \n",
      "____________________________________________________________________________________________________\n",
      "activation_90 (Activation)       (None, 13, 13, 512)   0           bn5a_branch2a[0][0]              \n",
      "____________________________________________________________________________________________________\n",
      "res5a_branch2b (Conv2D)          (None, 13, 13, 512)   2359808     activation_90[0][0]              \n",
      "____________________________________________________________________________________________________\n",
      "bn5a_branch2b (BatchNormalizatio (None, 13, 13, 512)   2048        res5a_branch2b[0][0]             \n",
      "____________________________________________________________________________________________________\n",
      "activation_91 (Activation)       (None, 13, 13, 512)   0           bn5a_branch2b[0][0]              \n",
      "____________________________________________________________________________________________________\n",
      "res5a_branch2c (Conv2D)          (None, 13, 13, 2048)  1050624     activation_91[0][0]              \n",
      "____________________________________________________________________________________________________\n",
      "res5a_branch1 (Conv2D)           (None, 13, 13, 2048)  2099200     activation_89[0][0]              \n",
      "____________________________________________________________________________________________________\n",
      "bn5a_branch2c (BatchNormalizatio (None, 13, 13, 2048)  8192        res5a_branch2c[0][0]             \n",
      "____________________________________________________________________________________________________\n",
      "bn5a_branch1 (BatchNormalization (None, 13, 13, 2048)  8192        res5a_branch1[0][0]              \n",
      "____________________________________________________________________________________________________\n",
      "add_30 (Add)                     (None, 13, 13, 2048)  0           bn5a_branch2c[0][0]              \n",
      "                                                                   bn5a_branch1[0][0]               \n",
      "____________________________________________________________________________________________________\n",
      "activation_92 (Activation)       (None, 13, 13, 2048)  0           add_30[0][0]                     \n",
      "____________________________________________________________________________________________________\n",
      "res5b_branch2a (Conv2D)          (None, 13, 13, 512)   1049088     activation_92[0][0]              \n",
      "____________________________________________________________________________________________________\n",
      "bn5b_branch2a (BatchNormalizatio (None, 13, 13, 512)   2048        res5b_branch2a[0][0]             \n",
      "____________________________________________________________________________________________________\n",
      "activation_93 (Activation)       (None, 13, 13, 512)   0           bn5b_branch2a[0][0]              \n",
      "____________________________________________________________________________________________________\n",
      "res5b_branch2b (Conv2D)          (None, 13, 13, 512)   2359808     activation_93[0][0]              \n",
      "____________________________________________________________________________________________________\n",
      "bn5b_branch2b (BatchNormalizatio (None, 13, 13, 512)   2048        res5b_branch2b[0][0]             \n",
      "____________________________________________________________________________________________________\n",
      "activation_94 (Activation)       (None, 13, 13, 512)   0           bn5b_branch2b[0][0]              \n",
      "____________________________________________________________________________________________________\n",
      "res5b_branch2c (Conv2D)          (None, 13, 13, 2048)  1050624     activation_94[0][0]              \n",
      "____________________________________________________________________________________________________\n",
      "bn5b_branch2c (BatchNormalizatio (None, 13, 13, 2048)  8192        res5b_branch2c[0][0]             \n",
      "____________________________________________________________________________________________________\n",
      "add_31 (Add)                     (None, 13, 13, 2048)  0           bn5b_branch2c[0][0]              \n",
      "                                                                   activation_92[0][0]              \n",
      "____________________________________________________________________________________________________\n",
      "activation_95 (Activation)       (None, 13, 13, 2048)  0           add_31[0][0]                     \n",
      "____________________________________________________________________________________________________\n",
      "res5c_branch2a (Conv2D)          (None, 13, 13, 512)   1049088     activation_95[0][0]              \n",
      "____________________________________________________________________________________________________\n",
      "bn5c_branch2a (BatchNormalizatio (None, 13, 13, 512)   2048        res5c_branch2a[0][0]             \n",
      "____________________________________________________________________________________________________\n",
      "activation_96 (Activation)       (None, 13, 13, 512)   0           bn5c_branch2a[0][0]              \n",
      "____________________________________________________________________________________________________\n",
      "res5c_branch2b (Conv2D)          (None, 13, 13, 512)   2359808     activation_96[0][0]              \n",
      "____________________________________________________________________________________________________\n",
      "bn5c_branch2b (BatchNormalizatio (None, 13, 13, 512)   2048        res5c_branch2b[0][0]             \n",
      "____________________________________________________________________________________________________\n",
      "activation_97 (Activation)       (None, 13, 13, 512)   0           bn5c_branch2b[0][0]              \n",
      "____________________________________________________________________________________________________\n",
      "res5c_branch2c (Conv2D)          (None, 13, 13, 2048)  1050624     activation_97[0][0]              \n",
      "____________________________________________________________________________________________________\n",
      "bn5c_branch2c (BatchNormalizatio (None, 13, 13, 2048)  8192        res5c_branch2c[0][0]             \n",
      "____________________________________________________________________________________________________\n",
      "add_32 (Add)                     (None, 13, 13, 2048)  0           bn5c_branch2c[0][0]              \n",
      "                                                                   activation_95[0][0]              \n",
      "____________________________________________________________________________________________________\n",
      "activation_98 (Activation)       (None, 13, 13, 2048)  0           add_32[0][0]                     \n",
      "====================================================================================================\n",
      "Total params: 23,587,712\n",
      "Trainable params: 23,534,592\n",
      "Non-trainable params: 53,120\n",
      "____________________________________________________________________________________________________\n"
     ]
    }
   ],
   "source": [
    "conv_rn50_400.summary()"
   ]
  },
  {
   "cell_type": "code",
   "execution_count": 42,
   "metadata": {
    "collapsed": true
   },
   "outputs": [],
   "source": [
    "inputs = Input(shape=conv_rn50_400.output_shape[1:])\n",
    "x = GlobalAveragePooling2D()(inputs)\n",
    "x = Dropout(0.1)(x)\n",
    "preds = Dense(8, activation='softmax')(x)\n",
    "\n",
    "rn400_model = Model(inputs, preds)"
   ]
  },
  {
   "cell_type": "code",
   "execution_count": 43,
   "metadata": {},
   "outputs": [
    {
     "name": "stdout",
     "output_type": "stream",
     "text": [
      "_________________________________________________________________\n",
      "Layer (type)                 Output Shape              Param #   \n",
      "=================================================================\n",
      "input_7 (InputLayer)         (None, 13, 13, 2048)      0         \n",
      "_________________________________________________________________\n",
      "global_average_pooling2d_2 ( (None, 2048)              0         \n",
      "_________________________________________________________________\n",
      "dropout_5 (Dropout)          (None, 2048)              0         \n",
      "_________________________________________________________________\n",
      "dense_6 (Dense)              (None, 8)                 16392     \n",
      "=================================================================\n",
      "Total params: 16,392\n",
      "Trainable params: 16,392\n",
      "Non-trainable params: 0\n",
      "_________________________________________________________________\n"
     ]
    }
   ],
   "source": [
    "rn400_model.summary()"
   ]
  },
  {
   "cell_type": "code",
   "execution_count": 44,
   "metadata": {
    "collapsed": true
   },
   "outputs": [],
   "source": [
    "rn400_model.compile(optimizer=Adam(lr=0.001), loss='categorical_crossentropy', metrics=['accuracy'])"
   ]
  },
  {
   "cell_type": "code",
   "execution_count": 45,
   "metadata": {},
   "outputs": [
    {
     "name": "stdout",
     "output_type": "stream",
     "text": [
      "Train on 3277 samples, validate on 500 samples\n",
      "Epoch 1/5\n",
      "3277/3277 [==============================] - 5s - loss: 1.2039 - acc: 0.5829 - val_loss: 0.8459 - val_acc: 0.7080\n",
      "Epoch 2/5\n",
      "3277/3277 [==============================] - 2s - loss: 0.7501 - acc: 0.7443 - val_loss: 0.6356 - val_acc: 0.7900\n",
      "Epoch 3/5\n",
      "3277/3277 [==============================] - 2s - loss: 0.5853 - acc: 0.8093 - val_loss: 0.5553 - val_acc: 0.8200\n",
      "Epoch 4/5\n",
      "3277/3277 [==============================] - 2s - loss: 0.4967 - acc: 0.8422 - val_loss: 0.4625 - val_acc: 0.8760\n",
      "Epoch 5/5\n",
      "3277/3277 [==============================] - 2s - loss: 0.4290 - acc: 0.8612 - val_loss: 0.4174 - val_acc: 0.8920\n"
     ]
    },
    {
     "data": {
      "text/plain": [
       "<keras.callbacks.History at 0x7fa9813e2e48>"
      ]
     },
     "execution_count": 45,
     "metadata": {},
     "output_type": "execute_result"
    }
   ],
   "source": [
    "rn400_model.fit(conv_train_feat_rn50_400, train_labels, batch_size=bs, epochs=5,\n",
    "                validation_data=(conv_val_feat_rn50_400, val_labels))"
   ]
  },
  {
   "cell_type": "code",
   "execution_count": 46,
   "metadata": {},
   "outputs": [
    {
     "name": "stdout",
     "output_type": "stream",
     "text": [
      "Train on 3277 samples, validate on 500 samples\n",
      "Epoch 1/20\n",
      "3277/3277 [==============================] - 2s - loss: 0.3731 - acc: 0.8889 - val_loss: 0.4070 - val_acc: 0.8820\n",
      "Epoch 2/20\n",
      "3277/3277 [==============================] - 2s - loss: 0.3484 - acc: 0.8917 - val_loss: 0.3611 - val_acc: 0.9260\n",
      "Epoch 3/20\n",
      "3277/3277 [==============================] - 2s - loss: 0.3172 - acc: 0.9030 - val_loss: 0.3772 - val_acc: 0.8820\n",
      "Epoch 4/20\n",
      "3277/3277 [==============================] - 2s - loss: 0.3015 - acc: 0.9078 - val_loss: 0.3221 - val_acc: 0.9080\n",
      "Epoch 5/20\n",
      "3277/3277 [==============================] - 2s - loss: 0.2605 - acc: 0.9231 - val_loss: 0.2956 - val_acc: 0.9280\n",
      "Epoch 6/20\n",
      "3277/3277 [==============================] - 2s - loss: 0.2478 - acc: 0.9316 - val_loss: 0.3213 - val_acc: 0.9120\n",
      "Epoch 7/20\n",
      "3277/3277 [==============================] - 2s - loss: 0.2627 - acc: 0.9228 - val_loss: 0.2890 - val_acc: 0.9440\n",
      "Epoch 8/20\n",
      "3277/3277 [==============================] - 2s - loss: 0.2239 - acc: 0.9326 - val_loss: 0.2853 - val_acc: 0.9220\n",
      "Epoch 9/20\n",
      "3277/3277 [==============================] - 2s - loss: 0.2082 - acc: 0.9377 - val_loss: 0.2417 - val_acc: 0.9440\n",
      "Epoch 10/20\n",
      "3277/3277 [==============================] - 2s - loss: 0.2113 - acc: 0.9420 - val_loss: 0.2578 - val_acc: 0.9360\n",
      "Epoch 11/20\n",
      "3277/3277 [==============================] - 2s - loss: 0.1981 - acc: 0.9457 - val_loss: 0.3263 - val_acc: 0.8820\n",
      "Epoch 12/20\n",
      "3277/3277 [==============================] - 2s - loss: 0.1912 - acc: 0.9432 - val_loss: 0.2502 - val_acc: 0.9460\n",
      "Epoch 13/20\n",
      "3277/3277 [==============================] - 2s - loss: 0.1807 - acc: 0.9472 - val_loss: 0.2610 - val_acc: 0.9400\n",
      "Epoch 14/20\n",
      "3277/3277 [==============================] - 2s - loss: 0.1676 - acc: 0.9548 - val_loss: 0.2576 - val_acc: 0.9300\n",
      "Epoch 15/20\n",
      "3277/3277 [==============================] - 2s - loss: 0.1605 - acc: 0.9551 - val_loss: 0.2275 - val_acc: 0.9520\n",
      "Epoch 16/20\n",
      "3277/3277 [==============================] - 2s - loss: 0.1480 - acc: 0.9597 - val_loss: 0.2427 - val_acc: 0.9480\n",
      "Epoch 17/20\n",
      "3277/3277 [==============================] - 2s - loss: 0.1462 - acc: 0.9548 - val_loss: 0.2651 - val_acc: 0.9340\n",
      "Epoch 18/20\n",
      "3277/3277 [==============================] - 2s - loss: 0.1443 - acc: 0.9564 - val_loss: 0.2354 - val_acc: 0.9460\n",
      "Epoch 19/20\n",
      "3277/3277 [==============================] - 2s - loss: 0.1596 - acc: 0.9493 - val_loss: 0.2150 - val_acc: 0.9500\n",
      "Epoch 20/20\n",
      "3277/3277 [==============================] - 2s - loss: 0.1308 - acc: 0.9606 - val_loss: 0.2156 - val_acc: 0.9500\n"
     ]
    },
    {
     "data": {
      "text/plain": [
       "<keras.callbacks.History at 0x7fa9813b8e48>"
      ]
     },
     "execution_count": 46,
     "metadata": {},
     "output_type": "execute_result"
    }
   ],
   "source": [
    "rn400_model.optimizer.lr = 1e-6\n",
    "\n",
    "rn400_model.fit(conv_train_feat_rn50_400, train_labels, batch_size=bs, epochs=20,\n",
    "                validation_data=(conv_val_feat_rn50_400, val_labels))"
   ]
  },
  {
   "cell_type": "code",
   "execution_count": 47,
   "metadata": {
    "collapsed": true
   },
   "outputs": [],
   "source": [
    "rn400_model.save_weights(models_path + 'rn50_conv_400x400.h5')\n",
    "# rn400_model.load_weights(models_path + 'rn50_400_weights.h5')"
   ]
  },
  {
   "cell_type": "markdown",
   "metadata": {
    "collapsed": true
   },
   "source": [
    "## Combine convolutional model used to pre-compute convolutional features with the model that uses them to make final predictions"
   ]
  },
  {
   "cell_type": "code",
   "execution_count": 48,
   "metadata": {
    "collapsed": true
   },
   "outputs": [],
   "source": [
    "final_model = Model(inputs=conv_rn50_400.input, outputs=rn400_model(conv_rn50_400.output))\n",
    "final_model.compile(optimizer=Adam(lr=0.001), loss='categorical_crossentropy', metrics=['accuracy'])\n",
    "# final_model.summary()"
   ]
  },
  {
   "cell_type": "code",
   "execution_count": 49,
   "metadata": {},
   "outputs": [
    {
     "data": {
      "text/plain": [
       "[0.21556607327610255, 0.950000009059906]"
      ]
     },
     "execution_count": 49,
     "metadata": {},
     "output_type": "execute_result"
    }
   ],
   "source": [
    "final_model.evaluate_generator(rn400_val_batches, rn400_val_batches.n / bs)"
   ]
  },
  {
   "cell_type": "code",
   "execution_count": 50,
   "metadata": {
    "collapsed": true
   },
   "outputs": [],
   "source": [
    "img_path = val_path + val_filenames[250]\n",
    "img = image.load_img(img_path, target_size=(400, 400))\n",
    "x = image.img_to_array(img)\n",
    "x = np.expand_dims(x, axis=0)\n",
    "preds = final_model.predict(x)"
   ]
  },
  {
   "cell_type": "code",
   "execution_count": 51,
   "metadata": {},
   "outputs": [
    {
     "name": "stdout",
     "output_type": "stream",
     "text": [
      "/home/wgilliam/development/_training/ml/fastai-projects/kaggle-fisheries-competition/data/valid/BET/img_07311.jpg\n"
     ]
    },
    {
     "data": {
      "text/plain": [
       "(None, 1, 1)"
      ]
     },
     "execution_count": 51,
     "metadata": {},
     "output_type": "execute_result"
    }
   ],
   "source": [
    "print(img_path), val_classes[250], np.argmax(preds)"
   ]
  },
  {
   "cell_type": "code",
   "execution_count": 52,
   "metadata": {
    "collapsed": true
   },
   "outputs": [],
   "source": [
    "final_model.save_weights(models_path + 'rn50_conv+top_400x400.h5')\n",
    "# rn400_model.load_weights(models_path + 'rn50_400_weights.h5')"
   ]
  },
  {
   "cell_type": "code",
   "execution_count": null,
   "metadata": {
    "collapsed": true
   },
   "outputs": [],
   "source": []
  }
 ],
 "metadata": {
  "kernelspec": {
   "display_name": "Python 3",
   "language": "python",
   "name": "python3"
  },
  "language_info": {
   "codemirror_mode": {
    "name": "ipython",
    "version": 3
   },
   "file_extension": ".py",
   "mimetype": "text/x-python",
   "name": "python",
   "nbconvert_exporter": "python",
   "pygments_lexer": "ipython3",
   "version": "3.6.2"
  }
 },
 "nbformat": 4,
 "nbformat_minor": 2
}
