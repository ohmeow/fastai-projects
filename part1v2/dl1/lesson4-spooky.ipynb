{
 "cells": [
  {
   "cell_type": "code",
   "execution_count": 1,
   "metadata": {},
   "outputs": [],
   "source": [
    "%reload_ext autoreload\n",
    "%autoreload 2\n",
    "%matplotlib inline"
   ]
  },
  {
   "cell_type": "code",
   "execution_count": 2,
   "metadata": {},
   "outputs": [],
   "source": [
    "from fastai.learner import *\n",
    "\n",
    "import torchtext\n",
    "from torchtext import vocab, data\n",
    "from torchtext.datasets import language_modeling\n",
    "\n",
    "from fastai.rnn_reg import *\n",
    "from fastai.rnn_train import *\n",
    "from fastai.nlp import *\n",
    "from fastai.lm_rnn import *\n",
    "\n",
    "import dill as pickle\n",
    "import itertools as it\n",
    "from operator import itemgetter\n",
    "\n",
    "from spooky import *"
   ]
  },
  {
   "cell_type": "code",
   "execution_count": 3,
   "metadata": {},
   "outputs": [],
   "source": [
    "PATH = 'data/spooky'\n",
    "\n",
    "os.makedirs(f'{PATH}/models', exist_ok=True)\n",
    "os.makedirs(f'{PATH}/tmp', exist_ok=True)\n",
    "\n",
    "bs = 64\n",
    "bptt = 75\n",
    "\n",
    "# for NLP, configure Adam to use less momentum than the defaul of 0.9\n",
    "opt_fn = partial(optim.Adam, betas=(0.7, 0.99))"
   ]
  },
  {
   "cell_type": "code",
   "execution_count": 4,
   "metadata": {},
   "outputs": [
    {
     "data": {
      "text/plain": [
       "(19579, 8392)"
      ]
     },
     "execution_count": 4,
     "metadata": {},
     "output_type": "execute_result"
    }
   ],
   "source": [
    "# get raw training and test datasets\n",
    "train_raw_df = pd.read_csv(f'{PATH}/train.csv')\n",
    "test_df = pd.read_csv(f'{PATH}/test.csv')\n",
    "\n",
    "len(train_raw_df), len(test_df)"
   ]
  },
  {
   "cell_type": "markdown",
   "metadata": {
    "heading_collapsed": true
   },
   "source": [
    "## Get a baseline\n",
    "\n",
    "Running with default parameters to figure out good default hyperparameters"
   ]
  },
  {
   "cell_type": "code",
   "execution_count": 5,
   "metadata": {
    "hidden": true
   },
   "outputs": [
    {
     "data": {
      "text/plain": [
       "(15664, 3915, 8392)"
      ]
     },
     "execution_count": 5,
     "metadata": {},
     "output_type": "execute_result"
    }
   ],
   "source": [
    "# Standard CV\n",
    "\n",
    "# To build a standard cross-validation dataset use this\n",
    "val_idxs = get_cv_idxs(len(train_raw_df), val_pct=0.20)\n",
    "\n",
    "train_df =  train_raw_df.drop(val_idxs)\n",
    "val_df = train_raw_df.iloc[val_idxs]\n",
    "\n",
    "len(train_df), len(val_df), len(test_df)"
   ]
  },
  {
   "cell_type": "code",
   "execution_count": 6,
   "metadata": {
    "hidden": true
   },
   "outputs": [
    {
     "data": {
      "text/plain": [
       "'It never once occurred to me that the fumbling might be a mere mistake .'"
      ]
     },
     "execution_count": 6,
     "metadata": {},
     "output_type": "execute_result"
    }
   ],
   "source": [
    "# tokenize = split each sentence into a list of words\n",
    "' '.join(spacy_tok(train_df.text.iloc[0]))"
   ]
  },
  {
   "cell_type": "code",
   "execution_count": 7,
   "metadata": {
    "hidden": true
   },
   "outputs": [],
   "source": [
    "#createa torchtext field = describes how to preprocess a piece of text\n",
    "txt_fld = data.Field(lower=True, tokenize=spacy_tok)"
   ]
  },
  {
   "cell_type": "code",
   "execution_count": 8,
   "metadata": {
    "hidden": true
   },
   "outputs": [],
   "source": [
    "dataframes = dict(train_df=train_df, val_df=val_df, test_df=val_df)\n",
    "\n",
    "# min_freq = 10 says, \"treat any word that appears less than 10 times as the word <unk>\"\n",
    "md = LanguageModelData.from_dataframes(PATH, txt_fld, 'text', **dataframes, \n",
    "                                       bs=bs, bptt=bptt, min_freq=10)"
   ]
  },
  {
   "cell_type": "code",
   "execution_count": 9,
   "metadata": {
    "hidden": true
   },
   "outputs": [],
   "source": [
    "# after building the ModelData object, TEXT.vocab is set.  because this will be needed again, save it\n",
    "pickle.dump(txt_fld, open(f'{PATH}/models/TEXT_baseline.pkl', 'wb'))"
   ]
  },
  {
   "cell_type": "code",
   "execution_count": 10,
   "metadata": {
    "hidden": true
   },
   "outputs": [
    {
     "data": {
      "text/plain": [
       "(98, 4146, 1, 476141)"
      ]
     },
     "execution_count": 10,
     "metadata": {},
     "output_type": "execute_result"
    }
   ],
   "source": [
    "# batches, # of unique tokens in vocab, # of items in ds, # of words in ds\n",
    "len(md.trn_dl), md.nt, len(md.trn_ds), len(md.trn_ds[0].text)"
   ]
  },
  {
   "cell_type": "code",
   "execution_count": 11,
   "metadata": {
    "hidden": true
   },
   "outputs": [
    {
     "data": {
      "text/plain": [
       "['<unk>', '<pad>', ',', 'the', 'of', '.', 'and', 'to', 'i', 'a', 'in', 'was']"
      ]
     },
     "execution_count": 11,
     "metadata": {},
     "output_type": "execute_result"
    }
   ],
   "source": [
    "# int to string mapping\n",
    "txt_fld.vocab.itos[:12]"
   ]
  },
  {
   "cell_type": "code",
   "execution_count": 12,
   "metadata": {
    "hidden": true
   },
   "outputs": [
    {
     "data": {
      "text/plain": [
       "3"
      ]
     },
     "execution_count": 12,
     "metadata": {},
     "output_type": "execute_result"
    }
   ],
   "source": [
    "# string to int mapping\n",
    "txt_fld.vocab.stoi['the']"
   ]
  },
  {
   "cell_type": "code",
   "execution_count": 13,
   "metadata": {
    "hidden": true
   },
   "outputs": [
    {
     "data": {
      "text/plain": [
       "['it',\n",
       " 'never',\n",
       " 'once',\n",
       " 'occurred',\n",
       " 'to',\n",
       " 'me',\n",
       " 'that',\n",
       " 'the',\n",
       " 'fumbling',\n",
       " 'might',\n",
       " 'be',\n",
       " 'a']"
      ]
     },
     "execution_count": 13,
     "metadata": {},
     "output_type": "execute_result"
    }
   ],
   "source": [
    "# in a LanguageModelData object there is only one item in each dataset: all the words joined together\n",
    "md.trn_ds[0].text[:12]"
   ]
  },
  {
   "cell_type": "code",
   "execution_count": 14,
   "metadata": {
    "hidden": true
   },
   "outputs": [
    {
     "data": {
      "text/plain": [
       "Variable containing:\n",
       "   16\n",
       "   98\n",
       "  131\n",
       "  826\n",
       "    7\n",
       "   27\n",
       "   12\n",
       "    3\n",
       "    0\n",
       "   88\n",
       "   33\n",
       "    9\n",
       "[torch.cuda.LongTensor of size 12x1 (GPU 0)]"
      ]
     },
     "execution_count": 14,
     "metadata": {},
     "output_type": "execute_result"
    }
   ],
   "source": [
    "# torchtext will handle turning this words into integer Ids\n",
    "txt_fld.numericalize([md.trn_ds[0].text[:12]])"
   ]
  },
  {
   "cell_type": "code",
   "execution_count": 15,
   "metadata": {
    "hidden": true
   },
   "outputs": [
    {
     "name": "stdout",
     "output_type": "stream",
     "text": [
      "torch.Size([81, 64])\n",
      "torch.Size([5184])\n"
     ]
    },
    {
     "data": {
      "text/plain": [
       "(Variable containing:\n",
       "    16     2    25  ...     32   101     2\n",
       "    98    29     3  ...    111     7    15\n",
       "   131    62  1206  ...    286  3449     9\n",
       "        ...          ⋱          ...       \n",
       "   384     3     5  ...     46     2    30\n",
       "    21   746    15  ...      8   106     3\n",
       "    17     4   235  ...      0   194    71\n",
       " [torch.cuda.LongTensor of size 81x64 (GPU 0)], Variable containing:\n",
       "    98\n",
       "    29\n",
       "     3\n",
       "   ⋮  \n",
       "     3\n",
       "  3894\n",
       "   268\n",
       " [torch.cuda.LongTensor of size 5184 (GPU 0)])"
      ]
     },
     "execution_count": 15,
     "metadata": {},
     "output_type": "execute_result"
    }
   ],
   "source": [
    "batch = next(iter(md.trn_dl))\n",
    "print(batch[0].size()), print(batch[1].size())\n",
    "\n",
    "batch"
   ]
  },
  {
   "cell_type": "code",
   "execution_count": 16,
   "metadata": {
    "hidden": true
   },
   "outputs": [],
   "source": [
    "emb_sz = 200       # size of each embedding vector\n",
    "n_hidden = 500     # number of hidden activations per layer\n",
    "n_layers = 3       # number of layers"
   ]
  },
  {
   "cell_type": "code",
   "execution_count": 17,
   "metadata": {
    "hidden": true
   },
   "outputs": [],
   "source": [
    "learner = md.get_model(opt_fn, emb_sz, n_hidden, n_layers,\n",
    "                      dropouti=0.1, dropout=0.1, wdrop=0.2, dropoute=0.04, dropouth=0.1)\n",
    "\n",
    "learner.reg_fn = partial(seq2seq_reg, alpha=2, beta=1)\n",
    "learner.clip = 0.3"
   ]
  },
  {
   "cell_type": "code",
   "execution_count": 18,
   "metadata": {
    "hidden": true
   },
   "outputs": [
    {
     "data": {
      "application/vnd.jupyter.widget-view+json": {
       "model_id": "6cbe198066d5420cab9f75be8861faee",
       "version_major": 2,
       "version_minor": 0
      },
      "text/html": [
       "<p>Failed to display Jupyter Widget of type <code>HBox</code>.</p>\n",
       "<p>\n",
       "  If you're reading this message in the Jupyter Notebook or JupyterLab Notebook, it may mean\n",
       "  that the widgets JavaScript is still loading. If this message persists, it\n",
       "  likely means that the widgets JavaScript library is either not installed or\n",
       "  not enabled. See the <a href=\"https://ipywidgets.readthedocs.io/en/stable/user_install.html\">Jupyter\n",
       "  Widgets Documentation</a> for setup instructions.\n",
       "</p>\n",
       "<p>\n",
       "  If you're reading this message in another frontend (for example, a static\n",
       "  rendering on GitHub or <a href=\"https://nbviewer.jupyter.org/\">NBViewer</a>),\n",
       "  it may mean that your frontend doesn't currently support widgets.\n",
       "</p>\n"
      ],
      "text/plain": [
       "HBox(children=(IntProgress(value=0, description='Epoch', max=1), HTML(value='')))"
      ]
     },
     "metadata": {},
     "output_type": "display_data"
    },
    {
     "name": "stdout",
     "output_type": "stream",
     "text": [
      " 94%|█████████▍| 92/98 [00:14<00:00,  6.41it/s, loss=30.1]"
     ]
    }
   ],
   "source": [
    "lrf = learner.lr_find() "
   ]
  },
  {
   "cell_type": "code",
   "execution_count": 19,
   "metadata": {
    "hidden": true
   },
   "outputs": [
    {
     "data": {
      "image/png": "[encoded data removed]",
      "text/plain": [
       "<matplotlib.figure.Figure at 0x7f495c389358>"
      ]
     },
     "metadata": {},
     "output_type": "display_data"
    }
   ],
   "source": [
    "learner.sched.plot()"
   ]
  },
  {
   "cell_type": "code",
   "execution_count": 20,
   "metadata": {
    "hidden": true
   },
   "outputs": [],
   "source": [
    "lr = 3e-3\n",
    "wds = 1e-6"
   ]
  },
  {
   "cell_type": "code",
   "execution_count": 21,
   "metadata": {
    "hidden": true
   },
   "outputs": [
    {
     "data": {
      "application/vnd.jupyter.widget-view+json": {
       "model_id": "ce3e3024e5b74cf19546ad356e61ca3b",
       "version_major": 2,
       "version_minor": 0
      },
      "text/html": [
       "<p>Failed to display Jupyter Widget of type <code>HBox</code>.</p>\n",
       "<p>\n",
       "  If you're reading this message in the Jupyter Notebook or JupyterLab Notebook, it may mean\n",
       "  that the widgets JavaScript is still loading. If this message persists, it\n",
       "  likely means that the widgets JavaScript library is either not installed or\n",
       "  not enabled. See the <a href=\"https://ipywidgets.readthedocs.io/en/stable/user_install.html\">Jupyter\n",
       "  Widgets Documentation</a> for setup instructions.\n",
       "</p>\n",
       "<p>\n",
       "  If you're reading this message in another frontend (for example, a static\n",
       "  rendering on GitHub or <a href=\"https://nbviewer.jupyter.org/\">NBViewer</a>),\n",
       "  it may mean that your frontend doesn't currently support widgets.\n",
       "</p>\n"
      ],
      "text/plain": [
       "HBox(children=(IntProgress(value=0, description='Epoch', max=15), HTML(value='')))"
      ]
     },
     "metadata": {},
     "output_type": "display_data"
    },
    {
     "name": "stdout",
     "output_type": "stream",
     "text": [
      "\n",
      "  0%|          | 0/98 [00:00<?, ?it/s]\u001b[A\n",
      "  0%|          | 0/98 [00:00<?, ?it/s, loss=8.33]\u001b[A\n",
      "  1%|          | 1/98 [00:00<00:14,  6.51it/s, loss=8.33]\u001b[A\n",
      "  1%|          | 1/98 [00:00<00:28,  3.45it/s, loss=8.33]\u001b[A\n",
      "  2%|▏         | 2/98 [00:00<00:14,  6.86it/s, loss=8.33]\u001b[A\n",
      "  2%|▏         | 2/98 [00:00<00:20,  4.66it/s, loss=8.33]\u001b[A\n",
      "  3%|▎         | 3/98 [00:00<00:13,  6.95it/s, loss=8.33]\u001b[A\n",
      "  3%|▎         | 3/98 [00:00<00:18,  5.15it/s, loss=8.33]\u001b[A\n",
      "  4%|▍         | 4/98 [00:00<00:13,  6.84it/s, loss=8.33]\u001b[A\n",
      "  4%|▍         | 4/98 [00:00<00:17,  5.51it/s, loss=8.33]\u001b[A\n",
      "  5%|▌         | 5/98 [00:00<00:13,  6.86it/s, loss=8.33]\u001b[A\n",
      "  5%|▌         | 5/98 [00:00<00:16,  5.66it/s, loss=8.33]\u001b[A\n",
      "  6%|▌         | 6/98 [00:00<00:13,  6.77it/s, loss=8.33]\u001b[A\n",
      "  6%|▌         | 6/98 [00:01<00:15,  5.83it/s, loss=8.32]\u001b[A\n",
      "  7%|▋         | 7/98 [00:01<00:13,  6.79it/s, loss=8.32]\u001b[A\n",
      "  7%|▋         | 7/98 [00:01<00:15,  5.89it/s, loss=8.19]\u001b[A\n",
      "  8%|▊         | 8/98 [00:01<00:13,  6.72it/s, loss=8.19]\u001b[A\n",
      "  8%|▊         | 8/98 [00:01<00:14,  6.02it/s, loss=8.06]\u001b[A\n",
      "  9%|▉         | 9/98 [00:01<00:13,  6.76it/s, loss=8.06]\u001b[A\n",
      " 11%|█         | 11/98 [00:01<00:12,  6.84it/s, loss=7.75]"
     ]
    },
    {
     "name": "stderr",
     "output_type": "stream",
     "text": [
      "Exception in thread Thread-4:\n",
      "Traceback (most recent call last):\n",
      "  File \"/home/ubuntu/anaconda3/envs/fastai/lib/python3.6/threading.py\", line 916, in _bootstrap_inner\n",
      "    self.run()\n",
      "  File \"/home/ubuntu/anaconda3/envs/fastai/lib/python3.6/site-packages/tqdm/_tqdm.py\", line 144, in run\n",
      "    for instance in self.tqdm_cls._instances:\n",
      "  File \"/home/ubuntu/anaconda3/envs/fastai/lib/python3.6/_weakrefset.py\", line 60, in __iter__\n",
      "    for itemref in self.data:\n",
      "RuntimeError: Set changed size during iteration\n",
      "\n",
      "Exception in thread Thread-5:\n",
      "Traceback (most recent call last):\n",
      "  File \"/home/ubuntu/anaconda3/envs/fastai/lib/python3.6/threading.py\", line 916, in _bootstrap_inner\n",
      "    self.run()\n",
      "  File \"/home/ubuntu/anaconda3/envs/fastai/lib/python3.6/site-packages/tqdm/_tqdm.py\", line 144, in run\n",
      "    for instance in self.tqdm_cls._instances:\n",
      "  File \"/home/ubuntu/anaconda3/envs/fastai/lib/python3.6/_weakrefset.py\", line 60, in __iter__\n",
      "    for itemref in self.data:\n",
      "RuntimeError: Set changed size during iteration\n",
      "\n"
     ]
    },
    {
     "name": "stdout",
     "output_type": "stream",
     "text": [
      "[ 0.       5.60124  5.3522 ]                              \n",
      "[ 1.       5.21798  4.96716]                              \n",
      "[ 2.       5.0105   4.88868]                              \n",
      "[ 3.       4.90877  4.75563]                              \n",
      "[ 4.       4.7773   4.64693]                              \n",
      "[ 5.       4.67476  4.5883 ]                              \n",
      "[ 6.       4.61976  4.57182]                              \n",
      "[ 7.       4.6308   4.53496]                              \n",
      "[ 8.       4.54769  4.4783 ]                              \n",
      "[ 9.       4.46852  4.42544]                              \n",
      "[ 10.        4.39591   4.38997]                           \n",
      "[ 11.        4.32077   4.36902]                           \n",
      "[ 12.        4.26214   4.36149]                           \n",
      "[ 13.        4.22476   4.36028]                           \n",
      "[ 14.        4.21858   4.35815]                           \n",
      "\n"
     ]
    }
   ],
   "source": [
    "learner.fit(lr, 4, wds=wds, cycle_len=1, cycle_mult=2)"
   ]
  },
  {
   "cell_type": "code",
   "execution_count": 22,
   "metadata": {
    "hidden": true
   },
   "outputs": [],
   "source": [
    "learner.save_encoder('spooky_adam_enc1')\n",
    "# learner.load_encoder('spooky_adam1_enc')"
   ]
  },
  {
   "cell_type": "code",
   "execution_count": 23,
   "metadata": {
    "hidden": true
   },
   "outputs": [
    {
     "data": {
      "application/vnd.jupyter.widget-view+json": {
       "model_id": "5167e3b2c1ce4b989c073096dc2687b5",
       "version_major": 2,
       "version_minor": 0
      },
      "text/html": [
       "<p>Failed to display Jupyter Widget of type <code>HBox</code>.</p>\n",
       "<p>\n",
       "  If you're reading this message in the Jupyter Notebook or JupyterLab Notebook, it may mean\n",
       "  that the widgets JavaScript is still loading. If this message persists, it\n",
       "  likely means that the widgets JavaScript library is either not installed or\n",
       "  not enabled. See the <a href=\"https://ipywidgets.readthedocs.io/en/stable/user_install.html\">Jupyter\n",
       "  Widgets Documentation</a> for setup instructions.\n",
       "</p>\n",
       "<p>\n",
       "  If you're reading this message in another frontend (for example, a static\n",
       "  rendering on GitHub or <a href=\"https://nbviewer.jupyter.org/\">NBViewer</a>),\n",
       "  it may mean that your frontend doesn't currently support widgets.\n",
       "</p>\n"
      ],
      "text/plain": [
       "HBox(children=(IntProgress(value=0, description='Epoch', max=10), HTML(value='')))"
      ]
     },
     "metadata": {},
     "output_type": "display_data"
    },
    {
     "name": "stdout",
     "output_type": "stream",
     "text": [
      "[ 0.       4.28669  4.36529]                              \n",
      "[ 1.       4.23212  4.34597]                              \n",
      "[ 2.       4.16397  4.33624]                              \n",
      "[ 3.       4.09018  4.33146]                              \n",
      "[ 4.       4.05195  4.33561]                              \n",
      "[ 5.       4.13678  4.34258]                              \n",
      "[ 6.       4.09634  4.33769]                              \n",
      "[ 7.       4.01691  4.334  ]                              \n",
      "[ 8.       3.93991  4.33712]                              \n",
      "[ 9.       3.89223  4.34943]                              \n",
      "\n"
     ]
    }
   ],
   "source": [
    "learner.fit(lr, 2, wds=wds, cycle_len=5, cycle_save_name='spooky_adam_enc2_fit')"
   ]
  },
  {
   "cell_type": "code",
   "execution_count": 24,
   "metadata": {
    "hidden": true
   },
   "outputs": [],
   "source": [
    "learner.save_encoder('spooky_adam_enc2')"
   ]
  },
  {
   "cell_type": "code",
   "execution_count": 25,
   "metadata": {
    "hidden": true
   },
   "outputs": [
    {
     "data": {
      "application/vnd.jupyter.widget-view+json": {
       "model_id": "081f98c3eaf14408a431ce199bd3b215",
       "version_major": 2,
       "version_minor": 0
      },
      "text/html": [
       "<p>Failed to display Jupyter Widget of type <code>HBox</code>.</p>\n",
       "<p>\n",
       "  If you're reading this message in the Jupyter Notebook or JupyterLab Notebook, it may mean\n",
       "  that the widgets JavaScript is still loading. If this message persists, it\n",
       "  likely means that the widgets JavaScript library is either not installed or\n",
       "  not enabled. See the <a href=\"https://ipywidgets.readthedocs.io/en/stable/user_install.html\">Jupyter\n",
       "  Widgets Documentation</a> for setup instructions.\n",
       "</p>\n",
       "<p>\n",
       "  If you're reading this message in another frontend (for example, a static\n",
       "  rendering on GitHub or <a href=\"https://nbviewer.jupyter.org/\">NBViewer</a>),\n",
       "  it may mean that your frontend doesn't currently support widgets.\n",
       "</p>\n"
      ],
      "text/plain": [
       "HBox(children=(IntProgress(value=0, description='Epoch', max=10), HTML(value='')))"
      ]
     },
     "metadata": {},
     "output_type": "display_data"
    },
    {
     "name": "stdout",
     "output_type": "stream",
     "text": [
      "[ 0.       3.96945  4.35186]                              \n",
      "[ 1.       3.98003  4.34813]                              \n",
      "[ 2.       3.95372  4.33913]                              \n",
      "[ 3.       3.88543  4.36669]                              \n",
      "[ 4.       3.83834  4.36485]                              \n",
      "[ 5.       3.77152  4.3766 ]                              \n",
      "[ 6.       3.7227   4.39104]                              \n",
      "[ 7.       3.69084  4.39227]                              \n",
      "[ 8.       3.6782   4.40122]                              \n",
      "[ 9.       3.68639  4.41268]                              \n",
      "\n"
     ]
    }
   ],
   "source": [
    "learner.fit(lr, 1, wds=wds, cycle_len=10, cycle_save_name='spooky_adam_enc3_fit')"
   ]
  },
  {
   "cell_type": "code",
   "execution_count": 26,
   "metadata": {
    "hidden": true
   },
   "outputs": [],
   "source": [
    "learner.save_encoder('spooky_adam_enc3')"
   ]
  },
  {
   "cell_type": "code",
   "execution_count": 27,
   "metadata": {
    "hidden": true
   },
   "outputs": [
    {
     "data": {
      "text/plain": [
       "80.308863926683813"
      ]
     },
     "execution_count": 27,
     "metadata": {},
     "output_type": "execute_result"
    }
   ],
   "source": [
    "# metric perplexity (how language model accuracy generally measured) = exp() of loss function\n",
    "np.exp(4.38588)"
   ]
  },
  {
   "cell_type": "markdown",
   "metadata": {
    "heading_collapsed": true
   },
   "source": [
    "## Test"
   ]
  },
  {
   "cell_type": "code",
   "execution_count": 28,
   "metadata": {
    "hidden": true
   },
   "outputs": [
    {
     "data": {
      "text/plain": [
       "'. It was a dark and scary night . The old'"
      ]
     },
     "execution_count": 28,
     "metadata": {},
     "output_type": "execute_result"
    }
   ],
   "source": [
    "# create a short bit of text to \"prime\" the precitions, then use torchtext to numericalize it\n",
    "# so we can feed it into our language model\n",
    "m = learner.model\n",
    "ss = \"\"\". It was a dark and scary night. The old\"\"\"\n",
    "s = [spacy_tok(ss)]\n",
    "t = txt_fld.numericalize(s)\n",
    "' '.join(s[0])"
   ]
  },
  {
   "cell_type": "code",
   "execution_count": 29,
   "metadata": {
    "hidden": true
   },
   "outputs": [],
   "source": [
    "m[0].bs = 1      # set batch size = 1\n",
    "m.eval()         # turn-off dropout\n",
    "m.reset()        # reset hidden state\n",
    "res, *_ = m(t)   # get predictions from model\n",
    "m[0].bs = bs     # put batch size back to what it was"
   ]
  },
  {
   "cell_type": "code",
   "execution_count": 30,
   "metadata": {
    "hidden": true
   },
   "outputs": [
    {
     "data": {
      "text/plain": [
       "['<unk>',\n",
       " 'men',\n",
       " 'man',\n",
       " 'things',\n",
       " 'l.',\n",
       " 'zadok',\n",
       " 'john',\n",
       " 'whateley',\n",
       " ',',\n",
       " 'ones']"
      ]
     },
     "execution_count": 30,
     "metadata": {},
     "output_type": "execute_result"
    }
   ],
   "source": [
    "# top 10 predictions for next word\n",
    "nexts = torch.topk(res[-1], 10)[1]\n",
    "[txt_fld.vocab.itos[o] for o in to_np(nexts)]"
   ]
  },
  {
   "cell_type": "code",
   "execution_count": 31,
   "metadata": {
    "hidden": true
   },
   "outputs": [
    {
     "name": "stdout",
     "output_type": "stream",
     "text": [
      ". It was a dark and scary night. The old \n",
      "\n",
      "men , the old man , who had been the old man , had been the most remarkable and most remarkable of the family . \" the old man was very well , and i was not sure that the old man was dead . \" the old man was ...\n"
     ]
    }
   ],
   "source": [
    "# try to generate more text\n",
    "print(ss, \"\\n\")\n",
    "\n",
    "for i in range(50):\n",
    "    n = res[-1].topk(2)[1]\n",
    "    n = n[1] if n.data[0] == 0 else n[0]\n",
    "    print(txt_fld.vocab.itos[n.data[0]], end=' ')\n",
    "    res, *_ = m(n[0].unsqueeze(0))\n",
    "    \n",
    "print('...')"
   ]
  },
  {
   "cell_type": "markdown",
   "metadata": {
    "heading_collapsed": true
   },
   "source": [
    "## GridSearchCV\n",
    "\n",
    "Do a grid search to figure out params"
   ]
  },
  {
   "cell_type": "code",
   "execution_count": 32,
   "metadata": {
    "hidden": true
   },
   "outputs": [],
   "source": [
    "# GridSearchCV ...\n",
    "\n",
    "# 1. Define hyper parameters\n",
    "# size of each embedding vector, # of hidden activations per layer, # of layers, min word freq, ps ratio\n",
    "params = { \n",
    "    'emb_sz': [200, 400, 600], \n",
    "    'n_hidden': [512, 1024], \n",
    "    'n_layers': [3, 4], \n",
    "    'min_freq': [10],\n",
    "    'ps_mult': [1, 2]\n",
    "}\n",
    "\n",
    "# 2. Define folds\n",
    "from sklearn.model_selection import StratifiedKFold\n",
    "skf = StratifiedKFold(n_splits=3, shuffle=True)\n",
    "\n",
    "# get folds\n",
    "kfolds = [ (train_idxs, val_idxs) for train_idxs, val_idxs in skf.split(train_raw_df.id, train_raw_df.author) ]\n",
    "\n",
    "# 3. Get all permutations of hyperparameters\n",
    "param_names = sorted(params)\n",
    "param_combos = [dict(zip(param_names, prod)) for prod in it.product(*(params[k] for k in param_names))]"
   ]
  },
  {
   "cell_type": "code",
   "execution_count": 33,
   "metadata": {
    "hidden": true
   },
   "outputs": [
    {
     "data": {
      "application/vnd.jupyter.widget-view+json": {
       "model_id": "9439201d5a844f16a677ba88193d9a32",
       "version_major": 2,
       "version_minor": 0
      },
      "text/html": [
       "<p>Failed to display Jupyter Widget of type <code>HBox</code>.</p>\n",
       "<p>\n",
       "  If you're reading this message in the Jupyter Notebook or JupyterLab Notebook, it may mean\n",
       "  that the widgets JavaScript is still loading. If this message persists, it\n",
       "  likely means that the widgets JavaScript library is either not installed or\n",
       "  not enabled. See the <a href=\"https://ipywidgets.readthedocs.io/en/stable/user_install.html\">Jupyter\n",
       "  Widgets Documentation</a> for setup instructions.\n",
       "</p>\n",
       "<p>\n",
       "  If you're reading this message in another frontend (for example, a static\n",
       "  rendering on GitHub or <a href=\"https://nbviewer.jupyter.org/\">NBViewer</a>),\n",
       "  it may mean that your frontend doesn't currently support widgets.\n",
       "</p>\n"
      ],
      "text/plain": [
       "HBox(children=(IntProgress(value=0, description='Epoch', max=15), HTML(value='')))"
      ]
     },
     "metadata": {},
     "output_type": "display_data"
    },
    {
     "name": "stdout",
     "output_type": "stream",
     "text": [
      "[ 0.       5.69303  5.48513]                              \n",
      "[ 1.       5.36675  5.1286 ]                              \n",
      "[ 2.       5.16739  5.06608]                              \n",
      "[ 3.       5.03749  4.85149]                              \n",
      "[ 4.       4.88571  4.74317]                              \n",
      "[ 5.       4.78591  4.68703]                              \n",
      "[ 6.       4.73627  4.67352]                              \n",
      "[ 7.       4.71969  4.60508]                              \n",
      "[ 8.       4.63398  4.53848]                              \n",
      "[ 9.       4.55374  4.47318]                              \n",
      "[ 10.        4.47561   4.4251 ]                           \n",
      "[ 11.        4.41448   4.40043]                           \n",
      "[ 12.        4.3666    4.37619]                           \n",
      "[ 13.        4.33001   4.36915]                           \n",
      "[ 14.        4.31467   4.36761]                           \n",
      "\n"
     ]
    },
    {
     "data": {
      "application/vnd.jupyter.widget-view+json": {
       "model_id": "63dc594c589842689513564d73bdcda3",
       "version_major": 2,
       "version_minor": 0
      },
      "text/html": [
       "<p>Failed to display Jupyter Widget of type <code>HBox</code>.</p>\n",
       "<p>\n",
       "  If you're reading this message in the Jupyter Notebook or JupyterLab Notebook, it may mean\n",
       "  that the widgets JavaScript is still loading. If this message persists, it\n",
       "  likely means that the widgets JavaScript library is either not installed or\n",
       "  not enabled. See the <a href=\"https://ipywidgets.readthedocs.io/en/stable/user_install.html\">Jupyter\n",
       "  Widgets Documentation</a> for setup instructions.\n",
       "</p>\n",
       "<p>\n",
       "  If you're reading this message in another frontend (for example, a static\n",
       "  rendering on GitHub or <a href=\"https://nbviewer.jupyter.org/\">NBViewer</a>),\n",
       "  it may mean that your frontend doesn't currently support widgets.\n",
       "</p>\n"
      ],
      "text/plain": [
       "HBox(children=(IntProgress(value=0, description='Epoch', max=5), HTML(value='')))"
      ]
     },
     "metadata": {},
     "output_type": "display_data"
    },
    {
     "name": "stdout",
     "output_type": "stream",
     "text": [
      "[ 0.       4.3583   4.36923]                              \n",
      "[ 1.       4.31756  4.34198]                              \n",
      "[ 2.       4.25451  4.32214]                              \n",
      "[ 3.       4.19504  4.31255]                              \n",
      "[ 4.       4.1638   4.30642]                              \n",
      "\n"
     ]
    },
    {
     "data": {
      "application/vnd.jupyter.widget-view+json": {
       "model_id": "c2e6b82edf434878bc4df677262f7d8a",
       "version_major": 2,
       "version_minor": 0
      },
      "text/html": [
       "<p>Failed to display Jupyter Widget of type <code>HBox</code>.</p>\n",
       "<p>\n",
       "  If you're reading this message in the Jupyter Notebook or JupyterLab Notebook, it may mean\n",
       "  that the widgets JavaScript is still loading. If this message persists, it\n",
       "  likely means that the widgets JavaScript library is either not installed or\n",
       "  not enabled. See the <a href=\"https://ipywidgets.readthedocs.io/en/stable/user_install.html\">Jupyter\n",
       "  Widgets Documentation</a> for setup instructions.\n",
       "</p>\n",
       "<p>\n",
       "  If you're reading this message in another frontend (for example, a static\n",
       "  rendering on GitHub or <a href=\"https://nbviewer.jupyter.org/\">NBViewer</a>),\n",
       "  it may mean that your frontend doesn't currently support widgets.\n",
       "</p>\n"
      ],
      "text/plain": [
       "HBox(children=(IntProgress(value=0, description='Epoch', max=15), HTML(value='')))"
      ]
     },
     "metadata": {},
     "output_type": "display_data"
    },
    {
     "name": "stdout",
     "output_type": "stream",
     "text": [
      "[ 0.       5.66967  5.41154]                              \n",
      "[ 1.       5.35182  5.06058]                              \n",
      "[ 2.       5.13706  4.97763]                              \n",
      "[ 3.       5.00196  4.79208]                              \n",
      "[ 4.       4.8509   4.67525]                              \n",
      "[ 5.       4.74604  4.61591]                              \n",
      "[ 6.       4.6893   4.60399]                              \n",
      "[ 7.       4.68853  4.56146]                              \n",
      "[ 8.       4.60691  4.47965]                              \n",
      "[ 9.       4.51767  4.43146]                              \n",
      "[ 10.        4.4429    4.38799]                           \n",
      "[ 11.        4.38697   4.3648 ]                           \n",
      "[ 12.        4.3299    4.35065]                           \n",
      "[ 13.        4.27793   4.34101]                           \n",
      "[ 14.        4.26329   4.34303]                           \n",
      "\n"
     ]
    },
    {
     "data": {
      "application/vnd.jupyter.widget-view+json": {
       "model_id": "3c5d7b24830a40aba095c07fa4448413",
       "version_major": 2,
       "version_minor": 0
      },
      "text/html": [
       "<p>Failed to display Jupyter Widget of type <code>HBox</code>.</p>\n",
       "<p>\n",
       "  If you're reading this message in the Jupyter Notebook or JupyterLab Notebook, it may mean\n",
       "  that the widgets JavaScript is still loading. If this message persists, it\n",
       "  likely means that the widgets JavaScript library is either not installed or\n",
       "  not enabled. See the <a href=\"https://ipywidgets.readthedocs.io/en/stable/user_install.html\">Jupyter\n",
       "  Widgets Documentation</a> for setup instructions.\n",
       "</p>\n",
       "<p>\n",
       "  If you're reading this message in another frontend (for example, a static\n",
       "  rendering on GitHub or <a href=\"https://nbviewer.jupyter.org/\">NBViewer</a>),\n",
       "  it may mean that your frontend doesn't currently support widgets.\n",
       "</p>\n"
      ],
      "text/plain": [
       "HBox(children=(IntProgress(value=0, description='Epoch', max=5), HTML(value='')))"
      ]
     },
     "metadata": {},
     "output_type": "display_data"
    },
    {
     "name": "stdout",
     "output_type": "stream",
     "text": [
      "[ 0.       4.3148   4.34853]                              \n",
      "[ 1.       4.27498  4.32507]                              \n",
      "[ 2.       4.20614  4.30911]                              \n",
      "[ 3.       4.13286  4.30412]                              \n",
      "[ 4.       4.09098  4.30563]                              \n",
      "\n"
     ]
    },
    {
     "data": {
      "application/vnd.jupyter.widget-view+json": {
       "model_id": "a0ee18b744fd4803904159acb9844db6",
       "version_major": 2,
       "version_minor": 0
      },
      "text/html": [
       "<p>Failed to display Jupyter Widget of type <code>HBox</code>.</p>\n",
       "<p>\n",
       "  If you're reading this message in the Jupyter Notebook or JupyterLab Notebook, it may mean\n",
       "  that the widgets JavaScript is still loading. If this message persists, it\n",
       "  likely means that the widgets JavaScript library is either not installed or\n",
       "  not enabled. See the <a href=\"https://ipywidgets.readthedocs.io/en/stable/user_install.html\">Jupyter\n",
       "  Widgets Documentation</a> for setup instructions.\n",
       "</p>\n",
       "<p>\n",
       "  If you're reading this message in another frontend (for example, a static\n",
       "  rendering on GitHub or <a href=\"https://nbviewer.jupyter.org/\">NBViewer</a>),\n",
       "  it may mean that your frontend doesn't currently support widgets.\n",
       "</p>\n"
      ],
      "text/plain": [
       "HBox(children=(IntProgress(value=0, description='Epoch', max=15), HTML(value='')))"
      ]
     },
     "metadata": {},
     "output_type": "display_data"
    },
    {
     "name": "stdout",
     "output_type": "stream",
     "text": [
      "[ 0.       5.67876  5.42139]                              \n",
      "[ 1.       5.28581  4.99547]                              \n",
      "[ 2.       5.05859  4.90292]                              \n",
      "[ 3.       4.9353   4.76453]                              \n",
      "[ 4.       4.79017  4.62596]                              \n",
      "[ 5.       4.6892   4.57536]                              \n",
      "[ 6.       4.63384  4.56264]                              \n",
      "[ 7.       4.63166  4.51703]                              \n",
      "[ 8.       4.5513   4.46356]                              \n",
      "[ 9.       4.46951  4.39689]                              \n",
      "[ 10.        4.39789   4.3647 ]                           \n",
      "[ 11.        4.33408   4.34038]                           \n",
      "[ 12.        4.27769   4.33101]                           \n",
      "[ 13.        4.23567   4.32386]                           \n",
      "[ 14.        4.21999   4.32494]                           \n",
      "\n"
     ]
    },
    {
     "data": {
      "application/vnd.jupyter.widget-view+json": {
       "model_id": "0901a408f09240108b324730b1eed800",
       "version_major": 2,
       "version_minor": 0
      },
      "text/html": [
       "<p>Failed to display Jupyter Widget of type <code>HBox</code>.</p>\n",
       "<p>\n",
       "  If you're reading this message in the Jupyter Notebook or JupyterLab Notebook, it may mean\n",
       "  that the widgets JavaScript is still loading. If this message persists, it\n",
       "  likely means that the widgets JavaScript library is either not installed or\n",
       "  not enabled. See the <a href=\"https://ipywidgets.readthedocs.io/en/stable/user_install.html\">Jupyter\n",
       "  Widgets Documentation</a> for setup instructions.\n",
       "</p>\n",
       "<p>\n",
       "  If you're reading this message in another frontend (for example, a static\n",
       "  rendering on GitHub or <a href=\"https://nbviewer.jupyter.org/\">NBViewer</a>),\n",
       "  it may mean that your frontend doesn't currently support widgets.\n",
       "</p>\n"
      ],
      "text/plain": [
       "HBox(children=(IntProgress(value=0, description='Epoch', max=5), HTML(value='')))"
      ]
     },
     "metadata": {},
     "output_type": "display_data"
    },
    {
     "name": "stdout",
     "output_type": "stream",
     "text": [
      "[ 0.       4.26362  4.33498]                              \n",
      "[ 1.       4.23257  4.31924]                              \n",
      "[ 2.       4.15825  4.29872]                              \n",
      "[ 3.       4.08987  4.29803]                              \n",
      "[ 4.       4.03786  4.29778]                              \n",
      "\n"
     ]
    },
    {
     "data": {
      "application/vnd.jupyter.widget-view+json": {
       "model_id": "f67f011d05ba482fb30d6d9353c010b0",
       "version_major": 2,
       "version_minor": 0
      },
      "text/html": [
       "<p>Failed to display Jupyter Widget of type <code>HBox</code>.</p>\n",
       "<p>\n",
       "  If you're reading this message in the Jupyter Notebook or JupyterLab Notebook, it may mean\n",
       "  that the widgets JavaScript is still loading. If this message persists, it\n",
       "  likely means that the widgets JavaScript library is either not installed or\n",
       "  not enabled. See the <a href=\"https://ipywidgets.readthedocs.io/en/stable/user_install.html\">Jupyter\n",
       "  Widgets Documentation</a> for setup instructions.\n",
       "</p>\n",
       "<p>\n",
       "  If you're reading this message in another frontend (for example, a static\n",
       "  rendering on GitHub or <a href=\"https://nbviewer.jupyter.org/\">NBViewer</a>),\n",
       "  it may mean that your frontend doesn't currently support widgets.\n",
       "</p>\n"
      ],
      "text/plain": [
       "HBox(children=(IntProgress(value=0, description='Epoch', max=15), HTML(value='')))"
      ]
     },
     "metadata": {},
     "output_type": "display_data"
    },
    {
     "name": "stdout",
     "output_type": "stream",
     "text": [
      "[ 0.       5.66187  5.45866]                              \n",
      "[ 1.      5.3432  5.0999]                                 \n",
      "[ 2.       5.16981  5.03951]                              \n",
      "[ 3.       5.04281  4.83498]                              \n",
      "[ 4.       4.90231  4.73243]                              \n",
      "[ 5.       4.8185   4.68136]                              \n",
      "[ 6.       4.77492  4.67588]                              \n",
      "[ 7.       4.76336  4.62787]                              \n",
      "[ 8.       4.70036  4.54589]                              \n",
      "[ 9.       4.63096  4.4923 ]                              \n",
      "[ 10.        4.57644   4.45501]                           \n",
      "[ 11.        4.53222   4.42833]                           \n",
      "[ 12.        4.50002   4.4118 ]                           \n",
      "[ 13.        4.48979   4.40568]                           \n",
      "[ 14.        4.466     4.40689]                           \n",
      "\n"
     ]
    },
    {
     "data": {
      "application/vnd.jupyter.widget-view+json": {
       "model_id": "587084557a90496ea72790f00f087ec1",
       "version_major": 2,
       "version_minor": 0
      },
      "text/html": [
       "<p>Failed to display Jupyter Widget of type <code>HBox</code>.</p>\n",
       "<p>\n",
       "  If you're reading this message in the Jupyter Notebook or JupyterLab Notebook, it may mean\n",
       "  that the widgets JavaScript is still loading. If this message persists, it\n",
       "  likely means that the widgets JavaScript library is either not installed or\n",
       "  not enabled. See the <a href=\"https://ipywidgets.readthedocs.io/en/stable/user_install.html\">Jupyter\n",
       "  Widgets Documentation</a> for setup instructions.\n",
       "</p>\n",
       "<p>\n",
       "  If you're reading this message in another frontend (for example, a static\n",
       "  rendering on GitHub or <a href=\"https://nbviewer.jupyter.org/\">NBViewer</a>),\n",
       "  it may mean that your frontend doesn't currently support widgets.\n",
       "</p>\n"
      ],
      "text/plain": [
       "HBox(children=(IntProgress(value=0, description='Epoch', max=5), HTML(value='')))"
      ]
     },
     "metadata": {},
     "output_type": "display_data"
    },
    {
     "name": "stdout",
     "output_type": "stream",
     "text": [
      "[ 0.       4.5025   4.40379]                              \n",
      "[ 1.       4.46751  4.37843]                              \n",
      "[ 2.       4.4355   4.34392]                              \n",
      "[ 3.       4.39074  4.3319 ]                              \n",
      "[ 4.       4.36751  4.32779]                              \n",
      "\n"
     ]
    },
    {
     "data": {
      "application/vnd.jupyter.widget-view+json": {
       "model_id": "1b5cc560b9ab44bb9f2c394cd910dcf6",
       "version_major": 2,
       "version_minor": 0
      },
      "text/html": [
       "<p>Failed to display Jupyter Widget of type <code>HBox</code>.</p>\n",
       "<p>\n",
       "  If you're reading this message in the Jupyter Notebook or JupyterLab Notebook, it may mean\n",
       "  that the widgets JavaScript is still loading. If this message persists, it\n",
       "  likely means that the widgets JavaScript library is either not installed or\n",
       "  not enabled. See the <a href=\"https://ipywidgets.readthedocs.io/en/stable/user_install.html\">Jupyter\n",
       "  Widgets Documentation</a> for setup instructions.\n",
       "</p>\n",
       "<p>\n",
       "  If you're reading this message in another frontend (for example, a static\n",
       "  rendering on GitHub or <a href=\"https://nbviewer.jupyter.org/\">NBViewer</a>),\n",
       "  it may mean that your frontend doesn't currently support widgets.\n",
       "</p>\n"
      ],
      "text/plain": [
       "HBox(children=(IntProgress(value=0, description='Epoch', max=15), HTML(value='')))"
      ]
     },
     "metadata": {},
     "output_type": "display_data"
    },
    {
     "name": "stdout",
     "output_type": "stream",
     "text": [
      "[ 0.       5.69735  5.44702]                              \n",
      "[ 1.       5.3492   5.05459]                              \n",
      "[ 2.       5.15838  4.97967]                              \n",
      "[ 3.       5.05052  4.80485]                              \n",
      "[ 4.       4.9231   4.71274]                              \n",
      "[ 5.       4.84135  4.67865]                              \n",
      "[ 6.       4.79961  4.6638 ]                              \n",
      "[ 7.       4.79361  4.61912]                              \n",
      "[ 8.       4.73525  4.54612]                              \n",
      "[ 9.       4.6693   4.49035]                              \n",
      "[ 10.        4.61561   4.44951]                           \n",
      "[ 11.        4.56439   4.4252 ]                           \n",
      "[ 12.        4.52582   4.40746]                           \n",
      "[ 13.        4.51422   4.40141]                           \n",
      "[ 14.        4.5033    4.39689]                           \n",
      "\n"
     ]
    },
    {
     "data": {
      "application/vnd.jupyter.widget-view+json": {
       "model_id": "ebffa39701924b628eb15c41f2c8cf0b",
       "version_major": 2,
       "version_minor": 0
      },
      "text/html": [
       "<p>Failed to display Jupyter Widget of type <code>HBox</code>.</p>\n",
       "<p>\n",
       "  If you're reading this message in the Jupyter Notebook or JupyterLab Notebook, it may mean\n",
       "  that the widgets JavaScript is still loading. If this message persists, it\n",
       "  likely means that the widgets JavaScript library is either not installed or\n",
       "  not enabled. See the <a href=\"https://ipywidgets.readthedocs.io/en/stable/user_install.html\">Jupyter\n",
       "  Widgets Documentation</a> for setup instructions.\n",
       "</p>\n",
       "<p>\n",
       "  If you're reading this message in another frontend (for example, a static\n",
       "  rendering on GitHub or <a href=\"https://nbviewer.jupyter.org/\">NBViewer</a>),\n",
       "  it may mean that your frontend doesn't currently support widgets.\n",
       "</p>\n"
      ],
      "text/plain": [
       "HBox(children=(IntProgress(value=0, description='Epoch', max=5), HTML(value='')))"
      ]
     },
     "metadata": {},
     "output_type": "display_data"
    },
    {
     "name": "stdout",
     "output_type": "stream",
     "text": [
      "[ 0.       4.53892  4.39614]                              \n",
      "[ 1.       4.50199  4.36064]                              \n",
      "[ 2.       4.45542  4.34377]                              \n",
      "[ 3.       4.43593  4.32579]                              \n",
      "[ 4.       4.39765  4.3231 ]                              \n",
      "\n"
     ]
    },
    {
     "data": {
      "application/vnd.jupyter.widget-view+json": {
       "model_id": "45aead3c5b444d6581cb8ad4e9c890d2",
       "version_major": 2,
       "version_minor": 0
      },
      "text/html": [
       "<p>Failed to display Jupyter Widget of type <code>HBox</code>.</p>\n",
       "<p>\n",
       "  If you're reading this message in the Jupyter Notebook or JupyterLab Notebook, it may mean\n",
       "  that the widgets JavaScript is still loading. If this message persists, it\n",
       "  likely means that the widgets JavaScript library is either not installed or\n",
       "  not enabled. See the <a href=\"https://ipywidgets.readthedocs.io/en/stable/user_install.html\">Jupyter\n",
       "  Widgets Documentation</a> for setup instructions.\n",
       "</p>\n",
       "<p>\n",
       "  If you're reading this message in another frontend (for example, a static\n",
       "  rendering on GitHub or <a href=\"https://nbviewer.jupyter.org/\">NBViewer</a>),\n",
       "  it may mean that your frontend doesn't currently support widgets.\n",
       "</p>\n"
      ],
      "text/plain": [
       "HBox(children=(IntProgress(value=0, description='Epoch', max=15), HTML(value='')))"
      ]
     },
     "metadata": {},
     "output_type": "display_data"
    },
    {
     "name": "stdout",
     "output_type": "stream",
     "text": [
      "[ 0.       5.67576  5.41005]                              \n",
      "[ 1.       5.3206   5.03289]                              \n",
      "[ 2.       5.1229   4.95329]                              \n",
      "[ 3.       5.00689  4.78175]                              \n",
      "[ 4.       4.87385  4.6765 ]                              \n",
      "[ 5.       4.78644  4.62281]                              \n",
      "[ 6.       4.74125  4.61237]                              \n",
      "[ 7.       4.73688  4.562  ]                              \n",
      "[ 8.       4.66841  4.49737]                              \n",
      "[ 9.       4.59591  4.44606]                              \n",
      "[ 10.        4.54627   4.41594]                           \n",
      "[ 11.        4.4992    4.38485]                           \n",
      "[ 12.        4.4671    4.36516]                           \n",
      "[ 13.        4.44259   4.36024]                           \n",
      "[ 14.        4.43415   4.36005]                           \n",
      "\n"
     ]
    },
    {
     "data": {
      "application/vnd.jupyter.widget-view+json": {
       "model_id": "52a59ec17a1049ba961317b95cd09a34",
       "version_major": 2,
       "version_minor": 0
      },
      "text/html": [
       "<p>Failed to display Jupyter Widget of type <code>HBox</code>.</p>\n",
       "<p>\n",
       "  If you're reading this message in the Jupyter Notebook or JupyterLab Notebook, it may mean\n",
       "  that the widgets JavaScript is still loading. If this message persists, it\n",
       "  likely means that the widgets JavaScript library is either not installed or\n",
       "  not enabled. See the <a href=\"https://ipywidgets.readthedocs.io/en/stable/user_install.html\">Jupyter\n",
       "  Widgets Documentation</a> for setup instructions.\n",
       "</p>\n",
       "<p>\n",
       "  If you're reading this message in another frontend (for example, a static\n",
       "  rendering on GitHub or <a href=\"https://nbviewer.jupyter.org/\">NBViewer</a>),\n",
       "  it may mean that your frontend doesn't currently support widgets.\n",
       "</p>\n"
      ],
      "text/plain": [
       "HBox(children=(IntProgress(value=0, description='Epoch', max=5), HTML(value='')))"
      ]
     },
     "metadata": {},
     "output_type": "display_data"
    },
    {
     "name": "stdout",
     "output_type": "stream",
     "text": [
      "[ 0.       4.46628  4.36755]                              \n",
      "[ 1.       4.43732  4.33296]                              \n",
      "[ 2.       4.40509  4.31167]                              \n",
      "[ 3.       4.3557   4.29547]                              \n",
      "[ 4.       4.34229  4.29404]                              \n",
      "\n"
     ]
    },
    {
     "data": {
      "application/vnd.jupyter.widget-view+json": {
       "model_id": "fb16933dd2d8452689dcc7741c1ec0a8",
       "version_major": 2,
       "version_minor": 0
      },
      "text/html": [
       "<p>Failed to display Jupyter Widget of type <code>HBox</code>.</p>\n",
       "<p>\n",
       "  If you're reading this message in the Jupyter Notebook or JupyterLab Notebook, it may mean\n",
       "  that the widgets JavaScript is still loading. If this message persists, it\n",
       "  likely means that the widgets JavaScript library is either not installed or\n",
       "  not enabled. See the <a href=\"https://ipywidgets.readthedocs.io/en/stable/user_install.html\">Jupyter\n",
       "  Widgets Documentation</a> for setup instructions.\n",
       "</p>\n",
       "<p>\n",
       "  If you're reading this message in another frontend (for example, a static\n",
       "  rendering on GitHub or <a href=\"https://nbviewer.jupyter.org/\">NBViewer</a>),\n",
       "  it may mean that your frontend doesn't currently support widgets.\n",
       "</p>\n"
      ],
      "text/plain": [
       "HBox(children=(IntProgress(value=0, description='Epoch', max=15), HTML(value='')))"
      ]
     },
     "metadata": {},
     "output_type": "display_data"
    },
    {
     "name": "stdout",
     "output_type": "stream",
     "text": [
      "[ 0.       5.67268  5.48689]                              \n",
      "[ 1.       5.36464  5.13133]                              \n",
      "[ 2.       5.16876  5.06198]                              \n",
      "[ 3.       5.0421   4.87848]                              \n",
      "[ 4.       4.91252  4.7812 ]                              \n",
      "[ 5.       4.82658  4.73497]                              \n",
      "[ 6.       4.77754  4.72661]                              \n",
      "[ 7.       4.77872  4.67735]                              \n",
      "[ 8.       4.7165   4.61579]                              \n",
      "[ 9.       4.64632  4.55916]                              \n",
      "[ 10.        4.59631   4.52534]                           \n",
      "[ 11.        4.5408    4.49902]                           \n",
      "[ 12.        4.50049   4.48201]                           \n",
      "[ 13.        4.47413   4.47474]                           \n",
      "[ 14.        4.46157   4.46954]                           \n",
      "\n"
     ]
    },
    {
     "data": {
      "application/vnd.jupyter.widget-view+json": {
       "model_id": "183e514e1fbc40c5b5d6117fbaf8c4ad",
       "version_major": 2,
       "version_minor": 0
      },
      "text/html": [
       "<p>Failed to display Jupyter Widget of type <code>HBox</code>.</p>\n",
       "<p>\n",
       "  If you're reading this message in the Jupyter Notebook or JupyterLab Notebook, it may mean\n",
       "  that the widgets JavaScript is still loading. If this message persists, it\n",
       "  likely means that the widgets JavaScript library is either not installed or\n",
       "  not enabled. See the <a href=\"https://ipywidgets.readthedocs.io/en/stable/user_install.html\">Jupyter\n",
       "  Widgets Documentation</a> for setup instructions.\n",
       "</p>\n",
       "<p>\n",
       "  If you're reading this message in another frontend (for example, a static\n",
       "  rendering on GitHub or <a href=\"https://nbviewer.jupyter.org/\">NBViewer</a>),\n",
       "  it may mean that your frontend doesn't currently support widgets.\n",
       "</p>\n"
      ],
      "text/plain": [
       "HBox(children=(IntProgress(value=0, description='Epoch', max=5), HTML(value='')))"
      ]
     },
     "metadata": {},
     "output_type": "display_data"
    },
    {
     "name": "stdout",
     "output_type": "stream",
     "text": [
      "[ 0.       4.49708  4.47715]                              \n",
      "[ 1.       4.455    4.44982]                              \n",
      "[ 2.       4.41217  4.41022]                              \n",
      "[ 3.       4.36101  4.39482]                              \n",
      "[ 4.       4.33713  4.3932 ]                              \n",
      "\n"
     ]
    },
    {
     "data": {
      "application/vnd.jupyter.widget-view+json": {
       "model_id": "1cfd31b1599644f5ac6eb85b05c3062f",
       "version_major": 2,
       "version_minor": 0
      },
      "text/html": [
       "<p>Failed to display Jupyter Widget of type <code>HBox</code>.</p>\n",
       "<p>\n",
       "  If you're reading this message in the Jupyter Notebook or JupyterLab Notebook, it may mean\n",
       "  that the widgets JavaScript is still loading. If this message persists, it\n",
       "  likely means that the widgets JavaScript library is either not installed or\n",
       "  not enabled. See the <a href=\"https://ipywidgets.readthedocs.io/en/stable/user_install.html\">Jupyter\n",
       "  Widgets Documentation</a> for setup instructions.\n",
       "</p>\n",
       "<p>\n",
       "  If you're reading this message in another frontend (for example, a static\n",
       "  rendering on GitHub or <a href=\"https://nbviewer.jupyter.org/\">NBViewer</a>),\n",
       "  it may mean that your frontend doesn't currently support widgets.\n",
       "</p>\n"
      ],
      "text/plain": [
       "HBox(children=(IntProgress(value=0, description='Epoch', max=15), HTML(value='')))"
      ]
     },
     "metadata": {},
     "output_type": "display_data"
    },
    {
     "name": "stdout",
     "output_type": "stream",
     "text": [
      "[ 0.       5.72586  5.48125]                              \n",
      "[ 1.       5.57141  5.42654]                              \n",
      "[ 2.       5.41665  5.27975]                              \n",
      "[ 3.       5.28031  5.05667]                              \n",
      "[ 4.       5.12536  4.93091]                              \n",
      "[ 5.       5.00469  4.85743]                              \n",
      "[ 6.       4.94996  4.84287]                              \n",
      "[ 7.       4.91415  4.7715 ]                              \n",
      "[ 8.       4.83186  4.68191]                              \n",
      "[ 9.       4.75931  4.62647]                              \n",
      "[ 10.        4.68696   4.57955]                           \n",
      "[ 11.        4.64424   4.54601]                           \n",
      "[ 12.        4.59898   4.5227 ]                           \n",
      "[ 13.        4.5796    4.51147]                           \n",
      "[ 14.        4.55852   4.51319]                           \n",
      "\n"
     ]
    },
    {
     "data": {
      "application/vnd.jupyter.widget-view+json": {
       "model_id": "576205847ea04533aab29fc6c50b980b",
       "version_major": 2,
       "version_minor": 0
      },
      "text/html": [
       "<p>Failed to display Jupyter Widget of type <code>HBox</code>.</p>\n",
       "<p>\n",
       "  If you're reading this message in the Jupyter Notebook or JupyterLab Notebook, it may mean\n",
       "  that the widgets JavaScript is still loading. If this message persists, it\n",
       "  likely means that the widgets JavaScript library is either not installed or\n",
       "  not enabled. See the <a href=\"https://ipywidgets.readthedocs.io/en/stable/user_install.html\">Jupyter\n",
       "  Widgets Documentation</a> for setup instructions.\n",
       "</p>\n",
       "<p>\n",
       "  If you're reading this message in another frontend (for example, a static\n",
       "  rendering on GitHub or <a href=\"https://nbviewer.jupyter.org/\">NBViewer</a>),\n",
       "  it may mean that your frontend doesn't currently support widgets.\n",
       "</p>\n"
      ],
      "text/plain": [
       "HBox(children=(IntProgress(value=0, description='Epoch', max=5), HTML(value='')))"
      ]
     },
     "metadata": {},
     "output_type": "display_data"
    },
    {
     "name": "stdout",
     "output_type": "stream",
     "text": [
      "[ 0.       4.59458  4.51239]                              \n",
      "[ 1.       4.55873  4.47039]                              \n",
      "[ 2.       4.50436  4.43981]                              \n",
      "[ 3.       4.45025  4.41377]                              \n",
      "[ 4.       4.42696  4.4118 ]                              \n",
      "\n"
     ]
    },
    {
     "data": {
      "application/vnd.jupyter.widget-view+json": {
       "model_id": "403a42b8f292402ca9cc61c94984b4d6",
       "version_major": 2,
       "version_minor": 0
      },
      "text/html": [
       "<p>Failed to display Jupyter Widget of type <code>HBox</code>.</p>\n",
       "<p>\n",
       "  If you're reading this message in the Jupyter Notebook or JupyterLab Notebook, it may mean\n",
       "  that the widgets JavaScript is still loading. If this message persists, it\n",
       "  likely means that the widgets JavaScript library is either not installed or\n",
       "  not enabled. See the <a href=\"https://ipywidgets.readthedocs.io/en/stable/user_install.html\">Jupyter\n",
       "  Widgets Documentation</a> for setup instructions.\n",
       "</p>\n",
       "<p>\n",
       "  If you're reading this message in another frontend (for example, a static\n",
       "  rendering on GitHub or <a href=\"https://nbviewer.jupyter.org/\">NBViewer</a>),\n",
       "  it may mean that your frontend doesn't currently support widgets.\n",
       "</p>\n"
      ],
      "text/plain": [
       "HBox(children=(IntProgress(value=0, description='Epoch', max=15), HTML(value='')))"
      ]
     },
     "metadata": {},
     "output_type": "display_data"
    },
    {
     "name": "stdout",
     "output_type": "stream",
     "text": [
      "[ 0.       5.681    5.47076]                              \n",
      "[ 1.       5.3795   5.12892]                              \n",
      "[ 2.      5.2079  5.0738]                                 \n",
      "[ 3.       5.11412  4.91876]                              \n",
      "[ 4.       4.96953  4.79632]                              \n",
      "[ 5.       4.86993  4.74324]                              \n",
      "[ 6.       4.82594  4.73194]                              \n",
      "[ 7.       4.81013  4.67277]                              \n",
      "[ 8.       4.72819  4.59613]                              \n",
      "[ 9.       4.66135  4.55247]                              \n",
      "[ 10.        4.59308   4.5037 ]                           \n",
      "[ 11.        4.54101   4.47324]                           \n",
      "[ 12.        4.49913   4.45744]                           \n",
      "[ 13.        4.47257   4.44828]                           \n",
      "[ 14.        4.46184   4.44756]                           \n",
      "\n"
     ]
    },
    {
     "data": {
      "application/vnd.jupyter.widget-view+json": {
       "model_id": "027b2dc6eebd4e9e8cde3cf188b09976",
       "version_major": 2,
       "version_minor": 0
      },
      "text/html": [
       "<p>Failed to display Jupyter Widget of type <code>HBox</code>.</p>\n",
       "<p>\n",
       "  If you're reading this message in the Jupyter Notebook or JupyterLab Notebook, it may mean\n",
       "  that the widgets JavaScript is still loading. If this message persists, it\n",
       "  likely means that the widgets JavaScript library is either not installed or\n",
       "  not enabled. See the <a href=\"https://ipywidgets.readthedocs.io/en/stable/user_install.html\">Jupyter\n",
       "  Widgets Documentation</a> for setup instructions.\n",
       "</p>\n",
       "<p>\n",
       "  If you're reading this message in another frontend (for example, a static\n",
       "  rendering on GitHub or <a href=\"https://nbviewer.jupyter.org/\">NBViewer</a>),\n",
       "  it may mean that your frontend doesn't currently support widgets.\n",
       "</p>\n"
      ],
      "text/plain": [
       "HBox(children=(IntProgress(value=0, description='Epoch', max=5), HTML(value='')))"
      ]
     },
     "metadata": {},
     "output_type": "display_data"
    },
    {
     "name": "stdout",
     "output_type": "stream",
     "text": [
      "[ 0.       4.49731  4.44843]                              \n",
      "[ 1.       4.46057  4.41884]                              \n",
      "[ 2.       4.40736  4.38672]                              \n",
      "[ 3.       4.35202  4.36674]                              \n",
      "[ 4.       4.32698  4.36419]                              \n",
      "\n"
     ]
    },
    {
     "data": {
      "application/vnd.jupyter.widget-view+json": {
       "model_id": "764456e9fcc54310a1cba8271f58a8bf",
       "version_major": 2,
       "version_minor": 0
      },
      "text/html": [
       "<p>Failed to display Jupyter Widget of type <code>HBox</code>.</p>\n",
       "<p>\n",
       "  If you're reading this message in the Jupyter Notebook or JupyterLab Notebook, it may mean\n",
       "  that the widgets JavaScript is still loading. If this message persists, it\n",
       "  likely means that the widgets JavaScript library is either not installed or\n",
       "  not enabled. See the <a href=\"https://ipywidgets.readthedocs.io/en/stable/user_install.html\">Jupyter\n",
       "  Widgets Documentation</a> for setup instructions.\n",
       "</p>\n",
       "<p>\n",
       "  If you're reading this message in another frontend (for example, a static\n",
       "  rendering on GitHub or <a href=\"https://nbviewer.jupyter.org/\">NBViewer</a>),\n",
       "  it may mean that your frontend doesn't currently support widgets.\n",
       "</p>\n"
      ],
      "text/plain": [
       "HBox(children=(IntProgress(value=0, description='Epoch', max=15), HTML(value='')))"
      ]
     },
     "metadata": {},
     "output_type": "display_data"
    },
    {
     "name": "stdout",
     "output_type": "stream",
     "text": [
      "[ 0.       5.67072  5.44996]                              \n",
      "[ 1.       5.32371  5.07103]                              \n",
      "[ 2.       5.13332  4.99704]                              \n",
      "[ 3.       5.01993  4.82826]                              \n",
      "[ 4.       4.88561  4.72298]                              \n",
      "[ 5.       4.79925  4.6623 ]                              \n",
      "[ 6.       4.75763  4.65353]                              \n",
      "[ 7.       4.74364  4.60961]                              \n",
      "[ 8.       4.6846   4.55294]                              \n",
      "[ 9.       4.62952  4.49422]                              \n",
      "[ 10.        4.57443   4.45538]                           \n",
      "[ 11.        4.52906   4.42961]                           \n",
      "[ 12.        4.49012   4.40556]                           \n",
      "[ 13.        4.46384   4.40191]                           \n",
      "[ 14.        4.44385   4.39755]                           \n",
      "\n"
     ]
    },
    {
     "data": {
      "application/vnd.jupyter.widget-view+json": {
       "model_id": "b751e6f80860417ca0d456c13e7bcd4f",
       "version_major": 2,
       "version_minor": 0
      },
      "text/html": [
       "<p>Failed to display Jupyter Widget of type <code>HBox</code>.</p>\n",
       "<p>\n",
       "  If you're reading this message in the Jupyter Notebook or JupyterLab Notebook, it may mean\n",
       "  that the widgets JavaScript is still loading. If this message persists, it\n",
       "  likely means that the widgets JavaScript library is either not installed or\n",
       "  not enabled. See the <a href=\"https://ipywidgets.readthedocs.io/en/stable/user_install.html\">Jupyter\n",
       "  Widgets Documentation</a> for setup instructions.\n",
       "</p>\n",
       "<p>\n",
       "  If you're reading this message in another frontend (for example, a static\n",
       "  rendering on GitHub or <a href=\"https://nbviewer.jupyter.org/\">NBViewer</a>),\n",
       "  it may mean that your frontend doesn't currently support widgets.\n",
       "</p>\n"
      ],
      "text/plain": [
       "HBox(children=(IntProgress(value=0, description='Epoch', max=5), HTML(value='')))"
      ]
     },
     "metadata": {},
     "output_type": "display_data"
    },
    {
     "name": "stdout",
     "output_type": "stream",
     "text": [
      "[ 0.       4.48834  4.41146]                              \n",
      "[ 1.       4.46157  4.37612]                              \n",
      "[ 2.       4.42252  4.34893]                              \n",
      "[ 3.       4.38325  4.33007]                              \n",
      "[ 4.       4.35105  4.33034]                              \n",
      "\n"
     ]
    },
    {
     "data": {
      "application/vnd.jupyter.widget-view+json": {
       "model_id": "c6d84b0d71bc49e492c46c2b85c27937",
       "version_major": 2,
       "version_minor": 0
      },
      "text/html": [
       "<p>Failed to display Jupyter Widget of type <code>HBox</code>.</p>\n",
       "<p>\n",
       "  If you're reading this message in the Jupyter Notebook or JupyterLab Notebook, it may mean\n",
       "  that the widgets JavaScript is still loading. If this message persists, it\n",
       "  likely means that the widgets JavaScript library is either not installed or\n",
       "  not enabled. See the <a href=\"https://ipywidgets.readthedocs.io/en/stable/user_install.html\">Jupyter\n",
       "  Widgets Documentation</a> for setup instructions.\n",
       "</p>\n",
       "<p>\n",
       "  If you're reading this message in another frontend (for example, a static\n",
       "  rendering on GitHub or <a href=\"https://nbviewer.jupyter.org/\">NBViewer</a>),\n",
       "  it may mean that your frontend doesn't currently support widgets.\n",
       "</p>\n"
      ],
      "text/plain": [
       "HBox(children=(IntProgress(value=0, description='Epoch', max=15), HTML(value='')))"
      ]
     },
     "metadata": {},
     "output_type": "display_data"
    },
    {
     "name": "stdout",
     "output_type": "stream",
     "text": [
      "[ 0.       5.7338   5.49251]                              \n",
      "[ 1.       5.42274  5.12737]                              \n",
      "[ 2.       5.21891  5.04939]                              \n",
      "[ 3.       5.1047   4.86445]                              \n",
      "[ 4.       4.96627  4.75278]                              \n",
      "[ 5.       4.87938  4.71017]                              \n",
      "[ 6.       4.83224  4.69423]                              \n",
      "[ 7.       4.8244   4.63741]                              \n",
      "[ 8.       4.76367  4.56972]                              \n",
      "[ 9.       4.6947   4.51607]                              \n",
      "[ 10.        4.64091   4.47611]                           \n",
      "[ 11.        4.58422   4.44207]                           \n",
      "[ 12.        4.54433   4.42598]                           \n",
      "[ 13.        4.52496   4.41643]                           \n",
      "[ 14.        4.51803   4.41445]                           \n",
      "\n"
     ]
    },
    {
     "data": {
      "application/vnd.jupyter.widget-view+json": {
       "model_id": "59165eb0c18742c5b8e86d369c79e71a",
       "version_major": 2,
       "version_minor": 0
      },
      "text/html": [
       "<p>Failed to display Jupyter Widget of type <code>HBox</code>.</p>\n",
       "<p>\n",
       "  If you're reading this message in the Jupyter Notebook or JupyterLab Notebook, it may mean\n",
       "  that the widgets JavaScript is still loading. If this message persists, it\n",
       "  likely means that the widgets JavaScript library is either not installed or\n",
       "  not enabled. See the <a href=\"https://ipywidgets.readthedocs.io/en/stable/user_install.html\">Jupyter\n",
       "  Widgets Documentation</a> for setup instructions.\n",
       "</p>\n",
       "<p>\n",
       "  If you're reading this message in another frontend (for example, a static\n",
       "  rendering on GitHub or <a href=\"https://nbviewer.jupyter.org/\">NBViewer</a>),\n",
       "  it may mean that your frontend doesn't currently support widgets.\n",
       "</p>\n"
      ],
      "text/plain": [
       "HBox(children=(IntProgress(value=0, description='Epoch', max=5), HTML(value='')))"
      ]
     },
     "metadata": {},
     "output_type": "display_data"
    },
    {
     "name": "stdout",
     "output_type": "stream",
     "text": [
      "[ 0.       4.5555   4.42062]                              \n",
      "[ 1.       4.51083  4.39266]                              \n",
      "[ 2.       4.47307  4.36207]                              \n",
      "[ 3.       4.43985  4.34558]                              \n",
      "[ 4.       4.41434  4.34096]                              \n",
      "\n"
     ]
    },
    {
     "data": {
      "application/vnd.jupyter.widget-view+json": {
       "model_id": "a6a68955d4154c55859e4e3350966088",
       "version_major": 2,
       "version_minor": 0
      },
      "text/html": [
       "<p>Failed to display Jupyter Widget of type <code>HBox</code>.</p>\n",
       "<p>\n",
       "  If you're reading this message in the Jupyter Notebook or JupyterLab Notebook, it may mean\n",
       "  that the widgets JavaScript is still loading. If this message persists, it\n",
       "  likely means that the widgets JavaScript library is either not installed or\n",
       "  not enabled. See the <a href=\"https://ipywidgets.readthedocs.io/en/stable/user_install.html\">Jupyter\n",
       "  Widgets Documentation</a> for setup instructions.\n",
       "</p>\n",
       "<p>\n",
       "  If you're reading this message in another frontend (for example, a static\n",
       "  rendering on GitHub or <a href=\"https://nbviewer.jupyter.org/\">NBViewer</a>),\n",
       "  it may mean that your frontend doesn't currently support widgets.\n",
       "</p>\n"
      ],
      "text/plain": [
       "HBox(children=(IntProgress(value=0, description='Epoch', max=15), HTML(value='')))"
      ]
     },
     "metadata": {},
     "output_type": "display_data"
    },
    {
     "name": "stdout",
     "output_type": "stream",
     "text": [
      "[ 0.       5.66919  5.40698]                              \n",
      "[ 1.       5.59624  5.48054]                              \n",
      "[ 2.       5.555    5.46929]                              \n",
      "[ 3.       5.55369  5.47039]                              \n",
      "[ 4.       5.45067  5.22104]                              \n",
      "[ 5.       5.29088  5.10775]                              \n",
      "[ 6.       5.21633  5.08806]                              \n",
      "[ 7.       5.15392  4.92787]                              \n",
      "[ 8.       5.00302  4.79048]                              \n",
      "[ 9.       4.90449  4.71505]                              \n",
      "[ 10.        4.83727   4.65812]                           \n",
      "[ 11.        4.78469   4.62352]                           \n",
      "[ 12.        4.74725   4.59684]                           \n",
      "[ 13.        4.72026   4.58472]                           \n",
      "[ 14.       4.7184   4.5822]                              \n",
      "\n"
     ]
    },
    {
     "data": {
      "application/vnd.jupyter.widget-view+json": {
       "model_id": "b2fa4d4d7e0a492793083ff39b6435f0",
       "version_major": 2,
       "version_minor": 0
      },
      "text/html": [
       "<p>Failed to display Jupyter Widget of type <code>HBox</code>.</p>\n",
       "<p>\n",
       "  If you're reading this message in the Jupyter Notebook or JupyterLab Notebook, it may mean\n",
       "  that the widgets JavaScript is still loading. If this message persists, it\n",
       "  likely means that the widgets JavaScript library is either not installed or\n",
       "  not enabled. See the <a href=\"https://ipywidgets.readthedocs.io/en/stable/user_install.html\">Jupyter\n",
       "  Widgets Documentation</a> for setup instructions.\n",
       "</p>\n",
       "<p>\n",
       "  If you're reading this message in another frontend (for example, a static\n",
       "  rendering on GitHub or <a href=\"https://nbviewer.jupyter.org/\">NBViewer</a>),\n",
       "  it may mean that your frontend doesn't currently support widgets.\n",
       "</p>\n"
      ],
      "text/plain": [
       "HBox(children=(IntProgress(value=0, description='Epoch', max=5), HTML(value='')))"
      ]
     },
     "metadata": {},
     "output_type": "display_data"
    },
    {
     "name": "stdout",
     "output_type": "stream",
     "text": [
      "[ 0.       4.73456  4.58031]                              \n",
      "[ 1.       4.67452  4.51345]                              \n",
      "[ 2.       4.63425  4.47747]                              \n",
      "[ 3.       4.58922  4.45685]                              \n",
      "[ 4.       4.5666   4.45346]                              \n",
      "\n"
     ]
    },
    {
     "data": {
      "application/vnd.jupyter.widget-view+json": {
       "model_id": "03fad27c48624d409d8dd1dee91f83a0",
       "version_major": 2,
       "version_minor": 0
      },
      "text/html": [
       "<p>Failed to display Jupyter Widget of type <code>HBox</code>.</p>\n",
       "<p>\n",
       "  If you're reading this message in the Jupyter Notebook or JupyterLab Notebook, it may mean\n",
       "  that the widgets JavaScript is still loading. If this message persists, it\n",
       "  likely means that the widgets JavaScript library is either not installed or\n",
       "  not enabled. See the <a href=\"https://ipywidgets.readthedocs.io/en/stable/user_install.html\">Jupyter\n",
       "  Widgets Documentation</a> for setup instructions.\n",
       "</p>\n",
       "<p>\n",
       "  If you're reading this message in another frontend (for example, a static\n",
       "  rendering on GitHub or <a href=\"https://nbviewer.jupyter.org/\">NBViewer</a>),\n",
       "  it may mean that your frontend doesn't currently support widgets.\n",
       "</p>\n"
      ],
      "text/plain": [
       "HBox(children=(IntProgress(value=0, description='Epoch', max=15), HTML(value='')))"
      ]
     },
     "metadata": {},
     "output_type": "display_data"
    },
    {
     "name": "stdout",
     "output_type": "stream",
     "text": [
      "[ 0.       5.68881  5.56947]                              \n",
      "[ 1.       5.57386  5.45315]                              \n",
      "[ 2.       5.40724  5.28747]                              \n",
      "[ 3.       5.20805  5.01296]                              \n",
      "[ 4.       4.97886  4.80745]                              \n",
      "[ 5.       4.85145  4.74952]                              \n",
      "[ 6.       4.79776  4.73367]                              \n",
      "[ 7.       4.78142  4.68093]                              \n",
      "[ 8.       4.69772  4.59346]                              \n",
      "[ 9.       4.61627  4.53578]                              \n",
      "[ 10.        4.55275   4.5055 ]                           \n",
      "[ 11.        4.49417   4.46249]                           \n",
      "[ 12.        4.44087   4.44182]                           \n",
      "[ 13.        4.40671   4.42971]                           \n",
      "[ 14.        4.385     4.42779]                           \n",
      "\n"
     ]
    },
    {
     "data": {
      "application/vnd.jupyter.widget-view+json": {
       "model_id": "b6ce48b82f5c4f2891536251a0bc3c61",
       "version_major": 2,
       "version_minor": 0
      },
      "text/html": [
       "<p>Failed to display Jupyter Widget of type <code>HBox</code>.</p>\n",
       "<p>\n",
       "  If you're reading this message in the Jupyter Notebook or JupyterLab Notebook, it may mean\n",
       "  that the widgets JavaScript is still loading. If this message persists, it\n",
       "  likely means that the widgets JavaScript library is either not installed or\n",
       "  not enabled. See the <a href=\"https://ipywidgets.readthedocs.io/en/stable/user_install.html\">Jupyter\n",
       "  Widgets Documentation</a> for setup instructions.\n",
       "</p>\n",
       "<p>\n",
       "  If you're reading this message in another frontend (for example, a static\n",
       "  rendering on GitHub or <a href=\"https://nbviewer.jupyter.org/\">NBViewer</a>),\n",
       "  it may mean that your frontend doesn't currently support widgets.\n",
       "</p>\n"
      ],
      "text/plain": [
       "HBox(children=(IntProgress(value=0, description='Epoch', max=5), HTML(value='')))"
      ]
     },
     "metadata": {},
     "output_type": "display_data"
    },
    {
     "name": "stdout",
     "output_type": "stream",
     "text": [
      "[ 0.       4.43337  4.43271]                              \n",
      "[ 1.       4.38756  4.39982]                              \n",
      "[ 2.       4.30973  4.37593]                              \n",
      "[ 3.       4.23121  4.36513]                              \n",
      "[ 4.       4.17923  4.36078]                              \n",
      "\n"
     ]
    },
    {
     "data": {
      "application/vnd.jupyter.widget-view+json": {
       "model_id": "2bfe2c430b4b4beeaa1e47c87d9847b9",
       "version_major": 2,
       "version_minor": 0
      },
      "text/html": [
       "<p>Failed to display Jupyter Widget of type <code>HBox</code>.</p>\n",
       "<p>\n",
       "  If you're reading this message in the Jupyter Notebook or JupyterLab Notebook, it may mean\n",
       "  that the widgets JavaScript is still loading. If this message persists, it\n",
       "  likely means that the widgets JavaScript library is either not installed or\n",
       "  not enabled. See the <a href=\"https://ipywidgets.readthedocs.io/en/stable/user_install.html\">Jupyter\n",
       "  Widgets Documentation</a> for setup instructions.\n",
       "</p>\n",
       "<p>\n",
       "  If you're reading this message in another frontend (for example, a static\n",
       "  rendering on GitHub or <a href=\"https://nbviewer.jupyter.org/\">NBViewer</a>),\n",
       "  it may mean that your frontend doesn't currently support widgets.\n",
       "</p>\n"
      ],
      "text/plain": [
       "HBox(children=(IntProgress(value=0, description='Epoch', max=15), HTML(value='')))"
      ]
     },
     "metadata": {},
     "output_type": "display_data"
    },
    {
     "name": "stdout",
     "output_type": "stream",
     "text": [
      "[ 0.       5.70758  5.49922]                              \n",
      "[ 1.       5.61497  5.48933]                              \n",
      "[ 2.       5.49735  5.35284]                              \n",
      "[ 3.       5.29407  4.99785]                              \n",
      "[ 4.       5.04028  4.8181 ]                              \n",
      "[ 5.       4.91404  4.78034]                              \n",
      "[ 6.       4.87638  4.75747]                              \n",
      "[ 7.       4.83714  4.6883 ]                              \n",
      "[ 8.       4.75869  4.61238]                              \n",
      "[ 9.       4.6781   4.54919]                              \n",
      "[ 10.        4.60712   4.49602]                           \n",
      "[ 11.        4.53888   4.46272]                           \n",
      "[ 12.        4.48857   4.44235]                           \n",
      "[ 13.        4.45605   4.42884]                           \n",
      "[ 14.        4.43861   4.42511]                           \n",
      "\n"
     ]
    },
    {
     "data": {
      "application/vnd.jupyter.widget-view+json": {
       "model_id": "226ed1434f074c0ba41260b347fcd368",
       "version_major": 2,
       "version_minor": 0
      },
      "text/html": [
       "<p>Failed to display Jupyter Widget of type <code>HBox</code>.</p>\n",
       "<p>\n",
       "  If you're reading this message in the Jupyter Notebook or JupyterLab Notebook, it may mean\n",
       "  that the widgets JavaScript is still loading. If this message persists, it\n",
       "  likely means that the widgets JavaScript library is either not installed or\n",
       "  not enabled. See the <a href=\"https://ipywidgets.readthedocs.io/en/stable/user_install.html\">Jupyter\n",
       "  Widgets Documentation</a> for setup instructions.\n",
       "</p>\n",
       "<p>\n",
       "  If you're reading this message in another frontend (for example, a static\n",
       "  rendering on GitHub or <a href=\"https://nbviewer.jupyter.org/\">NBViewer</a>),\n",
       "  it may mean that your frontend doesn't currently support widgets.\n",
       "</p>\n"
      ],
      "text/plain": [
       "HBox(children=(IntProgress(value=0, description='Epoch', max=5), HTML(value='')))"
      ]
     },
     "metadata": {},
     "output_type": "display_data"
    },
    {
     "name": "stdout",
     "output_type": "stream",
     "text": [
      "[ 0.       4.4822   4.43301]                              \n",
      "[ 1.       4.42868  4.38916]                              \n",
      "[ 2.       4.34929  4.36253]                              \n",
      "[ 3.       4.27912  4.35016]                              \n",
      "[ 4.       4.21608  4.34947]                              \n",
      "\n"
     ]
    },
    {
     "data": {
      "application/vnd.jupyter.widget-view+json": {
       "model_id": "382c12d6820e4e0092069114d1c8f3f6",
       "version_major": 2,
       "version_minor": 0
      },
      "text/html": [
       "<p>Failed to display Jupyter Widget of type <code>HBox</code>.</p>\n",
       "<p>\n",
       "  If you're reading this message in the Jupyter Notebook or JupyterLab Notebook, it may mean\n",
       "  that the widgets JavaScript is still loading. If this message persists, it\n",
       "  likely means that the widgets JavaScript library is either not installed or\n",
       "  not enabled. See the <a href=\"https://ipywidgets.readthedocs.io/en/stable/user_install.html\">Jupyter\n",
       "  Widgets Documentation</a> for setup instructions.\n",
       "</p>\n",
       "<p>\n",
       "  If you're reading this message in another frontend (for example, a static\n",
       "  rendering on GitHub or <a href=\"https://nbviewer.jupyter.org/\">NBViewer</a>),\n",
       "  it may mean that your frontend doesn't currently support widgets.\n",
       "</p>\n"
      ],
      "text/plain": [
       "HBox(children=(IntProgress(value=0, description='Epoch', max=15), HTML(value='')))"
      ]
     },
     "metadata": {},
     "output_type": "display_data"
    },
    {
     "name": "stdout",
     "output_type": "stream",
     "text": [
      "[ 0.       5.70981  5.48573]                              \n",
      "[ 1.       5.61367  5.75771]                              \n",
      "[ 2.       5.5482   5.45221]                              \n",
      "[ 3.       5.33582  5.02659]                              \n",
      "[ 4.       5.06838  4.87259]                              \n",
      "[ 5.       4.91965  4.76968]                              \n",
      "[ 6.       4.85952  4.76311]                              \n",
      "[ 7.       4.83183  4.69082]                              \n",
      "[ 8.       4.75218  4.59988]                              \n",
      "[ 9.       4.66471  4.54018]                              \n",
      "[ 10.        4.5969    4.49334]                           \n",
      "[ 11.        4.5332    4.45765]                           \n",
      "[ 12.        4.48624   4.43241]                           \n",
      "[ 13.        4.46246   4.41986]                           \n",
      "[ 14.        4.4388    4.42028]                           \n",
      "\n"
     ]
    },
    {
     "data": {
      "application/vnd.jupyter.widget-view+json": {
       "model_id": "6adc8e4a77754d53bb35d269909a7f99",
       "version_major": 2,
       "version_minor": 0
      },
      "text/html": [
       "<p>Failed to display Jupyter Widget of type <code>HBox</code>.</p>\n",
       "<p>\n",
       "  If you're reading this message in the Jupyter Notebook or JupyterLab Notebook, it may mean\n",
       "  that the widgets JavaScript is still loading. If this message persists, it\n",
       "  likely means that the widgets JavaScript library is either not installed or\n",
       "  not enabled. See the <a href=\"https://ipywidgets.readthedocs.io/en/stable/user_install.html\">Jupyter\n",
       "  Widgets Documentation</a> for setup instructions.\n",
       "</p>\n",
       "<p>\n",
       "  If you're reading this message in another frontend (for example, a static\n",
       "  rendering on GitHub or <a href=\"https://nbviewer.jupyter.org/\">NBViewer</a>),\n",
       "  it may mean that your frontend doesn't currently support widgets.\n",
       "</p>\n"
      ],
      "text/plain": [
       "HBox(children=(IntProgress(value=0, description='Epoch', max=5), HTML(value='')))"
      ]
     },
     "metadata": {},
     "output_type": "display_data"
    },
    {
     "name": "stdout",
     "output_type": "stream",
     "text": [
      "[ 0.       4.46894  4.43544]                              \n",
      "[ 1.       4.43237  4.3799 ]                              \n",
      "[ 2.       4.35932  4.34688]                              \n",
      "[ 3.       4.29771  4.3262 ]                              \n",
      "[ 4.       4.25757  4.32307]                              \n",
      "\n"
     ]
    },
    {
     "data": {
      "application/vnd.jupyter.widget-view+json": {
       "model_id": "6ad0232726274ac68097fec9b17722a2",
       "version_major": 2,
       "version_minor": 0
      },
      "text/html": [
       "<p>Failed to display Jupyter Widget of type <code>HBox</code>.</p>\n",
       "<p>\n",
       "  If you're reading this message in the Jupyter Notebook or JupyterLab Notebook, it may mean\n",
       "  that the widgets JavaScript is still loading. If this message persists, it\n",
       "  likely means that the widgets JavaScript library is either not installed or\n",
       "  not enabled. See the <a href=\"https://ipywidgets.readthedocs.io/en/stable/user_install.html\">Jupyter\n",
       "  Widgets Documentation</a> for setup instructions.\n",
       "</p>\n",
       "<p>\n",
       "  If you're reading this message in another frontend (for example, a static\n",
       "  rendering on GitHub or <a href=\"https://nbviewer.jupyter.org/\">NBViewer</a>),\n",
       "  it may mean that your frontend doesn't currently support widgets.\n",
       "</p>\n"
      ],
      "text/plain": [
       "HBox(children=(IntProgress(value=0, description='Epoch', max=15), HTML(value='')))"
      ]
     },
     "metadata": {},
     "output_type": "display_data"
    },
    {
     "name": "stdout",
     "output_type": "stream",
     "text": [
      "[ 0.       5.74277  5.89312]                              \n",
      "[ 1.       5.50031  5.25809]                              \n",
      "[ 2.       5.28715  5.15435]                              \n",
      "[ 3.       5.17527  4.99016]                              \n",
      "[ 4.       5.02778  4.84999]                              \n",
      "[ 5.       4.92057  4.78646]                              \n",
      "[ 6.       4.88274  4.78022]                              \n",
      "[ 7.       4.86601  4.71924]                              \n",
      "[ 8.       4.80049  4.64961]                              \n",
      "[ 9.       4.73736  4.59188]                              \n",
      "[ 10.        4.68002   4.54934]                           \n",
      "[ 11.        4.63066   4.51639]                           \n",
      "[ 12.        4.59328   4.49177]                           \n",
      "[ 13.        4.57323   4.4806 ]                           \n",
      "[ 14.        4.56869   4.48071]                           \n",
      "\n"
     ]
    },
    {
     "data": {
      "application/vnd.jupyter.widget-view+json": {
       "model_id": "9e927e4b040c44e596d7d8bb963c47fe",
       "version_major": 2,
       "version_minor": 0
      },
      "text/html": [
       "<p>Failed to display Jupyter Widget of type <code>HBox</code>.</p>\n",
       "<p>\n",
       "  If you're reading this message in the Jupyter Notebook or JupyterLab Notebook, it may mean\n",
       "  that the widgets JavaScript is still loading. If this message persists, it\n",
       "  likely means that the widgets JavaScript library is either not installed or\n",
       "  not enabled. See the <a href=\"https://ipywidgets.readthedocs.io/en/stable/user_install.html\">Jupyter\n",
       "  Widgets Documentation</a> for setup instructions.\n",
       "</p>\n",
       "<p>\n",
       "  If you're reading this message in another frontend (for example, a static\n",
       "  rendering on GitHub or <a href=\"https://nbviewer.jupyter.org/\">NBViewer</a>),\n",
       "  it may mean that your frontend doesn't currently support widgets.\n",
       "</p>\n"
      ],
      "text/plain": [
       "HBox(children=(IntProgress(value=0, description='Epoch', max=5), HTML(value='')))"
      ]
     },
     "metadata": {},
     "output_type": "display_data"
    },
    {
     "name": "stdout",
     "output_type": "stream",
     "text": [
      "[ 0.       4.57994  4.4745 ]                              \n",
      "[ 1.       4.54777  4.43352]                              \n",
      "[ 2.       4.52455  4.49031]                              \n",
      "[ 3.       4.50843  4.3841 ]                              \n",
      "[ 4.       4.477    4.37988]                              \n",
      "\n"
     ]
    },
    {
     "data": {
      "application/vnd.jupyter.widget-view+json": {
       "model_id": "652867f15d9941019ec80805eec65ec6",
       "version_major": 2,
       "version_minor": 0
      },
      "text/html": [
       "<p>Failed to display Jupyter Widget of type <code>HBox</code>.</p>\n",
       "<p>\n",
       "  If you're reading this message in the Jupyter Notebook or JupyterLab Notebook, it may mean\n",
       "  that the widgets JavaScript is still loading. If this message persists, it\n",
       "  likely means that the widgets JavaScript library is either not installed or\n",
       "  not enabled. See the <a href=\"https://ipywidgets.readthedocs.io/en/stable/user_install.html\">Jupyter\n",
       "  Widgets Documentation</a> for setup instructions.\n",
       "</p>\n",
       "<p>\n",
       "  If you're reading this message in another frontend (for example, a static\n",
       "  rendering on GitHub or <a href=\"https://nbviewer.jupyter.org/\">NBViewer</a>),\n",
       "  it may mean that your frontend doesn't currently support widgets.\n",
       "</p>\n"
      ],
      "text/plain": [
       "HBox(children=(IntProgress(value=0, description='Epoch', max=15), HTML(value='')))"
      ]
     },
     "metadata": {},
     "output_type": "display_data"
    },
    {
     "name": "stdout",
     "output_type": "stream",
     "text": [
      "[ 0.       5.77245  6.10504]                              \n",
      "[ 1.       5.53296  5.24571]                              \n",
      "[ 2.       5.33298  5.15407]                              \n",
      "[ 3.       5.20673  4.97289]                              \n",
      "[ 4.       5.06617  4.84166]                              \n",
      "[ 5.       4.96096  4.78659]                              \n",
      "[ 6.       4.91458  4.77423]                              \n",
      "[ 7.       4.89931  4.72139]                              \n",
      "[ 8.       4.83028  4.64379]                              \n",
      "[ 9.       4.76667  4.58501]                              \n",
      "[ 10.        4.72209   4.54665]                           \n",
      "[ 11.        4.66757   4.51554]                           \n",
      "[ 12.        4.63471   4.49431]                           \n",
      "[ 13.        4.61149   4.48208]                           \n",
      "[ 14.        4.59776   4.47941]                           \n",
      "\n"
     ]
    },
    {
     "data": {
      "application/vnd.jupyter.widget-view+json": {
       "model_id": "3ba657a8f57349a6bfcbded3bb454994",
       "version_major": 2,
       "version_minor": 0
      },
      "text/html": [
       "<p>Failed to display Jupyter Widget of type <code>HBox</code>.</p>\n",
       "<p>\n",
       "  If you're reading this message in the Jupyter Notebook or JupyterLab Notebook, it may mean\n",
       "  that the widgets JavaScript is still loading. If this message persists, it\n",
       "  likely means that the widgets JavaScript library is either not installed or\n",
       "  not enabled. See the <a href=\"https://ipywidgets.readthedocs.io/en/stable/user_install.html\">Jupyter\n",
       "  Widgets Documentation</a> for setup instructions.\n",
       "</p>\n",
       "<p>\n",
       "  If you're reading this message in another frontend (for example, a static\n",
       "  rendering on GitHub or <a href=\"https://nbviewer.jupyter.org/\">NBViewer</a>),\n",
       "  it may mean that your frontend doesn't currently support widgets.\n",
       "</p>\n"
      ],
      "text/plain": [
       "HBox(children=(IntProgress(value=0, description='Epoch', max=5), HTML(value='')))"
      ]
     },
     "metadata": {},
     "output_type": "display_data"
    },
    {
     "name": "stdout",
     "output_type": "stream",
     "text": [
      "[ 0.       4.63712  4.48373]                              \n",
      "[ 1.       4.59009  4.43314]                              \n",
      "[ 2.       4.54199  4.39807]                              \n",
      "[ 3.       4.49385  4.37632]                              \n",
      "[ 4.       4.47179  4.37454]                              \n",
      "\n"
     ]
    },
    {
     "data": {
      "application/vnd.jupyter.widget-view+json": {
       "model_id": "507609160d2440f6b1bac6e207cd0b63",
       "version_major": 2,
       "version_minor": 0
      },
      "text/html": [
       "<p>Failed to display Jupyter Widget of type <code>HBox</code>.</p>\n",
       "<p>\n",
       "  If you're reading this message in the Jupyter Notebook or JupyterLab Notebook, it may mean\n",
       "  that the widgets JavaScript is still loading. If this message persists, it\n",
       "  likely means that the widgets JavaScript library is either not installed or\n",
       "  not enabled. See the <a href=\"https://ipywidgets.readthedocs.io/en/stable/user_install.html\">Jupyter\n",
       "  Widgets Documentation</a> for setup instructions.\n",
       "</p>\n",
       "<p>\n",
       "  If you're reading this message in another frontend (for example, a static\n",
       "  rendering on GitHub or <a href=\"https://nbviewer.jupyter.org/\">NBViewer</a>),\n",
       "  it may mean that your frontend doesn't currently support widgets.\n",
       "</p>\n"
      ],
      "text/plain": [
       "HBox(children=(IntProgress(value=0, description='Epoch', max=15), HTML(value='')))"
      ]
     },
     "metadata": {},
     "output_type": "display_data"
    },
    {
     "name": "stdout",
     "output_type": "stream",
     "text": [
      "[ 0.       5.72455  5.48072]                              \n",
      "[ 1.       5.39127  5.08484]                              \n",
      "[ 2.       5.19558  5.01834]                              \n",
      "[ 3.       5.06112  4.83406]                              \n",
      "[ 4.       4.92598  4.72513]                              \n",
      "[ 5.       4.84219  4.67416]                              \n",
      "[ 6.       4.79657  4.66467]                              \n",
      "[ 7.       4.7957   4.61766]                              \n",
      "[ 8.       4.71931  4.54518]                              \n",
      "[ 9.       4.66458  4.48453]                              \n",
      "[ 10.        4.6063    4.44527]                           \n",
      "[ 11.        4.55638   4.41242]                           \n",
      "[ 12.        4.51516   4.39315]                           \n",
      "[ 13.        4.48743   4.38413]                           \n",
      "[ 14.        4.472     4.37979]                           \n",
      "\n"
     ]
    },
    {
     "data": {
      "application/vnd.jupyter.widget-view+json": {
       "model_id": "828789596efb4c829ee1fa7433bb9398",
       "version_major": 2,
       "version_minor": 0
      },
      "text/html": [
       "<p>Failed to display Jupyter Widget of type <code>HBox</code>.</p>\n",
       "<p>\n",
       "  If you're reading this message in the Jupyter Notebook or JupyterLab Notebook, it may mean\n",
       "  that the widgets JavaScript is still loading. If this message persists, it\n",
       "  likely means that the widgets JavaScript library is either not installed or\n",
       "  not enabled. See the <a href=\"https://ipywidgets.readthedocs.io/en/stable/user_install.html\">Jupyter\n",
       "  Widgets Documentation</a> for setup instructions.\n",
       "</p>\n",
       "<p>\n",
       "  If you're reading this message in another frontend (for example, a static\n",
       "  rendering on GitHub or <a href=\"https://nbviewer.jupyter.org/\">NBViewer</a>),\n",
       "  it may mean that your frontend doesn't currently support widgets.\n",
       "</p>\n"
      ],
      "text/plain": [
       "HBox(children=(IntProgress(value=0, description='Epoch', max=5), HTML(value='')))"
      ]
     },
     "metadata": {},
     "output_type": "display_data"
    },
    {
     "name": "stdout",
     "output_type": "stream",
     "text": [
      "[ 0.       4.52159  4.38788]                              \n",
      "[ 1.       4.46866  4.34518]                              \n",
      "[ 2.       4.41625  4.31383]                              \n",
      "[ 3.       4.38322  4.29831]                              \n",
      "[ 4.      4.3451  4.2963]                                 \n",
      "\n"
     ]
    },
    {
     "data": {
      "application/vnd.jupyter.widget-view+json": {
       "model_id": "9033135c83b74d5084add694dffe70ea",
       "version_major": 2,
       "version_minor": 0
      },
      "text/html": [
       "<p>Failed to display Jupyter Widget of type <code>HBox</code>.</p>\n",
       "<p>\n",
       "  If you're reading this message in the Jupyter Notebook or JupyterLab Notebook, it may mean\n",
       "  that the widgets JavaScript is still loading. If this message persists, it\n",
       "  likely means that the widgets JavaScript library is either not installed or\n",
       "  not enabled. See the <a href=\"https://ipywidgets.readthedocs.io/en/stable/user_install.html\">Jupyter\n",
       "  Widgets Documentation</a> for setup instructions.\n",
       "</p>\n",
       "<p>\n",
       "  If you're reading this message in another frontend (for example, a static\n",
       "  rendering on GitHub or <a href=\"https://nbviewer.jupyter.org/\">NBViewer</a>),\n",
       "  it may mean that your frontend doesn't currently support widgets.\n",
       "</p>\n"
      ],
      "text/plain": [
       "HBox(children=(IntProgress(value=0, description='Epoch', max=15), HTML(value='')))"
      ]
     },
     "metadata": {},
     "output_type": "display_data"
    },
    {
     "name": "stdout",
     "output_type": "stream",
     "text": [
      "[ 0.       5.70112  5.49567]                              \n",
      "[ 1.       5.55909  5.47094]                              \n",
      "[ 2.       5.49338  5.42969]                              \n",
      "[ 3.       5.4713   5.37583]                              \n",
      "[ 4.       5.25417  5.13041]                              \n",
      "[ 5.       5.06575  4.92893]                              \n",
      "[ 6.       4.98274  4.9062 ]                              \n",
      "[ 7.       4.93962  5.16313]                              \n",
      "[ 8.       4.84875  4.72972]                              \n",
      "[ 9.       4.76433  4.66878]                              \n",
      "[ 10.        4.69048   4.60809]                           \n",
      "[ 11.        4.63796   4.57873]                           \n",
      "[ 12.        4.59963   4.548  ]                           \n",
      "[ 13.        4.576     4.53785]                           \n",
      "[ 14.        4.56257   4.53764]                           \n",
      "\n"
     ]
    },
    {
     "data": {
      "application/vnd.jupyter.widget-view+json": {
       "model_id": "a1a0fb3630b74e2eb324094450348ff1",
       "version_major": 2,
       "version_minor": 0
      },
      "text/html": [
       "<p>Failed to display Jupyter Widget of type <code>HBox</code>.</p>\n",
       "<p>\n",
       "  If you're reading this message in the Jupyter Notebook or JupyterLab Notebook, it may mean\n",
       "  that the widgets JavaScript is still loading. If this message persists, it\n",
       "  likely means that the widgets JavaScript library is either not installed or\n",
       "  not enabled. See the <a href=\"https://ipywidgets.readthedocs.io/en/stable/user_install.html\">Jupyter\n",
       "  Widgets Documentation</a> for setup instructions.\n",
       "</p>\n",
       "<p>\n",
       "  If you're reading this message in another frontend (for example, a static\n",
       "  rendering on GitHub or <a href=\"https://nbviewer.jupyter.org/\">NBViewer</a>),\n",
       "  it may mean that your frontend doesn't currently support widgets.\n",
       "</p>\n"
      ],
      "text/plain": [
       "HBox(children=(IntProgress(value=0, description='Epoch', max=5), HTML(value='')))"
      ]
     },
     "metadata": {},
     "output_type": "display_data"
    },
    {
     "name": "stdout",
     "output_type": "stream",
     "text": [
      "[ 0.       4.57522  4.52736]                              \n",
      "[ 1.       4.54216  4.49097]                              \n",
      "[ 2.       4.49151  4.45037]                              \n",
      "[ 3.       4.44459  4.42665]                              \n",
      "[ 4.       4.41619  4.42059]                              \n",
      "\n"
     ]
    },
    {
     "data": {
      "application/vnd.jupyter.widget-view+json": {
       "model_id": "82595c093dc143d78cfbcf8bcb05344e",
       "version_major": 2,
       "version_minor": 0
      },
      "text/html": [
       "<p>Failed to display Jupyter Widget of type <code>HBox</code>.</p>\n",
       "<p>\n",
       "  If you're reading this message in the Jupyter Notebook or JupyterLab Notebook, it may mean\n",
       "  that the widgets JavaScript is still loading. If this message persists, it\n",
       "  likely means that the widgets JavaScript library is either not installed or\n",
       "  not enabled. See the <a href=\"https://ipywidgets.readthedocs.io/en/stable/user_install.html\">Jupyter\n",
       "  Widgets Documentation</a> for setup instructions.\n",
       "</p>\n",
       "<p>\n",
       "  If you're reading this message in another frontend (for example, a static\n",
       "  rendering on GitHub or <a href=\"https://nbviewer.jupyter.org/\">NBViewer</a>),\n",
       "  it may mean that your frontend doesn't currently support widgets.\n",
       "</p>\n"
      ],
      "text/plain": [
       "HBox(children=(IntProgress(value=0, description='Epoch', max=15), HTML(value='')))"
      ]
     },
     "metadata": {},
     "output_type": "display_data"
    },
    {
     "name": "stdout",
     "output_type": "stream",
     "text": [
      "[ 0.       5.79584  5.49883]                              \n",
      "[ 1.       5.61042  5.48325]                              \n",
      "[ 2.       5.5647   5.48532]                              \n",
      "[ 3.       5.56318  5.48249]                              \n",
      "[ 4.       5.55726  5.48429]                              \n",
      "[ 5.       5.55248  5.48323]                              \n",
      "[ 6.       5.54899  5.48066]                              \n",
      "[ 7.       5.55949  5.48751]                              \n",
      "[ 8.       5.55655  5.49102]                              \n",
      "[ 9.       5.61547  5.4829 ]                              \n",
      "[ 10.        5.56506   5.48223]                           \n",
      "[ 11.        5.55129   5.4837 ]                           \n",
      "[ 12.        5.54641   5.47651]                           \n",
      "[ 13.        5.518     5.41093]                           \n",
      "[ 14.        5.478     5.38663]                           \n",
      "\n"
     ]
    },
    {
     "data": {
      "application/vnd.jupyter.widget-view+json": {
       "model_id": "290975032b634fcc9268884895a84c5b",
       "version_major": 2,
       "version_minor": 0
      },
      "text/html": [
       "<p>Failed to display Jupyter Widget of type <code>HBox</code>.</p>\n",
       "<p>\n",
       "  If you're reading this message in the Jupyter Notebook or JupyterLab Notebook, it may mean\n",
       "  that the widgets JavaScript is still loading. If this message persists, it\n",
       "  likely means that the widgets JavaScript library is either not installed or\n",
       "  not enabled. See the <a href=\"https://ipywidgets.readthedocs.io/en/stable/user_install.html\">Jupyter\n",
       "  Widgets Documentation</a> for setup instructions.\n",
       "</p>\n",
       "<p>\n",
       "  If you're reading this message in another frontend (for example, a static\n",
       "  rendering on GitHub or <a href=\"https://nbviewer.jupyter.org/\">NBViewer</a>),\n",
       "  it may mean that your frontend doesn't currently support widgets.\n",
       "</p>\n"
      ],
      "text/plain": [
       "HBox(children=(IntProgress(value=0, description='Epoch', max=5), HTML(value='')))"
      ]
     },
     "metadata": {},
     "output_type": "display_data"
    },
    {
     "name": "stdout",
     "output_type": "stream",
     "text": [
      "[ 0.       5.54376  5.44245]                              \n",
      "[ 1.       5.46191  5.27327]                              \n",
      "[ 2.       5.29218  5.1067 ]                              \n",
      "[ 3.       5.18748  5.05286]                              \n",
      "[ 4.       5.14096  5.03776]                              \n",
      "\n"
     ]
    },
    {
     "data": {
      "application/vnd.jupyter.widget-view+json": {
       "model_id": "86459c014e1c465781d6a6a193d8d5c6",
       "version_major": 2,
       "version_minor": 0
      },
      "text/html": [
       "<p>Failed to display Jupyter Widget of type <code>HBox</code>.</p>\n",
       "<p>\n",
       "  If you're reading this message in the Jupyter Notebook or JupyterLab Notebook, it may mean\n",
       "  that the widgets JavaScript is still loading. If this message persists, it\n",
       "  likely means that the widgets JavaScript library is either not installed or\n",
       "  not enabled. See the <a href=\"https://ipywidgets.readthedocs.io/en/stable/user_install.html\">Jupyter\n",
       "  Widgets Documentation</a> for setup instructions.\n",
       "</p>\n",
       "<p>\n",
       "  If you're reading this message in another frontend (for example, a static\n",
       "  rendering on GitHub or <a href=\"https://nbviewer.jupyter.org/\">NBViewer</a>),\n",
       "  it may mean that your frontend doesn't currently support widgets.\n",
       "</p>\n"
      ],
      "text/plain": [
       "HBox(children=(IntProgress(value=0, description='Epoch', max=15), HTML(value='')))"
      ]
     },
     "metadata": {},
     "output_type": "display_data"
    },
    {
     "name": "stdout",
     "output_type": "stream",
     "text": [
      "[ 0.       5.72188  5.47964]                              \n",
      "[ 1.       5.55744  5.40516]                              \n",
      "[ 2.       5.39783  5.24325]                              \n",
      "[ 3.       5.25457  4.99521]                              \n",
      "[ 4.       5.01911  4.80805]                              \n",
      "[ 5.       4.89307  4.74903]                              \n",
      "[ 6.       4.83755  4.73285]                              \n",
      "[ 7.       4.82058  4.67009]                              \n",
      "[ 8.       4.74185  4.59832]                              \n",
      "[ 9.       4.66569  4.53347]                              \n",
      "[ 10.        4.59285   4.48783]                           \n",
      "[ 11.        4.54029   4.4558 ]                           \n",
      "[ 12.        4.48891   4.43098]                           \n",
      "[ 13.        4.45382   4.41844]                           \n",
      "[ 14.        4.441     4.41428]                           \n",
      "\n"
     ]
    },
    {
     "data": {
      "application/vnd.jupyter.widget-view+json": {
       "model_id": "42bf1edf53e24071a359c1db3772c82d",
       "version_major": 2,
       "version_minor": 0
      },
      "text/html": [
       "<p>Failed to display Jupyter Widget of type <code>HBox</code>.</p>\n",
       "<p>\n",
       "  If you're reading this message in the Jupyter Notebook or JupyterLab Notebook, it may mean\n",
       "  that the widgets JavaScript is still loading. If this message persists, it\n",
       "  likely means that the widgets JavaScript library is either not installed or\n",
       "  not enabled. See the <a href=\"https://ipywidgets.readthedocs.io/en/stable/user_install.html\">Jupyter\n",
       "  Widgets Documentation</a> for setup instructions.\n",
       "</p>\n",
       "<p>\n",
       "  If you're reading this message in another frontend (for example, a static\n",
       "  rendering on GitHub or <a href=\"https://nbviewer.jupyter.org/\">NBViewer</a>),\n",
       "  it may mean that your frontend doesn't currently support widgets.\n",
       "</p>\n"
      ],
      "text/plain": [
       "HBox(children=(IntProgress(value=0, description='Epoch', max=5), HTML(value='')))"
      ]
     },
     "metadata": {},
     "output_type": "display_data"
    },
    {
     "name": "stdout",
     "output_type": "stream",
     "text": [
      "[ 0.       4.4824   4.42774]                              \n",
      "[ 1.       4.42852  4.37879]                              \n",
      "[ 2.       4.36959  4.34985]                              \n",
      "[ 3.       4.30867  4.3241 ]                              \n",
      "[ 4.       4.25589  4.31895]                              \n",
      "\n"
     ]
    },
    {
     "data": {
      "application/vnd.jupyter.widget-view+json": {
       "model_id": "4e4c8fb9f7f84783905b7c9a9d08787f",
       "version_major": 2,
       "version_minor": 0
      },
      "text/html": [
       "<p>Failed to display Jupyter Widget of type <code>HBox</code>.</p>\n",
       "<p>\n",
       "  If you're reading this message in the Jupyter Notebook or JupyterLab Notebook, it may mean\n",
       "  that the widgets JavaScript is still loading. If this message persists, it\n",
       "  likely means that the widgets JavaScript library is either not installed or\n",
       "  not enabled. See the <a href=\"https://ipywidgets.readthedocs.io/en/stable/user_install.html\">Jupyter\n",
       "  Widgets Documentation</a> for setup instructions.\n",
       "</p>\n",
       "<p>\n",
       "  If you're reading this message in another frontend (for example, a static\n",
       "  rendering on GitHub or <a href=\"https://nbviewer.jupyter.org/\">NBViewer</a>),\n",
       "  it may mean that your frontend doesn't currently support widgets.\n",
       "</p>\n"
      ],
      "text/plain": [
       "HBox(children=(IntProgress(value=0, description='Epoch', max=15), HTML(value='')))"
      ]
     },
     "metadata": {},
     "output_type": "display_data"
    },
    {
     "name": "stdout",
     "output_type": "stream",
     "text": [
      "[ 0.       5.70065  5.49669]                              \n",
      "[ 1.       5.58511  5.49116]                              \n",
      "[ 2.       5.54128  5.48351]                              \n",
      "[ 3.       5.54117  5.57431]                              \n",
      "[ 4.       5.56005  5.54034]                              \n",
      "[ 5.       5.54488  5.4848 ]                              \n",
      "[ 6.       5.53864  5.48607]                              \n",
      "[ 7.       5.54563  5.49244]                              \n",
      "[ 8.       5.53985  5.51155]                              \n",
      "[ 9.       5.53371  5.47848]                              \n",
      "[ 10.        5.37107   5.16723]                           \n",
      "[ 11.        5.19741   5.0412 ]                           \n",
      "[ 12.        5.09867   4.98066]                           \n",
      "[ 13.        5.05566   4.94665]                           \n",
      "[ 14.        5.03116   4.94969]                           \n",
      "\n"
     ]
    },
    {
     "data": {
      "application/vnd.jupyter.widget-view+json": {
       "model_id": "8362422d0267439197e41156c18211dd",
       "version_major": 2,
       "version_minor": 0
      },
      "text/html": [
       "<p>Failed to display Jupyter Widget of type <code>HBox</code>.</p>\n",
       "<p>\n",
       "  If you're reading this message in the Jupyter Notebook or JupyterLab Notebook, it may mean\n",
       "  that the widgets JavaScript is still loading. If this message persists, it\n",
       "  likely means that the widgets JavaScript library is either not installed or\n",
       "  not enabled. See the <a href=\"https://ipywidgets.readthedocs.io/en/stable/user_install.html\">Jupyter\n",
       "  Widgets Documentation</a> for setup instructions.\n",
       "</p>\n",
       "<p>\n",
       "  If you're reading this message in another frontend (for example, a static\n",
       "  rendering on GitHub or <a href=\"https://nbviewer.jupyter.org/\">NBViewer</a>),\n",
       "  it may mean that your frontend doesn't currently support widgets.\n",
       "</p>\n"
      ],
      "text/plain": [
       "HBox(children=(IntProgress(value=0, description='Epoch', max=5), HTML(value='')))"
      ]
     },
     "metadata": {},
     "output_type": "display_data"
    },
    {
     "name": "stdout",
     "output_type": "stream",
     "text": [
      "[ 0.       5.02284  4.89046]                              \n",
      "[ 1.       4.92762  4.77171]                              \n",
      "[ 2.       4.85454  4.72601]                              \n",
      "[ 3.       4.80091  4.68339]                              \n",
      "[ 4.       4.76994  4.67767]                              \n",
      "\n"
     ]
    },
    {
     "data": {
      "application/vnd.jupyter.widget-view+json": {
       "model_id": "9b70c6fafd704c019b3787a6819c706c",
       "version_major": 2,
       "version_minor": 0
      },
      "text/html": [
       "<p>Failed to display Jupyter Widget of type <code>HBox</code>.</p>\n",
       "<p>\n",
       "  If you're reading this message in the Jupyter Notebook or JupyterLab Notebook, it may mean\n",
       "  that the widgets JavaScript is still loading. If this message persists, it\n",
       "  likely means that the widgets JavaScript library is either not installed or\n",
       "  not enabled. See the <a href=\"https://ipywidgets.readthedocs.io/en/stable/user_install.html\">Jupyter\n",
       "  Widgets Documentation</a> for setup instructions.\n",
       "</p>\n",
       "<p>\n",
       "  If you're reading this message in another frontend (for example, a static\n",
       "  rendering on GitHub or <a href=\"https://nbviewer.jupyter.org/\">NBViewer</a>),\n",
       "  it may mean that your frontend doesn't currently support widgets.\n",
       "</p>\n"
      ],
      "text/plain": [
       "HBox(children=(IntProgress(value=0, description='Epoch', max=15), HTML(value='')))"
      ]
     },
     "metadata": {},
     "output_type": "display_data"
    },
    {
     "name": "stdout",
     "output_type": "stream",
     "text": [
      "[ 0.       5.72248  5.5005 ]                              \n",
      "[ 1.       5.62205  5.48497]                              \n",
      "[ 2.       5.57169  5.48614]                              \n",
      "[ 3.       5.56816  5.48415]                              \n",
      "[ 4.       5.56139  5.48225]                              \n",
      "[ 5.       5.55583  5.47859]                              \n",
      "[ 6.       5.5473   5.47213]                              \n",
      "[ 7.       5.4813   5.21915]                              \n",
      "[ 8.       5.25805  5.02355]                              \n",
      "[ 9.       5.09563  4.89034]                              \n",
      "[ 10.        4.98656   4.79763]                           \n",
      "[ 11.        4.91973   4.74738]                           \n",
      "[ 12.        4.87297   4.71917]                           \n",
      "[ 13.        4.85143   4.70618]                           \n",
      "[ 14.        4.83124   4.69899]                           \n",
      "\n"
     ]
    },
    {
     "data": {
      "application/vnd.jupyter.widget-view+json": {
       "model_id": "af16f935abed4c7fbb52eebab5c2257f",
       "version_major": 2,
       "version_minor": 0
      },
      "text/html": [
       "<p>Failed to display Jupyter Widget of type <code>HBox</code>.</p>\n",
       "<p>\n",
       "  If you're reading this message in the Jupyter Notebook or JupyterLab Notebook, it may mean\n",
       "  that the widgets JavaScript is still loading. If this message persists, it\n",
       "  likely means that the widgets JavaScript library is either not installed or\n",
       "  not enabled. See the <a href=\"https://ipywidgets.readthedocs.io/en/stable/user_install.html\">Jupyter\n",
       "  Widgets Documentation</a> for setup instructions.\n",
       "</p>\n",
       "<p>\n",
       "  If you're reading this message in another frontend (for example, a static\n",
       "  rendering on GitHub or <a href=\"https://nbviewer.jupyter.org/\">NBViewer</a>),\n",
       "  it may mean that your frontend doesn't currently support widgets.\n",
       "</p>\n"
      ],
      "text/plain": [
       "HBox(children=(IntProgress(value=0, description='Epoch', max=5), HTML(value='')))"
      ]
     },
     "metadata": {},
     "output_type": "display_data"
    },
    {
     "name": "stdout",
     "output_type": "stream",
     "text": [
      "[ 0.       4.84294  4.68013]                              \n",
      "[ 1.       4.78769  4.61652]                              \n",
      "[ 2.       4.7355   4.57198]                              \n",
      "[ 3.       4.70185  4.545  ]                              \n",
      "[ 4.       4.66779  4.54073]                              \n",
      "\n"
     ]
    },
    {
     "data": {
      "application/vnd.jupyter.widget-view+json": {
       "model_id": "a75e6e45645943678f72c0fe2bfbc2fe",
       "version_major": 2,
       "version_minor": 0
      },
      "text/html": [
       "<p>Failed to display Jupyter Widget of type <code>HBox</code>.</p>\n",
       "<p>\n",
       "  If you're reading this message in the Jupyter Notebook or JupyterLab Notebook, it may mean\n",
       "  that the widgets JavaScript is still loading. If this message persists, it\n",
       "  likely means that the widgets JavaScript library is either not installed or\n",
       "  not enabled. See the <a href=\"https://ipywidgets.readthedocs.io/en/stable/user_install.html\">Jupyter\n",
       "  Widgets Documentation</a> for setup instructions.\n",
       "</p>\n",
       "<p>\n",
       "  If you're reading this message in another frontend (for example, a static\n",
       "  rendering on GitHub or <a href=\"https://nbviewer.jupyter.org/\">NBViewer</a>),\n",
       "  it may mean that your frontend doesn't currently support widgets.\n",
       "</p>\n"
      ],
      "text/plain": [
       "HBox(children=(IntProgress(value=0, description='Epoch', max=15), HTML(value='')))"
      ]
     },
     "metadata": {},
     "output_type": "display_data"
    },
    {
     "name": "stdout",
     "output_type": "stream",
     "text": [
      "[ 0.       5.71237  5.4903 ]                              \n",
      "[ 1.       5.59997  5.50622]                              \n",
      "[ 2.       5.55981  5.46966]                              \n",
      "[ 3.       5.55449  5.47065]                              \n",
      "[ 4.       5.54794  5.47272]                              \n",
      "[ 5.       5.5449   5.46735]                              \n",
      "[ 6.       5.53961  5.4662 ]                              \n",
      "[ 7.       5.54786  5.46802]                              \n",
      "[ 8.       5.44824  5.2145 ]                              \n",
      "[ 9.       5.26793  5.06557]                              \n",
      "[ 10.        5.12899   4.93191]                           \n",
      "[ 11.        5.02645   4.84991]                           \n",
      "[ 12.        4.96798   4.8128 ]                           \n",
      "[ 13.        4.93279   4.78787]                           \n",
      "[ 14.        4.91487   4.78261]                           \n",
      "\n"
     ]
    },
    {
     "data": {
      "application/vnd.jupyter.widget-view+json": {
       "model_id": "33599026ed4b4e1daf93fa6ca925fd14",
       "version_major": 2,
       "version_minor": 0
      },
      "text/html": [
       "<p>Failed to display Jupyter Widget of type <code>HBox</code>.</p>\n",
       "<p>\n",
       "  If you're reading this message in the Jupyter Notebook or JupyterLab Notebook, it may mean\n",
       "  that the widgets JavaScript is still loading. If this message persists, it\n",
       "  likely means that the widgets JavaScript library is either not installed or\n",
       "  not enabled. See the <a href=\"https://ipywidgets.readthedocs.io/en/stable/user_install.html\">Jupyter\n",
       "  Widgets Documentation</a> for setup instructions.\n",
       "</p>\n",
       "<p>\n",
       "  If you're reading this message in another frontend (for example, a static\n",
       "  rendering on GitHub or <a href=\"https://nbviewer.jupyter.org/\">NBViewer</a>),\n",
       "  it may mean that your frontend doesn't currently support widgets.\n",
       "</p>\n"
      ],
      "text/plain": [
       "HBox(children=(IntProgress(value=0, description='Epoch', max=5), HTML(value='')))"
      ]
     },
     "metadata": {},
     "output_type": "display_data"
    },
    {
     "name": "stdout",
     "output_type": "stream",
     "text": [
      "[ 0.       4.92277  4.75027]                              \n",
      "[ 1.       4.85714  4.68134]                              \n",
      "[ 2.       4.79862  4.63202]                              \n",
      "[ 3.       4.74576  4.60124]                              \n",
      "[ 4.       4.72593  4.5984 ]                              \n",
      "\n"
     ]
    },
    {
     "data": {
      "application/vnd.jupyter.widget-view+json": {
       "model_id": "a04af09b4a8d4673ba71d31663049555",
       "version_major": 2,
       "version_minor": 0
      },
      "text/html": [
       "<p>Failed to display Jupyter Widget of type <code>HBox</code>.</p>\n",
       "<p>\n",
       "  If you're reading this message in the Jupyter Notebook or JupyterLab Notebook, it may mean\n",
       "  that the widgets JavaScript is still loading. If this message persists, it\n",
       "  likely means that the widgets JavaScript library is either not installed or\n",
       "  not enabled. See the <a href=\"https://ipywidgets.readthedocs.io/en/stable/user_install.html\">Jupyter\n",
       "  Widgets Documentation</a> for setup instructions.\n",
       "</p>\n",
       "<p>\n",
       "  If you're reading this message in another frontend (for example, a static\n",
       "  rendering on GitHub or <a href=\"https://nbviewer.jupyter.org/\">NBViewer</a>),\n",
       "  it may mean that your frontend doesn't currently support widgets.\n",
       "</p>\n"
      ],
      "text/plain": [
       "HBox(children=(IntProgress(value=0, description='Epoch', max=15), HTML(value='')))"
      ]
     },
     "metadata": {},
     "output_type": "display_data"
    },
    {
     "name": "stdout",
     "output_type": "stream",
     "text": [
      "[ 0.       5.52321  5.25468]                              \n",
      "[ 1.       5.1091   4.82652]                              \n",
      "[ 2.       4.86731  4.74621]                              \n",
      "[ 3.       4.7779   4.62836]                              \n",
      "[ 4.       4.63942  4.52497]                              \n",
      "[ 5.       4.52794  4.46534]                              \n",
      "[ 6.       4.46431  4.45248]                              \n",
      "[ 7.       4.48384  4.42023]                              \n",
      "[ 8.       4.39621  4.3611 ]                              \n",
      "[ 9.      4.3056  4.3198]                                 \n",
      "[ 10.        4.21438   4.28578]                           \n",
      "[ 11.        4.13103   4.27112]                           \n",
      "[ 12.        4.05549   4.26013]                           \n",
      "[ 13.        4.00204   4.25641]                           \n",
      "[ 14.        3.97853   4.25856]                           \n",
      "\n"
     ]
    },
    {
     "data": {
      "application/vnd.jupyter.widget-view+json": {
       "model_id": "f3354fd9d35a4d67b57c7aeecd652d5d",
       "version_major": 2,
       "version_minor": 0
      },
      "text/html": [
       "<p>Failed to display Jupyter Widget of type <code>HBox</code>.</p>\n",
       "<p>\n",
       "  If you're reading this message in the Jupyter Notebook or JupyterLab Notebook, it may mean\n",
       "  that the widgets JavaScript is still loading. If this message persists, it\n",
       "  likely means that the widgets JavaScript library is either not installed or\n",
       "  not enabled. See the <a href=\"https://ipywidgets.readthedocs.io/en/stable/user_install.html\">Jupyter\n",
       "  Widgets Documentation</a> for setup instructions.\n",
       "</p>\n",
       "<p>\n",
       "  If you're reading this message in another frontend (for example, a static\n",
       "  rendering on GitHub or <a href=\"https://nbviewer.jupyter.org/\">NBViewer</a>),\n",
       "  it may mean that your frontend doesn't currently support widgets.\n",
       "</p>\n"
      ],
      "text/plain": [
       "HBox(children=(IntProgress(value=0, description='Epoch', max=5), HTML(value='')))"
      ]
     },
     "metadata": {},
     "output_type": "display_data"
    },
    {
     "name": "stdout",
     "output_type": "stream",
     "text": [
      "[ 0.       4.05112  4.28726]                              \n",
      "[ 1.       4.01018  4.26938]                              \n",
      "[ 2.       3.93284  4.25506]                              \n",
      "[ 3.       3.84722  4.25683]                              \n",
      "[ 4.       3.7676   4.26511]                              \n",
      "\n"
     ]
    },
    {
     "data": {
      "application/vnd.jupyter.widget-view+json": {
       "model_id": "d31996adadbc481b86f9b77806fabd0f",
       "version_major": 2,
       "version_minor": 0
      },
      "text/html": [
       "<p>Failed to display Jupyter Widget of type <code>HBox</code>.</p>\n",
       "<p>\n",
       "  If you're reading this message in the Jupyter Notebook or JupyterLab Notebook, it may mean\n",
       "  that the widgets JavaScript is still loading. If this message persists, it\n",
       "  likely means that the widgets JavaScript library is either not installed or\n",
       "  not enabled. See the <a href=\"https://ipywidgets.readthedocs.io/en/stable/user_install.html\">Jupyter\n",
       "  Widgets Documentation</a> for setup instructions.\n",
       "</p>\n",
       "<p>\n",
       "  If you're reading this message in another frontend (for example, a static\n",
       "  rendering on GitHub or <a href=\"https://nbviewer.jupyter.org/\">NBViewer</a>),\n",
       "  it may mean that your frontend doesn't currently support widgets.\n",
       "</p>\n"
      ],
      "text/plain": [
       "HBox(children=(IntProgress(value=0, description='Epoch', max=15), HTML(value='')))"
      ]
     },
     "metadata": {},
     "output_type": "display_data"
    },
    {
     "name": "stdout",
     "output_type": "stream",
     "text": [
      "[ 0.       5.59801  5.28343]                              \n",
      "[ 1.       5.16819  4.83476]                              \n",
      "[ 2.       4.91749  4.75612]                              \n",
      "[ 3.       4.81624  4.62203]                              \n",
      "[ 4.       4.67234  4.52051]                              \n",
      "[ 5.       4.56311  4.45981]                              \n",
      "[ 6.       4.49686  4.45012]                              \n",
      "[ 7.       4.51263  4.41666]                              \n",
      "[ 8.       4.42877  4.3507 ]                              \n",
      "[ 9.       4.33541  4.3068 ]                              \n",
      "[ 10.        4.24187   4.27995]                           \n",
      "[ 11.        4.15347   4.26404]                           \n",
      "[ 12.        4.06853   4.25353]                           \n",
      "[ 13.        4.03723   4.25012]                           \n",
      "[ 14.        3.99827   4.25188]                           \n",
      "\n"
     ]
    },
    {
     "data": {
      "application/vnd.jupyter.widget-view+json": {
       "model_id": "7c3f9131279148f3808efc069d3b1b7b",
       "version_major": 2,
       "version_minor": 0
      },
      "text/html": [
       "<p>Failed to display Jupyter Widget of type <code>HBox</code>.</p>\n",
       "<p>\n",
       "  If you're reading this message in the Jupyter Notebook or JupyterLab Notebook, it may mean\n",
       "  that the widgets JavaScript is still loading. If this message persists, it\n",
       "  likely means that the widgets JavaScript library is either not installed or\n",
       "  not enabled. See the <a href=\"https://ipywidgets.readthedocs.io/en/stable/user_install.html\">Jupyter\n",
       "  Widgets Documentation</a> for setup instructions.\n",
       "</p>\n",
       "<p>\n",
       "  If you're reading this message in another frontend (for example, a static\n",
       "  rendering on GitHub or <a href=\"https://nbviewer.jupyter.org/\">NBViewer</a>),\n",
       "  it may mean that your frontend doesn't currently support widgets.\n",
       "</p>\n"
      ],
      "text/plain": [
       "HBox(children=(IntProgress(value=0, description='Epoch', max=5), HTML(value='')))"
      ]
     },
     "metadata": {},
     "output_type": "display_data"
    },
    {
     "name": "stdout",
     "output_type": "stream",
     "text": [
      "[ 0.       4.08538  4.26638]                              \n",
      "[ 1.       4.03117  4.25822]                              \n",
      "[ 2.       3.93582  4.24972]                              \n",
      "[ 3.       3.88332  4.24221]                              \n",
      "[ 4.       3.8123   4.25879]                              \n",
      "\n"
     ]
    },
    {
     "data": {
      "application/vnd.jupyter.widget-view+json": {
       "model_id": "43cabae2eb304ba5801f7e5062a787ce",
       "version_major": 2,
       "version_minor": 0
      },
      "text/html": [
       "<p>Failed to display Jupyter Widget of type <code>HBox</code>.</p>\n",
       "<p>\n",
       "  If you're reading this message in the Jupyter Notebook or JupyterLab Notebook, it may mean\n",
       "  that the widgets JavaScript is still loading. If this message persists, it\n",
       "  likely means that the widgets JavaScript library is either not installed or\n",
       "  not enabled. See the <a href=\"https://ipywidgets.readthedocs.io/en/stable/user_install.html\">Jupyter\n",
       "  Widgets Documentation</a> for setup instructions.\n",
       "</p>\n",
       "<p>\n",
       "  If you're reading this message in another frontend (for example, a static\n",
       "  rendering on GitHub or <a href=\"https://nbviewer.jupyter.org/\">NBViewer</a>),\n",
       "  it may mean that your frontend doesn't currently support widgets.\n",
       "</p>\n"
      ],
      "text/plain": [
       "HBox(children=(IntProgress(value=0, description='Epoch', max=15), HTML(value='')))"
      ]
     },
     "metadata": {},
     "output_type": "display_data"
    },
    {
     "name": "stdout",
     "output_type": "stream",
     "text": [
      "[ 0.       5.5075   5.18704]                              \n",
      "[ 1.       5.0916   4.77972]                              \n",
      "[ 2.       4.85605  4.70533]                              \n",
      "[ 3.       4.76431  4.59138]                              \n",
      "[ 4.       4.6307   4.48906]                              \n",
      "[ 5.       4.51443  4.43114]                              \n",
      "[ 6.       4.44723  4.41896]                              \n",
      "[ 7.       4.46967  4.38839]                              \n",
      "[ 8.       4.38557  4.33139]                              \n",
      "[ 9.       4.29206  4.29095]                              \n",
      "[ 10.        4.19395   4.26762]                           \n",
      "[ 11.        4.10725   4.25534]                           \n",
      "[ 12.        4.03188   4.24387]                           \n",
      "[ 13.        3.96905   4.24106]                           \n",
      "[ 14.        3.95018   4.24491]                           \n",
      "\n"
     ]
    },
    {
     "data": {
      "application/vnd.jupyter.widget-view+json": {
       "model_id": "2baef9f631f4414bb2a6078a5b1af6ee",
       "version_major": 2,
       "version_minor": 0
      },
      "text/html": [
       "<p>Failed to display Jupyter Widget of type <code>HBox</code>.</p>\n",
       "<p>\n",
       "  If you're reading this message in the Jupyter Notebook or JupyterLab Notebook, it may mean\n",
       "  that the widgets JavaScript is still loading. If this message persists, it\n",
       "  likely means that the widgets JavaScript library is either not installed or\n",
       "  not enabled. See the <a href=\"https://ipywidgets.readthedocs.io/en/stable/user_install.html\">Jupyter\n",
       "  Widgets Documentation</a> for setup instructions.\n",
       "</p>\n",
       "<p>\n",
       "  If you're reading this message in another frontend (for example, a static\n",
       "  rendering on GitHub or <a href=\"https://nbviewer.jupyter.org/\">NBViewer</a>),\n",
       "  it may mean that your frontend doesn't currently support widgets.\n",
       "</p>\n"
      ],
      "text/plain": [
       "HBox(children=(IntProgress(value=0, description='Epoch', max=5), HTML(value='')))"
      ]
     },
     "metadata": {},
     "output_type": "display_data"
    },
    {
     "name": "stdout",
     "output_type": "stream",
     "text": [
      "[ 0.       4.04396  4.25449]                              \n",
      "[ 1.       3.98832  4.25771]                              \n",
      "[ 2.       3.88425  4.24898]                              \n",
      "[ 3.       3.80978  4.24926]                              \n",
      "[ 4.       3.74638  4.26276]                              \n",
      "\n"
     ]
    },
    {
     "data": {
      "application/vnd.jupyter.widget-view+json": {
       "model_id": "e8d999a03f33418d82a5ea2f0cf8cdab",
       "version_major": 2,
       "version_minor": 0
      },
      "text/html": [
       "<p>Failed to display Jupyter Widget of type <code>HBox</code>.</p>\n",
       "<p>\n",
       "  If you're reading this message in the Jupyter Notebook or JupyterLab Notebook, it may mean\n",
       "  that the widgets JavaScript is still loading. If this message persists, it\n",
       "  likely means that the widgets JavaScript library is either not installed or\n",
       "  not enabled. See the <a href=\"https://ipywidgets.readthedocs.io/en/stable/user_install.html\">Jupyter\n",
       "  Widgets Documentation</a> for setup instructions.\n",
       "</p>\n",
       "<p>\n",
       "  If you're reading this message in another frontend (for example, a static\n",
       "  rendering on GitHub or <a href=\"https://nbviewer.jupyter.org/\">NBViewer</a>),\n",
       "  it may mean that your frontend doesn't currently support widgets.\n",
       "</p>\n"
      ],
      "text/plain": [
       "HBox(children=(IntProgress(value=0, description='Epoch', max=15), HTML(value='')))"
      ]
     },
     "metadata": {},
     "output_type": "display_data"
    },
    {
     "name": "stdout",
     "output_type": "stream",
     "text": [
      "[ 0.       5.44892  5.16604]                              \n",
      "[ 1.       5.06514  4.80124]                              \n",
      "[ 2.       4.8716   4.72455]                              \n",
      "[ 3.       4.78451  4.59881]                              \n",
      "[ 4.       4.6688   4.50803]                              \n",
      "[ 5.       4.57201  4.45993]                              \n",
      "[ 6.       4.5179   4.44696]                              \n",
      "[ 7.       4.53619  4.43345]                              \n",
      "[ 8.       4.47315  4.35993]                              \n",
      "[ 9.       4.39004  4.31351]                              \n",
      "[ 10.        4.33633   4.28529]                           \n",
      "[ 11.        4.28097   4.2571 ]                           \n",
      "[ 12.        4.22588   4.24957]                           \n",
      "[ 13.        4.199     4.24072]                           \n",
      "[ 14.        4.18221   4.24053]                           \n",
      "\n"
     ]
    },
    {
     "data": {
      "application/vnd.jupyter.widget-view+json": {
       "model_id": "66f5f72aec8a4ccfbcf52dcd209ce035",
       "version_major": 2,
       "version_minor": 0
      },
      "text/html": [
       "<p>Failed to display Jupyter Widget of type <code>HBox</code>.</p>\n",
       "<p>\n",
       "  If you're reading this message in the Jupyter Notebook or JupyterLab Notebook, it may mean\n",
       "  that the widgets JavaScript is still loading. If this message persists, it\n",
       "  likely means that the widgets JavaScript library is either not installed or\n",
       "  not enabled. See the <a href=\"https://ipywidgets.readthedocs.io/en/stable/user_install.html\">Jupyter\n",
       "  Widgets Documentation</a> for setup instructions.\n",
       "</p>\n",
       "<p>\n",
       "  If you're reading this message in another frontend (for example, a static\n",
       "  rendering on GitHub or <a href=\"https://nbviewer.jupyter.org/\">NBViewer</a>),\n",
       "  it may mean that your frontend doesn't currently support widgets.\n",
       "</p>\n"
      ],
      "text/plain": [
       "HBox(children=(IntProgress(value=0, description='Epoch', max=5), HTML(value='')))"
      ]
     },
     "metadata": {},
     "output_type": "display_data"
    },
    {
     "name": "stdout",
     "output_type": "stream",
     "text": [
      "[ 0.       4.24015  4.25642]                              \n",
      "[ 1.       4.21187  4.23067]                              \n",
      "[ 2.       4.14487  4.20707]                              \n",
      "[ 3.       4.10145  4.20387]                              \n",
      "[ 4.       4.06037  4.20394]                              \n",
      "\n"
     ]
    },
    {
     "data": {
      "application/vnd.jupyter.widget-view+json": {
       "model_id": "e1ebf26ed2b642cab822ae2e1b799986",
       "version_major": 2,
       "version_minor": 0
      },
      "text/html": [
       "<p>Failed to display Jupyter Widget of type <code>HBox</code>.</p>\n",
       "<p>\n",
       "  If you're reading this message in the Jupyter Notebook or JupyterLab Notebook, it may mean\n",
       "  that the widgets JavaScript is still loading. If this message persists, it\n",
       "  likely means that the widgets JavaScript library is either not installed or\n",
       "  not enabled. See the <a href=\"https://ipywidgets.readthedocs.io/en/stable/user_install.html\">Jupyter\n",
       "  Widgets Documentation</a> for setup instructions.\n",
       "</p>\n",
       "<p>\n",
       "  If you're reading this message in another frontend (for example, a static\n",
       "  rendering on GitHub or <a href=\"https://nbviewer.jupyter.org/\">NBViewer</a>),\n",
       "  it may mean that your frontend doesn't currently support widgets.\n",
       "</p>\n"
      ],
      "text/plain": [
       "HBox(children=(IntProgress(value=0, description='Epoch', max=15), HTML(value='')))"
      ]
     },
     "metadata": {},
     "output_type": "display_data"
    },
    {
     "name": "stdout",
     "output_type": "stream",
     "text": [
      "[ 0.       5.49385  5.16542]                              \n",
      "[ 1.       5.09531  4.77673]                              \n",
      "[ 2.       4.89417  4.70969]                              \n",
      "[ 3.       4.81731  4.59308]                              \n",
      "[ 4.       4.7019   4.51239]                              \n",
      "[ 5.       4.60862  4.45551]                              \n",
      "[ 6.       4.55521  4.44364]                              \n",
      "[ 7.       4.57527  4.41637]                              \n",
      "[ 8.       4.50491  4.35884]                              \n",
      "[ 9.       4.43305  4.31492]                              \n",
      "[ 10.        4.3634    4.27841]                           \n",
      "[ 11.        4.30855   4.25351]                           \n",
      "[ 12.        4.26408   4.23879]                           \n",
      "[ 13.        4.22913   4.23385]                           \n",
      "[ 14.        4.20252   4.23382]                           \n",
      "\n"
     ]
    },
    {
     "data": {
      "application/vnd.jupyter.widget-view+json": {
       "model_id": "5d026c7c1f1d44f39c5d3347595d85bf",
       "version_major": 2,
       "version_minor": 0
      },
      "text/html": [
       "<p>Failed to display Jupyter Widget of type <code>HBox</code>.</p>\n",
       "<p>\n",
       "  If you're reading this message in the Jupyter Notebook or JupyterLab Notebook, it may mean\n",
       "  that the widgets JavaScript is still loading. If this message persists, it\n",
       "  likely means that the widgets JavaScript library is either not installed or\n",
       "  not enabled. See the <a href=\"https://ipywidgets.readthedocs.io/en/stable/user_install.html\">Jupyter\n",
       "  Widgets Documentation</a> for setup instructions.\n",
       "</p>\n",
       "<p>\n",
       "  If you're reading this message in another frontend (for example, a static\n",
       "  rendering on GitHub or <a href=\"https://nbviewer.jupyter.org/\">NBViewer</a>),\n",
       "  it may mean that your frontend doesn't currently support widgets.\n",
       "</p>\n"
      ],
      "text/plain": [
       "HBox(children=(IntProgress(value=0, description='Epoch', max=5), HTML(value='')))"
      ]
     },
     "metadata": {},
     "output_type": "display_data"
    },
    {
     "name": "stdout",
     "output_type": "stream",
     "text": [
      "[ 0.       4.26624  4.24873]                              \n",
      "[ 1.       4.24911  4.22816]                              \n",
      "[ 2.       4.17712  4.20349]                              \n",
      "[ 3.       4.1199   4.19422]                              \n",
      "[ 4.       4.09525  4.19501]                              \n",
      "\n"
     ]
    },
    {
     "data": {
      "application/vnd.jupyter.widget-view+json": {
       "model_id": "a56d0c8c3d814619ad85940b47d7a8bb",
       "version_major": 2,
       "version_minor": 0
      },
      "text/html": [
       "<p>Failed to display Jupyter Widget of type <code>HBox</code>.</p>\n",
       "<p>\n",
       "  If you're reading this message in the Jupyter Notebook or JupyterLab Notebook, it may mean\n",
       "  that the widgets JavaScript is still loading. If this message persists, it\n",
       "  likely means that the widgets JavaScript library is either not installed or\n",
       "  not enabled. See the <a href=\"https://ipywidgets.readthedocs.io/en/stable/user_install.html\">Jupyter\n",
       "  Widgets Documentation</a> for setup instructions.\n",
       "</p>\n",
       "<p>\n",
       "  If you're reading this message in another frontend (for example, a static\n",
       "  rendering on GitHub or <a href=\"https://nbviewer.jupyter.org/\">NBViewer</a>),\n",
       "  it may mean that your frontend doesn't currently support widgets.\n",
       "</p>\n"
      ],
      "text/plain": [
       "HBox(children=(IntProgress(value=0, description='Epoch', max=15), HTML(value='')))"
      ]
     },
     "metadata": {},
     "output_type": "display_data"
    },
    {
     "name": "stdout",
     "output_type": "stream",
     "text": [
      "[ 0.       5.52759  5.21136]                              \n",
      "[ 1.       5.1242   4.79542]                              \n",
      "[ 2.       4.9007   4.72036]                              \n",
      "[ 3.       4.80955  4.59373]                              \n",
      "[ 4.       4.68582  4.49042]                              \n",
      "[ 5.       4.58674  4.44083]                              \n",
      "[ 6.      4.5324  4.4301]                                 \n",
      "[ 7.       4.55195  4.39934]                              \n",
      "[ 8.       4.49344  4.3459 ]                              \n",
      "[ 9.       4.41865  4.30522]                              \n",
      "[ 10.        4.3479    4.27264]                           \n",
      "[ 11.        4.29781   4.25431]                           \n",
      "[ 12.        4.23726   4.23513]                           \n",
      "[ 13.        4.20878   4.23083]                           \n",
      "[ 14.       4.207    4.2309]                              \n",
      "\n"
     ]
    },
    {
     "data": {
      "application/vnd.jupyter.widget-view+json": {
       "model_id": "93764917da6947c983e9bbccee9363c5",
       "version_major": 2,
       "version_minor": 0
      },
      "text/html": [
       "<p>Failed to display Jupyter Widget of type <code>HBox</code>.</p>\n",
       "<p>\n",
       "  If you're reading this message in the Jupyter Notebook or JupyterLab Notebook, it may mean\n",
       "  that the widgets JavaScript is still loading. If this message persists, it\n",
       "  likely means that the widgets JavaScript library is either not installed or\n",
       "  not enabled. See the <a href=\"https://ipywidgets.readthedocs.io/en/stable/user_install.html\">Jupyter\n",
       "  Widgets Documentation</a> for setup instructions.\n",
       "</p>\n",
       "<p>\n",
       "  If you're reading this message in another frontend (for example, a static\n",
       "  rendering on GitHub or <a href=\"https://nbviewer.jupyter.org/\">NBViewer</a>),\n",
       "  it may mean that your frontend doesn't currently support widgets.\n",
       "</p>\n"
      ],
      "text/plain": [
       "HBox(children=(IntProgress(value=0, description='Epoch', max=5), HTML(value='')))"
      ]
     },
     "metadata": {},
     "output_type": "display_data"
    },
    {
     "name": "stdout",
     "output_type": "stream",
     "text": [
      "[ 0.       4.25688  4.25003]                              \n",
      "[ 1.       4.22273  4.22683]                              \n",
      "[ 2.       4.16939  4.20725]                              \n",
      "[ 3.       4.11482  4.19625]                              \n",
      "[ 4.       4.06919  4.19717]                              \n",
      "\n"
     ]
    },
    {
     "data": {
      "application/vnd.jupyter.widget-view+json": {
       "model_id": "3149e9e5fd9642ecb333fcff0e547f65",
       "version_major": 2,
       "version_minor": 0
      },
      "text/html": [
       "<p>Failed to display Jupyter Widget of type <code>HBox</code>.</p>\n",
       "<p>\n",
       "  If you're reading this message in the Jupyter Notebook or JupyterLab Notebook, it may mean\n",
       "  that the widgets JavaScript is still loading. If this message persists, it\n",
       "  likely means that the widgets JavaScript library is either not installed or\n",
       "  not enabled. See the <a href=\"https://ipywidgets.readthedocs.io/en/stable/user_install.html\">Jupyter\n",
       "  Widgets Documentation</a> for setup instructions.\n",
       "</p>\n",
       "<p>\n",
       "  If you're reading this message in another frontend (for example, a static\n",
       "  rendering on GitHub or <a href=\"https://nbviewer.jupyter.org/\">NBViewer</a>),\n",
       "  it may mean that your frontend doesn't currently support widgets.\n",
       "</p>\n"
      ],
      "text/plain": [
       "HBox(children=(IntProgress(value=0, description='Epoch', max=15), HTML(value='')))"
      ]
     },
     "metadata": {},
     "output_type": "display_data"
    },
    {
     "name": "stdout",
     "output_type": "stream",
     "text": [
      "[ 0.       5.52841  5.26889]                              \n",
      "[ 1.       5.20034  4.95075]                              \n",
      "[ 2.       4.98057  5.20884]                              \n",
      "[ 3.       4.89723  4.73214]                              \n",
      "[ 4.       4.75446  4.63392]                              \n",
      "[ 5.       4.65606  4.57758]                              \n",
      "[ 6.       4.60095  4.56431]                              \n",
      "[ 7.       4.604    4.52992]                              \n",
      "[ 8.       4.52236  4.46365]                              \n",
      "[ 9.      4.4398  4.4111]                                 \n",
      "[ 10.        4.37007   4.3747 ]                           \n",
      "[ 11.        4.29728   4.34407]                           \n",
      "[ 12.        4.24463   4.33014]                           \n",
      "[ 13.        4.20475   4.32245]                           \n",
      "[ 14.        4.1744    4.32334]                           \n",
      "\n"
     ]
    },
    {
     "data": {
      "application/vnd.jupyter.widget-view+json": {
       "model_id": "c743d2db129b4c7a8a1b0642f3a73e18",
       "version_major": 2,
       "version_minor": 0
      },
      "text/html": [
       "<p>Failed to display Jupyter Widget of type <code>HBox</code>.</p>\n",
       "<p>\n",
       "  If you're reading this message in the Jupyter Notebook or JupyterLab Notebook, it may mean\n",
       "  that the widgets JavaScript is still loading. If this message persists, it\n",
       "  likely means that the widgets JavaScript library is either not installed or\n",
       "  not enabled. See the <a href=\"https://ipywidgets.readthedocs.io/en/stable/user_install.html\">Jupyter\n",
       "  Widgets Documentation</a> for setup instructions.\n",
       "</p>\n",
       "<p>\n",
       "  If you're reading this message in another frontend (for example, a static\n",
       "  rendering on GitHub or <a href=\"https://nbviewer.jupyter.org/\">NBViewer</a>),\n",
       "  it may mean that your frontend doesn't currently support widgets.\n",
       "</p>\n"
      ],
      "text/plain": [
       "HBox(children=(IntProgress(value=0, description='Epoch', max=5), HTML(value='')))"
      ]
     },
     "metadata": {},
     "output_type": "display_data"
    },
    {
     "name": "stdout",
     "output_type": "stream",
     "text": [
      "[ 0.       4.25898  4.3427 ]                              \n",
      "[ 1.       4.21282  4.3084 ]                              \n",
      "[ 2.       4.13477  4.28724]                              \n",
      "[ 3.       4.06129  4.27836]                              \n",
      "[ 4.       4.01187  4.27769]                              \n",
      "\n"
     ]
    },
    {
     "data": {
      "application/vnd.jupyter.widget-view+json": {
       "model_id": "314dfba5ef674cee9fe99c3ff0a83551",
       "version_major": 2,
       "version_minor": 0
      },
      "text/html": [
       "<p>Failed to display Jupyter Widget of type <code>HBox</code>.</p>\n",
       "<p>\n",
       "  If you're reading this message in the Jupyter Notebook or JupyterLab Notebook, it may mean\n",
       "  that the widgets JavaScript is still loading. If this message persists, it\n",
       "  likely means that the widgets JavaScript library is either not installed or\n",
       "  not enabled. See the <a href=\"https://ipywidgets.readthedocs.io/en/stable/user_install.html\">Jupyter\n",
       "  Widgets Documentation</a> for setup instructions.\n",
       "</p>\n",
       "<p>\n",
       "  If you're reading this message in another frontend (for example, a static\n",
       "  rendering on GitHub or <a href=\"https://nbviewer.jupyter.org/\">NBViewer</a>),\n",
       "  it may mean that your frontend doesn't currently support widgets.\n",
       "</p>\n"
      ],
      "text/plain": [
       "HBox(children=(IntProgress(value=0, description='Epoch', max=15), HTML(value='')))"
      ]
     },
     "metadata": {},
     "output_type": "display_data"
    },
    {
     "name": "stdout",
     "output_type": "stream",
     "text": [
      "[ 0.       5.56512  5.27333]                              \n",
      "[ 1.       5.22709  4.9395 ]                              \n",
      "[ 2.       5.00403  4.8522 ]                              \n",
      "[ 3.       4.90408  4.7124 ]                              \n",
      "[ 4.       4.77122  4.61016]                              \n",
      "[ 5.       4.66853  4.55496]                              \n",
      "[ 6.       4.60774  4.54223]                              \n",
      "[ 7.       4.61047  4.51774]                              \n",
      "[ 8.       4.54907  4.4589 ]                              \n",
      "[ 9.       4.46336  4.39548]                              \n",
      "[ 10.        4.39052   4.35885]                           \n",
      "[ 11.        4.31656   4.32882]                           \n",
      "[ 12.        4.25943   4.31303]                           \n",
      "[ 13.        4.21713   4.30555]                           \n",
      "[ 14.        4.20015   4.30612]                           \n",
      "\n"
     ]
    },
    {
     "data": {
      "application/vnd.jupyter.widget-view+json": {
       "model_id": "f749bfa7a8764788aca1b6513628657b",
       "version_major": 2,
       "version_minor": 0
      },
      "text/html": [
       "<p>Failed to display Jupyter Widget of type <code>HBox</code>.</p>\n",
       "<p>\n",
       "  If you're reading this message in the Jupyter Notebook or JupyterLab Notebook, it may mean\n",
       "  that the widgets JavaScript is still loading. If this message persists, it\n",
       "  likely means that the widgets JavaScript library is either not installed or\n",
       "  not enabled. See the <a href=\"https://ipywidgets.readthedocs.io/en/stable/user_install.html\">Jupyter\n",
       "  Widgets Documentation</a> for setup instructions.\n",
       "</p>\n",
       "<p>\n",
       "  If you're reading this message in another frontend (for example, a static\n",
       "  rendering on GitHub or <a href=\"https://nbviewer.jupyter.org/\">NBViewer</a>),\n",
       "  it may mean that your frontend doesn't currently support widgets.\n",
       "</p>\n"
      ],
      "text/plain": [
       "HBox(children=(IntProgress(value=0, description='Epoch', max=5), HTML(value='')))"
      ]
     },
     "metadata": {},
     "output_type": "display_data"
    },
    {
     "name": "stdout",
     "output_type": "stream",
     "text": [
      "[ 0.       4.26536  4.32341]                              \n",
      "[ 1.       4.21713  4.29863]                              \n",
      "[ 2.       4.15813  4.27442]                              \n",
      "[ 3.       4.08144  4.26724]                              \n",
      "[ 4.       4.03548  4.26672]                              \n",
      "\n"
     ]
    },
    {
     "data": {
      "application/vnd.jupyter.widget-view+json": {
       "model_id": "c6b7302b74084ab3957a1971b06c4be8",
       "version_major": 2,
       "version_minor": 0
      },
      "text/html": [
       "<p>Failed to display Jupyter Widget of type <code>HBox</code>.</p>\n",
       "<p>\n",
       "  If you're reading this message in the Jupyter Notebook or JupyterLab Notebook, it may mean\n",
       "  that the widgets JavaScript is still loading. If this message persists, it\n",
       "  likely means that the widgets JavaScript library is either not installed or\n",
       "  not enabled. See the <a href=\"https://ipywidgets.readthedocs.io/en/stable/user_install.html\">Jupyter\n",
       "  Widgets Documentation</a> for setup instructions.\n",
       "</p>\n",
       "<p>\n",
       "  If you're reading this message in another frontend (for example, a static\n",
       "  rendering on GitHub or <a href=\"https://nbviewer.jupyter.org/\">NBViewer</a>),\n",
       "  it may mean that your frontend doesn't currently support widgets.\n",
       "</p>\n"
      ],
      "text/plain": [
       "HBox(children=(IntProgress(value=0, description='Epoch', max=15), HTML(value='')))"
      ]
     },
     "metadata": {},
     "output_type": "display_data"
    },
    {
     "name": "stdout",
     "output_type": "stream",
     "text": [
      "[ 0.       5.54047  5.24563]                              \n",
      "[ 1.       5.21884  4.94375]                              \n",
      "[ 2.       5.00424  4.85123]                              \n",
      "[ 3.       4.90375  4.72996]                              \n",
      "[ 4.       4.77202  4.62514]                              \n",
      "[ 5.       4.66917  4.56116]                              \n",
      "[ 6.       4.61557  4.54849]                              \n",
      "[ 7.       4.6184   4.51304]                              \n",
      "[ 8.       4.55278  4.44749]                              \n",
      "[ 9.       4.47456  4.39954]                              \n",
      "[ 10.        4.4006    4.37075]                           \n",
      "[ 11.        4.32663   4.33524]                           \n",
      "[ 12.        4.27056   4.32016]                           \n",
      "[ 13.        4.23451   4.31154]                           \n",
      "[ 14.        4.21611   4.31317]                           \n",
      "\n"
     ]
    },
    {
     "data": {
      "application/vnd.jupyter.widget-view+json": {
       "model_id": "3625a461a3d3466f9b2aeacd15c9eda3",
       "version_major": 2,
       "version_minor": 0
      },
      "text/html": [
       "<p>Failed to display Jupyter Widget of type <code>HBox</code>.</p>\n",
       "<p>\n",
       "  If you're reading this message in the Jupyter Notebook or JupyterLab Notebook, it may mean\n",
       "  that the widgets JavaScript is still loading. If this message persists, it\n",
       "  likely means that the widgets JavaScript library is either not installed or\n",
       "  not enabled. See the <a href=\"https://ipywidgets.readthedocs.io/en/stable/user_install.html\">Jupyter\n",
       "  Widgets Documentation</a> for setup instructions.\n",
       "</p>\n",
       "<p>\n",
       "  If you're reading this message in another frontend (for example, a static\n",
       "  rendering on GitHub or <a href=\"https://nbviewer.jupyter.org/\">NBViewer</a>),\n",
       "  it may mean that your frontend doesn't currently support widgets.\n",
       "</p>\n"
      ],
      "text/plain": [
       "HBox(children=(IntProgress(value=0, description='Epoch', max=5), HTML(value='')))"
      ]
     },
     "metadata": {},
     "output_type": "display_data"
    },
    {
     "name": "stdout",
     "output_type": "stream",
     "text": [
      "[ 0.       4.28662  4.33651]                              \n",
      "[ 1.       4.24617  4.30588]                              \n",
      "[ 2.       4.17565  4.28509]                              \n",
      "[ 3.       4.10091  4.27041]                              \n",
      "[ 4.       4.0635   4.26761]                              \n",
      "\n"
     ]
    },
    {
     "data": {
      "application/vnd.jupyter.widget-view+json": {
       "model_id": "239aa324752b446e827a39b64b5c69fd",
       "version_major": 2,
       "version_minor": 0
      },
      "text/html": [
       "<p>Failed to display Jupyter Widget of type <code>HBox</code>.</p>\n",
       "<p>\n",
       "  If you're reading this message in the Jupyter Notebook or JupyterLab Notebook, it may mean\n",
       "  that the widgets JavaScript is still loading. If this message persists, it\n",
       "  likely means that the widgets JavaScript library is either not installed or\n",
       "  not enabled. See the <a href=\"https://ipywidgets.readthedocs.io/en/stable/user_install.html\">Jupyter\n",
       "  Widgets Documentation</a> for setup instructions.\n",
       "</p>\n",
       "<p>\n",
       "  If you're reading this message in another frontend (for example, a static\n",
       "  rendering on GitHub or <a href=\"https://nbviewer.jupyter.org/\">NBViewer</a>),\n",
       "  it may mean that your frontend doesn't currently support widgets.\n",
       "</p>\n"
      ],
      "text/plain": [
       "HBox(children=(IntProgress(value=0, description='Epoch', max=15), HTML(value='')))"
      ]
     },
     "metadata": {},
     "output_type": "display_data"
    },
    {
     "name": "stdout",
     "output_type": "stream",
     "text": [
      "[ 0.       5.53796  5.27145]                              \n",
      "[ 1.       5.20233  4.91931]                              \n",
      "[ 2.       4.97965  4.82221]                              \n",
      "[ 3.       4.89579  4.70171]                              \n",
      "[ 4.       4.77002  4.60538]                              \n",
      "[ 5.       4.67121  4.54671]                              \n",
      "[ 6.       4.61769  4.53176]                              \n",
      "[ 7.       4.63673  4.50155]                              \n",
      "[ 8.       4.56832  4.44146]                              \n",
      "[ 9.       4.50564  4.39539]                              \n",
      "[ 10.        4.43296   4.35032]                           \n",
      "[ 11.        4.36974   4.32339]                           \n",
      "[ 12.        4.33486   4.30602]                           \n",
      "[ 13.        4.29504   4.30067]                           \n",
      "[ 14.        4.28193   4.29952]                           \n",
      "\n"
     ]
    },
    {
     "data": {
      "application/vnd.jupyter.widget-view+json": {
       "model_id": "e9f3eb82c262448c856b481a5760ef36",
       "version_major": 2,
       "version_minor": 0
      },
      "text/html": [
       "<p>Failed to display Jupyter Widget of type <code>HBox</code>.</p>\n",
       "<p>\n",
       "  If you're reading this message in the Jupyter Notebook or JupyterLab Notebook, it may mean\n",
       "  that the widgets JavaScript is still loading. If this message persists, it\n",
       "  likely means that the widgets JavaScript library is either not installed or\n",
       "  not enabled. See the <a href=\"https://ipywidgets.readthedocs.io/en/stable/user_install.html\">Jupyter\n",
       "  Widgets Documentation</a> for setup instructions.\n",
       "</p>\n",
       "<p>\n",
       "  If you're reading this message in another frontend (for example, a static\n",
       "  rendering on GitHub or <a href=\"https://nbviewer.jupyter.org/\">NBViewer</a>),\n",
       "  it may mean that your frontend doesn't currently support widgets.\n",
       "</p>\n"
      ],
      "text/plain": [
       "HBox(children=(IntProgress(value=0, description='Epoch', max=5), HTML(value='')))"
      ]
     },
     "metadata": {},
     "output_type": "display_data"
    },
    {
     "name": "stdout",
     "output_type": "stream",
     "text": [
      "[ 0.       4.33898  4.31494]                              \n",
      "[ 1.       4.31117  4.28471]                              \n",
      "[ 2.       4.24487  4.2606 ]                              \n",
      "[ 3.       4.20999  4.24582]                              \n",
      "[ 4.       4.16336  4.2428 ]                              \n",
      "\n"
     ]
    },
    {
     "data": {
      "application/vnd.jupyter.widget-view+json": {
       "model_id": "3f9a6190645d4d4fbdb2e2c3bc398fbc",
       "version_major": 2,
       "version_minor": 0
      },
      "text/html": [
       "<p>Failed to display Jupyter Widget of type <code>HBox</code>.</p>\n",
       "<p>\n",
       "  If you're reading this message in the Jupyter Notebook or JupyterLab Notebook, it may mean\n",
       "  that the widgets JavaScript is still loading. If this message persists, it\n",
       "  likely means that the widgets JavaScript library is either not installed or\n",
       "  not enabled. See the <a href=\"https://ipywidgets.readthedocs.io/en/stable/user_install.html\">Jupyter\n",
       "  Widgets Documentation</a> for setup instructions.\n",
       "</p>\n",
       "<p>\n",
       "  If you're reading this message in another frontend (for example, a static\n",
       "  rendering on GitHub or <a href=\"https://nbviewer.jupyter.org/\">NBViewer</a>),\n",
       "  it may mean that your frontend doesn't currently support widgets.\n",
       "</p>\n"
      ],
      "text/plain": [
       "HBox(children=(IntProgress(value=0, description='Epoch', max=15), HTML(value='')))"
      ]
     },
     "metadata": {},
     "output_type": "display_data"
    },
    {
     "name": "stdout",
     "output_type": "stream",
     "text": [
      "[ 0.       5.53875  5.22433]                              \n",
      "[ 1.       5.2123   4.90097]                              \n",
      "[ 2.       5.00025  4.8116 ]                              \n",
      "[ 3.       4.91383  4.68971]                              \n",
      "[ 4.       4.78565  4.59206]                              \n",
      "[ 5.       4.69217  4.52807]                              \n",
      "[ 6.       4.63098  4.51243]                              \n",
      "[ 7.       4.64636  4.4721 ]                              \n",
      "[ 8.       4.57526  4.41582]                              \n",
      "[ 9.       4.51094  4.36395]                              \n",
      "[ 10.        4.45409   4.32672]                           \n",
      "[ 11.        4.38224   4.30065]                           \n",
      "[ 12.        4.33407   4.28101]                           \n",
      "[ 13.        4.30308   4.27413]                           \n",
      "[ 14.        4.28359   4.27631]                           \n",
      "\n"
     ]
    },
    {
     "data": {
      "application/vnd.jupyter.widget-view+json": {
       "model_id": "624f5ef4e7a1431485331dc3c12b75f0",
       "version_major": 2,
       "version_minor": 0
      },
      "text/html": [
       "<p>Failed to display Jupyter Widget of type <code>HBox</code>.</p>\n",
       "<p>\n",
       "  If you're reading this message in the Jupyter Notebook or JupyterLab Notebook, it may mean\n",
       "  that the widgets JavaScript is still loading. If this message persists, it\n",
       "  likely means that the widgets JavaScript library is either not installed or\n",
       "  not enabled. See the <a href=\"https://ipywidgets.readthedocs.io/en/stable/user_install.html\">Jupyter\n",
       "  Widgets Documentation</a> for setup instructions.\n",
       "</p>\n",
       "<p>\n",
       "  If you're reading this message in another frontend (for example, a static\n",
       "  rendering on GitHub or <a href=\"https://nbviewer.jupyter.org/\">NBViewer</a>),\n",
       "  it may mean that your frontend doesn't currently support widgets.\n",
       "</p>\n"
      ],
      "text/plain": [
       "HBox(children=(IntProgress(value=0, description='Epoch', max=5), HTML(value='')))"
      ]
     },
     "metadata": {},
     "output_type": "display_data"
    },
    {
     "name": "stdout",
     "output_type": "stream",
     "text": [
      "[ 0.       4.33562  4.28953]                              \n",
      "[ 1.       4.3086   4.26065]                              \n",
      "[ 2.       4.24694  4.23492]                              \n",
      "[ 3.       4.19076  4.22575]                              \n",
      "[ 4.       4.16678  4.22129]                              \n",
      "\n"
     ]
    },
    {
     "data": {
      "application/vnd.jupyter.widget-view+json": {
       "model_id": "86f541f6a8dc4b5882e1b9b50d332097",
       "version_major": 2,
       "version_minor": 0
      },
      "text/html": [
       "<p>Failed to display Jupyter Widget of type <code>HBox</code>.</p>\n",
       "<p>\n",
       "  If you're reading this message in the Jupyter Notebook or JupyterLab Notebook, it may mean\n",
       "  that the widgets JavaScript is still loading. If this message persists, it\n",
       "  likely means that the widgets JavaScript library is either not installed or\n",
       "  not enabled. See the <a href=\"https://ipywidgets.readthedocs.io/en/stable/user_install.html\">Jupyter\n",
       "  Widgets Documentation</a> for setup instructions.\n",
       "</p>\n",
       "<p>\n",
       "  If you're reading this message in another frontend (for example, a static\n",
       "  rendering on GitHub or <a href=\"https://nbviewer.jupyter.org/\">NBViewer</a>),\n",
       "  it may mean that your frontend doesn't currently support widgets.\n",
       "</p>\n"
      ],
      "text/plain": [
       "HBox(children=(IntProgress(value=0, description='Epoch', max=15), HTML(value='')))"
      ]
     },
     "metadata": {},
     "output_type": "display_data"
    },
    {
     "name": "stdout",
     "output_type": "stream",
     "text": [
      "[ 0.       5.53953  5.21925]                              \n",
      "[ 1.       5.19864  4.87524]                              \n",
      "[ 2.       4.98302  4.79658]                              \n",
      "[ 3.       4.8878   4.67085]                              \n",
      "[ 4.       4.76796  4.57036]                              \n",
      "[ 5.       4.67307  4.51786]                              \n",
      "[ 6.       4.62524  4.50672]                              \n",
      "[ 7.       4.63586  4.47236]                              \n",
      "[ 8.       4.56862  4.41386]                              \n",
      "[ 9.       4.49387  4.36085]                              \n",
      "[ 10.        4.42049   4.31907]                           \n",
      "[ 11.        4.36462   4.29714]                           \n",
      "[ 12.        4.31565   4.28095]                           \n",
      "[ 13.        4.29081   4.27119]                           \n",
      "[ 14.        4.26875   4.26994]                           \n",
      "\n"
     ]
    },
    {
     "data": {
      "application/vnd.jupyter.widget-view+json": {
       "model_id": "89d590acafd34876a2eec4aa9fbcc5b7",
       "version_major": 2,
       "version_minor": 0
      },
      "text/html": [
       "<p>Failed to display Jupyter Widget of type <code>HBox</code>.</p>\n",
       "<p>\n",
       "  If you're reading this message in the Jupyter Notebook or JupyterLab Notebook, it may mean\n",
       "  that the widgets JavaScript is still loading. If this message persists, it\n",
       "  likely means that the widgets JavaScript library is either not installed or\n",
       "  not enabled. See the <a href=\"https://ipywidgets.readthedocs.io/en/stable/user_install.html\">Jupyter\n",
       "  Widgets Documentation</a> for setup instructions.\n",
       "</p>\n",
       "<p>\n",
       "  If you're reading this message in another frontend (for example, a static\n",
       "  rendering on GitHub or <a href=\"https://nbviewer.jupyter.org/\">NBViewer</a>),\n",
       "  it may mean that your frontend doesn't currently support widgets.\n",
       "</p>\n"
      ],
      "text/plain": [
       "HBox(children=(IntProgress(value=0, description='Epoch', max=5), HTML(value='')))"
      ]
     },
     "metadata": {},
     "output_type": "display_data"
    },
    {
     "name": "stdout",
     "output_type": "stream",
     "text": [
      "[ 0.       4.34143  4.29299]                              \n",
      "[ 1.       4.30499  4.25436]                              \n",
      "[ 2.       4.24849  4.23994]                              \n",
      "[ 3.       4.20002  4.21861]                              \n",
      "[ 4.       4.15521  4.22166]                              \n",
      "\n"
     ]
    },
    {
     "data": {
      "application/vnd.jupyter.widget-view+json": {
       "model_id": "6eeb95f471e74537a5ee1fe3bbb4b81a",
       "version_major": 2,
       "version_minor": 0
      },
      "text/html": [
       "<p>Failed to display Jupyter Widget of type <code>HBox</code>.</p>\n",
       "<p>\n",
       "  If you're reading this message in the Jupyter Notebook or JupyterLab Notebook, it may mean\n",
       "  that the widgets JavaScript is still loading. If this message persists, it\n",
       "  likely means that the widgets JavaScript library is either not installed or\n",
       "  not enabled. See the <a href=\"https://ipywidgets.readthedocs.io/en/stable/user_install.html\">Jupyter\n",
       "  Widgets Documentation</a> for setup instructions.\n",
       "</p>\n",
       "<p>\n",
       "  If you're reading this message in another frontend (for example, a static\n",
       "  rendering on GitHub or <a href=\"https://nbviewer.jupyter.org/\">NBViewer</a>),\n",
       "  it may mean that your frontend doesn't currently support widgets.\n",
       "</p>\n"
      ],
      "text/plain": [
       "HBox(children=(IntProgress(value=0, description='Epoch', max=15), HTML(value='')))"
      ]
     },
     "metadata": {},
     "output_type": "display_data"
    },
    {
     "name": "stdout",
     "output_type": "stream",
     "text": [
      "[ 0.       5.66984  5.49117]                              \n",
      "[ 1.       5.58515  7.68346]                              \n",
      "[ 2.       5.52985  5.54043]                              \n",
      "[ 3.       5.47945  5.23466]                              \n",
      "[ 4.       5.18415  4.98297]                              \n",
      "[ 5.       5.00545  4.88032]                              \n",
      "[ 6.       4.92289  4.85579]                              \n",
      "[ 7.       4.88563  4.75573]                              \n",
      "[ 8.       4.7798   4.66014]                              \n",
      "[ 9.       4.67107  4.61541]                              \n",
      "[ 10.        4.58967   4.53445]                           \n",
      "[ 11.        4.53229   4.49966]                           \n",
      "[ 12.        4.48772   4.4744 ]                           \n",
      "[ 13.        4.46032   4.46624]                           \n",
      "[ 14.        4.43786   4.46401]                           \n",
      "\n"
     ]
    },
    {
     "data": {
      "application/vnd.jupyter.widget-view+json": {
       "model_id": "f9736b9d05d84ec3841a2829053e1c37",
       "version_major": 2,
       "version_minor": 0
      },
      "text/html": [
       "<p>Failed to display Jupyter Widget of type <code>HBox</code>.</p>\n",
       "<p>\n",
       "  If you're reading this message in the Jupyter Notebook or JupyterLab Notebook, it may mean\n",
       "  that the widgets JavaScript is still loading. If this message persists, it\n",
       "  likely means that the widgets JavaScript library is either not installed or\n",
       "  not enabled. See the <a href=\"https://ipywidgets.readthedocs.io/en/stable/user_install.html\">Jupyter\n",
       "  Widgets Documentation</a> for setup instructions.\n",
       "</p>\n",
       "<p>\n",
       "  If you're reading this message in another frontend (for example, a static\n",
       "  rendering on GitHub or <a href=\"https://nbviewer.jupyter.org/\">NBViewer</a>),\n",
       "  it may mean that your frontend doesn't currently support widgets.\n",
       "</p>\n"
      ],
      "text/plain": [
       "HBox(children=(IntProgress(value=0, description='Epoch', max=5), HTML(value='')))"
      ]
     },
     "metadata": {},
     "output_type": "display_data"
    },
    {
     "name": "stdout",
     "output_type": "stream",
     "text": [
      "[ 0.       4.4831   4.46686]                              \n",
      "[ 1.       4.43554  4.43057]                              \n",
      "[ 2.       4.36423  4.39867]                              \n",
      "[ 3.       4.30975  4.37137]                              \n",
      "[ 4.       4.26899  4.3616 ]                              \n",
      "\n"
     ]
    },
    {
     "data": {
      "application/vnd.jupyter.widget-view+json": {
       "model_id": "7fade411205a4b9c87bea3ed2fbdde6e",
       "version_major": 2,
       "version_minor": 0
      },
      "text/html": [
       "<p>Failed to display Jupyter Widget of type <code>HBox</code>.</p>\n",
       "<p>\n",
       "  If you're reading this message in the Jupyter Notebook or JupyterLab Notebook, it may mean\n",
       "  that the widgets JavaScript is still loading. If this message persists, it\n",
       "  likely means that the widgets JavaScript library is either not installed or\n",
       "  not enabled. See the <a href=\"https://ipywidgets.readthedocs.io/en/stable/user_install.html\">Jupyter\n",
       "  Widgets Documentation</a> for setup instructions.\n",
       "</p>\n",
       "<p>\n",
       "  If you're reading this message in another frontend (for example, a static\n",
       "  rendering on GitHub or <a href=\"https://nbviewer.jupyter.org/\">NBViewer</a>),\n",
       "  it may mean that your frontend doesn't currently support widgets.\n",
       "</p>\n"
      ],
      "text/plain": [
       "HBox(children=(IntProgress(value=0, description='Epoch', max=15), HTML(value='')))"
      ]
     },
     "metadata": {},
     "output_type": "display_data"
    },
    {
     "name": "stdout",
     "output_type": "stream",
     "text": [
      "[ 0.       5.70062  5.4901 ]                              \n",
      "[ 1.       5.60999  5.49815]                              \n",
      "[ 2.       5.44018  5.25739]                              \n",
      "[ 3.       5.53896  6.81477]                              \n",
      "[ 4.       5.21425  4.90955]                              \n",
      "[ 5.       4.9882   4.79254]                              \n",
      "[ 6.       4.89733  4.77586]                              \n",
      "[ 7.       4.85983  4.70059]                              \n",
      "[ 8.       4.75525  4.62017]                              \n",
      "[ 9.       4.67726  4.53948]                              \n",
      "[ 10.        4.58958   4.48999]                           \n",
      "[ 11.        4.52439   4.45347]                           \n",
      "[ 12.        4.47644   4.42888]                           \n",
      "[ 13.        4.43822   4.42061]                           \n",
      "[ 14.        4.41953   4.41384]                           \n",
      "\n"
     ]
    },
    {
     "data": {
      "application/vnd.jupyter.widget-view+json": {
       "model_id": "7b99bca382c64e46be12a25b7e4eba7e",
       "version_major": 2,
       "version_minor": 0
      },
      "text/html": [
       "<p>Failed to display Jupyter Widget of type <code>HBox</code>.</p>\n",
       "<p>\n",
       "  If you're reading this message in the Jupyter Notebook or JupyterLab Notebook, it may mean\n",
       "  that the widgets JavaScript is still loading. If this message persists, it\n",
       "  likely means that the widgets JavaScript library is either not installed or\n",
       "  not enabled. See the <a href=\"https://ipywidgets.readthedocs.io/en/stable/user_install.html\">Jupyter\n",
       "  Widgets Documentation</a> for setup instructions.\n",
       "</p>\n",
       "<p>\n",
       "  If you're reading this message in another frontend (for example, a static\n",
       "  rendering on GitHub or <a href=\"https://nbviewer.jupyter.org/\">NBViewer</a>),\n",
       "  it may mean that your frontend doesn't currently support widgets.\n",
       "</p>\n"
      ],
      "text/plain": [
       "HBox(children=(IntProgress(value=0, description='Epoch', max=5), HTML(value='')))"
      ]
     },
     "metadata": {},
     "output_type": "display_data"
    },
    {
     "name": "stdout",
     "output_type": "stream",
     "text": [
      "[ 0.       4.47903  4.43418]                              \n",
      "[ 1.       4.41631  4.37402]                              \n",
      "[ 2.       4.34389  4.34019]                              \n",
      "[ 3.       4.27427  4.31937]                              \n",
      "[ 4.       4.22942  4.31402]                              \n",
      "\n"
     ]
    },
    {
     "data": {
      "application/vnd.jupyter.widget-view+json": {
       "model_id": "7500aa9c73834314805bef6886f21750",
       "version_major": 2,
       "version_minor": 0
      },
      "text/html": [
       "<p>Failed to display Jupyter Widget of type <code>HBox</code>.</p>\n",
       "<p>\n",
       "  If you're reading this message in the Jupyter Notebook or JupyterLab Notebook, it may mean\n",
       "  that the widgets JavaScript is still loading. If this message persists, it\n",
       "  likely means that the widgets JavaScript library is either not installed or\n",
       "  not enabled. See the <a href=\"https://ipywidgets.readthedocs.io/en/stable/user_install.html\">Jupyter\n",
       "  Widgets Documentation</a> for setup instructions.\n",
       "</p>\n",
       "<p>\n",
       "  If you're reading this message in another frontend (for example, a static\n",
       "  rendering on GitHub or <a href=\"https://nbviewer.jupyter.org/\">NBViewer</a>),\n",
       "  it may mean that your frontend doesn't currently support widgets.\n",
       "</p>\n"
      ],
      "text/plain": [
       "HBox(children=(IntProgress(value=0, description='Epoch', max=15), HTML(value='')))"
      ]
     },
     "metadata": {},
     "output_type": "display_data"
    },
    {
     "name": "stdout",
     "output_type": "stream",
     "text": [
      "[ 0.       5.68176  5.5582 ]                              \n",
      "[ 1.       5.59214  5.47471]                              \n",
      "[ 2.       5.42493  5.25965]                              \n",
      "[ 3.       5.51302  5.27595]                              \n",
      "[ 4.       5.18891  4.93051]                              \n",
      "[ 5.       4.97318  4.79617]                              \n",
      "[ 6.       4.87834  4.77485]                              \n",
      "[ 7.       4.84042  4.69523]                              \n",
      "[ 8.       4.7322   4.60574]                              \n",
      "[ 9.       4.64202  4.52544]                              \n",
      "[ 10.        4.55296   4.46466]                           \n",
      "[ 11.        4.48166   4.43006]                           \n",
      "[ 12.        4.42352   4.40484]                           \n",
      "[ 13.        4.39086   4.391  ]                           \n",
      "[ 14.        4.37092   4.39136]                           \n",
      "\n"
     ]
    },
    {
     "data": {
      "application/vnd.jupyter.widget-view+json": {
       "model_id": "16f0c286bf71499d8361f7eca2afeb6f",
       "version_major": 2,
       "version_minor": 0
      },
      "text/html": [
       "<p>Failed to display Jupyter Widget of type <code>HBox</code>.</p>\n",
       "<p>\n",
       "  If you're reading this message in the Jupyter Notebook or JupyterLab Notebook, it may mean\n",
       "  that the widgets JavaScript is still loading. If this message persists, it\n",
       "  likely means that the widgets JavaScript library is either not installed or\n",
       "  not enabled. See the <a href=\"https://ipywidgets.readthedocs.io/en/stable/user_install.html\">Jupyter\n",
       "  Widgets Documentation</a> for setup instructions.\n",
       "</p>\n",
       "<p>\n",
       "  If you're reading this message in another frontend (for example, a static\n",
       "  rendering on GitHub or <a href=\"https://nbviewer.jupyter.org/\">NBViewer</a>),\n",
       "  it may mean that your frontend doesn't currently support widgets.\n",
       "</p>\n"
      ],
      "text/plain": [
       "HBox(children=(IntProgress(value=0, description='Epoch', max=5), HTML(value='')))"
      ]
     },
     "metadata": {},
     "output_type": "display_data"
    },
    {
     "name": "stdout",
     "output_type": "stream",
     "text": [
      "[ 0.       4.42789  4.39545]                              \n",
      "[ 1.       4.36765  4.35187]                              \n",
      "[ 2.       4.29544  4.31814]                              \n",
      "[ 3.       4.2311   4.30127]                              \n",
      "[ 4.       4.19049  4.29694]                              \n",
      "\n"
     ]
    },
    {
     "data": {
      "application/vnd.jupyter.widget-view+json": {
       "model_id": "89d71c8739814fc7ab10556980a1da2d",
       "version_major": 2,
       "version_minor": 0
      },
      "text/html": [
       "<p>Failed to display Jupyter Widget of type <code>HBox</code>.</p>\n",
       "<p>\n",
       "  If you're reading this message in the Jupyter Notebook or JupyterLab Notebook, it may mean\n",
       "  that the widgets JavaScript is still loading. If this message persists, it\n",
       "  likely means that the widgets JavaScript library is either not installed or\n",
       "  not enabled. See the <a href=\"https://ipywidgets.readthedocs.io/en/stable/user_install.html\">Jupyter\n",
       "  Widgets Documentation</a> for setup instructions.\n",
       "</p>\n",
       "<p>\n",
       "  If you're reading this message in another frontend (for example, a static\n",
       "  rendering on GitHub or <a href=\"https://nbviewer.jupyter.org/\">NBViewer</a>),\n",
       "  it may mean that your frontend doesn't currently support widgets.\n",
       "</p>\n"
      ],
      "text/plain": [
       "HBox(children=(IntProgress(value=0, description='Epoch', max=15), HTML(value='')))"
      ]
     },
     "metadata": {},
     "output_type": "display_data"
    },
    {
     "name": "stdout",
     "output_type": "stream",
     "text": [
      "[ 0.       5.69907  5.48478]                              \n",
      "[ 1.       5.46372  5.18806]                              \n",
      "[ 2.       5.23407  5.09478]                              \n",
      "[ 3.       5.11056  4.90893]                              \n",
      "[ 4.       4.96885  4.80462]                              \n",
      "[ 5.       4.87094  4.74356]                              \n",
      "[ 6.       4.81805  4.73545]                              \n",
      "[ 7.       4.81959  4.70208]                              \n",
      "[ 8.       4.75312  4.61871]                              \n",
      "[ 9.       4.69961  4.57322]                              \n",
      "[ 10.        4.64254   4.53145]                           \n",
      "[ 11.        4.59391   4.50207]                           \n",
      "[ 12.        4.55172   4.4812 ]                           \n",
      "[ 13.        4.52845   4.46962]                           \n",
      "[ 14.        4.51743   4.46771]                           \n",
      "\n"
     ]
    },
    {
     "data": {
      "application/vnd.jupyter.widget-view+json": {
       "model_id": "756d449f45704e19bc4e242fcc1c6a56",
       "version_major": 2,
       "version_minor": 0
      },
      "text/html": [
       "<p>Failed to display Jupyter Widget of type <code>HBox</code>.</p>\n",
       "<p>\n",
       "  If you're reading this message in the Jupyter Notebook or JupyterLab Notebook, it may mean\n",
       "  that the widgets JavaScript is still loading. If this message persists, it\n",
       "  likely means that the widgets JavaScript library is either not installed or\n",
       "  not enabled. See the <a href=\"https://ipywidgets.readthedocs.io/en/stable/user_install.html\">Jupyter\n",
       "  Widgets Documentation</a> for setup instructions.\n",
       "</p>\n",
       "<p>\n",
       "  If you're reading this message in another frontend (for example, a static\n",
       "  rendering on GitHub or <a href=\"https://nbviewer.jupyter.org/\">NBViewer</a>),\n",
       "  it may mean that your frontend doesn't currently support widgets.\n",
       "</p>\n"
      ],
      "text/plain": [
       "HBox(children=(IntProgress(value=0, description='Epoch', max=5), HTML(value='')))"
      ]
     },
     "metadata": {},
     "output_type": "display_data"
    },
    {
     "name": "stdout",
     "output_type": "stream",
     "text": [
      "[ 0.       4.55155  4.4696 ]                              \n",
      "[ 1.       4.50867  4.43426]                              \n",
      "[ 2.       4.459    4.39313]                              \n",
      "[ 3.       4.41631  4.37331]                              \n",
      "[ 4.       4.39328  4.36914]                              \n",
      "\n"
     ]
    },
    {
     "data": {
      "application/vnd.jupyter.widget-view+json": {
       "model_id": "b58816bfc39c4c5ab09ddcbd2d0d51ee",
       "version_major": 2,
       "version_minor": 0
      },
      "text/html": [
       "<p>Failed to display Jupyter Widget of type <code>HBox</code>.</p>\n",
       "<p>\n",
       "  If you're reading this message in the Jupyter Notebook or JupyterLab Notebook, it may mean\n",
       "  that the widgets JavaScript is still loading. If this message persists, it\n",
       "  likely means that the widgets JavaScript library is either not installed or\n",
       "  not enabled. See the <a href=\"https://ipywidgets.readthedocs.io/en/stable/user_install.html\">Jupyter\n",
       "  Widgets Documentation</a> for setup instructions.\n",
       "</p>\n",
       "<p>\n",
       "  If you're reading this message in another frontend (for example, a static\n",
       "  rendering on GitHub or <a href=\"https://nbviewer.jupyter.org/\">NBViewer</a>),\n",
       "  it may mean that your frontend doesn't currently support widgets.\n",
       "</p>\n"
      ],
      "text/plain": [
       "HBox(children=(IntProgress(value=0, description='Epoch', max=15), HTML(value='')))"
      ]
     },
     "metadata": {},
     "output_type": "display_data"
    },
    {
     "name": "stdout",
     "output_type": "stream",
     "text": [
      "[ 0.       5.74916  5.48906]                              \n",
      "[ 1.       5.38677  5.0513 ]                              \n",
      "[ 2.       5.14925  4.95593]                              \n",
      "[ 3.       5.02954  4.79109]                              \n",
      "[ 4.       4.89659  4.69032]                              \n",
      "[ 5.       4.80799  4.64171]                              \n",
      "[ 6.       4.75589  4.62786]                              \n",
      "[ 7.       4.75941  4.58037]                              \n",
      "[ 8.       4.70079  4.52761]                              \n",
      "[ 9.       4.62124  4.46959]                              \n",
      "[ 10.        4.56215   4.43841]                           \n",
      "[ 11.        4.51096   4.39924]                           \n",
      "[ 12.        4.4667    4.37391]                           \n",
      "[ 13.        4.43823   4.36095]                           \n",
      "[ 14.        4.4129    4.35933]                           \n",
      "\n"
     ]
    },
    {
     "data": {
      "application/vnd.jupyter.widget-view+json": {
       "model_id": "63003ce9ba7e46be9b82f541378feeb1",
       "version_major": 2,
       "version_minor": 0
      },
      "text/html": [
       "<p>Failed to display Jupyter Widget of type <code>HBox</code>.</p>\n",
       "<p>\n",
       "  If you're reading this message in the Jupyter Notebook or JupyterLab Notebook, it may mean\n",
       "  that the widgets JavaScript is still loading. If this message persists, it\n",
       "  likely means that the widgets JavaScript library is either not installed or\n",
       "  not enabled. See the <a href=\"https://ipywidgets.readthedocs.io/en/stable/user_install.html\">Jupyter\n",
       "  Widgets Documentation</a> for setup instructions.\n",
       "</p>\n",
       "<p>\n",
       "  If you're reading this message in another frontend (for example, a static\n",
       "  rendering on GitHub or <a href=\"https://nbviewer.jupyter.org/\">NBViewer</a>),\n",
       "  it may mean that your frontend doesn't currently support widgets.\n",
       "</p>\n"
      ],
      "text/plain": [
       "HBox(children=(IntProgress(value=0, description='Epoch', max=5), HTML(value='')))"
      ]
     },
     "metadata": {},
     "output_type": "display_data"
    },
    {
     "name": "stdout",
     "output_type": "stream",
     "text": [
      "[ 0.       4.47523  4.37203]                              \n",
      "[ 1.       4.42686  4.32801]                              \n",
      "[ 2.       4.37237  4.30202]                              \n",
      "[ 3.       4.32572  4.28195]                              \n",
      "[ 4.       4.28625  4.27874]                              \n",
      "\n"
     ]
    },
    {
     "data": {
      "application/vnd.jupyter.widget-view+json": {
       "model_id": "b44f3294c30b4503a116302bc8ddc5c4",
       "version_major": 2,
       "version_minor": 0
      },
      "text/html": [
       "<p>Failed to display Jupyter Widget of type <code>HBox</code>.</p>\n",
       "<p>\n",
       "  If you're reading this message in the Jupyter Notebook or JupyterLab Notebook, it may mean\n",
       "  that the widgets JavaScript is still loading. If this message persists, it\n",
       "  likely means that the widgets JavaScript library is either not installed or\n",
       "  not enabled. See the <a href=\"https://ipywidgets.readthedocs.io/en/stable/user_install.html\">Jupyter\n",
       "  Widgets Documentation</a> for setup instructions.\n",
       "</p>\n",
       "<p>\n",
       "  If you're reading this message in another frontend (for example, a static\n",
       "  rendering on GitHub or <a href=\"https://nbviewer.jupyter.org/\">NBViewer</a>),\n",
       "  it may mean that your frontend doesn't currently support widgets.\n",
       "</p>\n"
      ],
      "text/plain": [
       "HBox(children=(IntProgress(value=0, description='Epoch', max=15), HTML(value='')))"
      ]
     },
     "metadata": {},
     "output_type": "display_data"
    },
    {
     "name": "stdout",
     "output_type": "stream",
     "text": [
      "[ 0.       5.73023  5.57071]                              \n",
      "[ 1.       5.42706  5.08633]                              \n",
      "[ 2.       5.18435  5.00718]                              \n",
      "[ 3.       5.05646  4.83176]                              \n",
      "[ 4.       4.92043  4.77123]                              \n",
      "[ 5.       4.84895  4.68182]                              \n",
      "[ 6.       4.8024   4.66875]                              \n",
      "[ 7.       4.79282  4.62848]                              \n",
      "[ 8.       4.72964  4.57486]                              \n",
      "[ 9.       4.65426  4.49732]                              \n",
      "[ 10.        4.59102   4.45676]                           \n",
      "[ 11.        4.5326    4.42822]                           \n",
      "[ 12.        4.50573   4.40688]                           \n",
      "[ 13.        4.48227   4.40257]                           \n",
      "[ 14.        4.47291   4.40044]                           \n",
      "\n"
     ]
    },
    {
     "data": {
      "application/vnd.jupyter.widget-view+json": {
       "model_id": "65663a33ef6141008f392b52c5e72bdf",
       "version_major": 2,
       "version_minor": 0
      },
      "text/html": [
       "<p>Failed to display Jupyter Widget of type <code>HBox</code>.</p>\n",
       "<p>\n",
       "  If you're reading this message in the Jupyter Notebook or JupyterLab Notebook, it may mean\n",
       "  that the widgets JavaScript is still loading. If this message persists, it\n",
       "  likely means that the widgets JavaScript library is either not installed or\n",
       "  not enabled. See the <a href=\"https://ipywidgets.readthedocs.io/en/stable/user_install.html\">Jupyter\n",
       "  Widgets Documentation</a> for setup instructions.\n",
       "</p>\n",
       "<p>\n",
       "  If you're reading this message in another frontend (for example, a static\n",
       "  rendering on GitHub or <a href=\"https://nbviewer.jupyter.org/\">NBViewer</a>),\n",
       "  it may mean that your frontend doesn't currently support widgets.\n",
       "</p>\n"
      ],
      "text/plain": [
       "HBox(children=(IntProgress(value=0, description='Epoch', max=5), HTML(value='')))"
      ]
     },
     "metadata": {},
     "output_type": "display_data"
    },
    {
     "name": "stdout",
     "output_type": "stream",
     "text": [
      "[ 0.       4.50227  4.40789]                              \n",
      "[ 1.       4.47055  4.36597]                              \n",
      "[ 2.       4.422    4.33649]                              \n",
      "[ 3.       4.37338  4.32213]                              \n",
      "[ 4.       4.3452   4.31589]                              \n",
      "\n"
     ]
    },
    {
     "data": {
      "application/vnd.jupyter.widget-view+json": {
       "model_id": "ede40e2b65944027a8c014b2c6a94820",
       "version_major": 2,
       "version_minor": 0
      },
      "text/html": [
       "<p>Failed to display Jupyter Widget of type <code>HBox</code>.</p>\n",
       "<p>\n",
       "  If you're reading this message in the Jupyter Notebook or JupyterLab Notebook, it may mean\n",
       "  that the widgets JavaScript is still loading. If this message persists, it\n",
       "  likely means that the widgets JavaScript library is either not installed or\n",
       "  not enabled. See the <a href=\"https://ipywidgets.readthedocs.io/en/stable/user_install.html\">Jupyter\n",
       "  Widgets Documentation</a> for setup instructions.\n",
       "</p>\n",
       "<p>\n",
       "  If you're reading this message in another frontend (for example, a static\n",
       "  rendering on GitHub or <a href=\"https://nbviewer.jupyter.org/\">NBViewer</a>),\n",
       "  it may mean that your frontend doesn't currently support widgets.\n",
       "</p>\n"
      ],
      "text/plain": [
       "HBox(children=(IntProgress(value=0, description='Epoch', max=15), HTML(value='')))"
      ]
     },
     "metadata": {},
     "output_type": "display_data"
    },
    {
     "name": "stdout",
     "output_type": "stream",
     "text": [
      "[ 0.       5.65195  5.48869]                              \n",
      "[  1.        5.5626   10.03418]                           \n",
      "[ 2.       5.55115  5.47098]                              \n",
      "[ 3.       5.54719  5.48787]                              \n",
      "[ 4.       5.5315   5.48498]                              \n",
      "[ 5.       5.46207  5.2922 ]                              \n",
      "[ 6.       5.29531  5.19623]                              \n",
      "[ 7.       5.21886  5.03469]                              \n",
      "[ 8.       5.04531  4.88766]                              \n",
      "[ 9.       4.91689  4.8002 ]                              \n",
      "[ 10.        4.82866   4.7462 ]                           \n",
      "[ 11.        4.76844   4.7073 ]                           \n",
      "[ 12.        4.72654   4.67748]                           \n",
      "[ 13.        4.69588   4.66016]                           \n",
      "[ 14.        4.68999   4.66029]                           \n",
      "\n"
     ]
    },
    {
     "data": {
      "application/vnd.jupyter.widget-view+json": {
       "model_id": "b75ca3e5e4ae41c6a9202791dc0b91fd",
       "version_major": 2,
       "version_minor": 0
      },
      "text/html": [
       "<p>Failed to display Jupyter Widget of type <code>HBox</code>.</p>\n",
       "<p>\n",
       "  If you're reading this message in the Jupyter Notebook or JupyterLab Notebook, it may mean\n",
       "  that the widgets JavaScript is still loading. If this message persists, it\n",
       "  likely means that the widgets JavaScript library is either not installed or\n",
       "  not enabled. See the <a href=\"https://ipywidgets.readthedocs.io/en/stable/user_install.html\">Jupyter\n",
       "  Widgets Documentation</a> for setup instructions.\n",
       "</p>\n",
       "<p>\n",
       "  If you're reading this message in another frontend (for example, a static\n",
       "  rendering on GitHub or <a href=\"https://nbviewer.jupyter.org/\">NBViewer</a>),\n",
       "  it may mean that your frontend doesn't currently support widgets.\n",
       "</p>\n"
      ],
      "text/plain": [
       "HBox(children=(IntProgress(value=0, description='Epoch', max=5), HTML(value='')))"
      ]
     },
     "metadata": {},
     "output_type": "display_data"
    },
    {
     "name": "stdout",
     "output_type": "stream",
     "text": [
      "[ 0.       4.71955  4.6713 ]                              \n",
      "[ 1.       4.66376  4.60814]                              \n",
      "[ 2.       4.60047  4.56071]                              \n",
      "[ 3.       4.55749  4.53994]                              \n",
      "[ 4.       4.53046  4.53352]                              \n",
      "\n"
     ]
    },
    {
     "data": {
      "application/vnd.jupyter.widget-view+json": {
       "model_id": "4febaaf18f414da89e073f88d37d7225",
       "version_major": 2,
       "version_minor": 0
      },
      "text/html": [
       "<p>Failed to display Jupyter Widget of type <code>HBox</code>.</p>\n",
       "<p>\n",
       "  If you're reading this message in the Jupyter Notebook or JupyterLab Notebook, it may mean\n",
       "  that the widgets JavaScript is still loading. If this message persists, it\n",
       "  likely means that the widgets JavaScript library is either not installed or\n",
       "  not enabled. See the <a href=\"https://ipywidgets.readthedocs.io/en/stable/user_install.html\">Jupyter\n",
       "  Widgets Documentation</a> for setup instructions.\n",
       "</p>\n",
       "<p>\n",
       "  If you're reading this message in another frontend (for example, a static\n",
       "  rendering on GitHub or <a href=\"https://nbviewer.jupyter.org/\">NBViewer</a>),\n",
       "  it may mean that your frontend doesn't currently support widgets.\n",
       "</p>\n"
      ],
      "text/plain": [
       "HBox(children=(IntProgress(value=0, description='Epoch', max=15), HTML(value='')))"
      ]
     },
     "metadata": {},
     "output_type": "display_data"
    },
    {
     "name": "stdout",
     "output_type": "stream",
     "text": [
      "[ 0.       5.68442  5.4874 ]                              \n",
      "[ 1.       5.59317  5.48922]                              \n",
      "[ 2.       5.55939  5.48251]                              \n",
      "[ 3.       5.56693  5.48695]                              \n",
      "[ 4.       5.55973  5.48099]                              \n",
      "[ 5.       5.5136   5.33749]                              \n",
      "[ 6.       5.36594  5.22724]                              \n",
      "[ 7.       5.28328  5.05989]                              \n",
      "[ 8.       5.10763  4.91082]                              \n",
      "[ 9.       4.97285  4.80129]                              \n",
      "[ 10.        4.86681   4.72396]                           \n",
      "[ 11.        4.79079   4.67467]                           \n",
      "[ 12.       4.7294   4.6379]                              \n",
      "[ 13.        4.69096   4.61873]                           \n",
      "[ 14.        4.67317   4.61796]                           \n",
      "\n"
     ]
    },
    {
     "data": {
      "application/vnd.jupyter.widget-view+json": {
       "model_id": "41caf7b41a944320a71afe23c1bce102",
       "version_major": 2,
       "version_minor": 0
      },
      "text/html": [
       "<p>Failed to display Jupyter Widget of type <code>HBox</code>.</p>\n",
       "<p>\n",
       "  If you're reading this message in the Jupyter Notebook or JupyterLab Notebook, it may mean\n",
       "  that the widgets JavaScript is still loading. If this message persists, it\n",
       "  likely means that the widgets JavaScript library is either not installed or\n",
       "  not enabled. See the <a href=\"https://ipywidgets.readthedocs.io/en/stable/user_install.html\">Jupyter\n",
       "  Widgets Documentation</a> for setup instructions.\n",
       "</p>\n",
       "<p>\n",
       "  If you're reading this message in another frontend (for example, a static\n",
       "  rendering on GitHub or <a href=\"https://nbviewer.jupyter.org/\">NBViewer</a>),\n",
       "  it may mean that your frontend doesn't currently support widgets.\n",
       "</p>\n"
      ],
      "text/plain": [
       "HBox(children=(IntProgress(value=0, description='Epoch', max=5), HTML(value='')))"
      ]
     },
     "metadata": {},
     "output_type": "display_data"
    },
    {
     "name": "stdout",
     "output_type": "stream",
     "text": [
      "[ 0.       4.70759  4.61738]                              \n",
      "[ 1.       4.65612  4.5605 ]                              \n",
      "[ 2.       4.58798  4.50939]                              \n",
      "[ 3.       4.52451  4.48487]                              \n",
      "[ 4.       4.49668  4.47668]                              \n",
      "\n"
     ]
    },
    {
     "data": {
      "application/vnd.jupyter.widget-view+json": {
       "model_id": "ff0c8aa6354d415d9bdec445e79db980",
       "version_major": 2,
       "version_minor": 0
      },
      "text/html": [
       "<p>Failed to display Jupyter Widget of type <code>HBox</code>.</p>\n",
       "<p>\n",
       "  If you're reading this message in the Jupyter Notebook or JupyterLab Notebook, it may mean\n",
       "  that the widgets JavaScript is still loading. If this message persists, it\n",
       "  likely means that the widgets JavaScript library is either not installed or\n",
       "  not enabled. See the <a href=\"https://ipywidgets.readthedocs.io/en/stable/user_install.html\">Jupyter\n",
       "  Widgets Documentation</a> for setup instructions.\n",
       "</p>\n",
       "<p>\n",
       "  If you're reading this message in another frontend (for example, a static\n",
       "  rendering on GitHub or <a href=\"https://nbviewer.jupyter.org/\">NBViewer</a>),\n",
       "  it may mean that your frontend doesn't currently support widgets.\n",
       "</p>\n"
      ],
      "text/plain": [
       "HBox(children=(IntProgress(value=0, description='Epoch', max=15), HTML(value='')))"
      ]
     },
     "metadata": {},
     "output_type": "display_data"
    },
    {
     "name": "stdout",
     "output_type": "stream",
     "text": [
      "[ 0.       5.79072  5.4803 ]                              \n",
      "[ 1.       5.60601  5.48318]                              \n",
      "[ 2.       5.55723  5.46978]                              \n",
      "[ 3.       5.55911  5.47215]                              \n",
      "[ 4.       5.54616  5.47561]                              \n",
      "[ 5.       5.54408  5.46946]                              \n",
      "[ 6.       5.53697  5.46654]                              \n",
      "[ 7.       5.54315  5.47391]                              \n",
      "[ 8.       5.53918  5.47127]                              \n",
      "[ 9.       5.53909  5.50478]                              \n",
      "[ 10.        5.53993   5.47135]                           \n",
      "[ 11.        5.53519   5.47405]                           \n",
      "[ 12.       5.5263   5.4424]                              \n",
      "[ 13.        5.40327   5.25032]                           \n",
      "[ 14.        5.333     5.23644]                           \n",
      "\n"
     ]
    },
    {
     "data": {
      "application/vnd.jupyter.widget-view+json": {
       "model_id": "fcec9a553c11463abcb7800059cf34c5",
       "version_major": 2,
       "version_minor": 0
      },
      "text/html": [
       "<p>Failed to display Jupyter Widget of type <code>HBox</code>.</p>\n",
       "<p>\n",
       "  If you're reading this message in the Jupyter Notebook or JupyterLab Notebook, it may mean\n",
       "  that the widgets JavaScript is still loading. If this message persists, it\n",
       "  likely means that the widgets JavaScript library is either not installed or\n",
       "  not enabled. See the <a href=\"https://ipywidgets.readthedocs.io/en/stable/user_install.html\">Jupyter\n",
       "  Widgets Documentation</a> for setup instructions.\n",
       "</p>\n",
       "<p>\n",
       "  If you're reading this message in another frontend (for example, a static\n",
       "  rendering on GitHub or <a href=\"https://nbviewer.jupyter.org/\">NBViewer</a>),\n",
       "  it may mean that your frontend doesn't currently support widgets.\n",
       "</p>\n"
      ],
      "text/plain": [
       "HBox(children=(IntProgress(value=0, description='Epoch', max=5), HTML(value='')))"
      ]
     },
     "metadata": {},
     "output_type": "display_data"
    },
    {
     "name": "stdout",
     "output_type": "stream",
     "text": [
      "[ 0.       5.29267  5.14699]                              \n",
      "[ 1.       5.12039  4.95901]                              \n",
      "[ 2.       4.97974  4.84303]                              \n",
      "[ 3.       4.89832  4.78607]                              \n",
      "[ 4.       4.85415  4.77783]                              \n",
      "\n"
     ]
    },
    {
     "data": {
      "application/vnd.jupyter.widget-view+json": {
       "model_id": "df08fd5ed0674d67a816a81a28b4c3fa",
       "version_major": 2,
       "version_minor": 0
      },
      "text/html": [
       "<p>Failed to display Jupyter Widget of type <code>HBox</code>.</p>\n",
       "<p>\n",
       "  If you're reading this message in the Jupyter Notebook or JupyterLab Notebook, it may mean\n",
       "  that the widgets JavaScript is still loading. If this message persists, it\n",
       "  likely means that the widgets JavaScript library is either not installed or\n",
       "  not enabled. See the <a href=\"https://ipywidgets.readthedocs.io/en/stable/user_install.html\">Jupyter\n",
       "  Widgets Documentation</a> for setup instructions.\n",
       "</p>\n",
       "<p>\n",
       "  If you're reading this message in another frontend (for example, a static\n",
       "  rendering on GitHub or <a href=\"https://nbviewer.jupyter.org/\">NBViewer</a>),\n",
       "  it may mean that your frontend doesn't currently support widgets.\n",
       "</p>\n"
      ],
      "text/plain": [
       "HBox(children=(IntProgress(value=0, description='Epoch', max=15), HTML(value='')))"
      ]
     },
     "metadata": {},
     "output_type": "display_data"
    },
    {
     "name": "stdout",
     "output_type": "stream",
     "text": [
      "[ 0.      5.6667  5.4959]                                 \n",
      "[ 1.       5.63114  5.48686]                              \n",
      "[ 2.       5.54798  5.48064]                              \n",
      "[ 3.       5.54176  5.48563]                              \n",
      "[ 4.       5.53244  5.48201]                              \n",
      "[ 5.       5.50481  5.39407]                              \n",
      "[ 6.       5.38894  5.29305]                              \n",
      "[ 7.       5.27279  5.01655]                              \n",
      "[ 8.       5.05103  4.85683]                              \n",
      "[ 9.       4.92504  4.77541]                              \n",
      "[ 10.        4.84853   4.70726]                           \n",
      "[ 11.        4.76954   4.65439]                           \n",
      "[ 12.        4.7236    4.62489]                           \n",
      "[ 13.        4.69713   4.61034]                           \n",
      "[ 14.        4.68708   4.61476]                           \n",
      "\n"
     ]
    },
    {
     "data": {
      "application/vnd.jupyter.widget-view+json": {
       "model_id": "6a4a79c47a1a4457a43911b734558be7",
       "version_major": 2,
       "version_minor": 0
      },
      "text/html": [
       "<p>Failed to display Jupyter Widget of type <code>HBox</code>.</p>\n",
       "<p>\n",
       "  If you're reading this message in the Jupyter Notebook or JupyterLab Notebook, it may mean\n",
       "  that the widgets JavaScript is still loading. If this message persists, it\n",
       "  likely means that the widgets JavaScript library is either not installed or\n",
       "  not enabled. See the <a href=\"https://ipywidgets.readthedocs.io/en/stable/user_install.html\">Jupyter\n",
       "  Widgets Documentation</a> for setup instructions.\n",
       "</p>\n",
       "<p>\n",
       "  If you're reading this message in another frontend (for example, a static\n",
       "  rendering on GitHub or <a href=\"https://nbviewer.jupyter.org/\">NBViewer</a>),\n",
       "  it may mean that your frontend doesn't currently support widgets.\n",
       "</p>\n"
      ],
      "text/plain": [
       "HBox(children=(IntProgress(value=0, description='Epoch', max=5), HTML(value='')))"
      ]
     },
     "metadata": {},
     "output_type": "display_data"
    },
    {
     "name": "stdout",
     "output_type": "stream",
     "text": [
      "[ 0.       4.71423  4.60818]                              \n",
      "[ 1.       4.66647  4.55417]                              \n",
      "[ 2.       4.59973  4.50528]                              \n",
      "[ 3.       4.55419  4.48419]                              \n",
      "[ 4.       4.52966  4.47633]                              \n",
      "\n"
     ]
    },
    {
     "data": {
      "application/vnd.jupyter.widget-view+json": {
       "model_id": "bbaa7b79554f4b299a284ba17ba9e7d2",
       "version_major": 2,
       "version_minor": 0
      },
      "text/html": [
       "<p>Failed to display Jupyter Widget of type <code>HBox</code>.</p>\n",
       "<p>\n",
       "  If you're reading this message in the Jupyter Notebook or JupyterLab Notebook, it may mean\n",
       "  that the widgets JavaScript is still loading. If this message persists, it\n",
       "  likely means that the widgets JavaScript library is either not installed or\n",
       "  not enabled. See the <a href=\"https://ipywidgets.readthedocs.io/en/stable/user_install.html\">Jupyter\n",
       "  Widgets Documentation</a> for setup instructions.\n",
       "</p>\n",
       "<p>\n",
       "  If you're reading this message in another frontend (for example, a static\n",
       "  rendering on GitHub or <a href=\"https://nbviewer.jupyter.org/\">NBViewer</a>),\n",
       "  it may mean that your frontend doesn't currently support widgets.\n",
       "</p>\n"
      ],
      "text/plain": [
       "HBox(children=(IntProgress(value=0, description='Epoch', max=15), HTML(value='')))"
      ]
     },
     "metadata": {},
     "output_type": "display_data"
    },
    {
     "name": "stdout",
     "output_type": "stream",
     "text": [
      "[ 0.       5.7016   5.49119]                              \n",
      "[ 1.       5.60169  5.6338 ]                              \n",
      "[ 2.       5.57581  5.48358]                              \n",
      "[ 3.      5.5729  5.4853]                                 \n",
      "[ 4.       5.56325  5.4801 ]                              \n",
      "[ 5.       5.55685  5.47919]                              \n",
      "[ 6.       5.54887  5.47364]                              \n",
      "[ 7.       5.5708   5.48785]                              \n",
      "[ 8.       5.56123  5.47743]                              \n",
      "[ 9.       5.38029  5.11368]                              \n",
      "[ 10.        5.17594   4.94816]                           \n",
      "[ 11.        5.0431    4.85282]                           \n",
      "[ 12.        4.96524   4.80999]                           \n",
      "[ 13.        4.9279    4.78948]                           \n",
      "[ 14.        4.90935   4.789  ]                           \n",
      "\n"
     ]
    },
    {
     "data": {
      "application/vnd.jupyter.widget-view+json": {
       "model_id": "25af1e04cbcf447386c7cfad1d5404ad",
       "version_major": 2,
       "version_minor": 0
      },
      "text/html": [
       "<p>Failed to display Jupyter Widget of type <code>HBox</code>.</p>\n",
       "<p>\n",
       "  If you're reading this message in the Jupyter Notebook or JupyterLab Notebook, it may mean\n",
       "  that the widgets JavaScript is still loading. If this message persists, it\n",
       "  likely means that the widgets JavaScript library is either not installed or\n",
       "  not enabled. See the <a href=\"https://ipywidgets.readthedocs.io/en/stable/user_install.html\">Jupyter\n",
       "  Widgets Documentation</a> for setup instructions.\n",
       "</p>\n",
       "<p>\n",
       "  If you're reading this message in another frontend (for example, a static\n",
       "  rendering on GitHub or <a href=\"https://nbviewer.jupyter.org/\">NBViewer</a>),\n",
       "  it may mean that your frontend doesn't currently support widgets.\n",
       "</p>\n"
      ],
      "text/plain": [
       "HBox(children=(IntProgress(value=0, description='Epoch', max=5), HTML(value='')))"
      ]
     },
     "metadata": {},
     "output_type": "display_data"
    },
    {
     "name": "stdout",
     "output_type": "stream",
     "text": [
      "[ 0.       4.91844  4.76286]                              \n",
      "[ 1.       4.86039  4.67932]                              \n",
      "[ 2.       4.79808  4.63122]                              \n",
      "[ 3.       4.7368   4.60336]                              \n",
      "[ 4.       4.71745  4.59595]                              \n",
      "\n"
     ]
    },
    {
     "data": {
      "application/vnd.jupyter.widget-view+json": {
       "model_id": "4649e94e8e034eeca221baf12907233d",
       "version_major": 2,
       "version_minor": 0
      },
      "text/html": [
       "<p>Failed to display Jupyter Widget of type <code>HBox</code>.</p>\n",
       "<p>\n",
       "  If you're reading this message in the Jupyter Notebook or JupyterLab Notebook, it may mean\n",
       "  that the widgets JavaScript is still loading. If this message persists, it\n",
       "  likely means that the widgets JavaScript library is either not installed or\n",
       "  not enabled. See the <a href=\"https://ipywidgets.readthedocs.io/en/stable/user_install.html\">Jupyter\n",
       "  Widgets Documentation</a> for setup instructions.\n",
       "</p>\n",
       "<p>\n",
       "  If you're reading this message in another frontend (for example, a static\n",
       "  rendering on GitHub or <a href=\"https://nbviewer.jupyter.org/\">NBViewer</a>),\n",
       "  it may mean that your frontend doesn't currently support widgets.\n",
       "</p>\n"
      ],
      "text/plain": [
       "HBox(children=(IntProgress(value=0, description='Epoch', max=15), HTML(value='')))"
      ]
     },
     "metadata": {},
     "output_type": "display_data"
    },
    {
     "name": "stdout",
     "output_type": "stream",
     "text": [
      "[ 0.       5.69638  5.47856]                              \n",
      "[ 1.       5.59059  5.48113]                              \n",
      "[ 2.       5.54439  5.44616]                              \n",
      "[ 3.       5.55903  5.4724 ]                              \n",
      "[ 4.       5.51207  5.29203]                              \n",
      "[ 5.       5.28894  5.07181]                              \n",
      "[ 6.       5.16974  5.03421]                              \n",
      "[ 7.       5.12007  4.88867]                              \n",
      "[ 8.       4.98388  4.79   ]                              \n",
      "[ 9.       4.89771  4.71398]                              \n",
      "[ 10.        4.81506   4.65922]                           \n",
      "[ 11.        4.75118   4.61695]                           \n",
      "[ 12.        4.71258   4.58914]                           \n",
      "[ 13.        4.68511   4.57849]                           \n",
      "[ 14.        4.68145   4.57601]                           \n",
      "\n"
     ]
    },
    {
     "data": {
      "application/vnd.jupyter.widget-view+json": {
       "model_id": "28dcf70ea49d446a80f6a2295dcbdf21",
       "version_major": 2,
       "version_minor": 0
      },
      "text/html": [
       "<p>Failed to display Jupyter Widget of type <code>HBox</code>.</p>\n",
       "<p>\n",
       "  If you're reading this message in the Jupyter Notebook or JupyterLab Notebook, it may mean\n",
       "  that the widgets JavaScript is still loading. If this message persists, it\n",
       "  likely means that the widgets JavaScript library is either not installed or\n",
       "  not enabled. See the <a href=\"https://ipywidgets.readthedocs.io/en/stable/user_install.html\">Jupyter\n",
       "  Widgets Documentation</a> for setup instructions.\n",
       "</p>\n",
       "<p>\n",
       "  If you're reading this message in another frontend (for example, a static\n",
       "  rendering on GitHub or <a href=\"https://nbviewer.jupyter.org/\">NBViewer</a>),\n",
       "  it may mean that your frontend doesn't currently support widgets.\n",
       "</p>\n"
      ],
      "text/plain": [
       "HBox(children=(IntProgress(value=0, description='Epoch', max=5), HTML(value='')))"
      ]
     },
     "metadata": {},
     "output_type": "display_data"
    },
    {
     "name": "stdout",
     "output_type": "stream",
     "text": [
      "[ 0.       4.70714  4.57294]                              \n",
      "[ 1.       4.66065  4.52918]                              \n",
      "[ 2.       4.61042  4.4871 ]                              \n",
      "[ 3.       4.5828   4.46905]                              \n",
      "[ 4.       4.552    4.46518]                              \n",
      "\n"
     ]
    },
    {
     "data": {
      "application/vnd.jupyter.widget-view+json": {
       "model_id": "367bbb5e4e33413f98057720bb40735c",
       "version_major": 2,
       "version_minor": 0
      },
      "text/html": [
       "<p>Failed to display Jupyter Widget of type <code>HBox</code>.</p>\n",
       "<p>\n",
       "  If you're reading this message in the Jupyter Notebook or JupyterLab Notebook, it may mean\n",
       "  that the widgets JavaScript is still loading. If this message persists, it\n",
       "  likely means that the widgets JavaScript library is either not installed or\n",
       "  not enabled. See the <a href=\"https://ipywidgets.readthedocs.io/en/stable/user_install.html\">Jupyter\n",
       "  Widgets Documentation</a> for setup instructions.\n",
       "</p>\n",
       "<p>\n",
       "  If you're reading this message in another frontend (for example, a static\n",
       "  rendering on GitHub or <a href=\"https://nbviewer.jupyter.org/\">NBViewer</a>),\n",
       "  it may mean that your frontend doesn't currently support widgets.\n",
       "</p>\n"
      ],
      "text/plain": [
       "HBox(children=(IntProgress(value=0, description='Epoch', max=15), HTML(value='')))"
      ]
     },
     "metadata": {},
     "output_type": "display_data"
    },
    {
     "name": "stdout",
     "output_type": "stream",
     "text": [
      "[ 0.       5.37277  5.05867]                              \n",
      "[ 1.       4.96917  4.7116 ]                              \n",
      "[ 2.       4.74026  4.62922]                              \n",
      "[ 3.       4.66175  4.52479]                              \n",
      "[ 4.       4.50993  4.42237]                              \n",
      "[ 5.       4.38269  4.35975]                              \n",
      "[ 6.       4.29535  4.34607]                              \n",
      "[ 7.       4.33909  4.33467]                              \n",
      "[ 8.       4.25097  4.28522]                              \n",
      "[ 9.       4.14166  4.255  ]                              \n",
      "[ 10.        4.01306   4.23249]                           \n",
      "[ 11.        3.90005   4.23309]                           \n",
      "[ 12.        3.8072    4.23377]                           \n",
      "[ 13.        3.73555   4.2393 ]                           \n",
      "[ 14.        3.70332   4.2446 ]                           \n",
      "\n"
     ]
    },
    {
     "data": {
      "application/vnd.jupyter.widget-view+json": {
       "model_id": "e83c4fd547274ad4bc53dd577530685f",
       "version_major": 2,
       "version_minor": 0
      },
      "text/html": [
       "<p>Failed to display Jupyter Widget of type <code>HBox</code>.</p>\n",
       "<p>\n",
       "  If you're reading this message in the Jupyter Notebook or JupyterLab Notebook, it may mean\n",
       "  that the widgets JavaScript is still loading. If this message persists, it\n",
       "  likely means that the widgets JavaScript library is either not installed or\n",
       "  not enabled. See the <a href=\"https://ipywidgets.readthedocs.io/en/stable/user_install.html\">Jupyter\n",
       "  Widgets Documentation</a> for setup instructions.\n",
       "</p>\n",
       "<p>\n",
       "  If you're reading this message in another frontend (for example, a static\n",
       "  rendering on GitHub or <a href=\"https://nbviewer.jupyter.org/\">NBViewer</a>),\n",
       "  it may mean that your frontend doesn't currently support widgets.\n",
       "</p>\n"
      ],
      "text/plain": [
       "HBox(children=(IntProgress(value=0, description='Epoch', max=5), HTML(value='')))"
      ]
     },
     "metadata": {},
     "output_type": "display_data"
    },
    {
     "name": "stdout",
     "output_type": "stream",
     "text": [
      "[ 0.       3.82991  4.25471]                              \n",
      "[ 1.       3.75806  4.25785]                              \n",
      "[ 2.       3.63282  4.27448]                              \n",
      "[ 3.       3.53053  4.27614]                              \n",
      "[ 4.       3.43669  4.30469]                              \n",
      "\n"
     ]
    },
    {
     "data": {
      "application/vnd.jupyter.widget-view+json": {
       "model_id": "f0a186a1f06248c7b144a035b7893ed9",
       "version_major": 2,
       "version_minor": 0
      },
      "text/html": [
       "<p>Failed to display Jupyter Widget of type <code>HBox</code>.</p>\n",
       "<p>\n",
       "  If you're reading this message in the Jupyter Notebook or JupyterLab Notebook, it may mean\n",
       "  that the widgets JavaScript is still loading. If this message persists, it\n",
       "  likely means that the widgets JavaScript library is either not installed or\n",
       "  not enabled. See the <a href=\"https://ipywidgets.readthedocs.io/en/stable/user_install.html\">Jupyter\n",
       "  Widgets Documentation</a> for setup instructions.\n",
       "</p>\n",
       "<p>\n",
       "  If you're reading this message in another frontend (for example, a static\n",
       "  rendering on GitHub or <a href=\"https://nbviewer.jupyter.org/\">NBViewer</a>),\n",
       "  it may mean that your frontend doesn't currently support widgets.\n",
       "</p>\n"
      ],
      "text/plain": [
       "HBox(children=(IntProgress(value=0, description='Epoch', max=15), HTML(value='')))"
      ]
     },
     "metadata": {},
     "output_type": "display_data"
    },
    {
     "name": "stdout",
     "output_type": "stream",
     "text": [
      "[ 0.       5.52074  5.19421]                              \n",
      "[ 1.       5.14594  4.83183]                              \n",
      "[ 2.       4.9159   4.75486]                              \n",
      "[ 3.       4.80718  4.62091]                              \n",
      "[ 4.       4.65896  4.50544]                              \n",
      "[ 5.       4.54561  4.45174]                              \n",
      "[ 6.       4.4736   4.43365]                              \n",
      "[ 7.       4.48455  4.40362]                              \n",
      "[ 8.       4.39422  4.34339]                              \n",
      "[ 9.       4.30217  4.29854]                              \n",
      "[ 10.        4.21443   4.27091]                           \n",
      "[ 11.        4.11242   4.24435]                           \n",
      "[ 12.        4.02942   4.23607]                           \n",
      "[ 13.        3.98735   4.22977]                           \n",
      "[ 14.        3.94052   4.22974]                           \n",
      "\n"
     ]
    },
    {
     "data": {
      "application/vnd.jupyter.widget-view+json": {
       "model_id": "884ebe66dda9465d92d4ce8273b7d1fa",
       "version_major": 2,
       "version_minor": 0
      },
      "text/html": [
       "<p>Failed to display Jupyter Widget of type <code>HBox</code>.</p>\n",
       "<p>\n",
       "  If you're reading this message in the Jupyter Notebook or JupyterLab Notebook, it may mean\n",
       "  that the widgets JavaScript is still loading. If this message persists, it\n",
       "  likely means that the widgets JavaScript library is either not installed or\n",
       "  not enabled. See the <a href=\"https://ipywidgets.readthedocs.io/en/stable/user_install.html\">Jupyter\n",
       "  Widgets Documentation</a> for setup instructions.\n",
       "</p>\n",
       "<p>\n",
       "  If you're reading this message in another frontend (for example, a static\n",
       "  rendering on GitHub or <a href=\"https://nbviewer.jupyter.org/\">NBViewer</a>),\n",
       "  it may mean that your frontend doesn't currently support widgets.\n",
       "</p>\n"
      ],
      "text/plain": [
       "HBox(children=(IntProgress(value=0, description='Epoch', max=5), HTML(value='')))"
      ]
     },
     "metadata": {},
     "output_type": "display_data"
    },
    {
     "name": "stdout",
     "output_type": "stream",
     "text": [
      "[ 0.       4.02807  4.24914]                              \n",
      "[ 1.       3.96936  4.23671]                              \n",
      "[ 2.       3.86569  4.23369]                              \n",
      "[ 3.       3.75541  4.23512]                              \n",
      "[ 4.       3.69642  4.23832]                              \n",
      "\n"
     ]
    },
    {
     "data": {
      "application/vnd.jupyter.widget-view+json": {
       "model_id": "d8e28149ef1c468c9d392c4fb5cb3e12",
       "version_major": 2,
       "version_minor": 0
      },
      "text/html": [
       "<p>Failed to display Jupyter Widget of type <code>HBox</code>.</p>\n",
       "<p>\n",
       "  If you're reading this message in the Jupyter Notebook or JupyterLab Notebook, it may mean\n",
       "  that the widgets JavaScript is still loading. If this message persists, it\n",
       "  likely means that the widgets JavaScript library is either not installed or\n",
       "  not enabled. See the <a href=\"https://ipywidgets.readthedocs.io/en/stable/user_install.html\">Jupyter\n",
       "  Widgets Documentation</a> for setup instructions.\n",
       "</p>\n",
       "<p>\n",
       "  If you're reading this message in another frontend (for example, a static\n",
       "  rendering on GitHub or <a href=\"https://nbviewer.jupyter.org/\">NBViewer</a>),\n",
       "  it may mean that your frontend doesn't currently support widgets.\n",
       "</p>\n"
      ],
      "text/plain": [
       "HBox(children=(IntProgress(value=0, description='Epoch', max=15), HTML(value='')))"
      ]
     },
     "metadata": {},
     "output_type": "display_data"
    },
    {
     "name": "stdout",
     "output_type": "stream",
     "text": [
      "[ 0.       5.46885  5.12535]                              \n",
      "[ 1.       5.05045  4.74256]                              \n",
      "[ 2.       4.80194  4.65367]                              \n",
      "[ 3.       4.70819  4.54763]                              \n",
      "[ 4.       4.56321  4.43299]                              \n",
      "[ 5.       4.44876  4.37726]                              \n",
      "[ 6.       4.3732   4.36708]                              \n",
      "[ 7.       4.39277  4.34158]                              \n",
      "[ 8.       4.3099   4.29285]                              \n",
      "[ 9.       4.20248  4.2623 ]                              \n",
      "[ 10.        4.08051   4.24159]                           \n",
      "[ 11.        3.97689   4.22913]                           \n",
      "[ 12.        3.90905   4.22528]                           \n",
      "[ 13.        3.84353   4.22396]                           \n",
      "[ 14.        3.80554   4.23002]                           \n",
      "\n"
     ]
    },
    {
     "data": {
      "application/vnd.jupyter.widget-view+json": {
       "model_id": "566450462e6741cbb391124604f332b5",
       "version_major": 2,
       "version_minor": 0
      },
      "text/html": [
       "<p>Failed to display Jupyter Widget of type <code>HBox</code>.</p>\n",
       "<p>\n",
       "  If you're reading this message in the Jupyter Notebook or JupyterLab Notebook, it may mean\n",
       "  that the widgets JavaScript is still loading. If this message persists, it\n",
       "  likely means that the widgets JavaScript library is either not installed or\n",
       "  not enabled. See the <a href=\"https://ipywidgets.readthedocs.io/en/stable/user_install.html\">Jupyter\n",
       "  Widgets Documentation</a> for setup instructions.\n",
       "</p>\n",
       "<p>\n",
       "  If you're reading this message in another frontend (for example, a static\n",
       "  rendering on GitHub or <a href=\"https://nbviewer.jupyter.org/\">NBViewer</a>),\n",
       "  it may mean that your frontend doesn't currently support widgets.\n",
       "</p>\n"
      ],
      "text/plain": [
       "HBox(children=(IntProgress(value=0, description='Epoch', max=5), HTML(value='')))"
      ]
     },
     "metadata": {},
     "output_type": "display_data"
    },
    {
     "name": "stdout",
     "output_type": "stream",
     "text": [
      "[ 0.      3.8866  4.2439]                                 \n",
      "[ 1.       3.83476  4.23255]                              \n",
      "[ 2.       3.72831  4.25276]                              \n",
      "[ 3.       3.61804  4.25119]                              \n",
      "[ 4.       3.50957  4.27689]                              \n",
      "\n"
     ]
    },
    {
     "data": {
      "application/vnd.jupyter.widget-view+json": {
       "model_id": "d24f06327be74e35aba8874a5ff6ad95",
       "version_major": 2,
       "version_minor": 0
      },
      "text/html": [
       "<p>Failed to display Jupyter Widget of type <code>HBox</code>.</p>\n",
       "<p>\n",
       "  If you're reading this message in the Jupyter Notebook or JupyterLab Notebook, it may mean\n",
       "  that the widgets JavaScript is still loading. If this message persists, it\n",
       "  likely means that the widgets JavaScript library is either not installed or\n",
       "  not enabled. See the <a href=\"https://ipywidgets.readthedocs.io/en/stable/user_install.html\">Jupyter\n",
       "  Widgets Documentation</a> for setup instructions.\n",
       "</p>\n",
       "<p>\n",
       "  If you're reading this message in another frontend (for example, a static\n",
       "  rendering on GitHub or <a href=\"https://nbviewer.jupyter.org/\">NBViewer</a>),\n",
       "  it may mean that your frontend doesn't currently support widgets.\n",
       "</p>\n"
      ],
      "text/plain": [
       "HBox(children=(IntProgress(value=0, description='Epoch', max=15), HTML(value='')))"
      ]
     },
     "metadata": {},
     "output_type": "display_data"
    },
    {
     "name": "stdout",
     "output_type": "stream",
     "text": [
      "[ 0.       5.46213  5.11801]                              \n",
      "[ 1.       5.02021  4.72773]                              \n",
      "[ 2.       4.79682  4.65106]                              \n",
      "[ 3.       4.72485  4.57152]                              \n",
      "[ 4.       4.61084  4.45632]                              \n",
      "[ 5.       4.50196  4.41057]                              \n",
      "[ 6.       4.44808  4.39691]                              \n",
      "[ 7.       4.47682  4.38802]                              \n",
      "[ 8.       4.40801  4.33107]                              \n",
      "[ 9.       4.32431  4.28158]                              \n",
      "[ 10.        4.25044   4.25245]                           \n",
      "[ 11.        4.18116   4.23145]                           \n",
      "[ 12.        4.10919   4.2185 ]                           \n",
      "[ 13.        4.07406   4.21557]                           \n",
      "[ 14.        4.05355   4.21341]                           \n",
      "\n"
     ]
    },
    {
     "data": {
      "application/vnd.jupyter.widget-view+json": {
       "model_id": "957ba5587a1746ee8659c2b10e776f43",
       "version_major": 2,
       "version_minor": 0
      },
      "text/html": [
       "<p>Failed to display Jupyter Widget of type <code>HBox</code>.</p>\n",
       "<p>\n",
       "  If you're reading this message in the Jupyter Notebook or JupyterLab Notebook, it may mean\n",
       "  that the widgets JavaScript is still loading. If this message persists, it\n",
       "  likely means that the widgets JavaScript library is either not installed or\n",
       "  not enabled. See the <a href=\"https://ipywidgets.readthedocs.io/en/stable/user_install.html\">Jupyter\n",
       "  Widgets Documentation</a> for setup instructions.\n",
       "</p>\n",
       "<p>\n",
       "  If you're reading this message in another frontend (for example, a static\n",
       "  rendering on GitHub or <a href=\"https://nbviewer.jupyter.org/\">NBViewer</a>),\n",
       "  it may mean that your frontend doesn't currently support widgets.\n",
       "</p>\n"
      ],
      "text/plain": [
       "HBox(children=(IntProgress(value=0, description='Epoch', max=5), HTML(value='')))"
      ]
     },
     "metadata": {},
     "output_type": "display_data"
    },
    {
     "name": "stdout",
     "output_type": "stream",
     "text": [
      "[ 0.       4.14397  4.22991]                              \n",
      "[ 1.       4.11235  4.21005]                              \n",
      "[ 2.       4.032    4.19827]                              \n",
      "[ 3.       3.95705  4.18726]                              \n",
      "[ 4.       3.92491  4.19041]                              \n",
      "\n"
     ]
    },
    {
     "data": {
      "application/vnd.jupyter.widget-view+json": {
       "model_id": "00d1eed4f3db413e8d61bbc269dc2dd2",
       "version_major": 2,
       "version_minor": 0
      },
      "text/html": [
       "<p>Failed to display Jupyter Widget of type <code>HBox</code>.</p>\n",
       "<p>\n",
       "  If you're reading this message in the Jupyter Notebook or JupyterLab Notebook, it may mean\n",
       "  that the widgets JavaScript is still loading. If this message persists, it\n",
       "  likely means that the widgets JavaScript library is either not installed or\n",
       "  not enabled. See the <a href=\"https://ipywidgets.readthedocs.io/en/stable/user_install.html\">Jupyter\n",
       "  Widgets Documentation</a> for setup instructions.\n",
       "</p>\n",
       "<p>\n",
       "  If you're reading this message in another frontend (for example, a static\n",
       "  rendering on GitHub or <a href=\"https://nbviewer.jupyter.org/\">NBViewer</a>),\n",
       "  it may mean that your frontend doesn't currently support widgets.\n",
       "</p>\n"
      ],
      "text/plain": [
       "HBox(children=(IntProgress(value=0, description='Epoch', max=15), HTML(value='')))"
      ]
     },
     "metadata": {},
     "output_type": "display_data"
    },
    {
     "name": "stdout",
     "output_type": "stream",
     "text": [
      "[ 0.       5.46079  5.10428]                              \n",
      "[ 1.       5.06067  4.73099]                              \n",
      "[ 2.       4.84784  4.65613]                              \n",
      "[ 3.       4.76518  4.54341]                              \n",
      "[ 4.       4.64649  4.45421]                              \n",
      "[ 5.       4.5414   4.39685]                              \n",
      "[ 6.       4.47081  4.38478]                              \n",
      "[ 7.       4.50388  4.37372]                              \n",
      "[ 8.       4.42631  4.30176]                              \n",
      "[ 9.       4.34473  4.26605]                              \n",
      "[ 10.        4.2595    4.23412]                           \n",
      "[ 11.        4.19603   4.21918]                           \n",
      "[ 12.        4.14616   4.20203]                           \n",
      "[ 13.        4.09392   4.19632]                           \n",
      "[ 14.        4.07031   4.19872]                           \n",
      "\n"
     ]
    },
    {
     "data": {
      "application/vnd.jupyter.widget-view+json": {
       "model_id": "2cf8da4ad8134e3f9b602e688a617997",
       "version_major": 2,
       "version_minor": 0
      },
      "text/html": [
       "<p>Failed to display Jupyter Widget of type <code>HBox</code>.</p>\n",
       "<p>\n",
       "  If you're reading this message in the Jupyter Notebook or JupyterLab Notebook, it may mean\n",
       "  that the widgets JavaScript is still loading. If this message persists, it\n",
       "  likely means that the widgets JavaScript library is either not installed or\n",
       "  not enabled. See the <a href=\"https://ipywidgets.readthedocs.io/en/stable/user_install.html\">Jupyter\n",
       "  Widgets Documentation</a> for setup instructions.\n",
       "</p>\n",
       "<p>\n",
       "  If you're reading this message in another frontend (for example, a static\n",
       "  rendering on GitHub or <a href=\"https://nbviewer.jupyter.org/\">NBViewer</a>),\n",
       "  it may mean that your frontend doesn't currently support widgets.\n",
       "</p>\n"
      ],
      "text/plain": [
       "HBox(children=(IntProgress(value=0, description='Epoch', max=5), HTML(value='')))"
      ]
     },
     "metadata": {},
     "output_type": "display_data"
    },
    {
     "name": "stdout",
     "output_type": "stream",
     "text": [
      "[ 0.       4.16495  4.21069]                              \n",
      "[ 1.       4.12626  4.19041]                              \n",
      "[ 2.       4.05293  4.18183]                              \n",
      "[ 3.       3.98059  4.17162]                              \n",
      "[ 4.       3.93711  4.17164]                              \n",
      "\n"
     ]
    },
    {
     "data": {
      "application/vnd.jupyter.widget-view+json": {
       "model_id": "529d15806d94469b990d75e333db1c64",
       "version_major": 2,
       "version_minor": 0
      },
      "text/html": [
       "<p>Failed to display Jupyter Widget of type <code>HBox</code>.</p>\n",
       "<p>\n",
       "  If you're reading this message in the Jupyter Notebook or JupyterLab Notebook, it may mean\n",
       "  that the widgets JavaScript is still loading. If this message persists, it\n",
       "  likely means that the widgets JavaScript library is either not installed or\n",
       "  not enabled. See the <a href=\"https://ipywidgets.readthedocs.io/en/stable/user_install.html\">Jupyter\n",
       "  Widgets Documentation</a> for setup instructions.\n",
       "</p>\n",
       "<p>\n",
       "  If you're reading this message in another frontend (for example, a static\n",
       "  rendering on GitHub or <a href=\"https://nbviewer.jupyter.org/\">NBViewer</a>),\n",
       "  it may mean that your frontend doesn't currently support widgets.\n",
       "</p>\n"
      ],
      "text/plain": [
       "HBox(children=(IntProgress(value=0, description='Epoch', max=15), HTML(value='')))"
      ]
     },
     "metadata": {},
     "output_type": "display_data"
    },
    {
     "name": "stdout",
     "output_type": "stream",
     "text": [
      "[ 0.       5.44865  5.0878 ]                              \n",
      "[ 1.       5.03262  4.70522]                              \n",
      "[ 2.       4.81874  4.63651]                              \n",
      "[ 3.       4.74183  4.53781]                              \n",
      "[ 4.       4.6375   4.44676]                              \n",
      "[ 5.       4.52235  4.38968]                              \n",
      "[ 6.       4.46086  4.37786]                              \n",
      "[ 7.       4.48035  4.3622 ]                              \n",
      "[ 8.       4.41722  4.30068]                              \n",
      "[ 9.       4.339    4.26467]                              \n",
      "[ 10.        4.25942   4.23456]                           \n",
      "[ 11.        4.18272   4.21176]                           \n",
      "[ 12.        4.13208   4.20138]                           \n",
      "[ 13.        4.08745   4.19741]                           \n",
      "[ 14.        4.07057   4.19767]                           \n",
      "\n"
     ]
    },
    {
     "data": {
      "application/vnd.jupyter.widget-view+json": {
       "model_id": "6445eb3b29a545d98eb02dbe3e309daa",
       "version_major": 2,
       "version_minor": 0
      },
      "text/html": [
       "<p>Failed to display Jupyter Widget of type <code>HBox</code>.</p>\n",
       "<p>\n",
       "  If you're reading this message in the Jupyter Notebook or JupyterLab Notebook, it may mean\n",
       "  that the widgets JavaScript is still loading. If this message persists, it\n",
       "  likely means that the widgets JavaScript library is either not installed or\n",
       "  not enabled. See the <a href=\"https://ipywidgets.readthedocs.io/en/stable/user_install.html\">Jupyter\n",
       "  Widgets Documentation</a> for setup instructions.\n",
       "</p>\n",
       "<p>\n",
       "  If you're reading this message in another frontend (for example, a static\n",
       "  rendering on GitHub or <a href=\"https://nbviewer.jupyter.org/\">NBViewer</a>),\n",
       "  it may mean that your frontend doesn't currently support widgets.\n",
       "</p>\n"
      ],
      "text/plain": [
       "HBox(children=(IntProgress(value=0, description='Epoch', max=5), HTML(value='')))"
      ]
     },
     "metadata": {},
     "output_type": "display_data"
    },
    {
     "name": "stdout",
     "output_type": "stream",
     "text": [
      "[ 0.       4.13309  4.21427]                              \n",
      "[ 1.       4.10972  4.18899]                              \n",
      "[ 2.       4.04291  4.17588]                              \n",
      "[ 3.       3.98498  4.17023]                              \n",
      "[ 4.       3.92834  4.173  ]                              \n",
      "\n"
     ]
    },
    {
     "data": {
      "application/vnd.jupyter.widget-view+json": {
       "model_id": "7ecc2d5c2ef3437f8bb8596099387339",
       "version_major": 2,
       "version_minor": 0
      },
      "text/html": [
       "<p>Failed to display Jupyter Widget of type <code>HBox</code>.</p>\n",
       "<p>\n",
       "  If you're reading this message in the Jupyter Notebook or JupyterLab Notebook, it may mean\n",
       "  that the widgets JavaScript is still loading. If this message persists, it\n",
       "  likely means that the widgets JavaScript library is either not installed or\n",
       "  not enabled. See the <a href=\"https://ipywidgets.readthedocs.io/en/stable/user_install.html\">Jupyter\n",
       "  Widgets Documentation</a> for setup instructions.\n",
       "</p>\n",
       "<p>\n",
       "  If you're reading this message in another frontend (for example, a static\n",
       "  rendering on GitHub or <a href=\"https://nbviewer.jupyter.org/\">NBViewer</a>),\n",
       "  it may mean that your frontend doesn't currently support widgets.\n",
       "</p>\n"
      ],
      "text/plain": [
       "HBox(children=(IntProgress(value=0, description='Epoch', max=15), HTML(value='')))"
      ]
     },
     "metadata": {},
     "output_type": "display_data"
    },
    {
     "name": "stdout",
     "output_type": "stream",
     "text": [
      "[ 0.       5.6276   5.38976]                              \n",
      "[ 1.       5.28647  5.04695]                              \n",
      "[ 2.       5.04809  4.93206]                              \n",
      "[ 3.       4.94691  4.79825]                              \n",
      "[ 4.       4.80468  4.68691]                              \n",
      "[ 5.       4.70301  4.62873]                              \n",
      "[ 6.       4.65293  4.62028]                              \n",
      "[ 7.       4.65848  4.59852]                              \n",
      "[ 8.       4.58156  4.52153]                              \n",
      "[ 9.       4.49966  4.47647]                              \n",
      "[ 10.        4.41652   4.43502]                           \n",
      "[ 11.        4.34441   4.40755]                           \n",
      "[ 12.        4.29463   4.38863]                           \n",
      "[ 13.        4.25818   4.37639]                           \n",
      "[ 14.        4.23129   4.3757 ]                           \n",
      "\n"
     ]
    },
    {
     "data": {
      "application/vnd.jupyter.widget-view+json": {
       "model_id": "e4f1ab8d75f64e85b1ab1bb792704b00",
       "version_major": 2,
       "version_minor": 0
      },
      "text/html": [
       "<p>Failed to display Jupyter Widget of type <code>HBox</code>.</p>\n",
       "<p>\n",
       "  If you're reading this message in the Jupyter Notebook or JupyterLab Notebook, it may mean\n",
       "  that the widgets JavaScript is still loading. If this message persists, it\n",
       "  likely means that the widgets JavaScript library is either not installed or\n",
       "  not enabled. See the <a href=\"https://ipywidgets.readthedocs.io/en/stable/user_install.html\">Jupyter\n",
       "  Widgets Documentation</a> for setup instructions.\n",
       "</p>\n",
       "<p>\n",
       "  If you're reading this message in another frontend (for example, a static\n",
       "  rendering on GitHub or <a href=\"https://nbviewer.jupyter.org/\">NBViewer</a>),\n",
       "  it may mean that your frontend doesn't currently support widgets.\n",
       "</p>\n"
      ],
      "text/plain": [
       "HBox(children=(IntProgress(value=0, description='Epoch', max=5), HTML(value='')))"
      ]
     },
     "metadata": {},
     "output_type": "display_data"
    },
    {
     "name": "stdout",
     "output_type": "stream",
     "text": [
      "[ 0.       4.29059  4.38761]                              \n",
      "[ 1.       4.25355  4.35771]                              \n",
      "[ 2.       4.18008  4.33816]                              \n",
      "[ 3.       4.10807  4.32506]                              \n",
      "[ 4.       4.06419  4.32259]                              \n",
      "\n"
     ]
    },
    {
     "data": {
      "application/vnd.jupyter.widget-view+json": {
       "model_id": "a8fadb70ba3c417693972435175caf28",
       "version_major": 2,
       "version_minor": 0
      },
      "text/html": [
       "<p>Failed to display Jupyter Widget of type <code>HBox</code>.</p>\n",
       "<p>\n",
       "  If you're reading this message in the Jupyter Notebook or JupyterLab Notebook, it may mean\n",
       "  that the widgets JavaScript is still loading. If this message persists, it\n",
       "  likely means that the widgets JavaScript library is either not installed or\n",
       "  not enabled. See the <a href=\"https://ipywidgets.readthedocs.io/en/stable/user_install.html\">Jupyter\n",
       "  Widgets Documentation</a> for setup instructions.\n",
       "</p>\n",
       "<p>\n",
       "  If you're reading this message in another frontend (for example, a static\n",
       "  rendering on GitHub or <a href=\"https://nbviewer.jupyter.org/\">NBViewer</a>),\n",
       "  it may mean that your frontend doesn't currently support widgets.\n",
       "</p>\n"
      ],
      "text/plain": [
       "HBox(children=(IntProgress(value=0, description='Epoch', max=15), HTML(value='')))"
      ]
     },
     "metadata": {},
     "output_type": "display_data"
    },
    {
     "name": "stdout",
     "output_type": "stream",
     "text": [
      "[ 0.       5.53452  5.20349]                              \n",
      "[ 1.       5.17082  4.871  ]                              \n",
      "[ 2.       4.94649  4.78719]                              \n",
      "[ 3.       4.85641  4.67195]                              \n",
      "[ 4.       4.72291  4.56858]                              \n",
      "[ 5.       4.61005  4.51619]                              \n",
      "[ 6.       4.54339  4.50062]                              \n",
      "[ 7.       4.57721  4.47669]                              \n",
      "[ 8.       4.49544  4.41873]                              \n",
      "[ 9.       4.40635  4.38017]                              \n",
      "[ 10.        4.30459   4.33418]                           \n",
      "[ 11.        4.23113   4.30566]                           \n",
      "[ 12.        4.16497   4.29776]                           \n",
      "[ 13.        4.11645   4.28891]                           \n",
      "[ 14.        4.09842   4.28913]                           \n",
      "\n"
     ]
    },
    {
     "data": {
      "application/vnd.jupyter.widget-view+json": {
       "model_id": "f3e85f695a0f436580b07ed650680abc",
       "version_major": 2,
       "version_minor": 0
      },
      "text/html": [
       "<p>Failed to display Jupyter Widget of type <code>HBox</code>.</p>\n",
       "<p>\n",
       "  If you're reading this message in the Jupyter Notebook or JupyterLab Notebook, it may mean\n",
       "  that the widgets JavaScript is still loading. If this message persists, it\n",
       "  likely means that the widgets JavaScript library is either not installed or\n",
       "  not enabled. See the <a href=\"https://ipywidgets.readthedocs.io/en/stable/user_install.html\">Jupyter\n",
       "  Widgets Documentation</a> for setup instructions.\n",
       "</p>\n",
       "<p>\n",
       "  If you're reading this message in another frontend (for example, a static\n",
       "  rendering on GitHub or <a href=\"https://nbviewer.jupyter.org/\">NBViewer</a>),\n",
       "  it may mean that your frontend doesn't currently support widgets.\n",
       "</p>\n"
      ],
      "text/plain": [
       "HBox(children=(IntProgress(value=0, description='Epoch', max=5), HTML(value='')))"
      ]
     },
     "metadata": {},
     "output_type": "display_data"
    },
    {
     "name": "stdout",
     "output_type": "stream",
     "text": [
      "[ 0.       4.17725  4.31125]                              \n",
      "[ 1.       4.12237  4.29104]                              \n",
      "[ 2.       4.02773  4.28291]                              \n",
      "[ 3.       3.93111  4.27297]                              \n",
      "[ 4.       3.88984  4.27415]                              \n",
      "\n"
     ]
    },
    {
     "data": {
      "application/vnd.jupyter.widget-view+json": {
       "model_id": "7a2764d90fb04271844a79760b96603c",
       "version_major": 2,
       "version_minor": 0
      },
      "text/html": [
       "<p>Failed to display Jupyter Widget of type <code>HBox</code>.</p>\n",
       "<p>\n",
       "  If you're reading this message in the Jupyter Notebook or JupyterLab Notebook, it may mean\n",
       "  that the widgets JavaScript is still loading. If this message persists, it\n",
       "  likely means that the widgets JavaScript library is either not installed or\n",
       "  not enabled. See the <a href=\"https://ipywidgets.readthedocs.io/en/stable/user_install.html\">Jupyter\n",
       "  Widgets Documentation</a> for setup instructions.\n",
       "</p>\n",
       "<p>\n",
       "  If you're reading this message in another frontend (for example, a static\n",
       "  rendering on GitHub or <a href=\"https://nbviewer.jupyter.org/\">NBViewer</a>),\n",
       "  it may mean that your frontend doesn't currently support widgets.\n",
       "</p>\n"
      ],
      "text/plain": [
       "HBox(children=(IntProgress(value=0, description='Epoch', max=15), HTML(value='')))"
      ]
     },
     "metadata": {},
     "output_type": "display_data"
    },
    {
     "name": "stdout",
     "output_type": "stream",
     "text": [
      "[ 0.       5.64945  5.37883]                              \n",
      "[ 1.       5.30166  5.00762]                              \n",
      "[ 2.       5.04071  4.87805]                              \n",
      "[ 3.       4.94832  4.75701]                              \n",
      "[ 4.       4.80473  4.64736]                              \n",
      "[ 5.       4.70452  4.5999 ]                              \n",
      "[ 6.       4.65184  4.58694]                              \n",
      "[ 7.       4.66298  4.56576]                              \n",
      "[ 8.       4.58004  4.49764]                              \n",
      "[ 9.       4.4991   4.43985]                              \n",
      "[ 10.        4.41734   4.39894]                           \n",
      "[ 11.        4.33979   4.37315]                           \n",
      "[ 12.        4.28755   4.35095]                           \n",
      "[ 13.        4.25628   4.34354]                           \n",
      "[ 14.        4.23992   4.34374]                           \n",
      "\n"
     ]
    },
    {
     "data": {
      "application/vnd.jupyter.widget-view+json": {
       "model_id": "4425524af6f44738a07e7314e7b45019",
       "version_major": 2,
       "version_minor": 0
      },
      "text/html": [
       "<p>Failed to display Jupyter Widget of type <code>HBox</code>.</p>\n",
       "<p>\n",
       "  If you're reading this message in the Jupyter Notebook or JupyterLab Notebook, it may mean\n",
       "  that the widgets JavaScript is still loading. If this message persists, it\n",
       "  likely means that the widgets JavaScript library is either not installed or\n",
       "  not enabled. See the <a href=\"https://ipywidgets.readthedocs.io/en/stable/user_install.html\">Jupyter\n",
       "  Widgets Documentation</a> for setup instructions.\n",
       "</p>\n",
       "<p>\n",
       "  If you're reading this message in another frontend (for example, a static\n",
       "  rendering on GitHub or <a href=\"https://nbviewer.jupyter.org/\">NBViewer</a>),\n",
       "  it may mean that your frontend doesn't currently support widgets.\n",
       "</p>\n"
      ],
      "text/plain": [
       "HBox(children=(IntProgress(value=0, description='Epoch', max=5), HTML(value='')))"
      ]
     },
     "metadata": {},
     "output_type": "display_data"
    },
    {
     "name": "stdout",
     "output_type": "stream",
     "text": [
      "[ 0.       4.30078  4.36274]                              \n",
      "[ 1.       4.24374  4.33002]                              \n",
      "[ 2.       4.15346  4.30615]                              \n",
      "[ 3.       4.08868  4.29177]                              \n",
      "[ 4.       4.04163  4.29142]                              \n",
      "\n"
     ]
    },
    {
     "data": {
      "application/vnd.jupyter.widget-view+json": {
       "model_id": "7397a6ea6ea641ca9b5372c6b1a940eb",
       "version_major": 2,
       "version_minor": 0
      },
      "text/html": [
       "<p>Failed to display Jupyter Widget of type <code>HBox</code>.</p>\n",
       "<p>\n",
       "  If you're reading this message in the Jupyter Notebook or JupyterLab Notebook, it may mean\n",
       "  that the widgets JavaScript is still loading. If this message persists, it\n",
       "  likely means that the widgets JavaScript library is either not installed or\n",
       "  not enabled. See the <a href=\"https://ipywidgets.readthedocs.io/en/stable/user_install.html\">Jupyter\n",
       "  Widgets Documentation</a> for setup instructions.\n",
       "</p>\n",
       "<p>\n",
       "  If you're reading this message in another frontend (for example, a static\n",
       "  rendering on GitHub or <a href=\"https://nbviewer.jupyter.org/\">NBViewer</a>),\n",
       "  it may mean that your frontend doesn't currently support widgets.\n",
       "</p>\n"
      ],
      "text/plain": [
       "HBox(children=(IntProgress(value=0, description='Epoch', max=15), HTML(value='')))"
      ]
     },
     "metadata": {},
     "output_type": "display_data"
    },
    {
     "name": "stdout",
     "output_type": "stream",
     "text": [
      "[ 0.       5.53658  5.2101 ]                              \n",
      "[ 1.       5.14817  4.85066]                              \n",
      "[ 2.       4.93033  4.77486]                              \n",
      "[ 3.       4.84733  4.66086]                              \n",
      "[ 4.       4.72175  4.5704 ]                              \n",
      "[ 5.       4.62967  4.51708]                              \n",
      "[ 6.       4.56899  4.50595]                              \n",
      "[ 7.       4.58813  4.48361]                              \n",
      "[ 8.       4.52359  4.42524]                              \n",
      "[ 9.       4.45453  4.37095]                              \n",
      "[ 10.        4.38588   4.33723]                           \n",
      "[ 11.        4.3243    4.30626]                           \n",
      "[ 12.        4.25761   4.28758]                           \n",
      "[ 13.        4.2343    4.28415]                           \n",
      "[ 14.        4.21207   4.28123]                           \n",
      "\n"
     ]
    },
    {
     "data": {
      "application/vnd.jupyter.widget-view+json": {
       "model_id": "d60123c7036446dca7545a3e87c50e72",
       "version_major": 2,
       "version_minor": 0
      },
      "text/html": [
       "<p>Failed to display Jupyter Widget of type <code>HBox</code>.</p>\n",
       "<p>\n",
       "  If you're reading this message in the Jupyter Notebook or JupyterLab Notebook, it may mean\n",
       "  that the widgets JavaScript is still loading. If this message persists, it\n",
       "  likely means that the widgets JavaScript library is either not installed or\n",
       "  not enabled. See the <a href=\"https://ipywidgets.readthedocs.io/en/stable/user_install.html\">Jupyter\n",
       "  Widgets Documentation</a> for setup instructions.\n",
       "</p>\n",
       "<p>\n",
       "  If you're reading this message in another frontend (for example, a static\n",
       "  rendering on GitHub or <a href=\"https://nbviewer.jupyter.org/\">NBViewer</a>),\n",
       "  it may mean that your frontend doesn't currently support widgets.\n",
       "</p>\n"
      ],
      "text/plain": [
       "HBox(children=(IntProgress(value=0, description='Epoch', max=5), HTML(value='')))"
      ]
     },
     "metadata": {},
     "output_type": "display_data"
    },
    {
     "name": "stdout",
     "output_type": "stream",
     "text": [
      "[ 0.       4.2928   4.31144]                              \n",
      "[ 1.       4.24354  4.27482]                              \n",
      "[ 2.       4.18403  4.25119]                              \n",
      "[ 3.       4.11838  4.23881]                              \n",
      "[ 4.       4.08613  4.23625]                              \n",
      "\n"
     ]
    },
    {
     "data": {
      "application/vnd.jupyter.widget-view+json": {
       "model_id": "f739c0829f724149970a5e0622bd7f37",
       "version_major": 2,
       "version_minor": 0
      },
      "text/html": [
       "<p>Failed to display Jupyter Widget of type <code>HBox</code>.</p>\n",
       "<p>\n",
       "  If you're reading this message in the Jupyter Notebook or JupyterLab Notebook, it may mean\n",
       "  that the widgets JavaScript is still loading. If this message persists, it\n",
       "  likely means that the widgets JavaScript library is either not installed or\n",
       "  not enabled. See the <a href=\"https://ipywidgets.readthedocs.io/en/stable/user_install.html\">Jupyter\n",
       "  Widgets Documentation</a> for setup instructions.\n",
       "</p>\n",
       "<p>\n",
       "  If you're reading this message in another frontend (for example, a static\n",
       "  rendering on GitHub or <a href=\"https://nbviewer.jupyter.org/\">NBViewer</a>),\n",
       "  it may mean that your frontend doesn't currently support widgets.\n",
       "</p>\n"
      ],
      "text/plain": [
       "HBox(children=(IntProgress(value=0, description='Epoch', max=15), HTML(value='')))"
      ]
     },
     "metadata": {},
     "output_type": "display_data"
    },
    {
     "name": "stdout",
     "output_type": "stream",
     "text": [
      "[ 0.       5.59017  5.2237 ]                              \n",
      "[ 1.       5.18691  4.85166]                              \n",
      "[ 2.       4.95345  4.75069]                              \n",
      "[ 3.       4.86493  4.64712]                              \n",
      "[ 4.       4.74195  4.54451]                              \n",
      "[ 5.       4.63785  4.49232]                              \n",
      "[ 6.       4.58875  4.48298]                              \n",
      "[ 7.       4.60394  4.45534]                              \n",
      "[ 8.       4.54218  4.41823]                              \n",
      "[ 9.       4.46918  4.35706]                              \n",
      "[ 10.        4.40725   4.31881]                           \n",
      "[ 11.        4.33139   4.29922]                           \n",
      "[ 12.        4.28503   4.27687]                           \n",
      "[ 13.        4.26001   4.26672]                           \n",
      "[ 14.        4.23668   4.26778]                           \n",
      "\n"
     ]
    },
    {
     "data": {
      "application/vnd.jupyter.widget-view+json": {
       "model_id": "7adc0fd3ffeb4f50bc72700c5281b323",
       "version_major": 2,
       "version_minor": 0
      },
      "text/html": [
       "<p>Failed to display Jupyter Widget of type <code>HBox</code>.</p>\n",
       "<p>\n",
       "  If you're reading this message in the Jupyter Notebook or JupyterLab Notebook, it may mean\n",
       "  that the widgets JavaScript is still loading. If this message persists, it\n",
       "  likely means that the widgets JavaScript library is either not installed or\n",
       "  not enabled. See the <a href=\"https://ipywidgets.readthedocs.io/en/stable/user_install.html\">Jupyter\n",
       "  Widgets Documentation</a> for setup instructions.\n",
       "</p>\n",
       "<p>\n",
       "  If you're reading this message in another frontend (for example, a static\n",
       "  rendering on GitHub or <a href=\"https://nbviewer.jupyter.org/\">NBViewer</a>),\n",
       "  it may mean that your frontend doesn't currently support widgets.\n",
       "</p>\n"
      ],
      "text/plain": [
       "HBox(children=(IntProgress(value=0, description='Epoch', max=5), HTML(value='')))"
      ]
     },
     "metadata": {},
     "output_type": "display_data"
    },
    {
     "name": "stdout",
     "output_type": "stream",
     "text": [
      "[ 0.       4.30845  4.28066]                              \n",
      "[ 1.       4.26802  4.26071]                              \n",
      "[ 2.       4.2041   4.23744]                              \n",
      "[ 3.       4.14374  4.22473]                              \n",
      "[ 4.       4.10566  4.22506]                              \n",
      "\n"
     ]
    },
    {
     "data": {
      "application/vnd.jupyter.widget-view+json": {
       "model_id": "cf821b6ecf874506a5383ba9f7b09d1d",
       "version_major": 2,
       "version_minor": 0
      },
      "text/html": [
       "<p>Failed to display Jupyter Widget of type <code>HBox</code>.</p>\n",
       "<p>\n",
       "  If you're reading this message in the Jupyter Notebook or JupyterLab Notebook, it may mean\n",
       "  that the widgets JavaScript is still loading. If this message persists, it\n",
       "  likely means that the widgets JavaScript library is either not installed or\n",
       "  not enabled. See the <a href=\"https://ipywidgets.readthedocs.io/en/stable/user_install.html\">Jupyter\n",
       "  Widgets Documentation</a> for setup instructions.\n",
       "</p>\n",
       "<p>\n",
       "  If you're reading this message in another frontend (for example, a static\n",
       "  rendering on GitHub or <a href=\"https://nbviewer.jupyter.org/\">NBViewer</a>),\n",
       "  it may mean that your frontend doesn't currently support widgets.\n",
       "</p>\n"
      ],
      "text/plain": [
       "HBox(children=(IntProgress(value=0, description='Epoch', max=15), HTML(value='')))"
      ]
     },
     "metadata": {},
     "output_type": "display_data"
    },
    {
     "name": "stdout",
     "output_type": "stream",
     "text": [
      "[ 0.       5.72671  5.47263]                              \n",
      "[ 1.       5.44658  5.10798]                              \n",
      "[ 2.       5.17756  4.97927]                              \n",
      "[ 3.       5.03689  4.79097]                              \n",
      "[ 4.       4.89318  4.68613]                              \n",
      "[ 5.       4.78449  4.63006]                              \n",
      "[ 6.       4.73771  4.61849]                              \n",
      "[ 7.       4.74456  4.5932 ]                              \n",
      "[ 8.       4.67475  4.51676]                              \n",
      "[ 9.       4.59201  4.45505]                              \n",
      "[ 10.        4.51861   4.41385]                           \n",
      "[ 11.        4.4578    4.38267]                           \n",
      "[ 12.        4.41207   4.36429]                           \n",
      "[ 13.        4.38874   4.35907]                           \n",
      "[ 14.        4.37143   4.35468]                           \n",
      "\n"
     ]
    },
    {
     "data": {
      "application/vnd.jupyter.widget-view+json": {
       "model_id": "4677074383e24a389eb9452c0fdc38d4",
       "version_major": 2,
       "version_minor": 0
      },
      "text/html": [
       "<p>Failed to display Jupyter Widget of type <code>HBox</code>.</p>\n",
       "<p>\n",
       "  If you're reading this message in the Jupyter Notebook or JupyterLab Notebook, it may mean\n",
       "  that the widgets JavaScript is still loading. If this message persists, it\n",
       "  likely means that the widgets JavaScript library is either not installed or\n",
       "  not enabled. See the <a href=\"https://ipywidgets.readthedocs.io/en/stable/user_install.html\">Jupyter\n",
       "  Widgets Documentation</a> for setup instructions.\n",
       "</p>\n",
       "<p>\n",
       "  If you're reading this message in another frontend (for example, a static\n",
       "  rendering on GitHub or <a href=\"https://nbviewer.jupyter.org/\">NBViewer</a>),\n",
       "  it may mean that your frontend doesn't currently support widgets.\n",
       "</p>\n"
      ],
      "text/plain": [
       "HBox(children=(IntProgress(value=0, description='Epoch', max=5), HTML(value='')))"
      ]
     },
     "metadata": {},
     "output_type": "display_data"
    },
    {
     "name": "stdout",
     "output_type": "stream",
     "text": [
      "[ 0.       4.41768  4.37295]                              \n",
      "[ 1.       4.37999  4.33198]                              \n",
      "[ 2.       4.32362  4.30044]                              \n",
      "[ 3.       4.27089  4.28787]                              \n",
      "[ 4.       4.22889  4.28533]                              \n",
      "\n"
     ]
    },
    {
     "data": {
      "application/vnd.jupyter.widget-view+json": {
       "model_id": "470224f672ed45c8a141857946d71287",
       "version_major": 2,
       "version_minor": 0
      },
      "text/html": [
       "<p>Failed to display Jupyter Widget of type <code>HBox</code>.</p>\n",
       "<p>\n",
       "  If you're reading this message in the Jupyter Notebook or JupyterLab Notebook, it may mean\n",
       "  that the widgets JavaScript is still loading. If this message persists, it\n",
       "  likely means that the widgets JavaScript library is either not installed or\n",
       "  not enabled. See the <a href=\"https://ipywidgets.readthedocs.io/en/stable/user_install.html\">Jupyter\n",
       "  Widgets Documentation</a> for setup instructions.\n",
       "</p>\n",
       "<p>\n",
       "  If you're reading this message in another frontend (for example, a static\n",
       "  rendering on GitHub or <a href=\"https://nbviewer.jupyter.org/\">NBViewer</a>),\n",
       "  it may mean that your frontend doesn't currently support widgets.\n",
       "</p>\n"
      ],
      "text/plain": [
       "HBox(children=(IntProgress(value=0, description='Epoch', max=15), HTML(value='')))"
      ]
     },
     "metadata": {},
     "output_type": "display_data"
    },
    {
     "name": "stdout",
     "output_type": "stream",
     "text": [
      "[ 0.       5.69212  5.48962]                              \n",
      "[ 1.       5.58345  5.48573]                              \n",
      "[ 2.       5.5362   5.48128]                              \n",
      "[ 3.       5.55229  5.51309]                              \n",
      "[ 4.       5.53451  5.48828]                              \n",
      "[ 5.       5.52394  5.48113]                              \n",
      "[ 6.       5.49939  5.44566]                              \n",
      "[ 7.       5.37937  5.15784]                              \n",
      "[ 8.       5.1085   4.91335]                              \n",
      "[ 9.       4.93287  4.79799]                              \n",
      "[ 10.        4.81824   4.72538]                           \n",
      "[ 11.        4.74604   4.67736]                           \n",
      "[ 12.        4.69914   4.6434 ]                           \n",
      "[ 13.        4.66283   4.62747]                           \n",
      "[ 14.        4.64502   4.62167]                           \n",
      "\n"
     ]
    },
    {
     "data": {
      "application/vnd.jupyter.widget-view+json": {
       "model_id": "91079f9a24e7433d835d84539b5d21fd",
       "version_major": 2,
       "version_minor": 0
      },
      "text/html": [
       "<p>Failed to display Jupyter Widget of type <code>HBox</code>.</p>\n",
       "<p>\n",
       "  If you're reading this message in the Jupyter Notebook or JupyterLab Notebook, it may mean\n",
       "  that the widgets JavaScript is still loading. If this message persists, it\n",
       "  likely means that the widgets JavaScript library is either not installed or\n",
       "  not enabled. See the <a href=\"https://ipywidgets.readthedocs.io/en/stable/user_install.html\">Jupyter\n",
       "  Widgets Documentation</a> for setup instructions.\n",
       "</p>\n",
       "<p>\n",
       "  If you're reading this message in another frontend (for example, a static\n",
       "  rendering on GitHub or <a href=\"https://nbviewer.jupyter.org/\">NBViewer</a>),\n",
       "  it may mean that your frontend doesn't currently support widgets.\n",
       "</p>\n"
      ],
      "text/plain": [
       "HBox(children=(IntProgress(value=0, description='Epoch', max=5), HTML(value='')))"
      ]
     },
     "metadata": {},
     "output_type": "display_data"
    },
    {
     "name": "stdout",
     "output_type": "stream",
     "text": [
      "[ 0.       4.66705  4.60942]                              \n",
      "[ 1.       4.60234  4.55711]                              \n",
      "[ 2.       4.53004  4.51296]                              \n",
      "[ 3.       4.47889  4.476  ]                              \n",
      "[ 4.       4.44737  4.46814]                              \n",
      "\n"
     ]
    },
    {
     "data": {
      "application/vnd.jupyter.widget-view+json": {
       "model_id": "bf5e0375d73c442d94cc5bdb461885bc",
       "version_major": 2,
       "version_minor": 0
      },
      "text/html": [
       "<p>Failed to display Jupyter Widget of type <code>HBox</code>.</p>\n",
       "<p>\n",
       "  If you're reading this message in the Jupyter Notebook or JupyterLab Notebook, it may mean\n",
       "  that the widgets JavaScript is still loading. If this message persists, it\n",
       "  likely means that the widgets JavaScript library is either not installed or\n",
       "  not enabled. See the <a href=\"https://ipywidgets.readthedocs.io/en/stable/user_install.html\">Jupyter\n",
       "  Widgets Documentation</a> for setup instructions.\n",
       "</p>\n",
       "<p>\n",
       "  If you're reading this message in another frontend (for example, a static\n",
       "  rendering on GitHub or <a href=\"https://nbviewer.jupyter.org/\">NBViewer</a>),\n",
       "  it may mean that your frontend doesn't currently support widgets.\n",
       "</p>\n"
      ],
      "text/plain": [
       "HBox(children=(IntProgress(value=0, description='Epoch', max=15), HTML(value='')))"
      ]
     },
     "metadata": {},
     "output_type": "display_data"
    },
    {
     "name": "stdout",
     "output_type": "stream",
     "text": [
      "[ 0.       5.31718  4.97615]                              \n",
      "[ 1.       4.95362  4.67542]                              \n",
      "[ 2.       4.71233  4.56817]                              \n",
      "[ 3.       4.63447  4.46783]                              \n",
      "[ 4.       4.46256  4.34724]                              \n",
      "[ 5.       4.31424  4.29208]                              \n",
      "[ 6.       4.19285  4.27671]                              \n",
      "[ 7.       4.24692  4.28049]                              \n",
      "[ 8.       4.14881  4.25495]                              \n",
      "[ 9.       3.98702  4.25089]                              \n",
      "[ 10.        3.81042   4.27189]                           \n",
      "[ 11.        3.65467   4.24062]                           \n",
      "[ 12.        3.45707   4.30096]                           \n",
      "[ 13.        3.32017   4.3331 ]                           \n",
      "[ 14.        3.26325   4.3531 ]                           \n",
      "\n"
     ]
    },
    {
     "data": {
      "application/vnd.jupyter.widget-view+json": {
       "model_id": "80adb7d148574f0fa17d19eef21c915a",
       "version_major": 2,
       "version_minor": 0
      },
      "text/html": [
       "<p>Failed to display Jupyter Widget of type <code>HBox</code>.</p>\n",
       "<p>\n",
       "  If you're reading this message in the Jupyter Notebook or JupyterLab Notebook, it may mean\n",
       "  that the widgets JavaScript is still loading. If this message persists, it\n",
       "  likely means that the widgets JavaScript library is either not installed or\n",
       "  not enabled. See the <a href=\"https://ipywidgets.readthedocs.io/en/stable/user_install.html\">Jupyter\n",
       "  Widgets Documentation</a> for setup instructions.\n",
       "</p>\n",
       "<p>\n",
       "  If you're reading this message in another frontend (for example, a static\n",
       "  rendering on GitHub or <a href=\"https://nbviewer.jupyter.org/\">NBViewer</a>),\n",
       "  it may mean that your frontend doesn't currently support widgets.\n",
       "</p>\n"
      ],
      "text/plain": [
       "HBox(children=(IntProgress(value=0, description='Epoch', max=5), HTML(value='')))"
      ]
     },
     "metadata": {},
     "output_type": "display_data"
    },
    {
     "name": "stdout",
     "output_type": "stream",
     "text": [
      "[ 0.       3.44295  4.31494]                              \n",
      "[ 1.       3.35948  4.39781]                              \n",
      "[ 2.       3.17672  4.43838]                              \n",
      "[ 3.       2.95962  4.47885]                              \n",
      "[ 4.       2.85746  4.56914]                              \n",
      "\n"
     ]
    },
    {
     "data": {
      "application/vnd.jupyter.widget-view+json": {
       "model_id": "647c263ae744484ab7608bea83d8fd59",
       "version_major": 2,
       "version_minor": 0
      },
      "text/html": [
       "<p>Failed to display Jupyter Widget of type <code>HBox</code>.</p>\n",
       "<p>\n",
       "  If you're reading this message in the Jupyter Notebook or JupyterLab Notebook, it may mean\n",
       "  that the widgets JavaScript is still loading. If this message persists, it\n",
       "  likely means that the widgets JavaScript library is either not installed or\n",
       "  not enabled. See the <a href=\"https://ipywidgets.readthedocs.io/en/stable/user_install.html\">Jupyter\n",
       "  Widgets Documentation</a> for setup instructions.\n",
       "</p>\n",
       "<p>\n",
       "  If you're reading this message in another frontend (for example, a static\n",
       "  rendering on GitHub or <a href=\"https://nbviewer.jupyter.org/\">NBViewer</a>),\n",
       "  it may mean that your frontend doesn't currently support widgets.\n",
       "</p>\n"
      ],
      "text/plain": [
       "HBox(children=(IntProgress(value=0, description='Epoch', max=15), HTML(value='')))"
      ]
     },
     "metadata": {},
     "output_type": "display_data"
    },
    {
     "name": "stdout",
     "output_type": "stream",
     "text": [
      "[ 0.       5.68328  5.56478]                              \n",
      "[ 1.       5.60384  5.50335]                              \n",
      "[ 2.       5.51147  5.37876]                              \n",
      "[ 3.       5.23584  4.91087]                              \n",
      "[ 4.       4.94721  4.73671]                              \n",
      "[ 5.       4.79519  4.65841]                              \n",
      "[ 6.       4.7299   4.64446]                              \n",
      "[ 7.       4.71199  4.60591]                              \n",
      "[ 8.       4.62037  4.51114]                              \n",
      "[ 9.       4.52733  4.45574]                              \n",
      "[ 10.        4.4497    4.42306]                           \n",
      "[ 11.        4.39747   4.38769]                           \n",
      "[ 12.        4.3476    4.36692]                           \n",
      "[ 13.        4.3088    4.35447]                           \n",
      "[ 14.        4.27858   4.35145]                           \n",
      "\n"
     ]
    },
    {
     "data": {
      "application/vnd.jupyter.widget-view+json": {
       "model_id": "a800a758346b465cb01191058741fef9",
       "version_major": 2,
       "version_minor": 0
      },
      "text/html": [
       "<p>Failed to display Jupyter Widget of type <code>HBox</code>.</p>\n",
       "<p>\n",
       "  If you're reading this message in the Jupyter Notebook or JupyterLab Notebook, it may mean\n",
       "  that the widgets JavaScript is still loading. If this message persists, it\n",
       "  likely means that the widgets JavaScript library is either not installed or\n",
       "  not enabled. See the <a href=\"https://ipywidgets.readthedocs.io/en/stable/user_install.html\">Jupyter\n",
       "  Widgets Documentation</a> for setup instructions.\n",
       "</p>\n",
       "<p>\n",
       "  If you're reading this message in another frontend (for example, a static\n",
       "  rendering on GitHub or <a href=\"https://nbviewer.jupyter.org/\">NBViewer</a>),\n",
       "  it may mean that your frontend doesn't currently support widgets.\n",
       "</p>\n"
      ],
      "text/plain": [
       "HBox(children=(IntProgress(value=0, description='Epoch', max=5), HTML(value='')))"
      ]
     },
     "metadata": {},
     "output_type": "display_data"
    },
    {
     "name": "stdout",
     "output_type": "stream",
     "text": [
      "[ 0.       4.32762  4.3606 ]                              \n",
      "[ 1.       4.2792   4.33958]                              \n",
      "[ 2.       4.20914  4.30109]                              \n",
      "[ 3.       4.14314  4.28392]                              \n",
      "[ 4.       4.09793  4.2796 ]                              \n",
      "\n"
     ]
    },
    {
     "data": {
      "application/vnd.jupyter.widget-view+json": {
       "model_id": "15402544abef4974b53f6bfc2486e52c",
       "version_major": 2,
       "version_minor": 0
      },
      "text/html": [
       "<p>Failed to display Jupyter Widget of type <code>HBox</code>.</p>\n",
       "<p>\n",
       "  If you're reading this message in the Jupyter Notebook or JupyterLab Notebook, it may mean\n",
       "  that the widgets JavaScript is still loading. If this message persists, it\n",
       "  likely means that the widgets JavaScript library is either not installed or\n",
       "  not enabled. See the <a href=\"https://ipywidgets.readthedocs.io/en/stable/user_install.html\">Jupyter\n",
       "  Widgets Documentation</a> for setup instructions.\n",
       "</p>\n",
       "<p>\n",
       "  If you're reading this message in another frontend (for example, a static\n",
       "  rendering on GitHub or <a href=\"https://nbviewer.jupyter.org/\">NBViewer</a>),\n",
       "  it may mean that your frontend doesn't currently support widgets.\n",
       "</p>\n"
      ],
      "text/plain": [
       "HBox(children=(IntProgress(value=0, description='Epoch', max=15), HTML(value='')))"
      ]
     },
     "metadata": {},
     "output_type": "display_data"
    },
    {
     "name": "stdout",
     "output_type": "stream",
     "text": [
      "[ 0.       5.6997   5.69342]                              \n",
      "[ 1.      5.3232  5.0322]                                 \n",
      "[ 2.       5.05721  4.89403]                              \n",
      "[ 3.       4.94072  4.75774]                              \n",
      "[ 4.       4.80002  4.64429]                              \n",
      "[ 5.       4.70597  4.58239]                              \n",
      "[ 6.       4.65346  4.57122]                              \n",
      "[ 7.       4.66009  4.53431]                              \n",
      "[ 8.       4.58191  4.46918]                              \n",
      "[ 9.       4.51239  4.41892]                              \n",
      "[ 10.        4.44907   4.38323]                           \n",
      "[ 11.        4.38511   4.35237]                           \n",
      "[ 12.        4.33709   4.33629]                           \n",
      "[ 13.        4.31406   4.32484]                           \n",
      "[ 14.        4.30443   4.32799]                           \n",
      "\n"
     ]
    },
    {
     "data": {
      "application/vnd.jupyter.widget-view+json": {
       "model_id": "99063e01e99840d8bceee58c353a5b85",
       "version_major": 2,
       "version_minor": 0
      },
      "text/html": [
       "<p>Failed to display Jupyter Widget of type <code>HBox</code>.</p>\n",
       "<p>\n",
       "  If you're reading this message in the Jupyter Notebook or JupyterLab Notebook, it may mean\n",
       "  that the widgets JavaScript is still loading. If this message persists, it\n",
       "  likely means that the widgets JavaScript library is either not installed or\n",
       "  not enabled. See the <a href=\"https://ipywidgets.readthedocs.io/en/stable/user_install.html\">Jupyter\n",
       "  Widgets Documentation</a> for setup instructions.\n",
       "</p>\n",
       "<p>\n",
       "  If you're reading this message in another frontend (for example, a static\n",
       "  rendering on GitHub or <a href=\"https://nbviewer.jupyter.org/\">NBViewer</a>),\n",
       "  it may mean that your frontend doesn't currently support widgets.\n",
       "</p>\n"
      ],
      "text/plain": [
       "HBox(children=(IntProgress(value=0, description='Epoch', max=5), HTML(value='')))"
      ]
     },
     "metadata": {},
     "output_type": "display_data"
    },
    {
     "name": "stdout",
     "output_type": "stream",
     "text": [
      "[ 0.       4.34644  4.33209]                              \n",
      "[ 1.       4.30333  4.29785]                              \n",
      "[ 2.       4.25117  4.27306]                              \n",
      "[ 3.       4.19561  4.25965]                              \n",
      "[ 4.       4.15407  4.25533]                              \n",
      "\n"
     ]
    },
    {
     "data": {
      "application/vnd.jupyter.widget-view+json": {
       "model_id": "f3897c46baaf47519454616f6c4d171b",
       "version_major": 2,
       "version_minor": 0
      },
      "text/html": [
       "<p>Failed to display Jupyter Widget of type <code>HBox</code>.</p>\n",
       "<p>\n",
       "  If you're reading this message in the Jupyter Notebook or JupyterLab Notebook, it may mean\n",
       "  that the widgets JavaScript is still loading. If this message persists, it\n",
       "  likely means that the widgets JavaScript library is either not installed or\n",
       "  not enabled. See the <a href=\"https://ipywidgets.readthedocs.io/en/stable/user_install.html\">Jupyter\n",
       "  Widgets Documentation</a> for setup instructions.\n",
       "</p>\n",
       "<p>\n",
       "  If you're reading this message in another frontend (for example, a static\n",
       "  rendering on GitHub or <a href=\"https://nbviewer.jupyter.org/\">NBViewer</a>),\n",
       "  it may mean that your frontend doesn't currently support widgets.\n",
       "</p>\n"
      ],
      "text/plain": [
       "HBox(children=(IntProgress(value=0, description='Epoch', max=15), HTML(value='')))"
      ]
     },
     "metadata": {},
     "output_type": "display_data"
    },
    {
     "name": "stdout",
     "output_type": "stream",
     "text": [
      "[ 0.       5.79825  5.77199]                              \n",
      "[ 1.       5.43698  5.04723]                              \n",
      "[ 2.       5.13038  4.92701]                              \n",
      "[ 3.       5.0171   4.79662]                              \n",
      "[ 4.       4.87842  4.67443]                              \n",
      "[ 5.       4.77816  4.62379]                              \n",
      "[ 6.       4.72829  4.60406]                              \n",
      "[ 7.       4.72476  4.5702 ]                              \n",
      "[ 8.       4.6566   4.49538]                              \n",
      "[ 9.       4.57889  4.43623]                              \n",
      "[ 10.        4.51266   4.39759]                           \n",
      "[ 11.        4.45733   4.36801]                           \n",
      "[ 12.        4.4131    4.34756]                           \n",
      "[ 13.        4.37509   4.3353 ]                           \n",
      "[ 14.        4.36394   4.33357]                           \n",
      "\n"
     ]
    },
    {
     "data": {
      "application/vnd.jupyter.widget-view+json": {
       "model_id": "76a541dd79d04da6bd0577d7c3505f4b",
       "version_major": 2,
       "version_minor": 0
      },
      "text/html": [
       "<p>Failed to display Jupyter Widget of type <code>HBox</code>.</p>\n",
       "<p>\n",
       "  If you're reading this message in the Jupyter Notebook or JupyterLab Notebook, it may mean\n",
       "  that the widgets JavaScript is still loading. If this message persists, it\n",
       "  likely means that the widgets JavaScript library is either not installed or\n",
       "  not enabled. See the <a href=\"https://ipywidgets.readthedocs.io/en/stable/user_install.html\">Jupyter\n",
       "  Widgets Documentation</a> for setup instructions.\n",
       "</p>\n",
       "<p>\n",
       "  If you're reading this message in another frontend (for example, a static\n",
       "  rendering on GitHub or <a href=\"https://nbviewer.jupyter.org/\">NBViewer</a>),\n",
       "  it may mean that your frontend doesn't currently support widgets.\n",
       "</p>\n"
      ],
      "text/plain": [
       "HBox(children=(IntProgress(value=0, description='Epoch', max=5), HTML(value='')))"
      ]
     },
     "metadata": {},
     "output_type": "display_data"
    },
    {
     "name": "stdout",
     "output_type": "stream",
     "text": [
      "[ 0.       4.42127  4.35929]                              \n",
      "[ 1.       4.36855  4.31239]                              \n",
      "[ 2.       4.30132  4.27939]                              \n",
      "[ 3.       4.24197  4.26049]                              \n",
      "[ 4.       4.21138  4.25662]                              \n",
      "\n"
     ]
    },
    {
     "data": {
      "application/vnd.jupyter.widget-view+json": {
       "model_id": "a8b82236fbf54c4fb4df5bec5b94d9fb",
       "version_major": 2,
       "version_minor": 0
      },
      "text/html": [
       "<p>Failed to display Jupyter Widget of type <code>HBox</code>.</p>\n",
       "<p>\n",
       "  If you're reading this message in the Jupyter Notebook or JupyterLab Notebook, it may mean\n",
       "  that the widgets JavaScript is still loading. If this message persists, it\n",
       "  likely means that the widgets JavaScript library is either not installed or\n",
       "  not enabled. See the <a href=\"https://ipywidgets.readthedocs.io/en/stable/user_install.html\">Jupyter\n",
       "  Widgets Documentation</a> for setup instructions.\n",
       "</p>\n",
       "<p>\n",
       "  If you're reading this message in another frontend (for example, a static\n",
       "  rendering on GitHub or <a href=\"https://nbviewer.jupyter.org/\">NBViewer</a>),\n",
       "  it may mean that your frontend doesn't currently support widgets.\n",
       "</p>\n"
      ],
      "text/plain": [
       "HBox(children=(IntProgress(value=0, description='Epoch', max=15), HTML(value='')))"
      ]
     },
     "metadata": {},
     "output_type": "display_data"
    },
    {
     "name": "stdout",
     "output_type": "stream",
     "text": [
      "[ 0.       5.75305  5.45232]                              \n",
      "[ 1.       5.4107   5.05469]                              \n",
      "[ 2.       5.14876  4.95664]                              \n",
      "[ 3.       5.0224   4.79201]                              \n",
      "[ 4.       4.88739  4.69534]                              \n",
      "[ 5.       4.79734  4.65127]                              \n",
      "[ 6.       4.74448  4.63619]                              \n",
      "[ 7.       4.75267  4.60273]                              \n",
      "[ 8.       4.68706  4.5342 ]                              \n",
      "[ 9.       4.61489  4.49244]                              \n",
      "[ 10.        4.56503   4.44586]                           \n",
      "[ 11.        4.49863   4.41053]                           \n",
      "[ 12.        4.4676    4.39455]                           \n",
      "[ 13.        4.44219   4.38794]                           \n",
      "[ 14.        4.42417   4.38691]                           \n",
      "\n"
     ]
    },
    {
     "data": {
      "application/vnd.jupyter.widget-view+json": {
       "model_id": "469c0d9fb4584dee83990ed13daa8d28",
       "version_major": 2,
       "version_minor": 0
      },
      "text/html": [
       "<p>Failed to display Jupyter Widget of type <code>HBox</code>.</p>\n",
       "<p>\n",
       "  If you're reading this message in the Jupyter Notebook or JupyterLab Notebook, it may mean\n",
       "  that the widgets JavaScript is still loading. If this message persists, it\n",
       "  likely means that the widgets JavaScript library is either not installed or\n",
       "  not enabled. See the <a href=\"https://ipywidgets.readthedocs.io/en/stable/user_install.html\">Jupyter\n",
       "  Widgets Documentation</a> for setup instructions.\n",
       "</p>\n",
       "<p>\n",
       "  If you're reading this message in another frontend (for example, a static\n",
       "  rendering on GitHub or <a href=\"https://nbviewer.jupyter.org/\">NBViewer</a>),\n",
       "  it may mean that your frontend doesn't currently support widgets.\n",
       "</p>\n"
      ],
      "text/plain": [
       "HBox(children=(IntProgress(value=0, description='Epoch', max=5), HTML(value='')))"
      ]
     },
     "metadata": {},
     "output_type": "display_data"
    },
    {
     "name": "stdout",
     "output_type": "stream",
     "text": [
      "[ 0.       4.46955  4.39584]                              \n",
      "[ 1.       4.42814  4.36439]                              \n",
      "[ 2.       4.36841  4.33421]                              \n",
      "[ 3.       4.32474  4.31751]                              \n",
      "[ 4.       4.30882  4.31253]                              \n",
      "\n"
     ]
    },
    {
     "data": {
      "application/vnd.jupyter.widget-view+json": {
       "model_id": "399fca1b39084c0d90f8c299363a680b",
       "version_major": 2,
       "version_minor": 0
      },
      "text/html": [
       "<p>Failed to display Jupyter Widget of type <code>HBox</code>.</p>\n",
       "<p>\n",
       "  If you're reading this message in the Jupyter Notebook or JupyterLab Notebook, it may mean\n",
       "  that the widgets JavaScript is still loading. If this message persists, it\n",
       "  likely means that the widgets JavaScript library is either not installed or\n",
       "  not enabled. See the <a href=\"https://ipywidgets.readthedocs.io/en/stable/user_install.html\">Jupyter\n",
       "  Widgets Documentation</a> for setup instructions.\n",
       "</p>\n",
       "<p>\n",
       "  If you're reading this message in another frontend (for example, a static\n",
       "  rendering on GitHub or <a href=\"https://nbviewer.jupyter.org/\">NBViewer</a>),\n",
       "  it may mean that your frontend doesn't currently support widgets.\n",
       "</p>\n"
      ],
      "text/plain": [
       "HBox(children=(IntProgress(value=0, description='Epoch', max=15), HTML(value='')))"
      ]
     },
     "metadata": {},
     "output_type": "display_data"
    },
    {
     "name": "stdout",
     "output_type": "stream",
     "text": [
      "[ 0.       5.35698  5.02463]                              \n",
      "[ 1.       4.99445  4.73237]                              \n",
      "[ 2.       4.74607  4.6304 ]                              \n",
      "[ 3.       4.68655  4.54208]                              \n",
      "[ 4.       4.53623  4.43544]                              \n",
      "[ 5.       4.38069  4.36406]                              \n",
      "[ 6.       4.29156  4.35036]                              \n",
      "[ 7.      4.3513  4.3538]                                 \n",
      "[ 8.       4.24277  4.29273]                              \n",
      "[ 9.       4.11476  4.28289]                              \n",
      "[ 10.        3.95539   4.27712]                           \n",
      "[ 11.        3.79255   4.26664]                           \n",
      "[ 12.        3.66567   4.27017]                           \n",
      "[ 13.        3.54572   4.29856]                           \n",
      "[ 14.        3.48937   4.31324]                           \n",
      "\n"
     ]
    },
    {
     "data": {
      "application/vnd.jupyter.widget-view+json": {
       "model_id": "acde7e2197e94f67adc8a26f0cc280fe",
       "version_major": 2,
       "version_minor": 0
      },
      "text/html": [
       "<p>Failed to display Jupyter Widget of type <code>HBox</code>.</p>\n",
       "<p>\n",
       "  If you're reading this message in the Jupyter Notebook or JupyterLab Notebook, it may mean\n",
       "  that the widgets JavaScript is still loading. If this message persists, it\n",
       "  likely means that the widgets JavaScript library is either not installed or\n",
       "  not enabled. See the <a href=\"https://ipywidgets.readthedocs.io/en/stable/user_install.html\">Jupyter\n",
       "  Widgets Documentation</a> for setup instructions.\n",
       "</p>\n",
       "<p>\n",
       "  If you're reading this message in another frontend (for example, a static\n",
       "  rendering on GitHub or <a href=\"https://nbviewer.jupyter.org/\">NBViewer</a>),\n",
       "  it may mean that your frontend doesn't currently support widgets.\n",
       "</p>\n"
      ],
      "text/plain": [
       "HBox(children=(IntProgress(value=0, description='Epoch', max=5), HTML(value='')))"
      ]
     },
     "metadata": {},
     "output_type": "display_data"
    },
    {
     "name": "stdout",
     "output_type": "stream",
     "text": [
      "[ 0.       3.62374  4.30853]                              \n",
      "[ 1.       3.54895  4.33655]                              \n",
      "[ 2.       3.33969  4.40801]                              \n",
      "[ 3.       3.17113  4.43993]                              \n",
      "[ 4.       3.07547  4.50305]                              \n",
      "\n"
     ]
    },
    {
     "data": {
      "application/vnd.jupyter.widget-view+json": {
       "model_id": "341447475df84b47a060a297a82e6c98",
       "version_major": 2,
       "version_minor": 0
      },
      "text/html": [
       "<p>Failed to display Jupyter Widget of type <code>HBox</code>.</p>\n",
       "<p>\n",
       "  If you're reading this message in the Jupyter Notebook or JupyterLab Notebook, it may mean\n",
       "  that the widgets JavaScript is still loading. If this message persists, it\n",
       "  likely means that the widgets JavaScript library is either not installed or\n",
       "  not enabled. See the <a href=\"https://ipywidgets.readthedocs.io/en/stable/user_install.html\">Jupyter\n",
       "  Widgets Documentation</a> for setup instructions.\n",
       "</p>\n",
       "<p>\n",
       "  If you're reading this message in another frontend (for example, a static\n",
       "  rendering on GitHub or <a href=\"https://nbviewer.jupyter.org/\">NBViewer</a>),\n",
       "  it may mean that your frontend doesn't currently support widgets.\n",
       "</p>\n"
      ],
      "text/plain": [
       "HBox(children=(IntProgress(value=0, description='Epoch', max=15), HTML(value='')))"
      ]
     },
     "metadata": {},
     "output_type": "display_data"
    },
    {
     "name": "stdout",
     "output_type": "stream",
     "text": [
      "[ 0.       5.37537  5.0214 ]                              \n",
      "[ 1.       5.02753  4.71864]                              \n",
      "[ 2.       4.77984  4.62061]                              \n",
      "[ 3.       4.71246  4.53453]                              \n",
      "[ 4.       4.55869  4.41857]                              \n",
      "[ 5.       4.41988  4.34976]                              \n",
      "[ 6.       4.30597  4.33029]                              \n",
      "[ 7.       4.37181  4.33875]                              \n",
      "[ 8.       4.26841  4.28962]                              \n",
      "[ 9.       4.12522  4.25675]                              \n",
      "[ 10.        3.96077   4.24929]                           \n",
      "[ 11.        3.80958   4.24598]                           \n",
      "[ 12.        3.63417   4.27411]                           \n",
      "[ 13.        3.50004   4.29024]                           \n",
      "[ 14.        3.44239   4.32771]                           \n",
      "\n"
     ]
    },
    {
     "data": {
      "application/vnd.jupyter.widget-view+json": {
       "model_id": "df7b351b7fa240fa98e6354b8341f0d6",
       "version_major": 2,
       "version_minor": 0
      },
      "text/html": [
       "<p>Failed to display Jupyter Widget of type <code>HBox</code>.</p>\n",
       "<p>\n",
       "  If you're reading this message in the Jupyter Notebook or JupyterLab Notebook, it may mean\n",
       "  that the widgets JavaScript is still loading. If this message persists, it\n",
       "  likely means that the widgets JavaScript library is either not installed or\n",
       "  not enabled. See the <a href=\"https://ipywidgets.readthedocs.io/en/stable/user_install.html\">Jupyter\n",
       "  Widgets Documentation</a> for setup instructions.\n",
       "</p>\n",
       "<p>\n",
       "  If you're reading this message in another frontend (for example, a static\n",
       "  rendering on GitHub or <a href=\"https://nbviewer.jupyter.org/\">NBViewer</a>),\n",
       "  it may mean that your frontend doesn't currently support widgets.\n",
       "</p>\n"
      ],
      "text/plain": [
       "HBox(children=(IntProgress(value=0, description='Epoch', max=5), HTML(value='')))"
      ]
     },
     "metadata": {},
     "output_type": "display_data"
    },
    {
     "name": "stdout",
     "output_type": "stream",
     "text": [
      "[ 0.       3.63131  4.30245]                              \n",
      "[ 1.       3.53547  4.3206 ]                              \n",
      "[ 2.       3.32768  4.39948]                              \n",
      "[ 3.       3.14866  4.42978]                              \n",
      "[ 4.       3.00456  4.53203]                              \n",
      "\n"
     ]
    },
    {
     "data": {
      "application/vnd.jupyter.widget-view+json": {
       "model_id": "a2b59a6d26dc46c79590b564d465a2d3",
       "version_major": 2,
       "version_minor": 0
      },
      "text/html": [
       "<p>Failed to display Jupyter Widget of type <code>HBox</code>.</p>\n",
       "<p>\n",
       "  If you're reading this message in the Jupyter Notebook or JupyterLab Notebook, it may mean\n",
       "  that the widgets JavaScript is still loading. If this message persists, it\n",
       "  likely means that the widgets JavaScript library is either not installed or\n",
       "  not enabled. See the <a href=\"https://ipywidgets.readthedocs.io/en/stable/user_install.html\">Jupyter\n",
       "  Widgets Documentation</a> for setup instructions.\n",
       "</p>\n",
       "<p>\n",
       "  If you're reading this message in another frontend (for example, a static\n",
       "  rendering on GitHub or <a href=\"https://nbviewer.jupyter.org/\">NBViewer</a>),\n",
       "  it may mean that your frontend doesn't currently support widgets.\n",
       "</p>\n"
      ],
      "text/plain": [
       "HBox(children=(IntProgress(value=0, description='Epoch', max=15), HTML(value='')))"
      ]
     },
     "metadata": {},
     "output_type": "display_data"
    },
    {
     "name": "stdout",
     "output_type": "stream",
     "text": [
      "[ 0.       5.44151  5.03309]                              \n",
      "[ 1.       4.99863  4.69001]                              \n",
      "[ 2.       4.74863  4.60335]                              \n",
      "[ 3.       4.69009  4.5228 ]                              \n",
      "[ 4.       4.53918  4.41413]                              \n",
      "[ 5.       4.4104   4.35043]                              \n",
      "[ 6.       4.3133   4.33443]                              \n",
      "[ 7.       4.35594  4.31877]                              \n",
      "[ 8.       4.26225  4.28527]                              \n",
      "[ 9.       4.13931  4.2503 ]                              \n",
      "[ 10.        3.98326   4.2399 ]                           \n",
      "[ 11.        3.8276    4.25775]                           \n",
      "[ 12.        3.66559   4.27688]                           \n",
      "[ 13.        3.56171   4.28006]                           \n",
      "[ 14.        3.51277   4.29743]                           \n",
      "\n"
     ]
    },
    {
     "data": {
      "application/vnd.jupyter.widget-view+json": {
       "model_id": "2926750cf2c64337aedf9749ffc2288c",
       "version_major": 2,
       "version_minor": 0
      },
      "text/html": [
       "<p>Failed to display Jupyter Widget of type <code>HBox</code>.</p>\n",
       "<p>\n",
       "  If you're reading this message in the Jupyter Notebook or JupyterLab Notebook, it may mean\n",
       "  that the widgets JavaScript is still loading. If this message persists, it\n",
       "  likely means that the widgets JavaScript library is either not installed or\n",
       "  not enabled. See the <a href=\"https://ipywidgets.readthedocs.io/en/stable/user_install.html\">Jupyter\n",
       "  Widgets Documentation</a> for setup instructions.\n",
       "</p>\n",
       "<p>\n",
       "  If you're reading this message in another frontend (for example, a static\n",
       "  rendering on GitHub or <a href=\"https://nbviewer.jupyter.org/\">NBViewer</a>),\n",
       "  it may mean that your frontend doesn't currently support widgets.\n",
       "</p>\n"
      ],
      "text/plain": [
       "HBox(children=(IntProgress(value=0, description='Epoch', max=5), HTML(value='')))"
      ]
     },
     "metadata": {},
     "output_type": "display_data"
    },
    {
     "name": "stdout",
     "output_type": "stream",
     "text": [
      "[ 0.       3.65839  4.30694]                              \n",
      "[ 1.       3.58101  4.33935]                              \n",
      "[ 2.       3.39696  4.37344]                              \n",
      "[ 3.       3.18352  4.42642]                              \n",
      "[ 4.       3.14141  4.48461]                              \n",
      "\n"
     ]
    },
    {
     "data": {
      "application/vnd.jupyter.widget-view+json": {
       "model_id": "a69bdbe6d92a449e9e6877ef74c1c029",
       "version_major": 2,
       "version_minor": 0
      },
      "text/html": [
       "<p>Failed to display Jupyter Widget of type <code>HBox</code>.</p>\n",
       "<p>\n",
       "  If you're reading this message in the Jupyter Notebook or JupyterLab Notebook, it may mean\n",
       "  that the widgets JavaScript is still loading. If this message persists, it\n",
       "  likely means that the widgets JavaScript library is either not installed or\n",
       "  not enabled. See the <a href=\"https://ipywidgets.readthedocs.io/en/stable/user_install.html\">Jupyter\n",
       "  Widgets Documentation</a> for setup instructions.\n",
       "</p>\n",
       "<p>\n",
       "  If you're reading this message in another frontend (for example, a static\n",
       "  rendering on GitHub or <a href=\"https://nbviewer.jupyter.org/\">NBViewer</a>),\n",
       "  it may mean that your frontend doesn't currently support widgets.\n",
       "</p>\n"
      ],
      "text/plain": [
       "HBox(children=(IntProgress(value=0, description='Epoch', max=15), HTML(value='')))"
      ]
     },
     "metadata": {},
     "output_type": "display_data"
    },
    {
     "name": "stdout",
     "output_type": "stream",
     "text": [
      "[ 0.       5.70237  5.48785]                              \n",
      "[ 1.       5.57215  5.48758]                              \n",
      "[  2.        5.51393  10.29097]                           \n",
      "[ 3.       5.49758  5.26674]                              \n",
      "[ 4.       5.23924  5.00924]                              \n",
      "[ 5.       5.065    4.91152]                              \n",
      "[ 6.       4.98425  4.88634]                              \n",
      "[ 7.       4.96493  4.80331]                              \n",
      "[ 8.       4.87257  4.73568]                              \n",
      "[ 9.       4.78554  4.65299]                              \n",
      "[ 10.        4.72258   4.59671]                           \n",
      "[ 11.        4.65604   4.55924]                           \n",
      "[ 12.        4.61169   4.53147]                           \n",
      "[ 13.        4.57397   4.51286]                           \n",
      "[ 14.        4.56642   4.51322]                           \n",
      "\n"
     ]
    },
    {
     "data": {
      "application/vnd.jupyter.widget-view+json": {
       "model_id": "b4555c3777424ec3a72b846000db4de8",
       "version_major": 2,
       "version_minor": 0
      },
      "text/html": [
       "<p>Failed to display Jupyter Widget of type <code>HBox</code>.</p>\n",
       "<p>\n",
       "  If you're reading this message in the Jupyter Notebook or JupyterLab Notebook, it may mean\n",
       "  that the widgets JavaScript is still loading. If this message persists, it\n",
       "  likely means that the widgets JavaScript library is either not installed or\n",
       "  not enabled. See the <a href=\"https://ipywidgets.readthedocs.io/en/stable/user_install.html\">Jupyter\n",
       "  Widgets Documentation</a> for setup instructions.\n",
       "</p>\n",
       "<p>\n",
       "  If you're reading this message in another frontend (for example, a static\n",
       "  rendering on GitHub or <a href=\"https://nbviewer.jupyter.org/\">NBViewer</a>),\n",
       "  it may mean that your frontend doesn't currently support widgets.\n",
       "</p>\n"
      ],
      "text/plain": [
       "HBox(children=(IntProgress(value=0, description='Epoch', max=5), HTML(value='')))"
      ]
     },
     "metadata": {},
     "output_type": "display_data"
    },
    {
     "name": "stdout",
     "output_type": "stream",
     "text": [
      "[ 0.       4.59817  4.51399]                              \n",
      "[ 1.       4.55302  4.46854]                              \n",
      "[ 2.       4.48781  4.43241]                              \n",
      "[ 3.       4.4401   4.40753]                              \n",
      "[ 4.       4.40835  4.40033]                              \n",
      "\n"
     ]
    },
    {
     "data": {
      "application/vnd.jupyter.widget-view+json": {
       "model_id": "39b87c1241814f38b1f5dbcc6a7acd24",
       "version_major": 2,
       "version_minor": 0
      },
      "text/html": [
       "<p>Failed to display Jupyter Widget of type <code>HBox</code>.</p>\n",
       "<p>\n",
       "  If you're reading this message in the Jupyter Notebook or JupyterLab Notebook, it may mean\n",
       "  that the widgets JavaScript is still loading. If this message persists, it\n",
       "  likely means that the widgets JavaScript library is either not installed or\n",
       "  not enabled. See the <a href=\"https://ipywidgets.readthedocs.io/en/stable/user_install.html\">Jupyter\n",
       "  Widgets Documentation</a> for setup instructions.\n",
       "</p>\n",
       "<p>\n",
       "  If you're reading this message in another frontend (for example, a static\n",
       "  rendering on GitHub or <a href=\"https://nbviewer.jupyter.org/\">NBViewer</a>),\n",
       "  it may mean that your frontend doesn't currently support widgets.\n",
       "</p>\n"
      ],
      "text/plain": [
       "HBox(children=(IntProgress(value=0, description='Epoch', max=15), HTML(value='')))"
      ]
     },
     "metadata": {},
     "output_type": "display_data"
    },
    {
     "name": "stdout",
     "output_type": "stream",
     "text": [
      "[ 0.       5.74038  5.48796]                              \n",
      "[ 1.       5.61117  5.48743]                              \n",
      "[ 2.       5.56773  5.48712]                              \n",
      "[ 3.       5.57257  5.48792]                              \n",
      "[ 4.       5.5632   5.48501]                              \n",
      "[ 5.       5.55535  5.47943]                              \n",
      "[ 6.       5.55224  5.48   ]                              \n",
      "[ 7.       5.55924  5.48426]                              \n",
      "[ 8.       5.55594  5.48179]                              \n",
      "[ 9.       5.55147  5.48528]                              \n",
      "[ 10.        5.55094   5.48144]                           \n",
      "[ 11.        5.54996   5.48067]                           \n",
      "[ 12.        5.54771   5.48146]                           \n",
      "[ 13.        5.50512   5.37938]                           \n",
      "[ 14.        5.44436   5.34197]                           \n",
      "\n"
     ]
    },
    {
     "data": {
      "application/vnd.jupyter.widget-view+json": {
       "model_id": "8bec27a6aae340318d5d8c2e2e2d6554",
       "version_major": 2,
       "version_minor": 0
      },
      "text/html": [
       "<p>Failed to display Jupyter Widget of type <code>HBox</code>.</p>\n",
       "<p>\n",
       "  If you're reading this message in the Jupyter Notebook or JupyterLab Notebook, it may mean\n",
       "  that the widgets JavaScript is still loading. If this message persists, it\n",
       "  likely means that the widgets JavaScript library is either not installed or\n",
       "  not enabled. See the <a href=\"https://ipywidgets.readthedocs.io/en/stable/user_install.html\">Jupyter\n",
       "  Widgets Documentation</a> for setup instructions.\n",
       "</p>\n",
       "<p>\n",
       "  If you're reading this message in another frontend (for example, a static\n",
       "  rendering on GitHub or <a href=\"https://nbviewer.jupyter.org/\">NBViewer</a>),\n",
       "  it may mean that your frontend doesn't currently support widgets.\n",
       "</p>\n"
      ],
      "text/plain": [
       "HBox(children=(IntProgress(value=0, description='Epoch', max=5), HTML(value='')))"
      ]
     },
     "metadata": {},
     "output_type": "display_data"
    },
    {
     "name": "stdout",
     "output_type": "stream",
     "text": [
      "[ 0.       5.36965  5.16764]                              \n",
      "[ 1.       5.16741  4.92634]                              \n",
      "[ 2.       4.99852  4.79473]                              \n",
      "[ 3.       4.90256  4.74891]                              \n",
      "[ 4.       4.86682  4.73875]                              \n",
      "\n"
     ]
    },
    {
     "data": {
      "application/vnd.jupyter.widget-view+json": {
       "model_id": "04045ab9902349f7b98439ff5d2dfa1a",
       "version_major": 2,
       "version_minor": 0
      },
      "text/html": [
       "<p>Failed to display Jupyter Widget of type <code>HBox</code>.</p>\n",
       "<p>\n",
       "  If you're reading this message in the Jupyter Notebook or JupyterLab Notebook, it may mean\n",
       "  that the widgets JavaScript is still loading. If this message persists, it\n",
       "  likely means that the widgets JavaScript library is either not installed or\n",
       "  not enabled. See the <a href=\"https://ipywidgets.readthedocs.io/en/stable/user_install.html\">Jupyter\n",
       "  Widgets Documentation</a> for setup instructions.\n",
       "</p>\n",
       "<p>\n",
       "  If you're reading this message in another frontend (for example, a static\n",
       "  rendering on GitHub or <a href=\"https://nbviewer.jupyter.org/\">NBViewer</a>),\n",
       "  it may mean that your frontend doesn't currently support widgets.\n",
       "</p>\n"
      ],
      "text/plain": [
       "HBox(children=(IntProgress(value=0, description='Epoch', max=15), HTML(value='')))"
      ]
     },
     "metadata": {},
     "output_type": "display_data"
    },
    {
     "name": "stdout",
     "output_type": "stream",
     "text": [
      "[ 0.       5.69441  5.47797]                              \n",
      "[ 1.       5.6026   5.47458]                              \n",
      "[ 2.       5.5697   5.46893]                              \n",
      "[ 3.       5.40644  5.1227 ]                              \n",
      "[ 4.       5.10734  4.84152]                              \n",
      "[ 5.       4.93321  4.7496 ]                              \n",
      "[ 6.       4.86573  4.7305 ]                              \n",
      "[ 7.       4.84821  4.65785]                              \n",
      "[ 8.       4.75836  4.59339]                              \n",
      "[ 9.       4.67516  4.52076]                              \n",
      "[ 10.        4.58898   4.46781]                           \n",
      "[ 11.       4.5253   4.4323]                              \n",
      "[ 12.        4.48017   4.40438]                           \n",
      "[ 13.        4.44276   4.39153]                           \n",
      "[ 14.        4.43054   4.3919 ]                           \n",
      "\n"
     ]
    },
    {
     "data": {
      "application/vnd.jupyter.widget-view+json": {
       "model_id": "4a81593a818f409bb8468feb022c8f1b",
       "version_major": 2,
       "version_minor": 0
      },
      "text/html": [
       "<p>Failed to display Jupyter Widget of type <code>HBox</code>.</p>\n",
       "<p>\n",
       "  If you're reading this message in the Jupyter Notebook or JupyterLab Notebook, it may mean\n",
       "  that the widgets JavaScript is still loading. If this message persists, it\n",
       "  likely means that the widgets JavaScript library is either not installed or\n",
       "  not enabled. See the <a href=\"https://ipywidgets.readthedocs.io/en/stable/user_install.html\">Jupyter\n",
       "  Widgets Documentation</a> for setup instructions.\n",
       "</p>\n",
       "<p>\n",
       "  If you're reading this message in another frontend (for example, a static\n",
       "  rendering on GitHub or <a href=\"https://nbviewer.jupyter.org/\">NBViewer</a>),\n",
       "  it may mean that your frontend doesn't currently support widgets.\n",
       "</p>\n"
      ],
      "text/plain": [
       "HBox(children=(IntProgress(value=0, description='Epoch', max=5), HTML(value='')))"
      ]
     },
     "metadata": {},
     "output_type": "display_data"
    },
    {
     "name": "stdout",
     "output_type": "stream",
     "text": [
      "[ 0.       4.48995  4.40973]                              \n",
      "[ 1.       4.43434  4.35655]                              \n",
      "[ 2.       4.35782  4.32006]                              \n",
      "[ 3.       4.30683  4.30387]                              \n",
      "[ 4.       4.27741  4.29917]                              \n",
      "\n"
     ]
    }
   ],
   "source": [
    "lr = 3e-3\n",
    "wds = 1e-6\n",
    "\n",
    "for hps in param_combos:\n",
    "    # get params for this run\n",
    "    emb_sz, n_hidden, n_layers, min_freq, ps_mult = itemgetter(\n",
    "        'emb_sz', 'n_hidden', 'n_layers', 'min_freq', 'ps_mult')(hps)\n",
    "\n",
    "    fold_metrics = []\n",
    "    \n",
    "    for f in kfolds:\n",
    "        # build train/val dataframes\n",
    "        train_df =  train_raw_df.iloc[f[0]]\n",
    "        val_df = train_raw_df.iloc[f[1]]\n",
    "        \n",
    "        #create torchtext field = describes how to preprocess a piece of text\n",
    "        txt_fld = data.Field(lower=True, tokenize=spacy_tok)\n",
    "        \n",
    "        dataframes = dict(train_df=train_df, val_df=val_df, test_df=test_df)\n",
    "\n",
    "        # min_freq = 10 says, \"treat any word that appears less than 10 times as the word <unk>\"\n",
    "        md = LanguageModelData.from_dataframes(PATH, txt_fld, 'text', **dataframes, \n",
    "                                               bs=bs, bptt=bptt, min_freq=min_freq)\n",
    "        \n",
    "        learner = md.get_model(opt_fn, emb_sz, n_hidden, n_layers,\n",
    "                               dropouti=0.1*ps_mult, \n",
    "                               dropout=0.1*ps_mult, \n",
    "                               wdrop=0.2*ps_mult, \n",
    "                               dropoute=0.04*ps_mult, \n",
    "                               dropouth=0.1*ps_mult)\n",
    "\n",
    "        learner.reg_fn = partial(seq2seq_reg, alpha=2, beta=1)\n",
    "        learner.clip = 0.3\n",
    "        \n",
    "        learner.fit(lr, 4, wds=wds, cycle_len=1, cycle_mult=2)     \n",
    "        learner.fit(lr, 1, wds=wds, cycle_len=5)\n",
    "        \n",
    "        val_preds, val_targs = learner.predict_with_targs()\n",
    "        \n",
    "        val_acc = accuracy(val_preds, val_targs)\n",
    "        val_loss = F.cross_entropy(V(T(val_preds)), V(T(val_targs)))\n",
    "        \n",
    "        fold_metrics.append({'acc': val_acc, 'loss': val_loss.data})\n",
    "        \n",
    "    hps['val_acc'] = sum(m['acc'] for m in fold_metrics) / len(kfolds)\n",
    "    hps['val_loss'] = sum(m['loss'] for m in fold_metrics) / len(kfolds)"
   ]
  },
  {
   "cell_type": "code",
   "execution_count": 35,
   "metadata": {
    "hidden": true
   },
   "outputs": [],
   "source": [
    "# save results\n",
    "pickle.dump(param_combos, open(f'{PATH}/models/lang_model_gridcv_results.pkl','wb'))"
   ]
  },
  {
   "cell_type": "code",
   "execution_count": 36,
   "metadata": {
    "hidden": true
   },
   "outputs": [
    {
     "data": {
      "text/plain": [
       "[{'emb_sz': 200,\n",
       "  'min_freq': 10,\n",
       "  'n_hidden': 512,\n",
       "  'n_layers': 3,\n",
       "  'ps_mult': 1,\n",
       "  'val_acc': 0.24404141997609619,\n",
       "  'val_loss': \n",
       "   4.3046\n",
       "  [torch.cuda.FloatTensor of size 1 (GPU 0)]},\n",
       " {'emb_sz': 200,\n",
       "  'min_freq': 10,\n",
       "  'n_hidden': 512,\n",
       "  'n_layers': 3,\n",
       "  'ps_mult': 2,\n",
       "  'val_acc': 0.24415398481279296,\n",
       "  'val_loss': \n",
       "   4.3148\n",
       "  [torch.cuda.FloatTensor of size 1 (GPU 0)]},\n",
       " {'emb_sz': 200,\n",
       "  'min_freq': 10,\n",
       "  'n_hidden': 512,\n",
       "  'n_layers': 4,\n",
       "  'ps_mult': 1,\n",
       "  'val_acc': 0.23541411614668975,\n",
       "  'val_loss': \n",
       "   4.3902\n",
       "  [torch.cuda.FloatTensor of size 1 (GPU 0)]},\n",
       " {'emb_sz': 200,\n",
       "  'min_freq': 10,\n",
       "  'n_hidden': 512,\n",
       "  'n_layers': 4,\n",
       "  'ps_mult': 2,\n",
       "  'val_acc': 0.23831261752241387,\n",
       "  'val_loss': \n",
       "   4.3747\n",
       "  [torch.cuda.FloatTensor of size 1 (GPU 0)]},\n",
       " {'emb_sz': 200,\n",
       "  'min_freq': 10,\n",
       "  'n_hidden': 1024,\n",
       "  'n_layers': 3,\n",
       "  'ps_mult': 1,\n",
       "  'val_acc': 0.24161362819698637,\n",
       "  'val_loss': \n",
       "   4.3443\n",
       "  [torch.cuda.FloatTensor of size 1 (GPU 0)]},\n",
       " {'emb_sz': 200,\n",
       "  'min_freq': 10,\n",
       "  'n_hidden': 1024,\n",
       "  'n_layers': 3,\n",
       "  'ps_mult': 2,\n",
       "  'val_acc': 0.24022054697081571,\n",
       "  'val_loss': \n",
       "   4.3495\n",
       "  [torch.cuda.FloatTensor of size 1 (GPU 0)]},\n",
       " {'emb_sz': 200,\n",
       "  'min_freq': 10,\n",
       "  'n_hidden': 1024,\n",
       "  'n_layers': 4,\n",
       "  'ps_mult': 1,\n",
       "  'val_acc': 0.21827724239241975,\n",
       "  'val_loss': \n",
       "   4.5938\n",
       "  [torch.cuda.FloatTensor of size 1 (GPU 0)]},\n",
       " {'emb_sz': 200,\n",
       "  'min_freq': 10,\n",
       "  'n_hidden': 1024,\n",
       "  'n_layers': 4,\n",
       "  'ps_mult': 2,\n",
       "  'val_acc': 0.21737891862046563,\n",
       "  'val_loss': \n",
       "   4.6050\n",
       "  [torch.cuda.FloatTensor of size 1 (GPU 0)]},\n",
       " {'emb_sz': 400,\n",
       "  'min_freq': 10,\n",
       "  'n_hidden': 512,\n",
       "  'n_layers': 3,\n",
       "  'ps_mult': 1,\n",
       "  'val_acc': 0.24404851274831585,\n",
       "  'val_loss': \n",
       "   4.2611\n",
       "  [torch.cuda.FloatTensor of size 1 (GPU 0)]},\n",
       " {'emb_sz': 400,\n",
       "  'min_freq': 10,\n",
       "  'n_hidden': 512,\n",
       "  'n_layers': 3,\n",
       "  'ps_mult': 2,\n",
       "  'val_acc': 0.24966137424519685,\n",
       "  'val_loss': \n",
       "   4.1973\n",
       "  [torch.cuda.FloatTensor of size 1 (GPU 0)]},\n",
       " {'emb_sz': 400,\n",
       "  'min_freq': 10,\n",
       "  'n_hidden': 512,\n",
       "  'n_layers': 4,\n",
       "  'ps_mult': 1,\n",
       "  'val_acc': 0.24222438100018084,\n",
       "  'val_loss': \n",
       "   4.2723\n",
       "  [torch.cuda.FloatTensor of size 1 (GPU 0)]},\n",
       " {'emb_sz': 400,\n",
       "  'min_freq': 10,\n",
       "  'n_hidden': 512,\n",
       "  'n_layers': 4,\n",
       "  'ps_mult': 2,\n",
       "  'val_acc': 0.2479819201044916,\n",
       "  'val_loss': \n",
       "   4.2298\n",
       "  [torch.cuda.FloatTensor of size 1 (GPU 0)]},\n",
       " {'emb_sz': 400,\n",
       "  'min_freq': 10,\n",
       "  'n_hidden': 1024,\n",
       "  'n_layers': 3,\n",
       "  'ps_mult': 1,\n",
       "  'val_acc': 0.23994629897899988,\n",
       "  'val_loss': \n",
       "   4.3244\n",
       "  [torch.cuda.FloatTensor of size 1 (GPU 0)]},\n",
       " {'emb_sz': 400,\n",
       "  'min_freq': 10,\n",
       "  'n_hidden': 1024,\n",
       "  'n_layers': 3,\n",
       "  'ps_mult': 2,\n",
       "  'val_acc': 0.23830187319771698,\n",
       "  'val_loss': \n",
       "   4.3203\n",
       "  [torch.cuda.FloatTensor of size 1 (GPU 0)]},\n",
       " {'emb_sz': 400,\n",
       "  'min_freq': 10,\n",
       "  'n_hidden': 1024,\n",
       "  'n_layers': 4,\n",
       "  'ps_mult': 1,\n",
       "  'val_acc': 0.21517621886593799,\n",
       "  'val_loss': \n",
       "   4.5958\n",
       "  [torch.cuda.FloatTensor of size 1 (GPU 0)]},\n",
       " {'emb_sz': 400,\n",
       "  'min_freq': 10,\n",
       "  'n_hidden': 1024,\n",
       "  'n_layers': 4,\n",
       "  'ps_mult': 2,\n",
       "  'val_acc': 0.22222068411601151,\n",
       "  'val_loss': \n",
       "   4.5120\n",
       "  [torch.cuda.FloatTensor of size 1 (GPU 0)]},\n",
       " {'emb_sz': 600,\n",
       "  'min_freq': 10,\n",
       "  'n_hidden': 512,\n",
       "  'n_layers': 3,\n",
       "  'ps_mult': 1,\n",
       "  'val_acc': 0.24261340827445324,\n",
       "  'val_loss': \n",
       "   4.2725\n",
       "  [torch.cuda.FloatTensor of size 1 (GPU 0)]},\n",
       " {'emb_sz': 600,\n",
       "  'min_freq': 10,\n",
       "  'n_hidden': 512,\n",
       "  'n_layers': 3,\n",
       "  'ps_mult': 2,\n",
       "  'val_acc': 0.25107395028362428,\n",
       "  'val_loss': \n",
       "   4.1774\n",
       "  [torch.cuda.FloatTensor of size 1 (GPU 0)]},\n",
       " {'emb_sz': 600,\n",
       "  'min_freq': 10,\n",
       "  'n_hidden': 512,\n",
       "  'n_layers': 4,\n",
       "  'ps_mult': 1,\n",
       "  'val_acc': 0.24044769806798991,\n",
       "  'val_loss': \n",
       "   4.2952\n",
       "  [torch.cuda.FloatTensor of size 1 (GPU 0)]},\n",
       " {'emb_sz': 600,\n",
       "  'min_freq': 10,\n",
       "  'n_hidden': 512,\n",
       "  'n_layers': 4,\n",
       "  'ps_mult': 2,\n",
       "  'val_acc': 0.24468215821867756,\n",
       "  'val_loss': \n",
       "   4.2482\n",
       "  [torch.cuda.FloatTensor of size 1 (GPU 0)]},\n",
       " {'emb_sz': 600,\n",
       "  'min_freq': 10,\n",
       "  'n_hidden': 1024,\n",
       "  'n_layers': 3,\n",
       "  'ps_mult': 1,\n",
       "  'val_acc': 0.22966198913007099,\n",
       "  'val_loss': \n",
       "   4.4366\n",
       "  [torch.cuda.FloatTensor of size 1 (GPU 0)]},\n",
       " {'emb_sz': 600,\n",
       "  'min_freq': 10,\n",
       "  'n_hidden': 1024,\n",
       "  'n_layers': 3,\n",
       "  'ps_mult': 2,\n",
       "  'val_acc': 0.24095204939787143,\n",
       "  'val_loss': \n",
       "   4.2754\n",
       "  [torch.cuda.FloatTensor of size 1 (GPU 0)]},\n",
       " {'emb_sz': 600,\n",
       "  'min_freq': 10,\n",
       "  'n_hidden': 1024,\n",
       "  'n_layers': 4,\n",
       "  'ps_mult': 1,\n",
       "  'val_acc': 0.22567244643957496,\n",
       "  'val_loss': \n",
       "   4.5060\n",
       "  [torch.cuda.FloatTensor of size 1 (GPU 0)]},\n",
       " {'emb_sz': 600,\n",
       "  'min_freq': 10,\n",
       "  'n_hidden': 1024,\n",
       "  'n_layers': 4,\n",
       "  'ps_mult': 2,\n",
       "  'val_acc': 0.22393485328928842,\n",
       "  'val_loss': \n",
       "   4.4806\n",
       "  [torch.cuda.FloatTensor of size 1 (GPU 0)]}]"
      ]
     },
     "execution_count": 36,
     "metadata": {},
     "output_type": "execute_result"
    }
   ],
   "source": [
    "param_combos"
   ]
  },
  {
   "cell_type": "markdown",
   "metadata": {},
   "source": [
    "## Train final LanguageModel\n",
    "\n",
    "Use the best hyperparameters against the full training dataset to train a final model"
   ]
  },
  {
   "cell_type": "code",
   "execution_count": 7,
   "metadata": {},
   "outputs": [
    {
     "name": "stdout",
     "output_type": "stream",
     "text": [
      "{'emb_sz': 600, 'min_freq': 10, 'n_hidden': 512, 'n_layers': 3, 'ps_mult': 2, 'val_acc': 0.25107395028362428, 'val_loss': \n",
      " 4.1774\n",
      "[torch.cuda.FloatTensor of size 1 (GPU 0)]\n",
      "}\n"
     ]
    }
   ],
   "source": [
    "# train on entire training dataset with best metrics\n",
    "train_df = train_raw_df.copy()\n",
    "val_df = train_raw_df.copy()\n",
    "\n",
    "lr = 3e-3\n",
    "wds = 1e-6\n",
    "\n",
    "params = pickle.load(open(f'{PATH}/models/lang_model_gridcv_results.pkl', 'rb'))\n",
    "\n",
    "best_params = sorted(params, key=lambda k: k['val_acc'])[-1]\n",
    "print(best_params)\n",
    "\n",
    "emb_sz = best_params['emb_sz']\n",
    "n_hidden = best_params['n_hidden']\n",
    "n_layers = best_params['n_layers']\n",
    "min_freq = best_params['min_freq']\n",
    "ps_mult = best_params['ps_mult']"
   ]
  },
  {
   "cell_type": "code",
   "execution_count": 9,
   "metadata": {},
   "outputs": [
    {
     "data": {
      "application/vnd.jupyter.widget-view+json": {
       "model_id": "5d305e749b764630b283f740ca1a045e",
       "version_major": 2,
       "version_minor": 0
      },
      "text/html": [
       "<p>Failed to display Jupyter Widget of type <code>HBox</code>.</p>\n",
       "<p>\n",
       "  If you're reading this message in the Jupyter Notebook or JupyterLab Notebook, it may mean\n",
       "  that the widgets JavaScript is still loading. If this message persists, it\n",
       "  likely means that the widgets JavaScript library is either not installed or\n",
       "  not enabled. See the <a href=\"https://ipywidgets.readthedocs.io/en/stable/user_install.html\">Jupyter\n",
       "  Widgets Documentation</a> for setup instructions.\n",
       "</p>\n",
       "<p>\n",
       "  If you're reading this message in another frontend (for example, a static\n",
       "  rendering on GitHub or <a href=\"https://nbviewer.jupyter.org/\">NBViewer</a>),\n",
       "  it may mean that your frontend doesn't currently support widgets.\n",
       "</p>\n"
      ],
      "text/plain": [
       "HBox(children=(IntProgress(value=0, description='Epoch', max=15), HTML(value='')))"
      ]
     },
     "metadata": {},
     "output_type": "display_data"
    },
    {
     "name": "stdout",
     "output_type": "stream",
     "text": [
      "[ 0.       5.47254  5.21568]                                \n",
      "[ 1.       5.09338  4.83632]                                \n",
      "[ 2.       4.90078  4.74624]                                \n",
      "[ 3.       4.85339  4.60811]                                \n",
      "[ 4.       4.70684  4.45967]                                \n",
      "[ 5.       4.5849   4.36158]                                \n",
      "[ 6.       4.53428  4.34208]                                \n",
      "[ 7.       4.57489  4.29429]                                \n",
      "[ 8.       4.49886  4.1805 ]                                \n",
      "[ 9.       4.39897  4.08131]                                \n",
      "[ 10.        4.33362   4.01279]                             \n",
      "[ 11.        4.26543   3.9312 ]                             \n",
      "[ 12.        4.19878   3.87408]                             \n",
      "[ 13.        4.16182   3.84937]                             \n",
      "[ 14.        4.1464    3.84013]                             \n",
      "\n"
     ]
    },
    {
     "data": {
      "application/vnd.jupyter.widget-view+json": {
       "model_id": "abf0921669484f73829affec4f2290af",
       "version_major": 2,
       "version_minor": 0
      },
      "text/html": [
       "<p>Failed to display Jupyter Widget of type <code>HBox</code>.</p>\n",
       "<p>\n",
       "  If you're reading this message in the Jupyter Notebook or JupyterLab Notebook, it may mean\n",
       "  that the widgets JavaScript is still loading. If this message persists, it\n",
       "  likely means that the widgets JavaScript library is either not installed or\n",
       "  not enabled. See the <a href=\"https://ipywidgets.readthedocs.io/en/stable/user_install.html\">Jupyter\n",
       "  Widgets Documentation</a> for setup instructions.\n",
       "</p>\n",
       "<p>\n",
       "  If you're reading this message in another frontend (for example, a static\n",
       "  rendering on GitHub or <a href=\"https://nbviewer.jupyter.org/\">NBViewer</a>),\n",
       "  it may mean that your frontend doesn't currently support widgets.\n",
       "</p>\n"
      ],
      "text/plain": [
       "HBox(children=(IntProgress(value=0, description='Epoch', max=5), HTML(value='')))"
      ]
     },
     "metadata": {},
     "output_type": "display_data"
    },
    {
     "name": "stdout",
     "output_type": "stream",
     "text": [
      "[ 0.       4.24466  3.89343]                                \n",
      "[ 1.       4.19401  3.80997]                                \n",
      "[ 2.       4.12661  3.73318]                                \n",
      "[ 3.       4.07288  3.66405]                                \n",
      "[ 4.       4.01338  3.63873]                                \n",
      "\n"
     ]
    },
    {
     "ename": "NameError",
     "evalue": "name 'val_acc' is not defined",
     "output_type": "error",
     "traceback": [
      "\u001b[0;31m---------------------------------------------------------------------------\u001b[0m",
      "\u001b[0;31mNameError\u001b[0m                                 Traceback (most recent call last)",
      "\u001b[0;32m<ipython-input-9-6a9943f4c713>\u001b[0m in \u001b[0;36m<module>\u001b[0;34m()\u001b[0m\n\u001b[1;32m     30\u001b[0m \u001b[0mlearner\u001b[0m\u001b[0;34m.\u001b[0m\u001b[0msave_encoder\u001b[0m\u001b[0;34m(\u001b[0m\u001b[0;34m'spooky_lang_enc'\u001b[0m\u001b[0;34m)\u001b[0m\u001b[0;34m\u001b[0m\u001b[0m\n\u001b[1;32m     31\u001b[0m \u001b[0;34m\u001b[0m\u001b[0m\n\u001b[0;32m---> 32\u001b[0;31m \u001b[0mprint\u001b[0m\u001b[0;34m(\u001b[0m\u001b[0mval_acc\u001b[0m\u001b[0;34m,\u001b[0m \u001b[0mval_loss\u001b[0m\u001b[0;34m)\u001b[0m\u001b[0;34m\u001b[0m\u001b[0m\n\u001b[0m",
      "\u001b[0;31mNameError\u001b[0m: name 'val_acc' is not defined"
     ]
    }
   ],
   "source": [
    "#create torchtext field = describes how to preprocess a piece of text\n",
    "txt_fld = data.Field(lower=True, tokenize=spacy_tok)\n",
    "\n",
    "dataframes = dict(train_df=train_df, val_df=val_df, test_df=test_df)\n",
    "\n",
    "# min_freq = 10 says, \"treat any word that appears less than 10 times as the word <unk>\"\n",
    "md = LanguageModelData.from_dataframes(PATH, txt_fld, 'text', **dataframes, \n",
    "                                       bs=bs, bptt=bptt, min_freq=min_freq)\n",
    "\n",
    "# after building the ModelData object, TEXT.vocab is set.  because this will be needed again, save it\n",
    "pickle.dump(txt_fld, open(f'{PATH}/models/TEXT_final.pkl', 'wb'))\n",
    "\n",
    "learner = md.get_model(opt_fn, emb_sz, n_hidden, n_layers,\n",
    "                       dropouti=0.1*ps_mult, \n",
    "                       dropout=0.1*ps_mult, \n",
    "                       wdrop=0.2*ps_mult, \n",
    "                       dropoute=0.04*ps_mult, \n",
    "                       dropouth=0.1*ps_mult)\n",
    "\n",
    "learner.reg_fn = partial(seq2seq_reg, alpha=2, beta=1)\n",
    "learner.clip = 0.3\n",
    "\n",
    "learner.fit(lr, 4, wds=wds, cycle_len=1, cycle_mult=2, cycle_save_name='spooky_lang_enc1_c4_cl1x2')     \n",
    "learner.save_encoder('spooky_lang_enc1')\n",
    "\n",
    "learner.fit(lr, 1, wds=wds, cycle_len=5, cycle_save_name='spooky_lang_enc2_c1_cl5')  \n",
    "learner.save_encoder('spooky_lang_enc2')\n",
    "\n",
    "# NOTE: No need to look at validation accuracy/loss since we are training on full train set\n",
    "learner.save_encoder('spooky_lang_enc')"
   ]
  },
  {
   "cell_type": "markdown",
   "metadata": {},
   "source": [
    "## Sentiment analysis"
   ]
  },
  {
   "cell_type": "code",
   "execution_count": 62,
   "metadata": {},
   "outputs": [
    {
     "name": "stdout",
     "output_type": "stream",
     "text": [
      "{'emb_sz': 600, 'min_freq': 10, 'n_hidden': 512, 'n_layers': 3, 'ps_mult': 2, 'val_acc': 0.25107395028362428, 'val_loss': \n",
      " 4.1774\n",
      "[torch.cuda.FloatTensor of size 1 (GPU 0)]\n",
      "}\n"
     ]
    }
   ],
   "source": [
    "bs = 64\n",
    "bptt = 70\n",
    "\n",
    "lr = 3e-3\n",
    "wds = 1e-6\n",
    "\n",
    "# load best hyperparameters based on gridsearch\n",
    "params = pickle.load(open(f'{PATH}/models/lang_model_gridcv_results.pkl', 'rb'))\n",
    "\n",
    "best_params = sorted(params, key=lambda k: k['val_acc'])[-1]\n",
    "print(best_params)\n",
    "\n",
    "emb_sz = best_params['emb_sz']\n",
    "n_hidden = best_params['n_hidden']\n",
    "n_layers = best_params['n_layers']\n",
    "min_freq = best_params['min_freq']\n",
    "ps_mult = best_params['ps_mult']\n",
    "\n",
    "# for NLP, configure Adam to use less momentum than the defaul of 0.9\n",
    "opt_fn = partial(optim.Adam, betas=(0.7, 0.99))"
   ]
  },
  {
   "cell_type": "code",
   "execution_count": 63,
   "metadata": {},
   "outputs": [],
   "source": [
    "# use the same vocab built from the language model so as to ensure words map to same Ids\n",
    "txt_fld = pickle.load(open(f'{PATH}/models/TEXT_final.pkl', 'rb'))"
   ]
  },
  {
   "cell_type": "code",
   "execution_count": 64,
   "metadata": {},
   "outputs": [],
   "source": [
    "def get_probs(model, df):\n",
    "    preds = []\n",
    "    original_bs = model[0].bs\n",
    "    \n",
    "    model[0].bs = 1\n",
    "    for index, row in df.iterrows():\n",
    "        ss = row['text']\n",
    "        s = [spacy_tok(ss)]\n",
    "        t = txt_fld.numericalize(s)\n",
    "\n",
    "        model.eval()\n",
    "        model.reset()\n",
    "        res,*_ = model(t)\n",
    "        preds.append(to_np(res).squeeze()[1:])\n",
    "        #preds.append(to_np(res).squeeze())\n",
    "\n",
    "    model[0].bs = original_bs\n",
    "    \n",
    "    probs = to_np(F.softmax(torch.from_numpy(np.array(preds))))\n",
    "    return probs"
   ]
  },
  {
   "cell_type": "markdown",
   "metadata": {},
   "source": [
    "## Get a baseline\n",
    "\n",
    "Running with default parameters to figure out good default hyperparameters"
   ]
  },
  {
   "cell_type": "code",
   "execution_count": 65,
   "metadata": {},
   "outputs": [
    {
     "data": {
      "text/plain": [
       "(15664, 3915, 8392)"
      ]
     },
     "execution_count": 65,
     "metadata": {},
     "output_type": "execute_result"
    }
   ],
   "source": [
    "# Standard CV\n",
    "\n",
    "# To build a standard cross-validation dataset use this\n",
    "val_idxs = get_cv_idxs(len(train_raw_df), val_pct=0.20)\n",
    "\n",
    "train_df =  train_raw_df.drop(val_idxs)\n",
    "val_df = train_raw_df.iloc[val_idxs]\n",
    "\n",
    "len(train_df), len(val_df), len(test_df)"
   ]
  },
  {
   "cell_type": "code",
   "execution_count": 66,
   "metadata": {},
   "outputs": [],
   "source": [
    "target_fld = data.Field(sequential=False)\n",
    "splits = SpookyDataset.splits(txt_fld, target_fld, train_df, val_df, test_df)"
   ]
  },
  {
   "cell_type": "code",
   "execution_count": 67,
   "metadata": {},
   "outputs": [],
   "source": [
    "t = splits[0].examples[0]"
   ]
  },
  {
   "cell_type": "code",
   "execution_count": 68,
   "metadata": {},
   "outputs": [
    {
     "data": {
      "text/plain": [
       "('HPL', 'it never once occurred to me that the fumbling might')"
      ]
     },
     "execution_count": 68,
     "metadata": {},
     "output_type": "execute_result"
    }
   ],
   "source": [
    "t.label, ' '.join(t.text[:10])"
   ]
  },
  {
   "cell_type": "code",
   "execution_count": 79,
   "metadata": {},
   "outputs": [],
   "source": [
    "# fastai can create a ModelData object directly from torchtext splits\n",
    "md2 = TextData.from_splits(PATH, splits, bs)"
   ]
  },
  {
   "cell_type": "code",
   "execution_count": 80,
   "metadata": {},
   "outputs": [],
   "source": [
    "m3 = md2.get_model(opt_fn, 1500, bptt, emb_sz=emb_sz, n_hid=n_hidden, n_layers=n_layers,\n",
    "                   dropout=0.1*ps_mult, dropouti=0.4*ps_mult, wdrop=0.5*ps_mult, \n",
    "                   dropoute=0.05*ps_mult, dropouth=0.3*ps_mult)\n",
    "\n",
    "m3.reg_fn = partial(seq2seq_reg, alpha=2, beta=1)\n",
    "m3.load_encoder(f'spooky_lang_enc')"
   ]
  },
  {
   "cell_type": "code",
   "execution_count": 81,
   "metadata": {},
   "outputs": [],
   "source": [
    "m3.clip = 25.\n",
    "lrs = np.array([1e-4, 1e-3, 1e-2])"
   ]
  },
  {
   "cell_type": "code",
   "execution_count": 82,
   "metadata": {},
   "outputs": [
    {
     "data": {
      "application/vnd.jupyter.widget-view+json": {
       "model_id": "eee92c87804f401aa9cd3eba1de75606",
       "version_major": 2,
       "version_minor": 0
      },
      "text/html": [
       "<p>Failed to display Jupyter Widget of type <code>HBox</code>.</p>\n",
       "<p>\n",
       "  If you're reading this message in the Jupyter Notebook or JupyterLab Notebook, it may mean\n",
       "  that the widgets JavaScript is still loading. If this message persists, it\n",
       "  likely means that the widgets JavaScript library is either not installed or\n",
       "  not enabled. See the <a href=\"https://ipywidgets.readthedocs.io/en/stable/user_install.html\">Jupyter\n",
       "  Widgets Documentation</a> for setup instructions.\n",
       "</p>\n",
       "<p>\n",
       "  If you're reading this message in another frontend (for example, a static\n",
       "  rendering on GitHub or <a href=\"https://nbviewer.jupyter.org/\">NBViewer</a>),\n",
       "  it may mean that your frontend doesn't currently support widgets.\n",
       "</p>\n"
      ],
      "text/plain": [
       "HBox(children=(IntProgress(value=0, description='Epoch', max=2), HTML(value='')))"
      ]
     },
     "metadata": {},
     "output_type": "display_data"
    },
    {
     "name": "stdout",
     "output_type": "stream",
     "text": [
      "[ 0.       1.13952  0.72057  0.6957 ]                       \n",
      "[ 1.       1.12284  0.67075  0.71798]                       \n",
      "\n"
     ]
    }
   ],
   "source": [
    "m3.freeze_to(-1) # freeze everything except last layer\n",
    "m3.fit(lrs, 2, metrics=[accuracy])"
   ]
  },
  {
   "cell_type": "code",
   "execution_count": 83,
   "metadata": {},
   "outputs": [
    {
     "data": {
      "application/vnd.jupyter.widget-view+json": {
       "model_id": "a0aa598aa80840cc978dfc47c8c9c150",
       "version_major": 2,
       "version_minor": 0
      },
      "text/html": [
       "<p>Failed to display Jupyter Widget of type <code>HBox</code>.</p>\n",
       "<p>\n",
       "  If you're reading this message in the Jupyter Notebook or JupyterLab Notebook, it may mean\n",
       "  that the widgets JavaScript is still loading. If this message persists, it\n",
       "  likely means that the widgets JavaScript library is either not installed or\n",
       "  not enabled. See the <a href=\"https://ipywidgets.readthedocs.io/en/stable/user_install.html\">Jupyter\n",
       "  Widgets Documentation</a> for setup instructions.\n",
       "</p>\n",
       "<p>\n",
       "  If you're reading this message in another frontend (for example, a static\n",
       "  rendering on GitHub or <a href=\"https://nbviewer.jupyter.org/\">NBViewer</a>),\n",
       "  it may mean that your frontend doesn't currently support widgets.\n",
       "</p>\n"
      ],
      "text/plain": [
       "HBox(children=(IntProgress(value=0, description='Epoch', max=8), HTML(value='')))"
      ]
     },
     "metadata": {},
     "output_type": "display_data"
    },
    {
     "name": "stdout",
     "output_type": "stream",
     "text": [
      "[ 0.       0.84352  0.61737  0.75333]                        \n",
      "[ 1.       0.79155  0.59203  0.76383]                        \n",
      "[ 2.       0.74846  0.56568  0.77818]                        \n",
      "[ 3.       0.71969  0.55596  0.77613]                        \n",
      "[ 4.       0.68209  0.54171  0.78074]                        \n",
      "[ 5.       0.6483   0.5256   0.78688]                        \n",
      "[ 6.       0.65456  0.51497  0.78945]                        \n",
      "[ 7.       0.63422  0.50395  0.79739]                        \n",
      "\n"
     ]
    }
   ],
   "source": [
    "m3.unfreeze()\n",
    "m3.fit(lrs, 8, metrics=[accuracy], cycle_len=1) #7"
   ]
  },
  {
   "cell_type": "code",
   "execution_count": 84,
   "metadata": {},
   "outputs": [
    {
     "data": {
      "application/vnd.jupyter.widget-view+json": {
       "model_id": "f8b0ddd1e1354946b3f8d2dcb5a92715",
       "version_major": 2,
       "version_minor": 0
      },
      "text/html": [
       "<p>Failed to display Jupyter Widget of type <code>HBox</code>.</p>\n",
       "<p>\n",
       "  If you're reading this message in the Jupyter Notebook or JupyterLab Notebook, it may mean\n",
       "  that the widgets JavaScript is still loading. If this message persists, it\n",
       "  likely means that the widgets JavaScript library is either not installed or\n",
       "  not enabled. See the <a href=\"https://ipywidgets.readthedocs.io/en/stable/user_install.html\">Jupyter\n",
       "  Widgets Documentation</a> for setup instructions.\n",
       "</p>\n",
       "<p>\n",
       "  If you're reading this message in another frontend (for example, a static\n",
       "  rendering on GitHub or <a href=\"https://nbviewer.jupyter.org/\">NBViewer</a>),\n",
       "  it may mean that your frontend doesn't currently support widgets.\n",
       "</p>\n"
      ],
      "text/plain": [
       "HBox(children=(IntProgress(value=0, description='Epoch', max=13), HTML(value='')))"
      ]
     },
     "metadata": {},
     "output_type": "display_data"
    },
    {
     "name": "stdout",
     "output_type": "stream",
     "text": [
      "[ 0.       0.61018  0.50658  0.79662]                        \n",
      "[ 1.       0.61651  0.49247  0.80328]                        \n",
      "[ 2.       0.58999  0.49677  0.80072]                        \n",
      "[ 3.       0.58505  0.48501  0.80687]                        \n",
      "[ 4.       0.60161  0.51023  0.79995]                        \n",
      "[ 5.       0.58472  0.50228  0.80123]                        \n",
      "[ 6.       0.57038  0.46152  0.82018]                        \n",
      "[ 7.       0.57173  0.52239  0.7938 ]                        \n",
      "[ 8.       0.54727  0.46373  0.81762]                        \n",
      "[ 9.       0.54045  0.45375  0.82095]                        \n",
      "[ 10.        0.52214   0.44846   0.82633]                    \n",
      "[ 11.        0.53312   0.44951   0.82454]                    \n",
      "[ 12.        0.50736   0.44839   0.82505]                    \n",
      "\n"
     ]
    }
   ],
   "source": [
    "m3.fit(lrs, 3, metrics=[accuracy], cycle_len=1, cycle_mult=3, cycle_save_name='spooky_sent1_c3_cl1x3')"
   ]
  },
  {
   "cell_type": "code",
   "execution_count": 85,
   "metadata": {},
   "outputs": [
    {
     "data": {
      "application/vnd.jupyter.widget-view+json": {
       "model_id": "85c0978a0b154d7294c703144a9b3259",
       "version_major": 2,
       "version_minor": 0
      },
      "text/html": [
       "<p>Failed to display Jupyter Widget of type <code>HBox</code>.</p>\n",
       "<p>\n",
       "  If you're reading this message in the Jupyter Notebook or JupyterLab Notebook, it may mean\n",
       "  that the widgets JavaScript is still loading. If this message persists, it\n",
       "  likely means that the widgets JavaScript library is either not installed or\n",
       "  not enabled. See the <a href=\"https://ipywidgets.readthedocs.io/en/stable/user_install.html\">Jupyter\n",
       "  Widgets Documentation</a> for setup instructions.\n",
       "</p>\n",
       "<p>\n",
       "  If you're reading this message in another frontend (for example, a static\n",
       "  rendering on GitHub or <a href=\"https://nbviewer.jupyter.org/\">NBViewer</a>),\n",
       "  it may mean that your frontend doesn't currently support widgets.\n",
       "</p>\n"
      ],
      "text/plain": [
       "HBox(children=(IntProgress(value=0, description='Epoch', max=20), HTML(value='')))"
      ]
     },
     "metadata": {},
     "output_type": "display_data"
    },
    {
     "name": "stdout",
     "output_type": "stream",
     "text": [
      "[ 0.       0.51898  0.44855  0.82531]                        \n",
      "[ 1.       0.54593  0.46422  0.81942]                        \n",
      "[ 2.       0.51639  0.44782  0.82505]                        \n",
      "[ 3.       0.51859  0.44359  0.82582]                        \n",
      "[ 4.       0.5229   0.45359  0.82275]                        \n",
      "[ 5.       0.51142  0.51148  0.80251]                        \n",
      "[ 6.       0.51204  0.46579  0.82198]                        \n",
      "[ 7.       0.49585  0.42623  0.83146]                        \n",
      "[ 8.       0.49093  0.43931  0.82787]                        \n",
      "[ 9.       0.47782  0.42462  0.83376]                        \n",
      "[ 10.        0.47548   0.41832   0.83376]                    \n",
      "[ 11.        0.45887   0.41713   0.83427]                    \n",
      "[ 12.        0.45692   0.41752   0.8335 ]                    \n",
      "[ 13.        0.45028   0.43058   0.83069]                    \n",
      "[ 14.        0.44534   0.42038   0.83555]                    \n",
      "[ 15.        0.45947   0.42175   0.83683]                    \n",
      "[ 16.        0.46223   0.42163   0.83658]                    \n",
      "[ 17.        0.45027   0.42235   0.8353 ]                    \n",
      "[ 18.        0.45037   0.42071   0.83555]                    \n",
      "[ 19.        0.45315   0.4207    0.83581]                    \n",
      "\n"
     ]
    }
   ],
   "source": [
    "m3.fit(lrs, 1, metrics=[accuracy], cycle_len=20, cycle_save_name='spooky_sent2_c1_cl10')"
   ]
  },
  {
   "cell_type": "code",
   "execution_count": 87,
   "metadata": {},
   "outputs": [],
   "source": [
    "m3.load_cycle('spooky_sent2_c1_cl10', 0) # NOTE: using model with lower val loss is better\n",
    "# m3"
   ]
  },
  {
   "cell_type": "code",
   "execution_count": 88,
   "metadata": {},
   "outputs": [
    {
     "name": "stdout",
     "output_type": "stream",
     "text": [
      "0.83580942623 Variable containing:\n",
      " 0.4207\n",
      "[torch.cuda.FloatTensor of size 1 (GPU 0)]\n",
      "\n"
     ]
    }
   ],
   "source": [
    "val_preds, val_targs = m3.predict_with_targs()\n",
    "\n",
    "val_acc = accuracy(val_preds, val_targs)\n",
    "val_loss = F.cross_entropy(V(T(val_preds)), V(T(val_targs)))\n",
    "\n",
    "print(val_acc, val_loss)"
   ]
  },
  {
   "cell_type": "markdown",
   "metadata": {},
   "source": [
    "### Predictions on test"
   ]
  },
  {
   "cell_type": "code",
   "execution_count": 89,
   "metadata": {},
   "outputs": [
    {
     "data": {
      "text/plain": [
       "(8392, 3)"
      ]
     },
     "execution_count": 89,
     "metadata": {},
     "output_type": "execute_result"
    }
   ],
   "source": [
    "classes = target_fld.vocab.itos\n",
    "probs = get_probs(m3.model, test_df)\n",
    "probs.shape"
   ]
  },
  {
   "cell_type": "code",
   "execution_count": 91,
   "metadata": {},
   "outputs": [
    {
     "data": {
      "text/html": [
       "<div>\n",
       "<style scoped>\n",
       "    .dataframe tbody tr th:only-of-type {\n",
       "        vertical-align: middle;\n",
       "    }\n",
       "\n",
       "    .dataframe tbody tr th {\n",
       "        vertical-align: top;\n",
       "    }\n",
       "\n",
       "    .dataframe thead th {\n",
       "        text-align: right;\n",
       "    }\n",
       "</style>\n",
       "<table border=\"1\" class=\"dataframe\">\n",
       "  <thead>\n",
       "    <tr style=\"text-align: right;\">\n",
       "      <th></th>\n",
       "      <th>id</th>\n",
       "      <th>EAP</th>\n",
       "      <th>MWS</th>\n",
       "      <th>HPL</th>\n",
       "    </tr>\n",
       "  </thead>\n",
       "  <tbody>\n",
       "    <tr>\n",
       "      <th>0</th>\n",
       "      <td>id02310</td>\n",
       "      <td>0.078246</td>\n",
       "      <td>0.822256</td>\n",
       "      <td>0.099498</td>\n",
       "    </tr>\n",
       "    <tr>\n",
       "      <th>1</th>\n",
       "      <td>id24541</td>\n",
       "      <td>0.984696</td>\n",
       "      <td>0.001506</td>\n",
       "      <td>0.013798</td>\n",
       "    </tr>\n",
       "    <tr>\n",
       "      <th>2</th>\n",
       "      <td>id00134</td>\n",
       "      <td>0.005759</td>\n",
       "      <td>0.024493</td>\n",
       "      <td>0.969748</td>\n",
       "    </tr>\n",
       "    <tr>\n",
       "      <th>3</th>\n",
       "      <td>id27757</td>\n",
       "      <td>0.228941</td>\n",
       "      <td>0.019530</td>\n",
       "      <td>0.751529</td>\n",
       "    </tr>\n",
       "    <tr>\n",
       "      <th>4</th>\n",
       "      <td>id04081</td>\n",
       "      <td>0.699645</td>\n",
       "      <td>0.084793</td>\n",
       "      <td>0.215563</td>\n",
       "    </tr>\n",
       "  </tbody>\n",
       "</table>\n",
       "</div>"
      ],
      "text/plain": [
       "        id       EAP       MWS       HPL\n",
       "0  id02310  0.078246  0.822256  0.099498\n",
       "1  id24541  0.984696  0.001506  0.013798\n",
       "2  id00134  0.005759  0.024493  0.969748\n",
       "3  id27757  0.228941  0.019530  0.751529\n",
       "4  id04081  0.699645  0.084793  0.215563"
      ]
     },
     "execution_count": 91,
     "metadata": {},
     "output_type": "execute_result"
    }
   ],
   "source": [
    "preds_test_df = test_df.copy()\n",
    "preds_test_df['EAP'] = probs[:,0]\n",
    "preds_test_df['MWS'] = probs[:,1]\n",
    "preds_test_df['HPL'] = probs[:,2]\n",
    "\n",
    "preds_test_df.drop('text', axis=1, inplace=True)\n",
    "preds_test_df.head()"
   ]
  },
  {
   "cell_type": "code",
   "execution_count": 92,
   "metadata": {},
   "outputs": [],
   "source": [
    "preds_test_df.to_csv(f'{PATH}/subm_wg_20171201_3.csv', index=None)"
   ]
  },
  {
   "cell_type": "markdown",
   "metadata": {},
   "source": [
    "## GridSearchCV\n",
    "\n",
    "Do a grid search to figure out params for ensembling"
   ]
  },
  {
   "cell_type": "code",
   "execution_count": null,
   "metadata": {},
   "outputs": [],
   "source": [
    "# GridSearchCV ...\n",
    "\n",
    "# 1. Define hyper parameters\n",
    "# size of each embedding vector, # of hidden activations per layer, # of layers, min word freq, ps ratio\n",
    "sent_params = { \n",
    "    'lr': [3e-3, 3e-4],\n",
    "    'wds': [1e-6, 1e-7]\n",
    "    'ps_mult': [1, 2, 3]\n",
    "}\n",
    "\n",
    "# 2. Define folds\n",
    "from sklearn.model_selection import StratifiedKFold\n",
    "skf = StratifiedKFold(n_splits=5, shuffle=True)\n",
    "\n",
    "# get folds\n",
    "kfolds = [ (train_idxs, val_idxs) for train_idxs, val_idxs in skf.split(train_raw_df.id, train_raw_df.author) ]\n",
    "\n",
    "# 3. Get all permutations of hyperparameters\n",
    "sent_param_names = sorted(sent_params)\n",
    "sent_param_combos = [dict(zip(sent_param_names, prod)) \n",
    "                     for prod in it.product(*(sent_params[k] for k in sent_param_names))]"
   ]
  },
  {
   "cell_type": "code",
   "execution_count": null,
   "metadata": {},
   "outputs": [],
   "source": [
    "for hps in sent_param_combos:\n",
    "    # get params for this run\n",
    "    lr, wds, n_layers, ps_mult = itemgetter('lr', 'wds', 'ps_mult')(hps)\n",
    "                        \n",
    "    fold_metrics = []\n",
    "    fold_test_predictions = []\n",
    "    \n",
    "    for f in kfolds:\n",
    "        # build train/val dataframes\n",
    "        train_df =  train_raw_df.iloc[f[0]]\n",
    "        val_df = train_raw_df.iloc[f[1]]\n",
    "        \n",
    "        target_fld = data.Field(sequential=False)\n",
    "        splits = SpookyDataset.splits(txt_fld, target_fld, train_df, val_df, test_df)                                                                                \n",
    "        \n",
    "        # fastai can create a ModelData object directly from torchtext splits\n",
    "        md2 = TextData.from_splits(PATH, splits, bs)\n",
    "        \n",
    "        m3 = md2.get_model(opt_fn, 1500, bptt, emb_sz=emb_sz, n_hid=n_hidden, n_layers=n_layers,\n",
    "                   dropout=0.1*ps_mult, dropouti=0.4*ps_mult, wdrop=0.5*ps_mult, \n",
    "                   dropoute=0.05*ps_mult, dropouth=0.3*ps_mult)\n",
    "\n",
    "        m3.reg_fn = partial(seq2seq_reg, alpha=2, beta=1)\n",
    "        m3.load_encoder(f'spooky_lang_enc')\n",
    "\n",
    "        m3.clip = 25.\n",
    "        lrs = np.array([1e-4, 1e-3, 1e-2])\n",
    "        \n",
    "        m3.freeze_to(-1) # freeze everything except last layer\n",
    "        m3.fit(lrs/2, 2, metrics=[accuracy])\n",
    "        \n",
    "        m3.unfreeze()\n",
    "        m3.fit(lrs, 2, metrics=[accuracy], cycle_len=1)\n",
    "        \n",
    "        m3.fit(lrs, 7, metrics=[accuracy], cycle_len=1, cycle_mult=2)\n",
    "\n",
    "        val_preds = get_probs(m3.model, val_df)\n",
    "        val_targs = m3.data.val_ds.y\n",
    "        \n",
    "        val_acc = accuracy(val_preds, val_targs)\n",
    "        val_loss = F.cross_entropy(V(T(val_preds)), V(T(val_targs)))\n",
    "        \n",
    "        fold_metrics.append({'acc': val_acc, 'loss': val_loss.data})\n",
    "        \n",
    "        test_preds = get_probs(m3.model, test_df)\n",
    "        fold_test_predictions.append(test_preds)\n",
    "        \n",
    "    hps['val_acc'] = sum(m['acc'] for m in fold_metrics) / len(kfolds)\n",
    "    hps['val_loss'] = sum(m['loss'] for m in fold_metrics) / len(kfolds)\n",
    "    hps['test_preds'] = fold_test_predictions"
   ]
  },
  {
   "cell_type": "code",
   "execution_count": null,
   "metadata": {},
   "outputs": [],
   "source": [
    "fold_test_predictions\n",
    "pickle.dump(fold_test_predictions, open(f'{PATH}/models/sent_fold_preds.pkl', 'wb'))"
   ]
  },
  {
   "cell_type": "markdown",
   "metadata": {},
   "source": [
    "### Predictions on test"
   ]
  },
  {
   "cell_type": "code",
   "execution_count": null,
   "metadata": {},
   "outputs": [],
   "source": [
    "classes = AUTHOR_LABEL.vocab.itos\n",
    "classes"
   ]
  },
  {
   "cell_type": "code",
   "execution_count": null,
   "metadata": {},
   "outputs": [],
   "source": [
    "# ensemble predictions"
   ]
  },
  {
   "cell_type": "code",
   "execution_count": null,
   "metadata": {},
   "outputs": [],
   "source": [
    "preds_test_df = test_df.copy()\n",
    "preds_test_df['EAP'] = probs[:,0]\n",
    "preds_test_df['MWS'] = probs[:,1]\n",
    "preds_test_df['HPL'] = probs[:,2]\n",
    "\n",
    "preds_test_df.drop('text', axis=1, inplace=True)\n",
    "preds_test_df.head()"
   ]
  },
  {
   "cell_type": "code",
   "execution_count": null,
   "metadata": {},
   "outputs": [],
   "source": [
    "preds_test_df.to_csv(f'{PATH}/subm_wg_20171127_4.csv', index=None)"
   ]
  },
  {
   "cell_type": "code",
   "execution_count": null,
   "metadata": {},
   "outputs": [],
   "source": [
    "from IPython.display import FileLink"
   ]
  },
  {
   "cell_type": "code",
   "execution_count": null,
   "metadata": {},
   "outputs": [],
   "source": [
    "FileLink(f'{PATH}/subm_wg_20171126_3.csv')"
   ]
  },
  {
   "cell_type": "code",
   "execution_count": null,
   "metadata": {},
   "outputs": [],
   "source": []
  }
 ],
 "metadata": {
  "kernelspec": {
   "display_name": "Python 3",
   "language": "python",
   "name": "python3"
  },
  "language_info": {
   "codemirror_mode": {
    "name": "ipython",
    "version": 3
   },
   "file_extension": ".py",
   "mimetype": "text/x-python",
   "name": "python",
   "nbconvert_exporter": "python",
   "pygments_lexer": "ipython3",
   "version": "3.6.3"
  },
  "widgets": {
   "application/vnd.jupyter.widget-state+json": {
    "state": {},
    "version_major": 2,
    "version_minor": 0
   }
  }
 },
 "nbformat": 4,
 "nbformat_minor": 2
}
