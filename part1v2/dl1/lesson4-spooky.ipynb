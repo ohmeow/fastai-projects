{
 "cells": [
  {
   "cell_type": "code",
   "execution_count": 1,
   "metadata": {},
   "outputs": [],
   "source": [
    "%reload_ext autoreload\n",
    "%autoreload 2\n",
    "%matplotlib inline"
   ]
  },
  {
   "cell_type": "code",
   "execution_count": 2,
   "metadata": {},
   "outputs": [],
   "source": [
    "from fastai.learner import *\n",
    "\n",
    "import torchtext\n",
    "from torchtext import vocab, data\n",
    "from torchtext.datasets import language_modeling\n",
    "\n",
    "from fastai.rnn_reg import *\n",
    "from fastai.rnn_train import *\n",
    "from fastai.nlp import *\n",
    "from fastai.lm_rnn import *\n",
    "\n",
    "import dill as pickle"
   ]
  },
  {
   "cell_type": "code",
   "execution_count": 24,
   "metadata": {},
   "outputs": [],
   "source": [
    "PATH = 'data/spooky'\n",
    "\n",
    "os.makedirs(f'{PATH}/models', exist_ok=True)\n",
    "os.makedirs(f'{PATH}/tmp', exist_ok=True)\n",
    "\n",
    "bs = 64\n",
    "bptt = 70\n",
    "\n",
    "emb_sz = 200       # size of each embedding vector\n",
    "nh = 500           # of hidden activations per layer\n",
    "nl = 3             # of layers\n",
    "\n",
    "# for NLP, configure Adam to use less momentum than the defaul of 0.9\n",
    "opt_fn = partial(optim.Adam, betas=(0.7, 0.99))"
   ]
  },
  {
   "cell_type": "code",
   "execution_count": 10,
   "metadata": {},
   "outputs": [],
   "source": [
    "train_df = pd.read_csv(f'{PATH}/train.csv')\n",
    "test_df = pd.read_csv(f'{PATH}/train.csv')"
   ]
  },
  {
   "cell_type": "code",
   "execution_count": 11,
   "metadata": {},
   "outputs": [
    {
     "data": {
      "text/plain": [
       "'This process , however , afforded me no means of ascertaining the dimensions of my dungeon ; as I might make its circuit , and return to the point whence I set out , without being aware of the fact ; so perfectly uniform seemed the wall .'"
      ]
     },
     "execution_count": 11,
     "metadata": {},
     "output_type": "execute_result"
    }
   ],
   "source": [
    "# tokenize = split each sentence into a list of words\n",
    "' '.join(spacy_tok(train_df.text.iloc[0]))"
   ]
  },
  {
   "cell_type": "code",
   "execution_count": 12,
   "metadata": {},
   "outputs": [],
   "source": [
    "#createa torchtext field = describes how to preprocess a piece of text\n",
    "TEXT = data.Field(lower=True, tokenize=spacy_tok)"
   ]
  },
  {
   "cell_type": "code",
   "execution_count": 13,
   "metadata": {},
   "outputs": [],
   "source": [
    "FILES = dict(train_df=train_df, val_df=train_df, test_df=test_df)\n",
    "\n",
    "# min_freq = 10 says, \"treat any word that appears less than 10 times as the word <unk>\"\n",
    "md = LanguageModelData.from_dataframes(PATH, TEXT, 'text', **FILES, bs=bs, bptt=bptt, min_freq=10)"
   ]
  },
  {
   "cell_type": "code",
   "execution_count": 15,
   "metadata": {},
   "outputs": [],
   "source": [
    "# after building the ModelData object, TEXT.vocab is set.  because this will be needed again, save it\n",
    "pickle.dump(TEXT, open(f'{PATH}/models/TEXT.pkl', 'wb'))"
   ]
  },
  {
   "cell_type": "code",
   "execution_count": 17,
   "metadata": {},
   "outputs": [
    {
     "data": {
      "text/plain": [
       "(131, 4930, 1, 595187)"
      ]
     },
     "execution_count": 17,
     "metadata": {},
     "output_type": "execute_result"
    }
   ],
   "source": [
    "# batches, # of unique tokens in vocab, # of items in ds, # of words in ds\n",
    "len(md.trn_dl), md.nt, len(md.trn_ds), len(md.trn_ds[0].text)"
   ]
  },
  {
   "cell_type": "code",
   "execution_count": 18,
   "metadata": {},
   "outputs": [
    {
     "data": {
      "text/plain": [
       "['<unk>', '<pad>', ',', 'the', 'of', '.', 'and', 'to', 'i', 'a', 'in', 'was']"
      ]
     },
     "execution_count": 18,
     "metadata": {},
     "output_type": "execute_result"
    }
   ],
   "source": [
    "# int to string mapping\n",
    "TEXT.vocab.itos[:12]"
   ]
  },
  {
   "cell_type": "code",
   "execution_count": 19,
   "metadata": {},
   "outputs": [
    {
     "data": {
      "text/plain": [
       "3"
      ]
     },
     "execution_count": 19,
     "metadata": {},
     "output_type": "execute_result"
    }
   ],
   "source": [
    "# string to int mapping\n",
    "TEXT.vocab.stoi['the']"
   ]
  },
  {
   "cell_type": "code",
   "execution_count": 20,
   "metadata": {},
   "outputs": [
    {
     "data": {
      "text/plain": [
       "['this',\n",
       " 'process',\n",
       " ',',\n",
       " 'however',\n",
       " ',',\n",
       " 'afforded',\n",
       " 'me',\n",
       " 'no',\n",
       " 'means',\n",
       " 'of',\n",
       " 'ascertaining',\n",
       " 'the']"
      ]
     },
     "execution_count": 20,
     "metadata": {},
     "output_type": "execute_result"
    }
   ],
   "source": [
    "# in a LanguageModelData object there is only one item in each dataset: all the words joined together\n",
    "md.trn_ds[0].text[:12]"
   ]
  },
  {
   "cell_type": "code",
   "execution_count": 21,
   "metadata": {},
   "outputs": [
    {
     "data": {
      "text/plain": [
       "Variable containing:\n",
       "   31\n",
       " 3075\n",
       "    2\n",
       "  153\n",
       "    2\n",
       " 1385\n",
       "   27\n",
       "   42\n",
       "  304\n",
       "    4\n",
       "    0\n",
       "    3\n",
       "[torch.cuda.LongTensor of size 12x1 (GPU 0)]"
      ]
     },
     "execution_count": 21,
     "metadata": {},
     "output_type": "execute_result"
    }
   ],
   "source": [
    "# torchtext will handle turning this words into integer Ids\n",
    "TEXT.numericalize([md.trn_ds[0].text[:12]])"
   ]
  },
  {
   "cell_type": "code",
   "execution_count": 22,
   "metadata": {},
   "outputs": [
    {
     "name": "stdout",
     "output_type": "stream",
     "text": [
      "torch.Size([65, 64])\n",
      "torch.Size([4160])\n"
     ]
    },
    {
     "data": {
      "text/plain": [
       "(Variable containing:\n",
       "    31     9    81  ...    113     3     0\n",
       "  3075     0    23  ...      3  4206     5\n",
       "     2     2   912  ...      0  3940    12\n",
       "        ...          ⋱          ...       \n",
       "     5     0   241  ...     52   729     3\n",
       "    10     5    29  ...     11     2  3262\n",
       "    20    26   428  ...     62    41     4\n",
       " [torch.cuda.LongTensor of size 65x64 (GPU 0)], Variable containing:\n",
       "  3075\n",
       "     0\n",
       "    23\n",
       "   ⋮  \n",
       "     0\n",
       "    26\n",
       "     3\n",
       " [torch.cuda.LongTensor of size 4160 (GPU 0)])"
      ]
     },
     "execution_count": 22,
     "metadata": {},
     "output_type": "execute_result"
    }
   ],
   "source": [
    "batch = next(iter(md.trn_dl))\n",
    "print(batch[0].size()), print(batch[1].size())\n",
    "\n",
    "batch"
   ]
  },
  {
   "cell_type": "code",
   "execution_count": 25,
   "metadata": {},
   "outputs": [],
   "source": [
    "learner = md.get_model(opt_fn, emb_sz, nh, nl,\n",
    "                      dropouti=0.24, dropout=0.025, wdrop=0.05, dropoute=0.01, dropouth=0.025)\n",
    "\n",
    "learner.reg_fn = partial(seq2seq_reg, alpha=2, beta=1)\n",
    "learner.clip = 0.3"
   ]
  },
  {
   "cell_type": "code",
   "execution_count": 26,
   "metadata": {},
   "outputs": [
    {
     "data": {
      "application/vnd.jupyter.widget-view+json": {
       "model_id": "16cd0bdedb094416a5ebf731af5c82c1",
       "version_major": 2,
       "version_minor": 0
      },
      "text/html": [
       "<p>Failed to display Jupyter Widget of type <code>HBox</code>.</p>\n",
       "<p>\n",
       "  If you're reading this message in the Jupyter Notebook or JupyterLab Notebook, it may mean\n",
       "  that the widgets JavaScript is still loading. If this message persists, it\n",
       "  likely means that the widgets JavaScript library is either not installed or\n",
       "  not enabled. See the <a href=\"https://ipywidgets.readthedocs.io/en/stable/user_install.html\">Jupyter\n",
       "  Widgets Documentation</a> for setup instructions.\n",
       "</p>\n",
       "<p>\n",
       "  If you're reading this message in another frontend (for example, a static\n",
       "  rendering on GitHub or <a href=\"https://nbviewer.jupyter.org/\">NBViewer</a>),\n",
       "  it may mean that your frontend doesn't currently support widgets.\n",
       "</p>\n"
      ],
      "text/plain": [
       "HBox(children=(IntProgress(value=0, description='Epoch', max=1), HTML(value='')))"
      ]
     },
     "metadata": {},
     "output_type": "display_data"
    },
    {
     "name": "stdout",
     "output_type": "stream",
     "text": [
      " 97%|█████████▋| 127/131 [00:34<00:01,  3.70it/s, loss=30.2]"
     ]
    }
   ],
   "source": [
    "lrf = learner.lr_find() "
   ]
  },
  {
   "cell_type": "code",
   "execution_count": 27,
   "metadata": {},
   "outputs": [
    {
     "data": {
      "image/png": "[encoded data removed]",
      "text/plain": [
       "<matplotlib.figure.Figure at 0x7f864ae8ee48>"
      ]
     },
     "metadata": {},
     "output_type": "display_data"
    }
   ],
   "source": [
    "learner.sched.plot()"
   ]
  },
  {
   "cell_type": "code",
   "execution_count": 30,
   "metadata": {},
   "outputs": [],
   "source": [
    "lr = 3e-3"
   ]
  },
  {
   "cell_type": "code",
   "execution_count": 31,
   "metadata": {},
   "outputs": [
    {
     "data": {
      "application/vnd.jupyter.widget-view+json": {
       "model_id": "5ff8077eca154ac29b7497bd61d5b3f8",
       "version_major": 2,
       "version_minor": 0
      },
      "text/html": [
       "<p>Failed to display Jupyter Widget of type <code>HBox</code>.</p>\n",
       "<p>\n",
       "  If you're reading this message in the Jupyter Notebook or JupyterLab Notebook, it may mean\n",
       "  that the widgets JavaScript is still loading. If this message persists, it\n",
       "  likely means that the widgets JavaScript library is either not installed or\n",
       "  not enabled. See the <a href=\"https://ipywidgets.readthedocs.io/en/stable/user_install.html\">Jupyter\n",
       "  Widgets Documentation</a> for setup instructions.\n",
       "</p>\n",
       "<p>\n",
       "  If you're reading this message in another frontend (for example, a static\n",
       "  rendering on GitHub or <a href=\"https://nbviewer.jupyter.org/\">NBViewer</a>),\n",
       "  it may mean that your frontend doesn't currently support widgets.\n",
       "</p>\n"
      ],
      "text/plain": [
       "HBox(children=(IntProgress(value=0, description='Epoch', max=15), HTML(value='')))"
      ]
     },
     "metadata": {},
     "output_type": "display_data"
    },
    {
     "name": "stdout",
     "output_type": "stream",
     "text": [
      "[ 0.       4.6463   4.53393]                                \n",
      "[ 1.       4.61321  4.45506]                                \n",
      "[ 2.       4.47622  4.37042]                                \n",
      "[ 3.       4.50426  4.3332 ]                                \n",
      "[ 4.       4.38605  4.19747]                                \n",
      "[ 5.       4.26417  4.08503]                                \n",
      "[ 6.       4.18938  4.03555]                                \n",
      "[ 7.       4.29203  4.07714]                                \n",
      "[ 8.       4.20329  3.99213]                                \n",
      "[ 9.       4.1106   3.87906]                                \n",
      "[ 10.        3.98029   3.73345]                             \n",
      "[ 11.        3.87576   3.61111]                             \n",
      "[ 12.        3.78729   3.51501]                             \n",
      "[ 13.        3.71843   3.45879]                             \n",
      "[ 14.        3.6955    3.40579]                             \n",
      "\n"
     ]
    }
   ],
   "source": [
    "learner.fit(lr, 4, wds=1e-6, cycle_len=1, cycle_mult=2) # ran this with lr 1e-3 first, then 3e-3"
   ]
  },
  {
   "cell_type": "code",
   "execution_count": 32,
   "metadata": {},
   "outputs": [],
   "source": [
    "learner.save_encoder('spooky_adam1_enc')\n",
    "# learner.load_encoder('spooky_adam1_enc')"
   ]
  },
  {
   "cell_type": "code",
   "execution_count": 33,
   "metadata": {},
   "outputs": [
    {
     "data": {
      "application/vnd.jupyter.widget-view+json": {
       "model_id": "4983dbc2f1764501a4fa82177b6b3eff",
       "version_major": 2,
       "version_minor": 0
      },
      "text/html": [
       "<p>Failed to display Jupyter Widget of type <code>HBox</code>.</p>\n",
       "<p>\n",
       "  If you're reading this message in the Jupyter Notebook or JupyterLab Notebook, it may mean\n",
       "  that the widgets JavaScript is still loading. If this message persists, it\n",
       "  likely means that the widgets JavaScript library is either not installed or\n",
       "  not enabled. See the <a href=\"https://ipywidgets.readthedocs.io/en/stable/user_install.html\">Jupyter\n",
       "  Widgets Documentation</a> for setup instructions.\n",
       "</p>\n",
       "<p>\n",
       "  If you're reading this message in another frontend (for example, a static\n",
       "  rendering on GitHub or <a href=\"https://nbviewer.jupyter.org/\">NBViewer</a>),\n",
       "  it may mean that your frontend doesn't currently support widgets.\n",
       "</p>\n"
      ],
      "text/plain": [
       "HBox(children=(IntProgress(value=0, description='Epoch', max=40), HTML(value='')))"
      ]
     },
     "metadata": {},
     "output_type": "display_data"
    },
    {
     "name": "stdout",
     "output_type": "stream",
     "text": [
      "[ 0.       3.79579  3.63839]                                \n",
      "[ 1.       3.83006  3.62119]                                \n",
      "[ 2.       3.74267  3.45128]                                \n",
      "[ 3.       3.66159  3.38081]                                \n",
      "[ 4.       3.56604  3.25719]                                \n",
      "[ 5.       3.50778  3.1649 ]                                \n",
      "[ 6.       3.36879  3.01657]                                \n",
      "[ 7.       3.33997  2.96337]                                \n",
      "[ 8.       3.37375  2.90768]                                \n",
      "[ 9.       3.27448  2.85712]                                \n",
      "[ 10.        3.53782   3.18202]                             \n",
      "[ 11.        3.52156   3.16522]                             \n",
      "[ 12.        3.44812   3.06416]                             \n",
      "[ 13.        3.37365   2.95964]                             \n",
      "[ 14.        3.27971   2.8554 ]                             \n",
      "[ 15.        3.2204    2.76066]                             \n",
      "[ 16.        3.13809   2.70097]                             \n",
      "[ 17.        3.05996   2.56378]                             \n",
      "[ 18.        3.01184   2.51053]                             \n",
      "[ 19.        2.97996   2.47465]                             \n",
      "[ 20.        3.34237   2.99998]                             \n",
      "[ 21.        3.37415   3.06048]                             \n",
      "[ 22.        3.24559   2.77911]                             \n",
      "[ 23.        3.14988   2.65455]                             \n",
      "[ 24.        3.09374   2.62347]                             \n",
      "[ 25.        2.98603   2.46451]                             \n",
      "[ 26.        3.00958   2.41608]                             \n",
      "[ 27.        2.86885   2.31011]                             \n",
      "[ 28.        2.84682   2.25342]                             \n",
      "[ 29.        2.81715   2.23125]                             \n",
      "[ 30.        3.16078   2.75839]                             \n",
      "[ 31.        3.16024   2.62212]                             \n",
      "[ 32.        3.10324   2.57139]                             \n",
      "[ 33.        3.07281   2.51871]                             \n",
      "[ 34.        2.94367   2.39067]                             \n",
      "[ 35.        2.85228   2.2599 ]                             \n",
      "[ 36.        2.78911   2.19144]                             \n",
      "[ 37.        2.80804   2.11632]                             \n",
      "[ 38.        2.73196   2.05254]                             \n",
      "[ 39.        2.67921   2.03186]                             \n",
      "\n"
     ]
    }
   ],
   "source": [
    "learner.fit(lr, 4, wds=1e-6, cycle_len=10, cycle_save_name='spooky_adam2_4_10')"
   ]
  },
  {
   "cell_type": "code",
   "execution_count": 34,
   "metadata": {},
   "outputs": [],
   "source": [
    "learner.save_encoder('spooky_adam2_enc')\n",
    "# learner.load_encoder('spooky_adam2_enc')"
   ]
  },
  {
   "cell_type": "code",
   "execution_count": 35,
   "metadata": {},
   "outputs": [
    {
     "data": {
      "application/vnd.jupyter.widget-view+json": {
       "model_id": "031bf5fa37cd43a3a395d33f332c3cfc",
       "version_major": 2,
       "version_minor": 0
      },
      "text/html": [
       "<p>Failed to display Jupyter Widget of type <code>HBox</code>.</p>\n",
       "<p>\n",
       "  If you're reading this message in the Jupyter Notebook or JupyterLab Notebook, it may mean\n",
       "  that the widgets JavaScript is still loading. If this message persists, it\n",
       "  likely means that the widgets JavaScript library is either not installed or\n",
       "  not enabled. See the <a href=\"https://ipywidgets.readthedocs.io/en/stable/user_install.html\">Jupyter\n",
       "  Widgets Documentation</a> for setup instructions.\n",
       "</p>\n",
       "<p>\n",
       "  If you're reading this message in another frontend (for example, a static\n",
       "  rendering on GitHub or <a href=\"https://nbviewer.jupyter.org/\">NBViewer</a>),\n",
       "  it may mean that your frontend doesn't currently support widgets.\n",
       "</p>\n"
      ],
      "text/plain": [
       "HBox(children=(IntProgress(value=0, description='Epoch', max=20), HTML(value='')))"
      ]
     },
     "metadata": {},
     "output_type": "display_data"
    },
    {
     "name": "stdout",
     "output_type": "stream",
     "text": [
      "[ 0.       2.69332  2.049  ]                                \n",
      "[ 1.       3.02628  2.4751 ]                                \n",
      "[ 2.       3.09508  2.58615]                                \n",
      "[ 3.       3.04615  2.42488]                                \n",
      "[ 4.       3.0047   2.38843]                                \n",
      "[ 5.       2.95109  2.32691]                                \n",
      "[ 6.       2.89743  2.29224]                                \n",
      "[ 7.       2.86429  2.24553]                                \n",
      "[ 8.       2.82866  2.18072]                                \n",
      "[ 9.       2.7324   2.14896]                                \n",
      "[ 10.        2.67861   2.04331]                             \n",
      "[ 11.        2.73464   2.02844]                             \n",
      "[ 12.        2.59416   1.90791]                             \n",
      "[ 13.        2.65166   1.89058]                             \n",
      "[ 14.        2.6118    1.84354]                             \n",
      "[ 15.        2.49329   1.79262]                             \n",
      "[ 16.        2.5126    1.73603]                             \n",
      "[ 17.        2.56206   1.71082]                             \n",
      "[ 18.        2.49536   1.69559]                             \n",
      "[ 19.        2.50569   1.69678]                             \n",
      "\n"
     ]
    }
   ],
   "source": [
    "learner.fit(lr, 1, wds=1e-6, cycle_len=20, cycle_save_name='spookey_adam2_1_20')"
   ]
  },
  {
   "cell_type": "code",
   "execution_count": 36,
   "metadata": {},
   "outputs": [],
   "source": [
    "learner.load_cycle('spookey_adam2_1_20', 0)"
   ]
  },
  {
   "cell_type": "code",
   "execution_count": 37,
   "metadata": {},
   "outputs": [],
   "source": [
    "learner.save_encoder('spooky_adam3_enc')"
   ]
  },
  {
   "cell_type": "code",
   "execution_count": 38,
   "metadata": {},
   "outputs": [
    {
     "data": {
      "text/plain": [
       "5.4563496287293161"
      ]
     },
     "execution_count": 38,
     "metadata": {},
     "output_type": "execute_result"
    }
   ],
   "source": [
    "# metric perplexity (how language model accuracy generally measured) = exp() of loss functino\n",
    "np.exp(1.69678)"
   ]
  },
  {
   "cell_type": "markdown",
   "metadata": {},
   "source": [
    "## Test"
   ]
  },
  {
   "cell_type": "code",
   "execution_count": 43,
   "metadata": {},
   "outputs": [
    {
     "data": {
      "text/plain": [
       "'. It was a dark and scary night . The old'"
      ]
     },
     "execution_count": 43,
     "metadata": {},
     "output_type": "execute_result"
    }
   ],
   "source": [
    "# create a short bit of text to \"prime\" the precitions, then use torchtext to numericalize it\n",
    "# so we can feed it into our language model\n",
    "m = learner.model\n",
    "ss = \"\"\". It was a dark and scary night. The old\"\"\"\n",
    "s = [spacy_tok(ss)]\n",
    "t = TEXT.numericalize(s)\n",
    "' '.join(s[0])"
   ]
  },
  {
   "cell_type": "code",
   "execution_count": 44,
   "metadata": {},
   "outputs": [],
   "source": [
    "m[0].bs = 1      # set batch size = 1\n",
    "m.eval()         # turn-off dropout\n",
    "m.reset()        # reset hidden state\n",
    "res, *_ = m(t)   # get predictions from model\n",
    "m[0].bs = bs     # put batch size back to what it was"
   ]
  },
  {
   "cell_type": "code",
   "execution_count": 45,
   "metadata": {},
   "outputs": [
    {
     "data": {
      "text/plain": [
       "['bugs',\n",
       " '<unk>',\n",
       " 'men',\n",
       " 'wretch',\n",
       " 'devils',\n",
       " 'folks',\n",
       " 'creatures',\n",
       " 'folk',\n",
       " 'man',\n",
       " 'l.']"
      ]
     },
     "execution_count": 45,
     "metadata": {},
     "output_type": "execute_result"
    }
   ],
   "source": [
    "# top 10 predictions for next word\n",
    "nexts = torch.topk(res[-1], 10)[1]\n",
    "[TEXT.vocab.itos[o] for o in to_np(nexts)]"
   ]
  },
  {
   "cell_type": "code",
   "execution_count": 46,
   "metadata": {},
   "outputs": [
    {
     "name": "stdout",
     "output_type": "stream",
     "text": [
      ". It was a dark and scary night. The old \n",
      "\n",
      "bugs , the son of the old old gentlemen , was born in the beginning of making two two hours , and in the meantime he had found him at the door of the house . it was a painful point , and i did not sleep well . it ...\n"
     ]
    }
   ],
   "source": [
    "# try to generate more text\n",
    "print(ss, \"\\n\")\n",
    "\n",
    "for i in range(50):\n",
    "    n = res[-1].topk(2)[1]\n",
    "    n = n[1] if n.data[0] == 0 else n[0]\n",
    "    print(TEXT.vocab.itos[n.data[0]], end=' ')\n",
    "    res, *_ = m(n[0].unsqueeze(0))\n",
    "    \n",
    "print('...')"
   ]
  },
  {
   "cell_type": "markdown",
   "metadata": {},
   "source": [
    "## Predict the author"
   ]
  },
  {
   "cell_type": "code",
   "execution_count": null,
   "metadata": {},
   "outputs": [],
   "source": [
    "bs = 64\n",
    "bptt = 70\n",
    "\n",
    "emb_sz = 200       # size of each embedding vector\n",
    "nh = 500           # of hidden activations per layer\n",
    "nl = 3             # of layers\n",
    "\n",
    "# for NLP, configure Adam to use less momentum than the defaul of 0.9\n",
    "opt_fn = partial(optim.Adam, betas=(0.7, 0.99))"
   ]
  },
  {
   "cell_type": "code",
   "execution_count": null,
   "metadata": {},
   "outputs": [],
   "source": [
    "# use the same vocab built from the language model so as to ensure words map to same Ids\n",
    "TEXT = pickle.load(open(f'{PATH}/models/TEXT.pkl', 'rb'))"
   ]
  },
  {
   "cell_type": "code",
   "execution_count": null,
   "metadata": {},
   "outputs": [],
   "source": [
    "IMDB_LABEL = data.Field(sequential=False)\n",
    "splits = torchtext.datasets.IMDB.splits(TEXT, IMDB_LABEL, 'data/')"
   ]
  },
  {
   "cell_type": "code",
   "execution_count": null,
   "metadata": {},
   "outputs": [],
   "source": [
    "t = splits[0].examples[0]"
   ]
  },
  {
   "cell_type": "code",
   "execution_count": null,
   "metadata": {},
   "outputs": [],
   "source": [
    "t.label, ' '.join(t.text[:10])"
   ]
  },
  {
   "cell_type": "code",
   "execution_count": null,
   "metadata": {},
   "outputs": [],
   "source": [
    "# fastai can create a ModelData object directly from torchtext splits\n",
    "md2 = TextData.from_splits(PATH, splits, bs)"
   ]
  },
  {
   "cell_type": "code",
   "execution_count": null,
   "metadata": {},
   "outputs": [],
   "source": [
    "m3 = md2.get_model(opt_fn, 1500, bptt, emb_sz=emb_sz, n_hid=nh, n_layers=nl,\n",
    "                      dropout=0.1, dropouti=0.4, wdrop=0.5, dropoute=0.05, dropouth=0.3)\n",
    "\n",
    "m3.reg_fn = partial(seq2seq_reg, alpha=2, beta=1)\n",
    "m3.load_encoder(f'imdb_adam2_enc')"
   ]
  },
  {
   "cell_type": "code",
   "execution_count": null,
   "metadata": {},
   "outputs": [],
   "source": [
    "m3.clip = 25.\n",
    "lrs = np.array([1e-4, 1e-3, 1e-2])"
   ]
  },
  {
   "cell_type": "code",
   "execution_count": null,
   "metadata": {},
   "outputs": [],
   "source": [
    "m3.freeze_to(-1) # freeze everything except last layer\n",
    "m3.fit(lrs/2, 1, metrics=[accuracy])"
   ]
  },
  {
   "cell_type": "code",
   "execution_count": null,
   "metadata": {},
   "outputs": [],
   "source": [
    "m3.unfreeze()\n",
    "m3.fit(lrs, 1, metrics=[accuracy], cycle_len=1)"
   ]
  },
  {
   "cell_type": "code",
   "execution_count": null,
   "metadata": {},
   "outputs": [],
   "source": [
    "m3.fit(lrs, 7, metrics=[accuracy], cycle_len=2, cycle_save_name='imdb_sent1_c7_cl2')"
   ]
  }
 ],
 "metadata": {
  "kernelspec": {
   "display_name": "Python 3",
   "language": "python",
   "name": "python3"
  },
  "language_info": {
   "codemirror_mode": {
    "name": "ipython",
    "version": 3
   },
   "file_extension": ".py",
   "mimetype": "text/x-python",
   "name": "python",
   "nbconvert_exporter": "python",
   "pygments_lexer": "ipython3",
   "version": "3.6.3"
  }
 },
 "nbformat": 4,
 "nbformat_minor": 2
}
