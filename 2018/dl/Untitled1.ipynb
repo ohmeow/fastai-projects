{
 "cells": [
  {
   "cell_type": "code",
   "execution_count": 58,
   "metadata": {},
   "outputs": [],
   "source": [
    "import numpy as np"
   ]
  },
  {
   "cell_type": "code",
   "execution_count": 59,
   "metadata": {},
   "outputs": [
    {
     "name": "stdout",
     "output_type": "stream",
     "text": [
      "['!', 'how', 'world', 'are', 'you', 'hello', 'hi', 'goodbye', 'there']\n",
      "world 2\n",
      "[5, 2, 6, 8, 1]\n"
     ]
    }
   ],
   "source": [
    "w1 = [['hello', 'world'], ['hi', 'there']]\n",
    "w2 = [['how', 'are', 'you', 'world','!'], ['goodbye']]\n",
    "\n",
    "corpus = []\n",
    "for d in w1 + w2: corpus.extend(d)\n",
    "\n",
    "vocab = list(set(corpus))\n",
    "vocab_stoi = { token:idx for idx, token in enumerate(vocab) }\n",
    "\n",
    "print(vocab)\n",
    "print(vocab[2], vocab_stoi['world'])\n",
    "print([ vocab_stoi[w] for w in corpus[:5] ])"
   ]
  },
  {
   "cell_type": "code",
   "execution_count": 60,
   "metadata": {},
   "outputs": [],
   "source": [
    "from torch import Tensor as T\n",
    "import torch\n",
    "from torch.autograd import Variable as V\n",
    "import torch.nn.functional as F"
   ]
  },
  {
   "cell_type": "code",
   "execution_count": 65,
   "metadata": {},
   "outputs": [
    {
     "data": {
      "text/plain": [
       "(Variable containing:\n",
       "  1  0  0  0  1\n",
       "  1  0  0  0  1\n",
       "  1  0  0  0  1\n",
       " [torch.FloatTensor of size 3x5], Variable containing:\n",
       "  0.9000  0.0000  0.0000  0.0000  0.9000\n",
       "  0.9000  0.0000  0.0000  0.0000  0.0000\n",
       "  0.9000  0.0000  0.0000  0.0000  0.9000\n",
       " [torch.FloatTensor of size 3x5])"
      ]
     },
     "execution_count": 65,
     "metadata": {},
     "output_type": "execute_result"
    }
   ],
   "source": [
    "y = V(T([\n",
    "    [1, 0, 0, 0, 1],\n",
    "    [1, 0, 0, 0, 1],\n",
    "    [1, 0, 0, 0, 1]\n",
    "]))\n",
    "\n",
    "y_hat = V(T([\n",
    "    [.9, 0.0, 0.0, 0.0, .9],\n",
    "    [.9, 0.0, 0.0, 0.0, .0],\n",
    "    [.9, 0.0, 0.0, 0.0, .9]\n",
    "]))\n",
    "\n",
    "y, y_hat"
   ]
  },
  {
   "cell_type": "code",
   "execution_count": 66,
   "metadata": {},
   "outputs": [
    {
     "data": {
      "text/plain": [
       "Variable containing:\n",
       " 0.7109  0.5000  0.5000  0.5000  0.7109\n",
       " 0.7109  0.5000  0.5000  0.5000  0.5000\n",
       " 0.7109  0.5000  0.5000  0.5000  0.7109\n",
       "[torch.FloatTensor of size 3x5]"
      ]
     },
     "execution_count": 66,
     "metadata": {},
     "output_type": "execute_result"
    }
   ],
   "source": [
    "F.sigmoid(y_hat)"
   ]
  },
  {
   "cell_type": "code",
   "execution_count": 68,
   "metadata": {},
   "outputs": [
    {
     "data": {
      "text/plain": [
       "Variable containing:\n",
       " 0.5758\n",
       "[torch.FloatTensor of size 1]"
      ]
     },
     "execution_count": 68,
     "metadata": {},
     "output_type": "execute_result"
    }
   ],
   "source": [
    "F.binary_cross_entropy(F.sigmoid(y_hat), y)"
   ]
  },
  {
   "cell_type": "code",
   "execution_count": 114,
   "metadata": {},
   "outputs": [
    {
     "data": {
      "text/plain": [
       "Variable containing:\n",
       " 0.0000  2.7183  0.0000  0.0000  0.0000\n",
       " 0.0000  0.0000  0.0000  0.0000  4.7183\n",
       " 2.7183  0.0000  0.0000  0.0000  0.0000\n",
       "[torch.FloatTensor of size 3x5]"
      ]
     },
     "metadata": {},
     "output_type": "display_data"
    },
    {
     "data": {
      "text/plain": [
       "Variable containing:\n",
       " 1\n",
       " 4\n",
       " 0\n",
       "[torch.LongTensor of size 3]"
      ]
     },
     "metadata": {},
     "output_type": "display_data"
    },
    {
     "name": "stdout",
     "output_type": "stream",
     "text": [
      "Variable containing:\n",
      " 0.1679\n",
      "[torch.FloatTensor of size 1]\n",
      " Variable containing:\n",
      " 0.1679\n",
      "[torch.FloatTensor of size 1]\n",
      "\n"
     ]
    }
   ],
   "source": [
    "from torch import LongTensor as LT\n",
    "\n",
    "y = V(LT([1, 4, 0]))\n",
    "\n",
    "y_hat = V(T([\n",
    "    [0., 2.7182818284590451, 0.0, 0.0, 0.0],\n",
    "    [0., 0.0, 0.0, 0.0, 4.7182818284590451],\n",
    "    [2.7182818284590451, 0.0, 0.0, 0.0, 0.0]\n",
    "]))\n",
    "\n",
    "display(y_hat, y)\n",
    "\n",
    "print(F.cross_entropy(y_hat, y), F.nll_loss(F.log_softmax(y_hat, dim=1), y))"
   ]
  },
  {
   "cell_type": "code",
   "execution_count": 115,
   "metadata": {},
   "outputs": [
    {
     "data": {
      "text/plain": [
       "Variable containing:\n",
       "-2.9525 -0.2342 -2.9525 -2.9525 -2.9525\n",
       "-4.7534 -4.7534 -4.7534 -4.7534 -0.0351\n",
       "-0.2342 -2.9525 -2.9525 -2.9525 -2.9525\n",
       "[torch.FloatTensor of size 3x5]"
      ]
     },
     "execution_count": 115,
     "metadata": {},
     "output_type": "execute_result"
    }
   ],
   "source": [
    "F.log_softmax(y_hat, dim=1)"
   ]
  },
  {
   "cell_type": "code",
   "execution_count": 96,
   "metadata": {},
   "outputs": [
    {
     "data": {
      "text/plain": [
       "(\n",
       "  2\n",
       "  0\n",
       "  0\n",
       " [torch.LongTensor of size 3], \n",
       "  0.5070  0.1161  0.8690 -0.7293 -0.9920\n",
       "  0.3060 -0.0338  1.6500 -1.0046 -0.1086\n",
       "  0.3178 -1.3376  0.9605 -0.7789 -0.3371\n",
       " [torch.FloatTensor of size 3x5])"
      ]
     },
     "execution_count": 96,
     "metadata": {},
     "output_type": "execute_result"
    }
   ],
   "source": [
    "torch.LongTensor(3).random_(5),torch.randn(3, 5)"
   ]
  },
  {
   "cell_type": "code",
   "execution_count": 105,
   "metadata": {},
   "outputs": [
    {
     "data": {
      "text/plain": [
       "2.7182818284590451"
      ]
     },
     "execution_count": 105,
     "metadata": {},
     "output_type": "execute_result"
    }
   ],
   "source": [
    "np.exp(1)"
   ]
  },
  {
   "cell_type": "code",
   "execution_count": 71,
   "metadata": {},
   "outputs": [
    {
     "data": {
      "text/plain": [
       "array([ 0.1       ,  0.11836735,  0.13673469,  0.15510204,  0.17346939,\n",
       "        0.19183673,  0.21020408,  0.22857143,  0.24693878,  0.26530612,\n",
       "        0.28367347,  0.30204082,  0.32040816,  0.33877551,  0.35714286,\n",
       "        0.3755102 ,  0.39387755,  0.4122449 ,  0.43061224,  0.44897959,\n",
       "        0.46734694,  0.48571429,  0.50408163,  0.52244898,  0.54081633,\n",
       "        0.55918367,  0.57755102,  0.59591837,  0.61428571,  0.63265306,\n",
       "        0.65102041,  0.66938776,  0.6877551 ,  0.70612245,  0.7244898 ,\n",
       "        0.74285714,  0.76122449,  0.77959184,  0.79795918,  0.81632653,\n",
       "        0.83469388,  0.85306122,  0.87142857,  0.88979592,  0.90816327,\n",
       "        0.92653061,  0.94489796,  0.96326531,  0.98163265,  1.        ])"
      ]
     },
     "execution_count": 71,
     "metadata": {},
     "output_type": "execute_result"
    }
   ],
   "source": [
    "x = np.linspace(0.1, 1.0); x"
   ]
  },
  {
   "cell_type": "code",
   "execution_count": 222,
   "metadata": {},
   "outputs": [
    {
     "data": {
      "text/plain": [
       "array([-0.0701 ,  0.19279,  0.19632,  0.12973,  0.20589,  0.31626,  0.28025,  0.19195,  0.1702 ,  0.07792,\n",
       "        0.29402,  0.10421,  0.32958,  0.30807,  0.34607,  0.49542,  0.33319,  0.60118,  0.27654,  0.59282,\n",
       "        0.58393,  0.42699,  0.55866,  0.56751,  0.65323,  0.45143,  0.55662,  0.58757,  0.63417,  0.77341,\n",
       "        0.79276,  0.86086,  0.73735,  0.86724,  0.62285,  0.93764,  0.59094,  0.97268,  0.92121,  0.9461 ,\n",
       "        0.91364,  0.76566,  0.78061,  1.05028,  0.73694,  0.91723,  1.02957,  0.88701,  1.12234,  1.04373])"
      ]
     },
     "execution_count": 222,
     "metadata": {},
     "output_type": "execute_result"
    }
   ],
   "source": [
    "y = x + np.random.uniform(-0.2, 0.2, x.shape); y"
   ]
  },
  {
   "cell_type": "code",
   "execution_count": 223,
   "metadata": {},
   "outputs": [
    {
     "data": {
      "text/plain": [
       "<matplotlib.collections.PathCollection at 0x1c1f2137f0>"
      ]
     },
     "execution_count": 223,
     "metadata": {},
     "output_type": "execute_result"
    },
    {
     "data": {
      "image/png": "[encoded data removed]",
      "text/plain": [
       "<matplotlib.figure.Figure at 0x1c1ef94320>"
      ]
     },
     "metadata": {},
     "output_type": "display_data"
    }
   ],
   "source": [
    "plt.scatter(x, y)"
   ]
  },
  {
   "cell_type": "code",
   "execution_count": 230,
   "metadata": {},
   "outputs": [],
   "source": [
    "x.shape, x[:, None].shape, x[..., None].shape, x[None].shape\n",
    "\n",
    "x1 = x[..., None]"
   ]
  },
  {
   "cell_type": "code",
   "execution_count": 234,
   "metadata": {},
   "outputs": [],
   "source": [
    "X_trn, X_val = x1[:40], x1[40:]\n",
    "y_trn, y_val = y[:40], y[40:]"
   ]
  },
  {
   "cell_type": "code",
   "execution_count": 235,
   "metadata": {},
   "outputs": [],
   "source": [
    "from sklearn.ensemble import RandomForestRegressor\n",
    "m = RandomForestRegressor().fit(X_trn, y_trn)"
   ]
  },
  {
   "cell_type": "code",
   "execution_count": 237,
   "metadata": {},
   "outputs": [
    {
     "data": {
      "text/plain": [
       "1.0"
      ]
     },
     "execution_count": 237,
     "metadata": {},
     "output_type": "execute_result"
    }
   ],
   "source": [
    "preds = m.predict(X_val); m.score(X_val, preds)"
   ]
  },
  {
   "cell_type": "code",
   "execution_count": 239,
   "metadata": {},
   "outputs": [
    {
     "data": {
      "text/plain": [
       "<matplotlib.collections.PathCollection at 0x1c23489278>"
      ]
     },
     "execution_count": 239,
     "metadata": {},
     "output_type": "execute_result"
    },
    {
     "data": {
      "image/png": "[encoded data removed]",
      "text/plain": [
       "<matplotlib.figure.Figure at 0x1c1ed56b70>"
      ]
     },
     "metadata": {},
     "output_type": "display_data"
    }
   ],
   "source": [
    "plt.scatter(y_trn, m.predict(X_trn))"
   ]
  },
  {
   "cell_type": "code",
   "execution_count": 240,
   "metadata": {},
   "outputs": [
    {
     "data": {
      "text/plain": [
       "<matplotlib.collections.PathCollection at 0x1c2343f550>"
      ]
     },
     "execution_count": 240,
     "metadata": {},
     "output_type": "execute_result"
    },
    {
     "data": {
      "image/png": "[encoded data removed]",
      "text/plain": [
       "<matplotlib.figure.Figure at 0x1c233b1d30>"
      ]
     },
     "metadata": {},
     "output_type": "display_data"
    }
   ],
   "source": [
    "plt.scatter(y_val, m.predict(X_val))"
   ]
  },
  {
   "cell_type": "code",
   "execution_count": null,
   "metadata": {},
   "outputs": [],
   "source": []
  }
 ],
 "metadata": {
  "kernelspec": {
   "display_name": "Python 3",
   "language": "python",
   "name": "python3"
  },
  "language_info": {
   "codemirror_mode": {
    "name": "ipython",
    "version": 3
   },
   "file_extension": ".py",
   "mimetype": "text/x-python",
   "name": "python",
   "nbconvert_exporter": "python",
   "pygments_lexer": "ipython3",
   "version": "3.6.3"
  }
 },
 "nbformat": 4,
 "nbformat_minor": 2
}
