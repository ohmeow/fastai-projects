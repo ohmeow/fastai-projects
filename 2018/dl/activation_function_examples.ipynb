{
 "cells": [
  {
   "cell_type": "code",
   "execution_count": 77,
   "metadata": {},
   "outputs": [],
   "source": [
    "import numpy as np"
   ]
  },
  {
   "cell_type": "code",
   "execution_count": 78,
   "metadata": {},
   "outputs": [],
   "source": [
    "def relu(x):\n",
    "    return np.maximum(0, x)"
   ]
  },
  {
   "cell_type": "code",
   "execution_count": 79,
   "metadata": {},
   "outputs": [],
   "source": [
    "def leaky_relu(x, alpha=0.01):\n",
    "    return np.where(x > 0, x, x*alpha)"
   ]
  },
  {
   "cell_type": "code",
   "execution_count": 80,
   "metadata": {},
   "outputs": [],
   "source": [
    "def sigmoid(x):\n",
    "    return 1 / (1 + np.exp(-x))"
   ]
  },
  {
   "cell_type": "code",
   "execution_count": 81,
   "metadata": {},
   "outputs": [],
   "source": [
    "def softmax(x):\n",
    "    return np.exp(x) / np.sum(np.exp(x))"
   ]
  },
  {
   "cell_type": "code",
   "execution_count": 82,
   "metadata": {},
   "outputs": [
    {
     "name": "stdout",
     "output_type": "stream",
     "text": [
      "0\n",
      "[  0   0   0   0   0   1  10   5  50 100]\n"
     ]
    }
   ],
   "source": [
    "# relu tests\n",
    "# aka \"It's black or white, there is no gray\"\n",
    "print(relu(0))\n",
    "print(np.round(relu(np.array([-100, -50, -10, -1, 0, 1, 10, 5, 50, 100])), 2))"
   ]
  },
  {
   "cell_type": "code",
   "execution_count": 86,
   "metadata": {},
   "outputs": [
    {
     "name": "stdout",
     "output_type": "stream",
     "text": [
      "0.0\n",
      "[ -1.00000000e+00  -5.00000000e-01  -1.00000000e-01  -1.00000000e-02\n",
      "   0.00000000e+00   1.00000000e+00   1.00000000e+01   5.00000000e+00\n",
      "   5.00000000e+01   1.00000000e+02]\n"
     ]
    }
   ],
   "source": [
    "# leaky relu tests\n",
    "# aka \"There's some gray area there\"\n",
    "print(leaky_relu(0))\n",
    "print(np.round(leaky_relu(np.array([-100, -50, -10, -1, 0, 1, 10, 5, 50, 100])), 2))"
   ]
  },
  {
   "cell_type": "code",
   "execution_count": 84,
   "metadata": {},
   "outputs": [
    {
     "name": "stdout",
     "output_type": "stream",
     "text": [
      "0.5\n",
      "[ 0.    0.    0.    0.27  0.5   0.73  1.    0.99  1.    1.  ]\n"
     ]
    }
   ],
   "source": [
    "# sigmoid tests\n",
    "# aka \"You guys gonna listen to Garry? You gonna let him give the orders? I mean, he could BE one of those THINGS!\"\n",
    "print(sigmoid(0))\n",
    "print(np.round(sigmoid(np.array([-100, -50, -10, -1, 0, 1, 10, 5, 50, 100])), 2))"
   ]
  },
  {
   "cell_type": "code",
   "execution_count": 85,
   "metadata": {},
   "outputs": [
    {
     "name": "stdout",
     "output_type": "stream",
     "text": [
      "1.0\n",
      "[ 0.  0.  0.  0.  0.  0.  0.  0.  0.  1.]\n"
     ]
    }
   ],
   "source": [
    "# softmax tests\n",
    "# aka \"In the end, there can be only one\"\n",
    "print(softmax(0))\n",
    "print(np.round(softmax(np.array([-100, -50, -10, -1, 0, 1, 10, 5, 50, 100])), 2))"
   ]
  },
  {
   "cell_type": "code",
   "execution_count": null,
   "metadata": {},
   "outputs": [],
   "source": []
  }
 ],
 "metadata": {
  "kernelspec": {
   "display_name": "Python 3",
   "language": "python",
   "name": "python3"
  },
  "language_info": {
   "codemirror_mode": {
    "name": "ipython",
    "version": 3
   },
   "file_extension": ".py",
   "mimetype": "text/x-python",
   "name": "python",
   "nbconvert_exporter": "python",
   "pygments_lexer": "ipython3",
   "version": "3.6.3"
  }
 },
 "nbformat": 4,
 "nbformat_minor": 2
}
