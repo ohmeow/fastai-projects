{
 "cells": [
  {
   "cell_type": "markdown",
   "metadata": {},
   "source": [
    "For each team\n",
    "    1. Are there any scouting records for team?\n",
    "        - Yes: \n",
    "            * Get 3 latest includes scouting + TBA data\n",
    "            * Average results and use for match prediction\n",
    "        - No: \n",
    "            * Is there any TBA data for team?\n",
    "                - Yes: \n",
    "                    * Find teams that have scouting data witin +/- 2 ranks of team\n",
    "                    * Combine the average of those teams scouting data with the average of team's TBA data\n",
    "                - No: \n",
    "                    * Nothing you can do"
   ]
  },
  {
   "cell_type": "code",
   "execution_count": null,
   "metadata": {},
   "outputs": [],
   "source": []
  }
 ],
 "metadata": {
  "kernelspec": {
   "display_name": "Python 3",
   "language": "python",
   "name": "python3"
  },
  "language_info": {
   "codemirror_mode": {
    "name": "ipython",
    "version": 3
   },
   "file_extension": ".py",
   "mimetype": "text/x-python",
   "name": "python",
   "nbconvert_exporter": "python",
   "pygments_lexer": "ipython3",
   "version": "3.6.3"
  }
 },
 "nbformat": 4,
 "nbformat_minor": 2
}
